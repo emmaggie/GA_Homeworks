{
 "metadata": {
  "name": "",
  "signature": "sha256:c6f276283a5548f1113a49cf13414489175f6b4c39cee5015c6a452bb4189a10"
 },
 "nbformat": 3,
 "nbformat_minor": 0,
 "worksheets": [
  {
   "cells": [
    {
     "cell_type": "markdown",
     "metadata": {},
     "source": []
    },
    {
     "cell_type": "markdown",
     "metadata": {},
     "source": [
      "#INTRODUCTION#\n",
      "###Summary:   \n",
      "The aim of this project is to build a classifier to distinguish between control and drug treated samples. Data comes from automated image processing pipeline, which corrects, normalizes and segments collected images to automatically detect and describe structures of interest with ~500 attributes. To date, the dataset holds quantification data from 30 000+ images of both control and experimentally treated samples. The project will involve testing various supervised learning algorithms for accurate binary classification. Unsupervised approaches might also be considered to gain additional insights as to which features might more strongly contribute to the formation of two classes and/or to find additional structure in the data. If successful, the project can be built upon by using existing image datasets from molecular treatments affecting other molecular pathways and incorporating established hierarchical ontologies to both name the classes and maintain known links between them. All in all, the project aims to lay a groundwork for applying data science methods for biomedical imaging data.\n",
      "\n",
      "###Problem:\n",
      "Classification of experimental imaging data is currently done manually. This leads to two problems. First, it introduces researcher-dependent bias in what is called as normal/perturbed. Second, it is incredibly time consuming and therefore, cost-intensive (increase in variable costs). Both of these problems could be alleviated by automation of image classification.\n",
      "\n",
      "###Hypothesis: \n",
      "Machine learning classification approaches can be used for accurate and fast classification of experimentally treated samples to allow for binary \u201cperturbed/unperturbed\u201d classification.\n",
      "\n",
      "###Data set: \n",
      "Original dataset consists of 512x512-pixel RGB images (512x512x3) with the signal in Red and Blue channel. They come from multiple independent experiments testing an effect of particular experimental perturbation. These are all run through an automated image processing pipeline, which corrects, normalizes and segments submitted images to automatically detect and describe structures of interest with ~500 attributes. The data set for this proposal consists of multiple folders of two csv files per sample (1 per used RGB channel) with 106 features quantified. These have to be merged into one input. In addition, the data set required introducing labels. Before feeding in the data into learning algorithms, I dealt with missing values, scaled and normalized features. In planned, complementary approach, images will be cropped to a padded dimension of the largest object, converted to vectors of intensity values and used as such for classification. I will also experiment with dimensionality reduction approaches for this version of data set (non-negative matrix factorization).\n",
      "\n",
      "###Algorithms:\n",
      "When using features derived from quantification (CSV version of the data set), I started from using logistic regression. This has the added benefit of aiding in feature selection. Following that I explore SVMs, decision trees, random forests and attempted to apply a neural networks (with logistic regression). The latter turned out to be too computationally challenging for Notebook/MacBook air combo. I plan to explore more computationally efficient libraries for the problem and use high-performance computing cluster. Later I will also explore neural networks for actual image-based learning. I evaluated performance of different methods using accuracy and confusion matrix (I will also do it when tuning hyper parameters in cross-validation). I also used ROC curves for logistic regression.  \n",
      "\n",
      "###Statistical approaches:\n",
      "Frequentist statistics methods were applied on the features extracted in the image analysis pipeline assuming Gaussian distribution for continuous explanatory variables (usually true for biological samples). The final outcome of classification will be evaluated using Bayesian statistics (Bernoulli binomial). \n",
      "\n",
      "###Applications:\n",
      "The rising costs of developing new medicines make pharmaceutical business close to unsustainable for some companies (~12 billion $ per drug for AstraZeneca)[1]. This is mostly caused by high failure rate in getting FDA approvals for new drugs. This situation is exacerbated by the time it takes for a new drug to hit the market (~12 years in the US)[2]. Thus, any way these two issues can be addressed will have a positive effect on the pharmaceutical business bottom line. One of the reasons so many clinical trials fail is the biased way the pre-clinical data is analyzed (researcher wants to see an effect as only \u2018significantly different\u2019 result can be published). If proven successful, the approach described here will contribute to alleviating both of the described issues. It will remove bias in classifying data and will lead to reductions in time and men cost by shortening the amount of time between experiment (~one day) and result (currently done manually: ~one week).\n",
      "\n",
      "\n",
      "\n",
      "1. http://www.forbes.com/sites/matthewherper/2012/02/10/the-truly-staggering-cost-of-inventing-new-drugs/\n",
      "2. http://www.medicinenet.com/script/main/art.asp?articlekey=9877\n",
      "\n",
      "*DISCLAIMER: This is a work in progress. By no means should it be treated as final version. It explores certain techniques and sets a baseline for additional exploration. In particular, the following are still to be included: SVD for imputing missing values, parameter grid search for neural network, learning curves, neural network optimization.*  \n"
     ]
    },
    {
     "cell_type": "code",
     "collapsed": false,
     "input": [
      "#import packages\n",
      "import pandas as pd\n",
      "%matplotlib inline\n",
      "import matplotlib.pyplot as plt\n",
      "pd.set_option('display.mpl_style','default')\n",
      "import random as rd\n",
      "import sklearn\n",
      "\n",
      "from scipy import stats\n",
      "\n",
      "\n",
      "import numpy as np\n",
      "from sklearn.cross_validation import train_test_split\n",
      "from sklearn.linear_model import LogisticRegression\n",
      "from sklearn.metrics import classification_report\n",
      "from sklearn.metrics import accuracy_score"
     ],
     "language": "python",
     "metadata": {},
     "outputs": [],
     "prompt_number": 220
    },
    {
     "cell_type": "code",
     "collapsed": false,
     "input": [
      "#http://scikit-learn.org/stable/user_guide.html"
     ],
     "language": "python",
     "metadata": {},
     "outputs": [],
     "prompt_number": 221
    },
    {
     "cell_type": "code",
     "collapsed": false,
     "input": [
      "!pwd"
     ],
     "language": "python",
     "metadata": {},
     "outputs": [
      {
       "output_type": "stream",
       "stream": "stdout",
       "text": [
        "/Volumes/Seagate Wireless/A_Classes/A_DataScience_GeneralAssembly/GA_Homeworks/HW8_FINAL\r\n"
       ]
      }
     ],
     "prompt_number": 222
    },
    {
     "cell_type": "code",
     "collapsed": false,
     "input": [
      "!ls\n",
      "#FilteredSpindles_Exp01_mod_unlabeled.csv - confused about labels\n",
      "#FilteredSpindles_Exp01_mod.csv - complete data set for Exp01\n",
      "#FilteredSpindles_Exp01_mod_labeled.csv - only labeled rows"
     ],
     "language": "python",
     "metadata": {},
     "outputs": [
      {
       "output_type": "stream",
       "stream": "stdout",
       "text": [
        "FilteredExpandedSpindles.csv\r\n",
        "FilteredSpindles_Exp01_mod.csv\r\n",
        "FilteredSpindles_Exp01_mod_labeled.csv\r\n",
        "\u001b[34mHW8_FINAL.key\u001b[m\u001b[m\r\n",
        "HW8_FINAL.pdf\r\n",
        "HW_8_MAGDALENA.ipynb\r\n",
        "LR.png\r\n",
        "RF2.png\r\n",
        "SVM3.png\r\n",
        "Screen Shot 2014-08-15 at 11.35.31 AM.png\r\n",
        "Screen Shot 2014-08-15 at 11.35.45 AM.png\r\n",
        "Screen Shot 2014-08-15 at 11.35.56 AM.png\r\n",
        "Screen Shot 2014-08-15 at 11.36.04 AM.png\r\n",
        "Screen Shot 2014-08-16 at 5.10.50 AM.png\r\n",
        "Tree2.png\r\n",
        "Untitled0.ipynb\r\n",
        "cp_logo_smaller.png\r\n",
        "ex4data1.mat\r\n",
        "overall_above_100.svg\r\n",
        "sample_data1.mat\r\n",
        "spindles_mitosis.jpg\r\n",
        "weights.mat\r\n"
       ]
      }
     ],
     "prompt_number": 223
    },
    {
     "cell_type": "code",
     "collapsed": false,
     "input": [
      "#import data\n",
      "data=pd.read_csv('FilteredSpindles_Exp01_mod.csv')"
     ],
     "language": "python",
     "metadata": {},
     "outputs": [],
     "prompt_number": 224
    },
    {
     "cell_type": "code",
     "collapsed": false,
     "input": [
      "data.head()"
     ],
     "language": "python",
     "metadata": {},
     "outputs": [
      {
       "html": [
        "<div style=\"max-height:1000px;max-width:1500px;overflow:auto;\">\n",
        "<table border=\"1\" class=\"dataframe\">\n",
        "  <thead>\n",
        "    <tr style=\"text-align: right;\">\n",
        "      <th></th>\n",
        "      <th>ImageNumber</th>\n",
        "      <th>ObjectNumber</th>\n",
        "      <th>Metadata_Experiment</th>\n",
        "      <th>Metadata_Set</th>\n",
        "      <th>Metadata_Treatment</th>\n",
        "      <th>Y</th>\n",
        "      <th>TREATMENT</th>\n",
        "      <th>CONC_TREATMENT</th>\n",
        "      <th>SOLVENT</th>\n",
        "      <th>CONC_SOLVENT</th>\n",
        "      <th>...</th>\n",
        "      <th>Texture_DifferenceVariance_CorrMT_3_0</th>\n",
        "      <th>Texture_Entropy_CorrMT_3_0</th>\n",
        "      <th>Texture_Gabor_CorrMT_3</th>\n",
        "      <th>Texture_InfoMeas1_CorrMT_3_0</th>\n",
        "      <th>Texture_InfoMeas2_CorrMT_3_0</th>\n",
        "      <th>Texture_InverseDifferenceMoment_CorrMT_3_0</th>\n",
        "      <th>Texture_SumAverage_CorrMT_3_0</th>\n",
        "      <th>Texture_SumEntropy_CorrMT_3_0</th>\n",
        "      <th>Texture_SumVariance_CorrMT_3_0</th>\n",
        "      <th>Texture_Variance_CorrMT_3_0</th>\n",
        "    </tr>\n",
        "  </thead>\n",
        "  <tbody>\n",
        "    <tr>\n",
        "      <th>0</th>\n",
        "      <td> 1</td>\n",
        "      <td> 1</td>\n",
        "      <td> Exp01</td>\n",
        "      <td>   cvsp_1_0</td>\n",
        "      <td> 1_000_CYC</td>\n",
        "      <td> 0</td>\n",
        "      <td> 0</td>\n",
        "      <td> 0</td>\n",
        "      <td> 0</td>\n",
        "      <td> 0</td>\n",
        "      <td>...</td>\n",
        "      <td> 0.297365</td>\n",
        "      <td> 2.684328</td>\n",
        "      <td> 0.409684</td>\n",
        "      <td>-0.437082</td>\n",
        "      <td> 0.881585</td>\n",
        "      <td> 0.802499</td>\n",
        "      <td> 6.108677</td>\n",
        "      <td> 2.320283</td>\n",
        "      <td>  7.991828</td>\n",
        "      <td> 2.113309</td>\n",
        "    </tr>\n",
        "    <tr>\n",
        "      <th>1</th>\n",
        "      <td> 2</td>\n",
        "      <td> 1</td>\n",
        "      <td> Exp01</td>\n",
        "      <td>   cvsp_1_1</td>\n",
        "      <td> 1_000_CYC</td>\n",
        "      <td> 0</td>\n",
        "      <td> 0</td>\n",
        "      <td> 0</td>\n",
        "      <td> 0</td>\n",
        "      <td> 0</td>\n",
        "      <td>...</td>\n",
        "      <td> 0.291719</td>\n",
        "      <td> 2.767921</td>\n",
        "      <td> 0.740311</td>\n",
        "      <td>-0.435407</td>\n",
        "      <td> 0.886449</td>\n",
        "      <td> 0.785932</td>\n",
        "      <td> 6.524518</td>\n",
        "      <td> 2.393549</td>\n",
        "      <td>  8.634587</td>\n",
        "      <td> 2.278483</td>\n",
        "    </tr>\n",
        "    <tr>\n",
        "      <th>2</th>\n",
        "      <td> 3</td>\n",
        "      <td> 1</td>\n",
        "      <td> Exp01</td>\n",
        "      <td>  cvsp_1_10</td>\n",
        "      <td> 1_000_CYC</td>\n",
        "      <td> 0</td>\n",
        "      <td> 0</td>\n",
        "      <td> 0</td>\n",
        "      <td> 0</td>\n",
        "      <td> 0</td>\n",
        "      <td>...</td>\n",
        "      <td> 0.279736</td>\n",
        "      <td> 2.734776</td>\n",
        "      <td> 0.369790</td>\n",
        "      <td>-0.457761</td>\n",
        "      <td> 0.896009</td>\n",
        "      <td> 0.795300</td>\n",
        "      <td> 6.470624</td>\n",
        "      <td> 2.387569</td>\n",
        "      <td>  9.103473</td>\n",
        "      <td> 2.387813</td>\n",
        "    </tr>\n",
        "    <tr>\n",
        "      <th>3</th>\n",
        "      <td> 4</td>\n",
        "      <td> 1</td>\n",
        "      <td> Exp01</td>\n",
        "      <td> cvsp_1_100</td>\n",
        "      <td> 1_000_CYC</td>\n",
        "      <td> 0</td>\n",
        "      <td> 0</td>\n",
        "      <td> 0</td>\n",
        "      <td> 0</td>\n",
        "      <td> 0</td>\n",
        "      <td>...</td>\n",
        "      <td> 0.322350</td>\n",
        "      <td> 2.996500</td>\n",
        "      <td> 0.519450</td>\n",
        "      <td>-0.410553</td>\n",
        "      <td> 0.887338</td>\n",
        "      <td> 0.737189</td>\n",
        "      <td> 7.554220</td>\n",
        "      <td> 2.523905</td>\n",
        "      <td> 10.775649</td>\n",
        "      <td> 2.850506</td>\n",
        "    </tr>\n",
        "    <tr>\n",
        "      <th>4</th>\n",
        "      <td> 5</td>\n",
        "      <td> 1</td>\n",
        "      <td> Exp01</td>\n",
        "      <td>  cvsp_1_11</td>\n",
        "      <td> 1_000_CYC</td>\n",
        "      <td> 0</td>\n",
        "      <td> 0</td>\n",
        "      <td> 0</td>\n",
        "      <td> 0</td>\n",
        "      <td> 0</td>\n",
        "      <td>...</td>\n",
        "      <td> 0.338992</td>\n",
        "      <td> 2.902682</td>\n",
        "      <td> 0.888699</td>\n",
        "      <td>-0.359349</td>\n",
        "      <td> 0.848882</td>\n",
        "      <td> 0.733875</td>\n",
        "      <td> 7.248357</td>\n",
        "      <td> 2.405530</td>\n",
        "      <td>  7.781972</td>\n",
        "      <td> 2.083991</td>\n",
        "    </tr>\n",
        "  </tbody>\n",
        "</table>\n",
        "<p>5 rows \u00d7 116 columns</p>\n",
        "</div>"
       ],
       "metadata": {},
       "output_type": "pyout",
       "prompt_number": 225,
       "text": [
        "   ImageNumber  ObjectNumber Metadata_Experiment Metadata_Set  \\\n",
        "0            1             1               Exp01     cvsp_1_0   \n",
        "1            2             1               Exp01     cvsp_1_1   \n",
        "2            3             1               Exp01    cvsp_1_10   \n",
        "3            4             1               Exp01   cvsp_1_100   \n",
        "4            5             1               Exp01    cvsp_1_11   \n",
        "\n",
        "  Metadata_Treatment  Y  TREATMENT  CONC_TREATMENT  SOLVENT  CONC_SOLVENT  \\\n",
        "0          1_000_CYC  0          0               0        0             0   \n",
        "1          1_000_CYC  0          0               0        0             0   \n",
        "2          1_000_CYC  0          0               0        0             0   \n",
        "3          1_000_CYC  0          0               0        0             0   \n",
        "4          1_000_CYC  0          0               0        0             0   \n",
        "\n",
        "       ...       Texture_DifferenceVariance_CorrMT_3_0  \\\n",
        "0      ...                                    0.297365   \n",
        "1      ...                                    0.291719   \n",
        "2      ...                                    0.279736   \n",
        "3      ...                                    0.322350   \n",
        "4      ...                                    0.338992   \n",
        "\n",
        "   Texture_Entropy_CorrMT_3_0  Texture_Gabor_CorrMT_3  \\\n",
        "0                    2.684328                0.409684   \n",
        "1                    2.767921                0.740311   \n",
        "2                    2.734776                0.369790   \n",
        "3                    2.996500                0.519450   \n",
        "4                    2.902682                0.888699   \n",
        "\n",
        "   Texture_InfoMeas1_CorrMT_3_0  Texture_InfoMeas2_CorrMT_3_0  \\\n",
        "0                     -0.437082                      0.881585   \n",
        "1                     -0.435407                      0.886449   \n",
        "2                     -0.457761                      0.896009   \n",
        "3                     -0.410553                      0.887338   \n",
        "4                     -0.359349                      0.848882   \n",
        "\n",
        "   Texture_InverseDifferenceMoment_CorrMT_3_0  Texture_SumAverage_CorrMT_3_0  \\\n",
        "0                                    0.802499                       6.108677   \n",
        "1                                    0.785932                       6.524518   \n",
        "2                                    0.795300                       6.470624   \n",
        "3                                    0.737189                       7.554220   \n",
        "4                                    0.733875                       7.248357   \n",
        "\n",
        "   Texture_SumEntropy_CorrMT_3_0  Texture_SumVariance_CorrMT_3_0  \\\n",
        "0                       2.320283                        7.991828   \n",
        "1                       2.393549                        8.634587   \n",
        "2                       2.387569                        9.103473   \n",
        "3                       2.523905                       10.775649   \n",
        "4                       2.405530                        7.781972   \n",
        "\n",
        "   Texture_Variance_CorrMT_3_0  \n",
        "0                     2.113309  \n",
        "1                     2.278483  \n",
        "2                     2.387813  \n",
        "3                     2.850506  \n",
        "4                     2.083991  \n",
        "\n",
        "[5 rows x 116 columns]"
       ]
      }
     ],
     "prompt_number": 225
    },
    {
     "cell_type": "markdown",
     "metadata": {},
     "source": [
      "#Deal with NA's\n",
      "Use **data2** from now on; data is the raw version. Using SVD was planned, but not carried out yet. X4a and its corresponding train/test split is the relevant set used for exploring algorithms."
     ]
    },
    {
     "cell_type": "code",
     "collapsed": false,
     "input": [
      "#TEST FOR NA's\n",
      "#had to go back here as the scikit learn complained about NA's \n",
      "print \"All NA's in the data frame, 'data':\\t\", data.isnull().sum().sum()\n",
      "print\n",
      "print \"All NA's in the data frame, 'data' (by variable):\\n\", data.isnull().sum()[data.isnull().sum() !=0] #Math_ChromosomeMassAreaPerSpindle"
     ],
     "language": "python",
     "metadata": {},
     "outputs": [
      {
       "output_type": "stream",
       "stream": "stdout",
       "text": [
        "All NA's in the data frame, 'data':\t135\n",
        "\n",
        "All NA's in the data frame, 'data' (by variable):\n",
        "Y                                    122\n",
        "Math_ChromosomeMassAreaPerSpindle     13\n",
        "dtype: int64\n"
       ]
      }
     ],
     "prompt_number": 226
    },
    {
     "cell_type": "code",
     "collapsed": false,
     "input": [
      "#Explore options; Do random sampling from the groupby if the others perform poorly.\n",
      "print data.Math_ChromosomeMassAreaPerSpindle.mean()\n",
      "print data.Math_ChromosomeMassAreaPerSpindle.median()\n",
      "print data.groupby('TREATMENT').Math_ChromosomeMassAreaPerSpindle.median()\n",
      "print data.groupby('Y').Math_ChromosomeMassAreaPerSpindle.median() #let's use these corresponding medians\n",
      "median_of_grouped_by_Y=data.groupby('Y').median()\n",
      "print stats.mode(data.Math_ChromosomeMassAreaPerSpindle) #see GA HW_4\n",
      "print data.Math_ChromosomeMassAreaPerSpindle.std()"
     ],
     "language": "python",
     "metadata": {},
     "outputs": [
      {
       "output_type": "stream",
       "stream": "stdout",
       "text": [
        "8935.76126126\n",
        "8502.5\n",
        "TREATMENT\n",
        "0            8437\n",
        "1            8528\n",
        "Name: Math_ChromosomeMassAreaPerSpindle, dtype: float64\n",
        "Y\n",
        "0    8210\n",
        "1    8650\n",
        "Name: Math_ChromosomeMassAreaPerSpindle, dtype: float64\n",
        "(array([ 724.]), array([ 3.]))\n",
        "5274.10344849\n"
       ]
      }
     ],
     "prompt_number": 227
    },
    {
     "cell_type": "code",
     "collapsed": false,
     "input": [
      "#DATA2\n",
      "#Introduces data2. Use this one for now.\n",
      "data2=data.copy()"
     ],
     "language": "python",
     "metadata": {},
     "outputs": [],
     "prompt_number": 228
    },
    {
     "cell_type": "code",
     "collapsed": false,
     "input": [
      "data2.fillna(median_of_grouped_by_Y ,inplace=True);"
     ],
     "language": "python",
     "metadata": {},
     "outputs": [],
     "prompt_number": 229
    },
    {
     "cell_type": "code",
     "collapsed": false,
     "input": [
      "#correct \"empties\" in response variable Y:\n",
      "#in a way you coud use those as an OoS test; check the labels for images and have a look at what the images look like\n",
      "print data.Y.isnull().sum() #these are the missing response values\n",
      "print data.Y.isnull().sum()+sum(data.Y==0)+sum(data.Y==1) #checking total"
     ],
     "language": "python",
     "metadata": {},
     "outputs": [
      {
       "output_type": "stream",
       "stream": "stdout",
       "text": [
        "122\n",
        "901\n"
       ]
      }
     ],
     "prompt_number": 230
    },
    {
     "cell_type": "code",
     "collapsed": false,
     "input": [
      "#returning original Y values (column replacement)\n",
      "#the issue is that the NA substitution affected (and messed up the Y); correcting it:\n",
      "data2.Y=data.Y"
     ],
     "language": "python",
     "metadata": {},
     "outputs": [],
     "prompt_number": 231
    },
    {
     "cell_type": "code",
     "collapsed": false,
     "input": [
      "print 'ORIGINAL DATASET (data): \\n', data.isnull().sum()[data.isnull().sum() !=0] #Math_ChromosomeMassAreaPerSpindle\n",
      "print\n",
      "print 'DATASET WITH CORRECTED NAs (data2): \\n',data2.isnull().sum().head()\n",
      "print\n",
      "print 'DATASET WITH CORRECTED NAs (data2): \\n',data2.isnull().sum()[data2.isnull().sum() !=0] #Math_ChromosomeMassAreaPerSpindle is corrected"
     ],
     "language": "python",
     "metadata": {},
     "outputs": [
      {
       "output_type": "stream",
       "stream": "stdout",
       "text": [
        "ORIGINAL DATASET (data): \n",
        "Y                                    122\n",
        "Math_ChromosomeMassAreaPerSpindle     13\n",
        "dtype: int64\n",
        "\n",
        "DATASET WITH CORRECTED NAs (data2): \n",
        "ImageNumber            0\n",
        "ObjectNumber           0\n",
        "Metadata_Experiment    0\n",
        "Metadata_Set           0\n",
        "Metadata_Treatment     0\n",
        "dtype: int64\n",
        "\n",
        "DATASET WITH CORRECTED NAs (data2): \n",
        "Y    122\n",
        "dtype: int64\n"
       ]
      }
     ],
     "prompt_number": 232
    },
    {
     "cell_type": "markdown",
     "metadata": {},
     "source": [
      "#PRE-PROCESSING\n",
      "\n",
      "This section daels with some additional issues with the data set. Now I know that a big problem comes from the data set not being well balanced. Section includes pre-processing steps (scale & normalized). Used scikit learn for this purpose. Data set is split into training and testing by the end of it. X4a will be the one to use later on.\n",
      "\n",
      "**THINGS TO CORRECT: Balance the labels through random subsampling of the more represented label. **"
     ]
    },
    {
     "cell_type": "code",
     "collapsed": false,
     "input": [
      "data2.iloc[1:2,7:] #not sure about the first column but let's keep it for now\n",
      "#the columns 7-9 (incl.) cause overfitting; remove them in data3 "
     ],
     "language": "python",
     "metadata": {},
     "outputs": [
      {
       "html": [
        "<div style=\"max-height:1000px;max-width:1500px;overflow:auto;\">\n",
        "<table border=\"1\" class=\"dataframe\">\n",
        "  <thead>\n",
        "    <tr style=\"text-align: right;\">\n",
        "      <th></th>\n",
        "      <th>CONC_TREATMENT</th>\n",
        "      <th>SOLVENT</th>\n",
        "      <th>CONC_SOLVENT</th>\n",
        "      <th>AreaShape_Area</th>\n",
        "      <th>AreaShape_Center_X</th>\n",
        "      <th>AreaShape_Center_Y</th>\n",
        "      <th>AreaShape_Compactness</th>\n",
        "      <th>AreaShape_Eccentricity</th>\n",
        "      <th>AreaShape_EulerNumber</th>\n",
        "      <th>AreaShape_Extent</th>\n",
        "      <th>...</th>\n",
        "      <th>Texture_DifferenceVariance_CorrMT_3_0</th>\n",
        "      <th>Texture_Entropy_CorrMT_3_0</th>\n",
        "      <th>Texture_Gabor_CorrMT_3</th>\n",
        "      <th>Texture_InfoMeas1_CorrMT_3_0</th>\n",
        "      <th>Texture_InfoMeas2_CorrMT_3_0</th>\n",
        "      <th>Texture_InverseDifferenceMoment_CorrMT_3_0</th>\n",
        "      <th>Texture_SumAverage_CorrMT_3_0</th>\n",
        "      <th>Texture_SumEntropy_CorrMT_3_0</th>\n",
        "      <th>Texture_SumVariance_CorrMT_3_0</th>\n",
        "      <th>Texture_Variance_CorrMT_3_0</th>\n",
        "    </tr>\n",
        "  </thead>\n",
        "  <tbody>\n",
        "    <tr>\n",
        "      <th>1</th>\n",
        "      <td> 0</td>\n",
        "      <td> 0</td>\n",
        "      <td> 0</td>\n",
        "      <td> 12307</td>\n",
        "      <td> 758</td>\n",
        "      <td> 289</td>\n",
        "      <td> 1.178887</td>\n",
        "      <td> 0.821632</td>\n",
        "      <td> 1</td>\n",
        "      <td> 0.708602</td>\n",
        "      <td>...</td>\n",
        "      <td> 0.291719</td>\n",
        "      <td> 2.767921</td>\n",
        "      <td> 0.740311</td>\n",
        "      <td>-0.435407</td>\n",
        "      <td> 0.886449</td>\n",
        "      <td> 0.785932</td>\n",
        "      <td> 6.524518</td>\n",
        "      <td> 2.393549</td>\n",
        "      <td> 8.634587</td>\n",
        "      <td> 2.278483</td>\n",
        "    </tr>\n",
        "  </tbody>\n",
        "</table>\n",
        "<p>1 rows \u00d7 109 columns</p>\n",
        "</div>"
       ],
       "metadata": {},
       "output_type": "pyout",
       "prompt_number": 233,
       "text": [
        "   CONC_TREATMENT  SOLVENT  CONC_SOLVENT  AreaShape_Area  AreaShape_Center_X  \\\n",
        "1               0        0             0           12307                 758   \n",
        "\n",
        "   AreaShape_Center_Y  AreaShape_Compactness  AreaShape_Eccentricity  \\\n",
        "1                 289               1.178887                0.821632   \n",
        "\n",
        "   AreaShape_EulerNumber  AreaShape_Extent        ...         \\\n",
        "1                      1          0.708602        ...          \n",
        "\n",
        "   Texture_DifferenceVariance_CorrMT_3_0  Texture_Entropy_CorrMT_3_0  \\\n",
        "1                               0.291719                    2.767921   \n",
        "\n",
        "   Texture_Gabor_CorrMT_3  Texture_InfoMeas1_CorrMT_3_0  \\\n",
        "1                0.740311                     -0.435407   \n",
        "\n",
        "   Texture_InfoMeas2_CorrMT_3_0  Texture_InverseDifferenceMoment_CorrMT_3_0  \\\n",
        "1                      0.886449                                    0.785932   \n",
        "\n",
        "   Texture_SumAverage_CorrMT_3_0  Texture_SumEntropy_CorrMT_3_0  \\\n",
        "1                       6.524518                       2.393549   \n",
        "\n",
        "   Texture_SumVariance_CorrMT_3_0  Texture_Variance_CorrMT_3_0  \n",
        "1                        8.634587                     2.278483  \n",
        "\n",
        "[1 rows x 109 columns]"
       ]
      }
     ],
     "prompt_number": 233
    },
    {
     "cell_type": "code",
     "collapsed": false,
     "input": [
      "d2_sd=data2.iloc[:,7:].std()\n",
      "d2_mean=data2.iloc[:,7:].mean()\n",
      "type(d2_mean)\n",
      "d2_mean.shape"
     ],
     "language": "python",
     "metadata": {},
     "outputs": [
      {
       "metadata": {},
       "output_type": "pyout",
       "prompt_number": 234,
       "text": [
        "(109,)"
       ]
      }
     ],
     "prompt_number": 234
    },
    {
     "cell_type": "code",
     "collapsed": false,
     "input": [
      "names=['MEAN','STD']\n",
      "d2_mean_std=pd.concat([d2_mean,d2_sd],axis=1)\n",
      "type(d2_mean_std)\n",
      "d2_mean_std.columns = names\n",
      "d2_mean_std.head()"
     ],
     "language": "python",
     "metadata": {},
     "outputs": [
      {
       "html": [
        "<div style=\"max-height:1000px;max-width:1500px;overflow:auto;\">\n",
        "<table border=\"1\" class=\"dataframe\">\n",
        "  <thead>\n",
        "    <tr style=\"text-align: right;\">\n",
        "      <th></th>\n",
        "      <th>MEAN</th>\n",
        "      <th>STD</th>\n",
        "    </tr>\n",
        "  </thead>\n",
        "  <tbody>\n",
        "    <tr>\n",
        "      <th>CONC_TREATMENT</th>\n",
        "      <td>   265.438402</td>\n",
        "      <td>  344.534391</td>\n",
        "    </tr>\n",
        "    <tr>\n",
        "      <th>SOLVENT</th>\n",
        "      <td>     0.887902</td>\n",
        "      <td>    0.315662</td>\n",
        "    </tr>\n",
        "    <tr>\n",
        "      <th>CONC_SOLVENT</th>\n",
        "      <td>     0.668923</td>\n",
        "      <td>    0.339918</td>\n",
        "    </tr>\n",
        "    <tr>\n",
        "      <th>AreaShape_Area</th>\n",
        "      <td> 11356.941176</td>\n",
        "      <td> 5022.232579</td>\n",
        "    </tr>\n",
        "    <tr>\n",
        "      <th>AreaShape_Center_X</th>\n",
        "      <td>   715.187569</td>\n",
        "      <td>  245.693299</td>\n",
        "    </tr>\n",
        "  </tbody>\n",
        "</table>\n",
        "</div>"
       ],
       "metadata": {},
       "output_type": "pyout",
       "prompt_number": 235,
       "text": [
        "                            MEAN          STD\n",
        "CONC_TREATMENT        265.438402   344.534391\n",
        "SOLVENT                 0.887902     0.315662\n",
        "CONC_SOLVENT            0.668923     0.339918\n",
        "AreaShape_Area      11356.941176  5022.232579\n",
        "AreaShape_Center_X    715.187569   245.693299"
       ]
      }
     ],
     "prompt_number": 235
    },
    {
     "cell_type": "code",
     "collapsed": false,
     "input": [
      "#CALCULATE STD AS A % OF MEAN\n",
      "d2_mean_std['RATIO']=abs((d2_mean_std.STD/d2_mean_std.MEAN)*100) #there are some negative values in the data frame\n",
      "d2_mean_std.head()"
     ],
     "language": "python",
     "metadata": {},
     "outputs": [
      {
       "html": [
        "<div style=\"max-height:1000px;max-width:1500px;overflow:auto;\">\n",
        "<table border=\"1\" class=\"dataframe\">\n",
        "  <thead>\n",
        "    <tr style=\"text-align: right;\">\n",
        "      <th></th>\n",
        "      <th>MEAN</th>\n",
        "      <th>STD</th>\n",
        "      <th>RATIO</th>\n",
        "    </tr>\n",
        "  </thead>\n",
        "  <tbody>\n",
        "    <tr>\n",
        "      <th>CONC_TREATMENT</th>\n",
        "      <td>   265.438402</td>\n",
        "      <td>  344.534391</td>\n",
        "      <td> 129.798246</td>\n",
        "    </tr>\n",
        "    <tr>\n",
        "      <th>SOLVENT</th>\n",
        "      <td>     0.887902</td>\n",
        "      <td>    0.315662</td>\n",
        "      <td>  35.551410</td>\n",
        "    </tr>\n",
        "    <tr>\n",
        "      <th>CONC_SOLVENT</th>\n",
        "      <td>     0.668923</td>\n",
        "      <td>    0.339918</td>\n",
        "      <td>  50.815691</td>\n",
        "    </tr>\n",
        "    <tr>\n",
        "      <th>AreaShape_Area</th>\n",
        "      <td> 11356.941176</td>\n",
        "      <td> 5022.232579</td>\n",
        "      <td>  44.221701</td>\n",
        "    </tr>\n",
        "    <tr>\n",
        "      <th>AreaShape_Center_X</th>\n",
        "      <td>   715.187569</td>\n",
        "      <td>  245.693299</td>\n",
        "      <td>  34.353687</td>\n",
        "    </tr>\n",
        "  </tbody>\n",
        "</table>\n",
        "</div>"
       ],
       "metadata": {},
       "output_type": "pyout",
       "prompt_number": 236,
       "text": [
        "                            MEAN          STD       RATIO\n",
        "CONC_TREATMENT        265.438402   344.534391  129.798246\n",
        "SOLVENT                 0.887902     0.315662   35.551410\n",
        "CONC_SOLVENT            0.668923     0.339918   50.815691\n",
        "AreaShape_Area      11356.941176  5022.232579   44.221701\n",
        "AreaShape_Center_X    715.187569   245.693299   34.353687"
       ]
      }
     ],
     "prompt_number": 236
    },
    {
     "cell_type": "code",
     "collapsed": false,
     "input": [
      "d2_mean_std_sort=d2_mean_std.sort('RATIO',ascending=0)\n",
      "d2_mean_std_sort.head()"
     ],
     "language": "python",
     "metadata": {},
     "outputs": [
      {
       "html": [
        "<div style=\"max-height:1000px;max-width:1500px;overflow:auto;\">\n",
        "<table border=\"1\" class=\"dataframe\">\n",
        "  <thead>\n",
        "    <tr style=\"text-align: right;\">\n",
        "      <th></th>\n",
        "      <th>MEAN</th>\n",
        "      <th>STD</th>\n",
        "      <th>RATIO</th>\n",
        "    </tr>\n",
        "  </thead>\n",
        "  <tbody>\n",
        "    <tr>\n",
        "      <th>AreaShape_Orientation</th>\n",
        "      <td>  -0.636999</td>\n",
        "      <td>   51.812663</td>\n",
        "      <td> 8133.862552</td>\n",
        "    </tr>\n",
        "    <tr>\n",
        "      <th>Math_ChromosomeMassCorrelation</th>\n",
        "      <td>   0.011154</td>\n",
        "      <td>    0.208159</td>\n",
        "      <td> 1866.296380</td>\n",
        "    </tr>\n",
        "    <tr>\n",
        "      <th>Math_ChromosomesCorrelation</th>\n",
        "      <td>  -0.042130</td>\n",
        "      <td>    0.201191</td>\n",
        "      <td>  477.546721</td>\n",
        "    </tr>\n",
        "    <tr>\n",
        "      <th>Correlation_Correlation_CorrMT_CorrChromosomes</th>\n",
        "      <td>  -0.062552</td>\n",
        "      <td>    0.237715</td>\n",
        "      <td>  380.027003</td>\n",
        "    </tr>\n",
        "    <tr>\n",
        "      <th>Math_DeltaSquareCenterX_Spindles_ChromosomeMass</th>\n",
        "      <td> 923.083092</td>\n",
        "      <td> 1963.278195</td>\n",
        "      <td>  212.687050</td>\n",
        "    </tr>\n",
        "  </tbody>\n",
        "</table>\n",
        "</div>"
       ],
       "metadata": {},
       "output_type": "pyout",
       "prompt_number": 237,
       "text": [
        "                                                       MEAN          STD  \\\n",
        "AreaShape_Orientation                             -0.636999    51.812663   \n",
        "Math_ChromosomeMassCorrelation                     0.011154     0.208159   \n",
        "Math_ChromosomesCorrelation                       -0.042130     0.201191   \n",
        "Correlation_Correlation_CorrMT_CorrChromosomes    -0.062552     0.237715   \n",
        "Math_DeltaSquareCenterX_Spindles_ChromosomeMass  923.083092  1963.278195   \n",
        "\n",
        "                                                       RATIO  \n",
        "AreaShape_Orientation                            8133.862552  \n",
        "Math_ChromosomeMassCorrelation                   1866.296380  \n",
        "Math_ChromosomesCorrelation                       477.546721  \n",
        "Correlation_Correlation_CorrMT_CorrChromosomes    380.027003  \n",
        "Math_DeltaSquareCenterX_Spindles_ChromosomeMass   212.687050  "
       ]
      }
     ],
     "prompt_number": 237
    },
    {
     "cell_type": "code",
     "collapsed": false,
     "input": [
      "print d2_mean_std_sort[d2_mean_std_sort.RATIO>50].shape\n",
      "print d2_mean_std_sort[d2_mean_std_sort.RATIO>100].shape #use for radial plot\n",
      "print d2_mean_std_sort[d2_mean_std_sort.RATIO>200].shape\n",
      "d2_mean_std_sort[d2_mean_std_sort.RATIO>100]\n"
     ],
     "language": "python",
     "metadata": {},
     "outputs": [
      {
       "output_type": "stream",
       "stream": "stdout",
       "text": [
        "(46, 3)\n",
        "(11, 3)\n",
        "(7, 3)\n"
       ]
      },
      {
       "html": [
        "<div style=\"max-height:1000px;max-width:1500px;overflow:auto;\">\n",
        "<table border=\"1\" class=\"dataframe\">\n",
        "  <thead>\n",
        "    <tr style=\"text-align: right;\">\n",
        "      <th></th>\n",
        "      <th>MEAN</th>\n",
        "      <th>STD</th>\n",
        "      <th>RATIO</th>\n",
        "    </tr>\n",
        "  </thead>\n",
        "  <tbody>\n",
        "    <tr>\n",
        "      <th>AreaShape_Orientation</th>\n",
        "      <td>  -0.636999</td>\n",
        "      <td>   51.812663</td>\n",
        "      <td> 8133.862552</td>\n",
        "    </tr>\n",
        "    <tr>\n",
        "      <th>Math_ChromosomeMassCorrelation</th>\n",
        "      <td>   0.011154</td>\n",
        "      <td>    0.208159</td>\n",
        "      <td> 1866.296380</td>\n",
        "    </tr>\n",
        "    <tr>\n",
        "      <th>Math_ChromosomesCorrelation</th>\n",
        "      <td>  -0.042130</td>\n",
        "      <td>    0.201191</td>\n",
        "      <td>  477.546721</td>\n",
        "    </tr>\n",
        "    <tr>\n",
        "      <th>Correlation_Correlation_CorrMT_CorrChromosomes</th>\n",
        "      <td>  -0.062552</td>\n",
        "      <td>    0.237715</td>\n",
        "      <td>  380.027003</td>\n",
        "    </tr>\n",
        "    <tr>\n",
        "      <th>Math_DeltaSquareCenterX_Spindles_ChromosomeMass</th>\n",
        "      <td> 923.083092</td>\n",
        "      <td> 1963.278195</td>\n",
        "      <td>  212.687050</td>\n",
        "    </tr>\n",
        "    <tr>\n",
        "      <th>Math_DeltaSquareCenterX_Spindles_Chromosomes</th>\n",
        "      <td> 362.802176</td>\n",
        "      <td>  769.816493</td>\n",
        "      <td>  212.186294</td>\n",
        "    </tr>\n",
        "    <tr>\n",
        "      <th>Math_DeltaSquareCenterY_Spindles_Chromosomes</th>\n",
        "      <td> 361.940461</td>\n",
        "      <td>  729.079956</td>\n",
        "      <td>  201.436433</td>\n",
        "    </tr>\n",
        "    <tr>\n",
        "      <th>Math_DeltaSquareCenterY_Spindles_ChromosomeMass</th>\n",
        "      <td> 829.387103</td>\n",
        "      <td> 1618.260756</td>\n",
        "      <td>  195.115254</td>\n",
        "    </tr>\n",
        "    <tr>\n",
        "      <th>Math_GeometricCenterOffsetChromosomeMass</th>\n",
        "      <td> 535.090870</td>\n",
        "      <td>  835.763119</td>\n",
        "      <td>  156.190876</td>\n",
        "    </tr>\n",
        "    <tr>\n",
        "      <th>CONC_TREATMENT</th>\n",
        "      <td> 265.438402</td>\n",
        "      <td>  344.534391</td>\n",
        "      <td>  129.798246</td>\n",
        "    </tr>\n",
        "    <tr>\n",
        "      <th>Texture_Gabor_CorrMT_3</th>\n",
        "      <td>   0.515828</td>\n",
        "      <td>    0.516030</td>\n",
        "      <td>  100.039040</td>\n",
        "    </tr>\n",
        "  </tbody>\n",
        "</table>\n",
        "</div>"
       ],
       "metadata": {},
       "output_type": "pyout",
       "prompt_number": 238,
       "text": [
        "                                                       MEAN          STD  \\\n",
        "AreaShape_Orientation                             -0.636999    51.812663   \n",
        "Math_ChromosomeMassCorrelation                     0.011154     0.208159   \n",
        "Math_ChromosomesCorrelation                       -0.042130     0.201191   \n",
        "Correlation_Correlation_CorrMT_CorrChromosomes    -0.062552     0.237715   \n",
        "Math_DeltaSquareCenterX_Spindles_ChromosomeMass  923.083092  1963.278195   \n",
        "Math_DeltaSquareCenterX_Spindles_Chromosomes     362.802176   769.816493   \n",
        "Math_DeltaSquareCenterY_Spindles_Chromosomes     361.940461   729.079956   \n",
        "Math_DeltaSquareCenterY_Spindles_ChromosomeMass  829.387103  1618.260756   \n",
        "Math_GeometricCenterOffsetChromosomeMass         535.090870   835.763119   \n",
        "CONC_TREATMENT                                   265.438402   344.534391   \n",
        "Texture_Gabor_CorrMT_3                             0.515828     0.516030   \n",
        "\n",
        "                                                       RATIO  \n",
        "AreaShape_Orientation                            8133.862552  \n",
        "Math_ChromosomeMassCorrelation                   1866.296380  \n",
        "Math_ChromosomesCorrelation                       477.546721  \n",
        "Correlation_Correlation_CorrMT_CorrChromosomes    380.027003  \n",
        "Math_DeltaSquareCenterX_Spindles_ChromosomeMass   212.687050  \n",
        "Math_DeltaSquareCenterX_Spindles_Chromosomes      212.186294  \n",
        "Math_DeltaSquareCenterY_Spindles_Chromosomes      201.436433  \n",
        "Math_DeltaSquareCenterY_Spindles_ChromosomeMass   195.115254  \n",
        "Math_GeometricCenterOffsetChromosomeMass          156.190876  \n",
        "CONC_TREATMENT                                    129.798246  \n",
        "Texture_Gabor_CorrMT_3                            100.039040  "
       ]
      }
     ],
     "prompt_number": 238
    },
    {
     "cell_type": "code",
     "collapsed": false,
     "input": [
      "d2_mean_std_sort[d2_mean_std_sort.RATIO>100].index #names for the radial plot\n",
      "len(d2_mean_std_sort[d2_mean_std_sort.RATIO>100].index) \n",
      "len(d2_mean_std_sort[d2_mean_std_sort.RATIO>100].RATIO) #values for the radial plot"
     ],
     "language": "python",
     "metadata": {},
     "outputs": [
      {
       "metadata": {},
       "output_type": "pyout",
       "prompt_number": 239,
       "text": [
        "11"
       ]
      }
     ],
     "prompt_number": 239
    },
    {
     "cell_type": "code",
     "collapsed": false,
     "input": [
      "min(d2_mean_std_sort.RATIO)"
     ],
     "language": "python",
     "metadata": {},
     "outputs": [
      {
       "metadata": {},
       "output_type": "pyout",
       "prompt_number": 240,
       "text": [
        "0.0"
       ]
      }
     ],
     "prompt_number": 240
    },
    {
     "cell_type": "code",
     "collapsed": false,
     "input": [
      "#cols=(len(d2_mean_std_sort.RATIO))*['']\n",
      "#len(cols)\n",
      "#http://astropython.blogspot.com/2012/02/additional-color-names-for-matplotlib.html\n",
      "cols=[]\n",
      "for val in d2_mean_std_sort.RATIO:\n",
      "    if val>50 and val <100:\n",
      "        cols.append('#0066FF')\n",
      "    elif val>100 and val <200:\n",
      "        cols.append('#0000FF')\n",
      "    elif val>200:   \n",
      "        cols.append('#0000CC')\n",
      "    else:\n",
      "        cols.append('#3399FF')\n",
      "#print cols"
     ],
     "language": "python",
     "metadata": {},
     "outputs": [],
     "prompt_number": 241
    },
    {
     "cell_type": "code",
     "collapsed": false,
     "input": [
      "#http://stackoverflow.com/questions/3832809/how-to-change-the-color-of-a-single-bar-if-condition-is-true-matplotlib\n",
      "#http://matplotlib.org/users/pyplot_tutorial.html#pyplot-tutorial\n",
      "#COLOR_PICKER\n",
      "#http://www.w3schools.com/tags/ref_colorpicker.asp\n",
      "plt.bar(np.arange(0,len(d2_mean_std_sort.RATIO)),d2_mean_std_sort.RATIO,color=cols);\n",
      "plt.ylabel('STD as % mean')\n",
      "plt.xlabel('features')"
     ],
     "language": "python",
     "metadata": {},
     "outputs": [
      {
       "metadata": {},
       "output_type": "pyout",
       "prompt_number": 242,
       "text": [
        "<matplotlib.text.Text at 0x10f7a02d0>"
       ]
      },
      {
       "metadata": {},
       "output_type": "display_data",
       "png": "[encoded data removed]",
       "text": [
        "<matplotlib.figure.Figure at 0x10f79b550>"
       ]
      }
     ],
     "prompt_number": 242
    },
    {
     "cell_type": "code",
     "collapsed": false,
     "input": [
      "plt.bar(np.arange(0,len(d2_mean_std_sort.RATIO)),np.log10(d2_mean_std_sort.RATIO),color=cols);\n",
      "plt.ylabel('STD as % mean::log10 scale')\n",
      "plt.xlabel('features')\n",
      "plt.legend(loc=1)"
     ],
     "language": "python",
     "metadata": {},
     "outputs": [
      {
       "output_type": "stream",
       "stream": "stderr",
       "text": [
        "/Users/Tango/Library/Enthought/Canopy_64bit/User/lib/python2.7/site-packages/matplotlib/axes.py:4747: UserWarning: No labeled objects found. Use label='...' kwarg on individual plots.\n",
        "  warnings.warn(\"No labeled objects found. \"\n"
       ]
      },
      {
       "metadata": {},
       "output_type": "display_data",
       "png": "[encoded data removed]",
       "text": [
        "<matplotlib.figure.Figure at 0x10e29f650>"
       ]
      }
     ],
     "prompt_number": 243
    },
    {
     "cell_type": "code",
     "collapsed": false,
     "input": [
      "#http://blog.yhathq.com/posts/ggplot-for-python.html   \n",
      "#from ggplot import *\n",
      "#print ggplot(meat, aes('date','beef * 2000')) + \\\n",
      " #   geom_line(color='coral') + \\\n",
      "  #  scale_x_date(breaks=date_breaks('36 months'), labels='%Y') + \\\n",
      "   # scale_y_continuous(labels='millions')"
     ],
     "language": "python",
     "metadata": {},
     "outputs": [],
     "prompt_number": 244
    },
    {
     "cell_type": "code",
     "collapsed": false,
     "input": [
      "#http://forums.udacity.com/questions/100155698/anyone-having-any-real-luck-with-geom_bar-in-ggplot\n",
      "#\n",
      "#ggplot(d2_mean_std_sort,aes(x=np.arange(0,len(d2_mean_std_sort.RATIO)),y='d2_mean_std_sort.RATIO'))\\\n",
      " #   +geom_bar(aes(x=np.arange(0,len(d2_mean_std_sort.RATIO)),weight='d2_mean_std_sort.RATIO'))\n",
      "#http://docs.ggplot2.org/current/stat_bin.html\n",
      "#ggplot(d2_mean_std_sort,aes(x=np.arange(0,len(d2_mean_std_sort.RATIO)),y='d2_mean_std_sort.RATIO'))\\\n",
      " #   +geom_bar(aes(x=np.arange(0,len(d2_mean_std_sort.RATIO)),weight='d2_mean_std_sort.RATIO'))\\"
     ],
     "language": "python",
     "metadata": {},
     "outputs": [],
     "prompt_number": 245
    },
    {
     "cell_type": "code",
     "collapsed": false,
     "input": [
      "#Plot all the SD's\n",
      "#http://pygal.org/basic_customizations/\n",
      "import pygal\n",
      "from IPython.display import SVG\n",
      "\n",
      "radar_chart1 = pygal.Radar()\n",
      "radar_chart1.title = 'Overall: SD as a % of mean if >100%'\n",
      "\n",
      "radar_chart1.x_labels = list(d2_mean_std_sort[d2_mean_std_sort.RATIO>100].index)\n",
      "radar_chart1.add('Overall',d2_mean_std_sort[d2_mean_std_sort.RATIO>100].RATIO.values)\n",
      "#radar_chart1.config\n",
      "radar_chart1.render_to_file('overall_above_100.svg')\n",
      "SVG(filename='overall_above_100.svg') #11 features"
     ],
     "language": "python",
     "metadata": {},
     "outputs": [
      {
       "metadata": {},
       "output_type": "pyout",
       "prompt_number": 246,
       "svg": [
        "<svg class=\"pygal-chart\" id=\"chart-72514fc5-b8bd-40eb-9c7d-2c28c883b6d9\" viewBox=\"0 0 800 600\" xmlns=\"http://www.w3.org/2000/svg\" xmlns:xlink=\"http://www.w3.org/1999/xlink\"><!--Generated with pygal 1.4.6 \u00a9Kozea 2011-2014 on 2014-08-16--><!--http://pygal.org--><!--http://github.com/Kozea/pygal--><defs><style type=\"text/css\">#chart-72514fc5-b8bd-40eb-9c7d-2c28c883b6d9 .title{font-family:monospace;font-size:16px}#chart-72514fc5-b8bd-40eb-9c7d-2c28c883b6d9 .legends .legend text{font-family:monospace;font-size:14px}#chart-72514fc5-b8bd-40eb-9c7d-2c28c883b6d9 .axis text{font-family:monospace;font-size:10px}#chart-72514fc5-b8bd-40eb-9c7d-2c28c883b6d9 .axis text.major{font-family:monospace;font-size:10px}#chart-72514fc5-b8bd-40eb-9c7d-2c28c883b6d9 .series text{font-family:monospace;font-size:8px}#chart-72514fc5-b8bd-40eb-9c7d-2c28c883b6d9 .tooltip text{font-family:monospace;font-size:16px}#chart-72514fc5-b8bd-40eb-9c7d-2c28c883b6d9 text.no_data{font-size:64px}\n",
        "#chart-72514fc5-b8bd-40eb-9c7d-2c28c883b6d9{background-color:black}#chart-72514fc5-b8bd-40eb-9c7d-2c28c883b6d9 path,#chart-72514fc5-b8bd-40eb-9c7d-2c28c883b6d9 line,#chart-72514fc5-b8bd-40eb-9c7d-2c28c883b6d9 rect,#chart-72514fc5-b8bd-40eb-9c7d-2c28c883b6d9 circle{-webkit-transition:250ms;-moz-transition:250ms;transition:250ms}#chart-72514fc5-b8bd-40eb-9c7d-2c28c883b6d9 .graph &gt; .background{fill:black}#chart-72514fc5-b8bd-40eb-9c7d-2c28c883b6d9 .plot &gt; .background{fill:#111}#chart-72514fc5-b8bd-40eb-9c7d-2c28c883b6d9 .graph{fill:#999}#chart-72514fc5-b8bd-40eb-9c7d-2c28c883b6d9 text.no_data{fill:#eee}#chart-72514fc5-b8bd-40eb-9c7d-2c28c883b6d9 .title{fill:#eee}#chart-72514fc5-b8bd-40eb-9c7d-2c28c883b6d9 .legends .legend text{fill:#999}#chart-72514fc5-b8bd-40eb-9c7d-2c28c883b6d9 .legends .legend:hover text{fill:#eee}#chart-72514fc5-b8bd-40eb-9c7d-2c28c883b6d9 .axis .line{stroke:#eee}#chart-72514fc5-b8bd-40eb-9c7d-2c28c883b6d9 .axis .guide.line{stroke:#555}#chart-72514fc5-b8bd-40eb-9c7d-2c28c883b6d9 .axis .major.line{stroke:#999}#chart-72514fc5-b8bd-40eb-9c7d-2c28c883b6d9 .axis text.major{stroke:#eee;fill:#eee}#chart-72514fc5-b8bd-40eb-9c7d-2c28c883b6d9 .axis.y .guides:hover .guide.line,#chart-72514fc5-b8bd-40eb-9c7d-2c28c883b6d9 .line-graph .axis.x .guides:hover .guide.line,#chart-72514fc5-b8bd-40eb-9c7d-2c28c883b6d9 .stackedline-graph .axis.x .guides:hover .guide.line,#chart-72514fc5-b8bd-40eb-9c7d-2c28c883b6d9 .xy-graph .axis.x .guides:hover .guide.line{stroke:#eee}#chart-72514fc5-b8bd-40eb-9c7d-2c28c883b6d9 .axis .guides:hover text{fill:#eee}#chart-72514fc5-b8bd-40eb-9c7d-2c28c883b6d9 .reactive{fill-opacity:.8}#chart-72514fc5-b8bd-40eb-9c7d-2c28c883b6d9 .reactive.active,#chart-72514fc5-b8bd-40eb-9c7d-2c28c883b6d9 .active .reactive{fill-opacity:.4}#chart-72514fc5-b8bd-40eb-9c7d-2c28c883b6d9 .series text{fill:#eee}#chart-72514fc5-b8bd-40eb-9c7d-2c28c883b6d9 .tooltip rect{fill:#111;stroke:#eee}#chart-72514fc5-b8bd-40eb-9c7d-2c28c883b6d9 .tooltip text{fill:#eee}#chart-72514fc5-b8bd-40eb-9c7d-2c28c883b6d9 .map-element{fill:#999;stroke:#555 !important;opacity:.9;stroke-width:3;-webkit-transition:250ms;-moz-transition:250ms;-o-transition:250ms;transition:250ms}#chart-72514fc5-b8bd-40eb-9c7d-2c28c883b6d9 .map-element:hover{opacity:1;stroke-width:10}#chart-72514fc5-b8bd-40eb-9c7d-2c28c883b6d9 .color-0,#chart-72514fc5-b8bd-40eb-9c7d-2c28c883b6d9 .color-0 a:visited{stroke:#ff5995;fill:#ff5995}#chart-72514fc5-b8bd-40eb-9c7d-2c28c883b6d9 .color-1,#chart-72514fc5-b8bd-40eb-9c7d-2c28c883b6d9 .color-1 a:visited{stroke:#b6e354;fill:#b6e354}#chart-72514fc5-b8bd-40eb-9c7d-2c28c883b6d9 .color-2,#chart-72514fc5-b8bd-40eb-9c7d-2c28c883b6d9 .color-2 a:visited{stroke:#feed6c;fill:#feed6c}#chart-72514fc5-b8bd-40eb-9c7d-2c28c883b6d9 .color-3,#chart-72514fc5-b8bd-40eb-9c7d-2c28c883b6d9 .color-3 a:visited{stroke:#8cedff;fill:#8cedff}#chart-72514fc5-b8bd-40eb-9c7d-2c28c883b6d9 .color-4,#chart-72514fc5-b8bd-40eb-9c7d-2c28c883b6d9 .color-4 a:visited{stroke:#9e6ffe;fill:#9e6ffe}#chart-72514fc5-b8bd-40eb-9c7d-2c28c883b6d9 .color-5,#chart-72514fc5-b8bd-40eb-9c7d-2c28c883b6d9 .color-5 a:visited{stroke:#899ca1;fill:#899ca1}#chart-72514fc5-b8bd-40eb-9c7d-2c28c883b6d9 .color-6,#chart-72514fc5-b8bd-40eb-9c7d-2c28c883b6d9 .color-6 a:visited{stroke:#f8f8f2;fill:#f8f8f2}#chart-72514fc5-b8bd-40eb-9c7d-2c28c883b6d9 .color-7,#chart-72514fc5-b8bd-40eb-9c7d-2c28c883b6d9 .color-7 a:visited{stroke:#bf4646;fill:#bf4646}#chart-72514fc5-b8bd-40eb-9c7d-2c28c883b6d9 .color-8,#chart-72514fc5-b8bd-40eb-9c7d-2c28c883b6d9 .color-8 a:visited{stroke:#516083;fill:#516083}#chart-72514fc5-b8bd-40eb-9c7d-2c28c883b6d9 .color-9,#chart-72514fc5-b8bd-40eb-9c7d-2c28c883b6d9 .color-9 a:visited{stroke:#f92672;fill:#f92672}#chart-72514fc5-b8bd-40eb-9c7d-2c28c883b6d9 .color-10,#chart-72514fc5-b8bd-40eb-9c7d-2c28c883b6d9 .color-10 a:visited{stroke:#82b414;fill:#82b414}#chart-72514fc5-b8bd-40eb-9c7d-2c28c883b6d9 .color-11,#chart-72514fc5-b8bd-40eb-9c7d-2c28c883b6d9 .color-11 a:visited{stroke:#fd971f;fill:#fd971f}#chart-72514fc5-b8bd-40eb-9c7d-2c28c883b6d9 .color-12,#chart-72514fc5-b8bd-40eb-9c7d-2c28c883b6d9 .color-12 a:visited{stroke:#56c2d6;fill:#56c2d6}#chart-72514fc5-b8bd-40eb-9c7d-2c28c883b6d9 .color-13,#chart-72514fc5-b8bd-40eb-9c7d-2c28c883b6d9 .color-13 a:visited{stroke:#808384;fill:#808384}#chart-72514fc5-b8bd-40eb-9c7d-2c28c883b6d9 .color-14,#chart-72514fc5-b8bd-40eb-9c7d-2c28c883b6d9 .color-14 a:visited{stroke:#8c54fe;fill:#8c54fe}#chart-72514fc5-b8bd-40eb-9c7d-2c28c883b6d9 .color-15,#chart-72514fc5-b8bd-40eb-9c7d-2c28c883b6d9 .color-15 a:visited{stroke:#465457;fill:#465457}\n",
        "#chart-72514fc5-b8bd-40eb-9c7d-2c28c883b6d9 text.no_data{text-anchor:middle}#chart-72514fc5-b8bd-40eb-9c7d-2c28c883b6d9 .guide.line{fill-opacity:0}#chart-72514fc5-b8bd-40eb-9c7d-2c28c883b6d9 .centered{text-anchor:middle}#chart-72514fc5-b8bd-40eb-9c7d-2c28c883b6d9 .title{text-anchor:middle}#chart-72514fc5-b8bd-40eb-9c7d-2c28c883b6d9 .legends .legend text{fill-opacity:1}#chart-72514fc5-b8bd-40eb-9c7d-2c28c883b6d9 .axis.x text{text-anchor:middle}#chart-72514fc5-b8bd-40eb-9c7d-2c28c883b6d9 .axis.x:not(.web) text[transform]{text-anchor:start}#chart-72514fc5-b8bd-40eb-9c7d-2c28c883b6d9 .axis.y text{text-anchor:end}#chart-72514fc5-b8bd-40eb-9c7d-2c28c883b6d9 .axis.y2 text{text-anchor:start}#chart-72514fc5-b8bd-40eb-9c7d-2c28c883b6d9 .axis.y .logarithmic text:not(.major),#chart-72514fc5-b8bd-40eb-9c7d-2c28c883b6d9 .axis.y2 .logarithmic text:not(.major){font-size:50%}#chart-72514fc5-b8bd-40eb-9c7d-2c28c883b6d9 .axis .guide.line{stroke-dasharray:4,4}#chart-72514fc5-b8bd-40eb-9c7d-2c28c883b6d9 .axis .major.guide.line{stroke-dasharray:6,6}#chart-72514fc5-b8bd-40eb-9c7d-2c28c883b6d9 .axis text.major{stroke-width:0.5px}#chart-72514fc5-b8bd-40eb-9c7d-2c28c883b6d9 .horizontal .axis.y .guide.line,#chart-72514fc5-b8bd-40eb-9c7d-2c28c883b6d9 .horizontal .axis.y2 .guide.line,#chart-72514fc5-b8bd-40eb-9c7d-2c28c883b6d9 .vertical .axis.x .guide.line{opacity:0}#chart-72514fc5-b8bd-40eb-9c7d-2c28c883b6d9 .horizontal .axis.always_show .guide.line,#chart-72514fc5-b8bd-40eb-9c7d-2c28c883b6d9 .vertical .axis.always_show .guide.line{opacity:1 !important}#chart-72514fc5-b8bd-40eb-9c7d-2c28c883b6d9 .axis.y .guides:hover .guide.line,#chart-72514fc5-b8bd-40eb-9c7d-2c28c883b6d9 .axis.y2 .guides:hover .guide.line,#chart-72514fc5-b8bd-40eb-9c7d-2c28c883b6d9 .axis.x .guides:hover .guide.line{opacity:1}#chart-72514fc5-b8bd-40eb-9c7d-2c28c883b6d9 .axis .guides:hover text{opacity:1}#chart-72514fc5-b8bd-40eb-9c7d-2c28c883b6d9 .nofill{fill:none}#chart-72514fc5-b8bd-40eb-9c7d-2c28c883b6d9 .subtle-fill{fill-opacity:.2}#chart-72514fc5-b8bd-40eb-9c7d-2c28c883b6d9 .dot{stroke-width:1px;fill-opacity:1}#chart-72514fc5-b8bd-40eb-9c7d-2c28c883b6d9 .dot.active{stroke-width:5px}#chart-72514fc5-b8bd-40eb-9c7d-2c28c883b6d9 .series text{stroke:none}#chart-72514fc5-b8bd-40eb-9c7d-2c28c883b6d9 .series text.active{opacity:1}#chart-72514fc5-b8bd-40eb-9c7d-2c28c883b6d9 .tooltip rect{fill-opacity:0.8}#chart-72514fc5-b8bd-40eb-9c7d-2c28c883b6d9 .tooltip text{fill-opacity:1}#chart-72514fc5-b8bd-40eb-9c7d-2c28c883b6d9 .tooltip text tspan.label{fill-opacity:.8}</style><script type=\"text/javascript\">window.config = {&quot;inner_radius&quot;: 0, &quot;print_values&quot;: true, &quot;tooltip_font_size&quot;: 16, &quot;y_title&quot;: null, &quot;y_labels_major&quot;: null, &quot;height&quot;: 600, &quot;legend_at_bottom&quot;: false, &quot;show_legend&quot;: true, &quot;show_dots&quot;: true, &quot;explicit_size&quot;: false, &quot;legend_font_size&quot;: 14, &quot;x_labels_major_count&quot;: null, &quot;major_label_font_size&quot;: 10, &quot;fill&quot;: false, &quot;style&quot;: {&quot;opacity&quot;: &quot;.8&quot;, &quot;foreground&quot;: &quot;#999&quot;, &quot;plot_background&quot;: &quot;#111&quot;, &quot;foreground_light&quot;: &quot;#eee&quot;, &quot;transition&quot;: &quot;250ms&quot;, &quot;foreground_dark&quot;: &quot;#555&quot;, &quot;colors&quot;: [&quot;#ff5995&quot;, &quot;#b6e354&quot;, &quot;#feed6c&quot;, &quot;#8cedff&quot;, &quot;#9e6ffe&quot;, &quot;#899ca1&quot;, &quot;#f8f8f2&quot;, &quot;#bf4646&quot;, &quot;#516083&quot;, &quot;#f92672&quot;, &quot;#82b414&quot;, &quot;#fd971f&quot;, &quot;#56c2d6&quot;, &quot;#808384&quot;, &quot;#8c54fe&quot;, &quot;#465457&quot;], &quot;background&quot;: &quot;black&quot;, &quot;opacity_hover&quot;: &quot;.4&quot;}, &quot;x_title&quot;: null, &quot;zero&quot;: 0, &quot;show_minor_x_labels&quot;: true, &quot;interpolation_parameters&quot;: {}, &quot;x_labels_major&quot;: null, &quot;rounded_bars&quot;: null, &quot;label_font_size&quot;: 10, &quot;show_y_labels&quot;: true, &quot;dots_size&quot;: 2.5, &quot;show_y_guides&quot;: true, &quot;show_minor_y_labels&quot;: true, &quot;x_labels&quot;: [&quot;AreaShape_Orientation&quot;, &quot;Math_ChromosomeMassCorrelation&quot;, &quot;Math_ChromosomesCorrelation&quot;, &quot;Correlation_Correlation_CorrMT_CorrChromosomes&quot;, &quot;Math_DeltaSquareCenterX_Spindles_ChromosomeMass&quot;, &quot;Math_DeltaSquareCenterX_Spindles_Chromosomes&quot;, &quot;Math_DeltaSquareCenterY_Spindles_Chromosomes&quot;, &quot;Math_DeltaSquareCenterY_Spindles_ChromosomeMass&quot;, &quot;Math_GeometricCenterOffsetChromosomeMass&quot;, &quot;CONC_TREATMENT&quot;, &quot;Texture_Gabor_CorrMT_3&quot;], &quot;value_font_size&quot;: 8, &quot;x_label_rotation&quot;: 0, &quot;disable_xml_declaration&quot;: false, &quot;strict&quot;: false, &quot;css&quot;: [&quot;style.css&quot;, &quot;graph.css&quot;], &quot;show_only_major_dots&quot;: false, &quot;human_readable&quot;: false, &quot;show_x_guides&quot;: false, &quot;spacing&quot;: 10, &quot;y_label_rotation&quot;: 0, &quot;pretty_print&quot;: false, &quot;tooltip_border_radius&quot;: 0, &quot;interpolate&quot;: null, &quot;js&quot;: [&quot;http://kozea.github.com/pygal.js/javascripts/svg.jquery.js&quot;, &quot;http://kozea.github.com/pygal.js/javascripts/pygal-tooltips.js&quot;], &quot;y_labels&quot;: null, &quot;y_labels_major_every&quot;: null, &quot;interpolation_precision&quot;: 250, &quot;value_formatter&quot;: null, &quot;no_data_font_size&quot;: 64, &quot;logarithmic&quot;: false, &quot;print_zeroes&quot;: false, &quot;no_data_text&quot;: &quot;No data&quot;, &quot;truncate_legend&quot;: null, &quot;x_labels_major_every&quot;: null, &quot;title&quot;: &quot;Overall: SD as a % of mean if &gt;100%&quot;, &quot;legend_box_size&quot;: 12, &quot;no_prefix&quot;: false, &quot;stroke&quot;: true, &quot;include_x_axis&quot;: false, &quot;range&quot;: null, &quot;truncate_label&quot;: null, &quot;order_min&quot;: null, &quot;title_font_size&quot;: 16, &quot;y_labels_major_count&quot;: null, &quot;x_label_format&quot;: &quot;%Y-%m-%d %H:%M:%S.%f&quot;, &quot;margin&quot;: 20, &quot;width&quot;: 800}</script><script type=\"text/javascript\" xlink:href=\"http://kozea.github.com/pygal.js/javascripts/svg.jquery.js\"/><script type=\"text/javascript\" xlink:href=\"http://kozea.github.com/pygal.js/javascripts/pygal-tooltips.js\"/></defs><title>Overall: SD as a % of mean if &gt;100%</title><g class=\"graph radar-graph vertical\"><rect class=\"background\" height=\"600\" width=\"800\" x=\"0\" y=\"0\"/><g class=\"plot\" transform=\"translate(146, 46)\"><rect class=\"background\" height=\"514\" width=\"633.2\" x=\"0\" y=\"0\"/><g class=\"axis x web\"><g class=\"guides\"><path class=\"line\" d=\"M316.600000 257.000000 L316.600000 19.037037\"/><text class=\"\" transform=\"rotate(0.000000 316.600000 5.140000)\" x=\"316.6\" y=\"5.14\">AreaShape_Orientation</text></g><g class=\"guides\"><path class=\"line\" d=\"M316.600000 257.000000 L158.112146 56.812817\"/><text class=\"\" transform=\"rotate(-32.727273 148.856455 45.121885)\" x=\"148.85645485\" y=\"45.1218852211\">Math_ChromosomeMassCorrelation</text></g><g class=\"guides\"><path class=\"line\" d=\"M316.600000 257.000000 L49.943065 158.146613\"/><text class=\"\" transform=\"rotate(-65.454545 34.370300 152.373575)\" x=\"34.3703000653\" y=\"152.373574825\">Math_ChromosomesCorrelation</text></g><g class=\"guides\"><path class=\"line\" d=\"M316.600000 257.000000 L26.435677 290.865661\"/><text class=\"\" transform=\"rotate(-278.181818 9.490081 292.843415)\" x=\"9.49008087049\" y=\"292.843415168\">Correlation_Correlation_CorrMT_CorrChromosomes</text></g><g class=\"guides\"><path class=\"line\" d=\"M316.600000 257.000000 L95.053412 412.832601\"/><text class=\"\" transform=\"rotate(-310.909091 82.115091 421.933224)\" x=\"82.1150910643\" y=\"421.933224451\">Math_DeltaSquareCenterX_Spindles_ChromosomeMass</text></g><g class=\"guides\"><path class=\"line\" d=\"M316.600000 257.000000 L234.010623 485.323791\"/><text class=\"\" transform=\"rotate(-343.636364 229.187403 498.657900)\" x=\"229.187403054\" y=\"498.657900335\">Math_DeltaSquareCenterX_Spindles_Chromosomes</text></g><g class=\"guides\"><path class=\"line\" d=\"M316.600000 257.000000 L399.189377 485.323791\"/><text class=\"\" transform=\"rotate(-376.363636 404.012597 498.657900)\" x=\"404.012596946\" y=\"498.657900335\">Math_DeltaSquareCenterY_Spindles_Chromosomes</text></g><g class=\"guides\"><path class=\"line\" d=\"M316.600000 257.000000 L538.146588 412.832601\"/><text class=\"\" transform=\"rotate(-409.090909 551.084909 421.933224)\" x=\"551.084908936\" y=\"421.933224451\">Math_DeltaSquareCenterY_Spindles_ChromosomeMass</text></g><g class=\"guides\"><path class=\"line\" d=\"M316.600000 257.000000 L606.764323 290.865661\"/><text class=\"\" transform=\"rotate(-441.818182 623.709919 292.843415)\" x=\"623.70991913\" y=\"292.843415168\">Math_GeometricCenterOffsetChromosomeMass</text></g><g class=\"guides\"><path class=\"line\" d=\"M316.600000 257.000000 L583.256935 158.146613\"/><text class=\"\" transform=\"rotate(-294.545455 598.829700 152.373575)\" x=\"598.829699935\" y=\"152.373574825\">CONC_TREATMENT</text></g><g class=\"guides\"><path class=\"line\" d=\"M316.600000 257.000000 L475.087854 56.812817\"/><text class=\"\" transform=\"rotate(-327.272727 484.343545 45.121885)\" x=\"484.34354515\" y=\"45.1218852211\">Texture_Gabor_CorrMT_3</text></g></g><g class=\"axis y web\"><g class=\"guides\"><path class=\"guide line\" d=\"M316.600000 22.953298 L160.720450 60.107385 54.331555 159.773486 31.211039 290.308319 98.699501 410.267995 235.369832 481.566166 397.830168 481.566166 534.500499 410.267995 601.988961 290.308319 578.868445 159.773486 472.479550 60.107385 316.600000 22.953298 Z\"/><text class=\"\" x=\"311.6\" y=\"22.9532981268\">8000.0</text></g><g class=\"guides\"><path class=\"guide line\" d=\"M316.600000 81.464974 L199.690337 109.330539 119.898667 184.080115 102.558279 281.981239 153.174626 371.950996 255.677374 425.424624 377.522626 425.424624 480.025374 371.950996 530.641721 281.981239 513.301333 184.080115 433.509663 109.330539 316.600000 81.464974 Z\"/><text class=\"\" x=\"311.6\" y=\"81.4649735951\">6000.0</text></g><g class=\"guides\"><path class=\"guide line\" d=\"M316.600000 139.976649 L238.660225 158.553693 185.465778 208.386743 173.905520 273.654159 207.649751 333.633997 275.984916 369.283083 357.215084 369.283083 425.550249 333.633997 459.294480 273.654159 447.734222 208.386743 394.539775 158.553693 316.600000 139.976649 Z\"/><text class=\"\" x=\"311.6\" y=\"139.976649063\">4000.0</text></g><g class=\"guides\"><path class=\"guide line\" d=\"M316.600000 198.488325 L277.630112 207.776846 251.032889 232.693372 245.252760 265.327080 262.124875 295.316999 296.292458 313.141541 336.907542 313.141541 371.075125 295.316999 387.947240 265.327080 382.167111 232.693372 355.569888 207.776846 316.600000 198.488325 Z\"/><text class=\"\" x=\"311.6\" y=\"198.488324532\">2000.0</text></g><g class=\"guides\"><path class=\"major guide line\" d=\"M316.600000 257.000000 L316.600000 257.000000 316.600000 257.000000 316.600000 257.000000 316.600000 257.000000 316.600000 257.000000 316.600000 257.000000 316.600000 257.000000 316.600000 257.000000 316.600000 257.000000 316.600000 257.000000 316.600000 257.000000 Z\"/><text class=\"major\" x=\"311.6\" y=\"257.0\">0.0</text></g></g><g class=\"series serie-0 color-0\"><path class=\"line reactive nofill\" d=\"M316.600000 19.037037 L280.235320 211.067503 300.944321 251.196225 303.043061 258.582258 310.806923 261.074765 314.445509 262.956233 318.645339 262.654476 321.914464 260.738115 322.171894 257.650307 320.855248 255.422521 318.549255 254.537881 Z\"/></g></g><g class=\"titles\"><text class=\"title plot_title\" x=\"400.0\" y=\"26\">Overall: SD as a % of mean if &gt;100%</text></g><g class=\"plot overlay\" transform=\"translate(146, 46)\"><g class=\"series serie-0 color-0\"><g class=\"dots\"><circle class=\"dot reactive tooltip-trigger\" cx=\"316.6\" cy=\"19.037037037\" r=\"2.5\"/><desc class=\"value\">8133.86255165</desc><desc class=\"x \">316.6</desc><desc class=\"y \">19.037037037</desc></g><g class=\"dots\"><circle class=\"dot reactive tooltip-trigger\" cx=\"280.235319981\" cy=\"211.067503223\" r=\"2.5\"/><desc class=\"value\">1866.29637986</desc><desc class=\"x \">280.235319981</desc><desc class=\"y \">211.067503223</desc></g><g class=\"dots\"><circle class=\"dot reactive tooltip-trigger\" cx=\"300.944320542\" cy=\"251.196224651\" r=\"2.5\"/><desc class=\"value\">477.546720827</desc><desc class=\"x \">300.944320542</desc><desc class=\"y \">251.196224651</desc></g><g class=\"dots\"><circle class=\"dot reactive tooltip-trigger\" cx=\"303.043061056\" cy=\"258.582257559\" r=\"2.5\"/><desc class=\"value\">380.02700321</desc><desc class=\"x top\">303.043061056</desc><desc class=\"y top\">258.582257559</desc></g><g class=\"dots\"><circle class=\"dot reactive tooltip-trigger\" cx=\"310.806923228\" cy=\"261.074764708\" r=\"2.5\"/><desc class=\"value\">212.687049725</desc><desc class=\"x top\">310.806923228</desc><desc class=\"y top\">261.074764708</desc></g><g class=\"dots\"><circle class=\"dot reactive tooltip-trigger\" cx=\"314.445508969\" cy=\"262.956232821\" r=\"2.5\"/><desc class=\"value\">212.186294249</desc><desc class=\"x top\">314.445508969</desc><desc class=\"y top\">262.956232821</desc></g><g class=\"dots\"><circle class=\"dot reactive tooltip-trigger\" cx=\"318.645339405\" cy=\"262.654475937\" r=\"2.5\"/><desc class=\"value\">201.436433244</desc><desc class=\"x left top\">318.645339405</desc><desc class=\"y left top\">262.654475937</desc></g><g class=\"dots\"><circle class=\"dot reactive tooltip-trigger\" cx=\"321.9144639\" cy=\"260.738115477\" r=\"2.5\"/><desc class=\"value\">195.115254321</desc><desc class=\"x left top\">321.9144639</desc><desc class=\"y left top\">260.738115477</desc></g><g class=\"dots\"><circle class=\"dot reactive tooltip-trigger\" cx=\"322.171893986\" cy=\"257.650306932\" r=\"2.5\"/><desc class=\"value\">156.190876319</desc><desc class=\"x left top\">322.171893986</desc><desc class=\"y left top\">257.650306932</desc></g><g class=\"dots\"><circle class=\"dot reactive tooltip-trigger\" cx=\"320.855248024\" cy=\"255.422521127\" r=\"2.5\"/><desc class=\"value\">129.798246428</desc><desc class=\"x left\">320.855248024</desc><desc class=\"y left\">255.422521127</desc></g><g class=\"dots\"><circle class=\"dot reactive tooltip-trigger\" cx=\"318.549255063\" cy=\"254.537881487\" r=\"2.5\"/><desc class=\"value\">100.039039671</desc><desc class=\"x left\">318.549255063</desc><desc class=\"y left\">254.537881487</desc></g></g></g><g class=\"plot text-overlay\" transform=\"translate(146, 46)\"><g class=\"series serie-0 color-0\"><text class=\"centered\" x=\"324.6\" y=\"29.7037037037\">8133.86255165</text><text class=\"centered\" x=\"288.235319981\" y=\"221.734169889\">1866.29637986</text><text class=\"centered\" x=\"308.944320542\" y=\"261.862891317\">477.546720827</text><text class=\"centered\" x=\"311.043061056\" y=\"269.248924226\">380.02700321</text><text class=\"centered\" x=\"318.806923228\" y=\"271.741431375\">212.687049725</text><text class=\"centered\" x=\"322.445508969\" y=\"273.622899487\">212.186294249</text><text class=\"centered\" x=\"326.645339405\" y=\"273.321142604\">201.436433244</text><text class=\"centered\" x=\"329.9144639\" y=\"271.404782144\">195.115254321</text><text class=\"centered\" x=\"330.171893986\" y=\"268.316973599\">156.190876319</text><text class=\"centered\" x=\"328.855248024\" y=\"266.089187794\">129.798246428</text><text class=\"centered\" x=\"326.549255063\" y=\"265.204548154\">100.039039671</text></g></g><g class=\"plot tooltip-overlay\" transform=\"translate(146, 46)\"><g class=\"tooltip\" style=\"opacity: 0\" transform=\"translate(0 0)\"><a><rect class=\"tooltip-box\" height=\"0\" rx=\"0\" ry=\"0\" width=\"0\"/><text class=\"text\"><tspan class=\"label\"/><tspan class=\"value\"/></text></a></g></g><g class=\"legends\" transform=\"translate(10, 56)\"><g class=\"legend reactive activate-serie\" id=\"activate-serie-0\"><rect class=\"color-0 reactive\" height=\"12\" width=\"12\" x=\"0.0\" y=\"1.0\"/><text x=\"17.0\" y=\"11.2\">Overall</text></g></g><g class=\"legends\" transform=\"translate(790, 56)\"/></g></svg>"
       ],
       "text": [
        "<IPython.core.display.SVG at 0x10073b190>"
       ]
      }
     ],
     "prompt_number": 246
    },
    {
     "cell_type": "markdown",
     "metadata": {},
     "source": [
      "**DATA3. FLIPPING LABELS.**\n",
      "\n",
      "Seems like the 1 has to be the less abundant one."
     ]
    },
    {
     "cell_type": "code",
     "collapsed": false,
     "input": [
      "#DATA3. FLIPPING LABELS.\n",
      "\n",
      "#Seems like the 1 has to be the less abundant one.\n",
      "\n",
      "#PROBLEM: has reversed labels\n",
      "data3=data2.copy()"
     ],
     "language": "python",
     "metadata": {},
     "outputs": [],
     "prompt_number": 247
    },
    {
     "cell_type": "code",
     "collapsed": false,
     "input": [
      "data3.TREATMENT.replace(0,2,inplace=True)"
     ],
     "language": "python",
     "metadata": {},
     "outputs": [],
     "prompt_number": 248
    },
    {
     "cell_type": "code",
     "collapsed": false,
     "input": [
      "sum(data3.TREATMENT==0)"
     ],
     "language": "python",
     "metadata": {},
     "outputs": [
      {
       "metadata": {},
       "output_type": "pyout",
       "prompt_number": 249,
       "text": [
        "0"
       ]
      }
     ],
     "prompt_number": 249
    },
    {
     "cell_type": "code",
     "collapsed": false,
     "input": [
      "data3.TREATMENT.replace(1,0,inplace=True)"
     ],
     "language": "python",
     "metadata": {},
     "outputs": [],
     "prompt_number": 250
    },
    {
     "cell_type": "code",
     "collapsed": false,
     "input": [
      "sum(data3.TREATMENT==0)"
     ],
     "language": "python",
     "metadata": {},
     "outputs": [
      {
       "metadata": {},
       "output_type": "pyout",
       "prompt_number": 251,
       "text": [
        "659"
       ]
      }
     ],
     "prompt_number": 251
    },
    {
     "cell_type": "code",
     "collapsed": false,
     "input": [
      "data3.TREATMENT.replace(2,1,inplace=True)"
     ],
     "language": "python",
     "metadata": {},
     "outputs": [],
     "prompt_number": 252
    },
    {
     "cell_type": "code",
     "collapsed": false,
     "input": [
      "sum(data3.TREATMENT==1)"
     ],
     "language": "python",
     "metadata": {},
     "outputs": [
      {
       "metadata": {},
       "output_type": "pyout",
       "prompt_number": 253,
       "text": [
        "242"
       ]
      }
     ],
     "prompt_number": 253
    },
    {
     "cell_type": "code",
     "collapsed": false,
     "input": [],
     "language": "python",
     "metadata": {},
     "outputs": [],
     "prompt_number": 253
    },
    {
     "cell_type": "code",
     "collapsed": false,
     "input": [
      "print (data.TREATMENT==0).sum()\n",
      "print (data.TREATMENT==1).sum()\n",
      "print (data.TREATMENT==1).sum() + (data.TREATMENT==0).sum()"
     ],
     "language": "python",
     "metadata": {},
     "outputs": [
      {
       "output_type": "stream",
       "stream": "stdout",
       "text": [
        "242\n",
        "659\n",
        "901\n"
       ]
      }
     ],
     "prompt_number": 254
    },
    {
     "cell_type": "code",
     "collapsed": false,
     "input": [
      "data4=data3.copy()\n",
      "data4.head()"
     ],
     "language": "python",
     "metadata": {},
     "outputs": [
      {
       "html": [
        "<div style=\"max-height:1000px;max-width:1500px;overflow:auto;\">\n",
        "<table border=\"1\" class=\"dataframe\">\n",
        "  <thead>\n",
        "    <tr style=\"text-align: right;\">\n",
        "      <th></th>\n",
        "      <th>ImageNumber</th>\n",
        "      <th>ObjectNumber</th>\n",
        "      <th>Metadata_Experiment</th>\n",
        "      <th>Metadata_Set</th>\n",
        "      <th>Metadata_Treatment</th>\n",
        "      <th>Y</th>\n",
        "      <th>TREATMENT</th>\n",
        "      <th>CONC_TREATMENT</th>\n",
        "      <th>SOLVENT</th>\n",
        "      <th>CONC_SOLVENT</th>\n",
        "      <th>...</th>\n",
        "      <th>Texture_DifferenceVariance_CorrMT_3_0</th>\n",
        "      <th>Texture_Entropy_CorrMT_3_0</th>\n",
        "      <th>Texture_Gabor_CorrMT_3</th>\n",
        "      <th>Texture_InfoMeas1_CorrMT_3_0</th>\n",
        "      <th>Texture_InfoMeas2_CorrMT_3_0</th>\n",
        "      <th>Texture_InverseDifferenceMoment_CorrMT_3_0</th>\n",
        "      <th>Texture_SumAverage_CorrMT_3_0</th>\n",
        "      <th>Texture_SumEntropy_CorrMT_3_0</th>\n",
        "      <th>Texture_SumVariance_CorrMT_3_0</th>\n",
        "      <th>Texture_Variance_CorrMT_3_0</th>\n",
        "    </tr>\n",
        "  </thead>\n",
        "  <tbody>\n",
        "    <tr>\n",
        "      <th>0</th>\n",
        "      <td> 1</td>\n",
        "      <td> 1</td>\n",
        "      <td> Exp01</td>\n",
        "      <td>   cvsp_1_0</td>\n",
        "      <td> 1_000_CYC</td>\n",
        "      <td> 0</td>\n",
        "      <td> 1</td>\n",
        "      <td> 0</td>\n",
        "      <td> 0</td>\n",
        "      <td> 0</td>\n",
        "      <td>...</td>\n",
        "      <td> 0.297365</td>\n",
        "      <td> 2.684328</td>\n",
        "      <td> 0.409684</td>\n",
        "      <td>-0.437082</td>\n",
        "      <td> 0.881585</td>\n",
        "      <td> 0.802499</td>\n",
        "      <td> 6.108677</td>\n",
        "      <td> 2.320283</td>\n",
        "      <td>  7.991828</td>\n",
        "      <td> 2.113309</td>\n",
        "    </tr>\n",
        "    <tr>\n",
        "      <th>1</th>\n",
        "      <td> 2</td>\n",
        "      <td> 1</td>\n",
        "      <td> Exp01</td>\n",
        "      <td>   cvsp_1_1</td>\n",
        "      <td> 1_000_CYC</td>\n",
        "      <td> 0</td>\n",
        "      <td> 1</td>\n",
        "      <td> 0</td>\n",
        "      <td> 0</td>\n",
        "      <td> 0</td>\n",
        "      <td>...</td>\n",
        "      <td> 0.291719</td>\n",
        "      <td> 2.767921</td>\n",
        "      <td> 0.740311</td>\n",
        "      <td>-0.435407</td>\n",
        "      <td> 0.886449</td>\n",
        "      <td> 0.785932</td>\n",
        "      <td> 6.524518</td>\n",
        "      <td> 2.393549</td>\n",
        "      <td>  8.634587</td>\n",
        "      <td> 2.278483</td>\n",
        "    </tr>\n",
        "    <tr>\n",
        "      <th>2</th>\n",
        "      <td> 3</td>\n",
        "      <td> 1</td>\n",
        "      <td> Exp01</td>\n",
        "      <td>  cvsp_1_10</td>\n",
        "      <td> 1_000_CYC</td>\n",
        "      <td> 0</td>\n",
        "      <td> 1</td>\n",
        "      <td> 0</td>\n",
        "      <td> 0</td>\n",
        "      <td> 0</td>\n",
        "      <td>...</td>\n",
        "      <td> 0.279736</td>\n",
        "      <td> 2.734776</td>\n",
        "      <td> 0.369790</td>\n",
        "      <td>-0.457761</td>\n",
        "      <td> 0.896009</td>\n",
        "      <td> 0.795300</td>\n",
        "      <td> 6.470624</td>\n",
        "      <td> 2.387569</td>\n",
        "      <td>  9.103473</td>\n",
        "      <td> 2.387813</td>\n",
        "    </tr>\n",
        "    <tr>\n",
        "      <th>3</th>\n",
        "      <td> 4</td>\n",
        "      <td> 1</td>\n",
        "      <td> Exp01</td>\n",
        "      <td> cvsp_1_100</td>\n",
        "      <td> 1_000_CYC</td>\n",
        "      <td> 0</td>\n",
        "      <td> 1</td>\n",
        "      <td> 0</td>\n",
        "      <td> 0</td>\n",
        "      <td> 0</td>\n",
        "      <td>...</td>\n",
        "      <td> 0.322350</td>\n",
        "      <td> 2.996500</td>\n",
        "      <td> 0.519450</td>\n",
        "      <td>-0.410553</td>\n",
        "      <td> 0.887338</td>\n",
        "      <td> 0.737189</td>\n",
        "      <td> 7.554220</td>\n",
        "      <td> 2.523905</td>\n",
        "      <td> 10.775649</td>\n",
        "      <td> 2.850506</td>\n",
        "    </tr>\n",
        "    <tr>\n",
        "      <th>4</th>\n",
        "      <td> 5</td>\n",
        "      <td> 1</td>\n",
        "      <td> Exp01</td>\n",
        "      <td>  cvsp_1_11</td>\n",
        "      <td> 1_000_CYC</td>\n",
        "      <td> 0</td>\n",
        "      <td> 1</td>\n",
        "      <td> 0</td>\n",
        "      <td> 0</td>\n",
        "      <td> 0</td>\n",
        "      <td>...</td>\n",
        "      <td> 0.338992</td>\n",
        "      <td> 2.902682</td>\n",
        "      <td> 0.888699</td>\n",
        "      <td>-0.359349</td>\n",
        "      <td> 0.848882</td>\n",
        "      <td> 0.733875</td>\n",
        "      <td> 7.248357</td>\n",
        "      <td> 2.405530</td>\n",
        "      <td>  7.781972</td>\n",
        "      <td> 2.083991</td>\n",
        "    </tr>\n",
        "  </tbody>\n",
        "</table>\n",
        "<p>5 rows \u00d7 116 columns</p>\n",
        "</div>"
       ],
       "metadata": {},
       "output_type": "pyout",
       "prompt_number": 255,
       "text": [
        "   ImageNumber  ObjectNumber Metadata_Experiment Metadata_Set  \\\n",
        "0            1             1               Exp01     cvsp_1_0   \n",
        "1            2             1               Exp01     cvsp_1_1   \n",
        "2            3             1               Exp01    cvsp_1_10   \n",
        "3            4             1               Exp01   cvsp_1_100   \n",
        "4            5             1               Exp01    cvsp_1_11   \n",
        "\n",
        "  Metadata_Treatment  Y  TREATMENT  CONC_TREATMENT  SOLVENT  CONC_SOLVENT  \\\n",
        "0          1_000_CYC  0          1               0        0             0   \n",
        "1          1_000_CYC  0          1               0        0             0   \n",
        "2          1_000_CYC  0          1               0        0             0   \n",
        "3          1_000_CYC  0          1               0        0             0   \n",
        "4          1_000_CYC  0          1               0        0             0   \n",
        "\n",
        "       ...       Texture_DifferenceVariance_CorrMT_3_0  \\\n",
        "0      ...                                    0.297365   \n",
        "1      ...                                    0.291719   \n",
        "2      ...                                    0.279736   \n",
        "3      ...                                    0.322350   \n",
        "4      ...                                    0.338992   \n",
        "\n",
        "   Texture_Entropy_CorrMT_3_0  Texture_Gabor_CorrMT_3  \\\n",
        "0                    2.684328                0.409684   \n",
        "1                    2.767921                0.740311   \n",
        "2                    2.734776                0.369790   \n",
        "3                    2.996500                0.519450   \n",
        "4                    2.902682                0.888699   \n",
        "\n",
        "   Texture_InfoMeas1_CorrMT_3_0  Texture_InfoMeas2_CorrMT_3_0  \\\n",
        "0                     -0.437082                      0.881585   \n",
        "1                     -0.435407                      0.886449   \n",
        "2                     -0.457761                      0.896009   \n",
        "3                     -0.410553                      0.887338   \n",
        "4                     -0.359349                      0.848882   \n",
        "\n",
        "   Texture_InverseDifferenceMoment_CorrMT_3_0  Texture_SumAverage_CorrMT_3_0  \\\n",
        "0                                    0.802499                       6.108677   \n",
        "1                                    0.785932                       6.524518   \n",
        "2                                    0.795300                       6.470624   \n",
        "3                                    0.737189                       7.554220   \n",
        "4                                    0.733875                       7.248357   \n",
        "\n",
        "   Texture_SumEntropy_CorrMT_3_0  Texture_SumVariance_CorrMT_3_0  \\\n",
        "0                       2.320283                        7.991828   \n",
        "1                       2.393549                        8.634587   \n",
        "2                       2.387569                        9.103473   \n",
        "3                       2.523905                       10.775649   \n",
        "4                       2.405530                        7.781972   \n",
        "\n",
        "   Texture_Variance_CorrMT_3_0  \n",
        "0                     2.113309  \n",
        "1                     2.278483  \n",
        "2                     2.387813  \n",
        "3                     2.850506  \n",
        "4                     2.083991  \n",
        "\n",
        "[5 rows x 116 columns]"
       ]
      }
     ],
     "prompt_number": 255
    },
    {
     "cell_type": "code",
     "collapsed": false,
     "input": [
      "data4a=data4.copy()"
     ],
     "language": "python",
     "metadata": {},
     "outputs": [],
     "prompt_number": 256
    },
    {
     "cell_type": "code",
     "collapsed": false,
     "input": [
      "#DATA4a: for phenotype prediction:: data4a_OoS, data4a_train\n",
      "#remove the rows where Y==0; make OoS data set for those\n",
      "data4a_OoS=data4a[data4a.Y.isnull()] #there are 122 Y=NaN 122x116\n",
      "data4a_train=data4a[data4a.Y.isnull()==False]\n",
      "print data4a_OoS.shape\n",
      "print data4a_train.shape #779x116"
     ],
     "language": "python",
     "metadata": {},
     "outputs": [
      {
       "output_type": "stream",
       "stream": "stdout",
       "text": [
        "(122, 116)\n",
        "(779, 116)\n"
       ]
      }
     ],
     "prompt_number": 257
    },
    {
     "cell_type": "code",
     "collapsed": false,
     "input": [
      "#have a look at the features you want to turn into X matrix\n",
      "data4.iloc[0:2,10:]"
     ],
     "language": "python",
     "metadata": {},
     "outputs": [
      {
       "html": [
        "<div style=\"max-height:1000px;max-width:1500px;overflow:auto;\">\n",
        "<table border=\"1\" class=\"dataframe\">\n",
        "  <thead>\n",
        "    <tr style=\"text-align: right;\">\n",
        "      <th></th>\n",
        "      <th>AreaShape_Area</th>\n",
        "      <th>AreaShape_Center_X</th>\n",
        "      <th>AreaShape_Center_Y</th>\n",
        "      <th>AreaShape_Compactness</th>\n",
        "      <th>AreaShape_Eccentricity</th>\n",
        "      <th>AreaShape_EulerNumber</th>\n",
        "      <th>AreaShape_Extent</th>\n",
        "      <th>AreaShape_FormFactor</th>\n",
        "      <th>AreaShape_MajorAxisLength</th>\n",
        "      <th>AreaShape_MaxFeretDiameter</th>\n",
        "      <th>...</th>\n",
        "      <th>Texture_DifferenceVariance_CorrMT_3_0</th>\n",
        "      <th>Texture_Entropy_CorrMT_3_0</th>\n",
        "      <th>Texture_Gabor_CorrMT_3</th>\n",
        "      <th>Texture_InfoMeas1_CorrMT_3_0</th>\n",
        "      <th>Texture_InfoMeas2_CorrMT_3_0</th>\n",
        "      <th>Texture_InverseDifferenceMoment_CorrMT_3_0</th>\n",
        "      <th>Texture_SumAverage_CorrMT_3_0</th>\n",
        "      <th>Texture_SumEntropy_CorrMT_3_0</th>\n",
        "      <th>Texture_SumVariance_CorrMT_3_0</th>\n",
        "      <th>Texture_Variance_CorrMT_3_0</th>\n",
        "    </tr>\n",
        "  </thead>\n",
        "  <tbody>\n",
        "    <tr>\n",
        "      <th>0</th>\n",
        "      <td> 13068</td>\n",
        "      <td> 725</td>\n",
        "      <td> 419</td>\n",
        "      <td> 1.175235</td>\n",
        "      <td> 0.816808</td>\n",
        "      <td> 1</td>\n",
        "      <td> 0.678646</td>\n",
        "      <td> 0.368307</td>\n",
        "      <td> 170.981462</td>\n",
        "      <td> 174.928557</td>\n",
        "      <td>...</td>\n",
        "      <td> 0.297365</td>\n",
        "      <td> 2.684328</td>\n",
        "      <td> 0.409684</td>\n",
        "      <td>-0.437082</td>\n",
        "      <td> 0.881585</td>\n",
        "      <td> 0.802499</td>\n",
        "      <td> 6.108677</td>\n",
        "      <td> 2.320283</td>\n",
        "      <td> 7.991828</td>\n",
        "      <td> 2.113309</td>\n",
        "    </tr>\n",
        "    <tr>\n",
        "      <th>1</th>\n",
        "      <td> 12307</td>\n",
        "      <td> 758</td>\n",
        "      <td> 289</td>\n",
        "      <td> 1.178887</td>\n",
        "      <td> 0.821632</td>\n",
        "      <td> 1</td>\n",
        "      <td> 0.708602</td>\n",
        "      <td> 0.178354</td>\n",
        "      <td> 166.683845</td>\n",
        "      <td> 166.192659</td>\n",
        "      <td>...</td>\n",
        "      <td> 0.291719</td>\n",
        "      <td> 2.767921</td>\n",
        "      <td> 0.740311</td>\n",
        "      <td>-0.435407</td>\n",
        "      <td> 0.886449</td>\n",
        "      <td> 0.785932</td>\n",
        "      <td> 6.524518</td>\n",
        "      <td> 2.393549</td>\n",
        "      <td> 8.634587</td>\n",
        "      <td> 2.278483</td>\n",
        "    </tr>\n",
        "  </tbody>\n",
        "</table>\n",
        "<p>2 rows \u00d7 106 columns</p>\n",
        "</div>"
       ],
       "metadata": {},
       "output_type": "pyout",
       "prompt_number": 258,
       "text": [
        "   AreaShape_Area  AreaShape_Center_X  AreaShape_Center_Y  \\\n",
        "0           13068                 725                 419   \n",
        "1           12307                 758                 289   \n",
        "\n",
        "   AreaShape_Compactness  AreaShape_Eccentricity  AreaShape_EulerNumber  \\\n",
        "0               1.175235                0.816808                      1   \n",
        "1               1.178887                0.821632                      1   \n",
        "\n",
        "   AreaShape_Extent  AreaShape_FormFactor  AreaShape_MajorAxisLength  \\\n",
        "0          0.678646              0.368307                 170.981462   \n",
        "1          0.708602              0.178354                 166.683845   \n",
        "\n",
        "   AreaShape_MaxFeretDiameter             ...              \\\n",
        "0                  174.928557             ...               \n",
        "1                  166.192659             ...               \n",
        "\n",
        "   Texture_DifferenceVariance_CorrMT_3_0  Texture_Entropy_CorrMT_3_0  \\\n",
        "0                               0.297365                    2.684328   \n",
        "1                               0.291719                    2.767921   \n",
        "\n",
        "   Texture_Gabor_CorrMT_3  Texture_InfoMeas1_CorrMT_3_0  \\\n",
        "0                0.409684                     -0.437082   \n",
        "1                0.740311                     -0.435407   \n",
        "\n",
        "   Texture_InfoMeas2_CorrMT_3_0  Texture_InverseDifferenceMoment_CorrMT_3_0  \\\n",
        "0                      0.881585                                    0.802499   \n",
        "1                      0.886449                                    0.785932   \n",
        "\n",
        "   Texture_SumAverage_CorrMT_3_0  Texture_SumEntropy_CorrMT_3_0  \\\n",
        "0                       6.108677                       2.320283   \n",
        "1                       6.524518                       2.393549   \n",
        "\n",
        "   Texture_SumVariance_CorrMT_3_0  Texture_Variance_CorrMT_3_0  \n",
        "0                        7.991828                     2.113309  \n",
        "1                        8.634587                     2.278483  \n",
        "\n",
        "[2 rows x 106 columns]"
       ]
      }
     ],
     "prompt_number": 258
    },
    {
     "cell_type": "code",
     "collapsed": false,
     "input": [
      "print sum(data[data.TREATMENT==0].Y==0) #146   60%\n",
      "print sum(data[data.TREATMENT==0].Y==1) #33    14%\n",
      "print sum(data[data.TREATMENT==0].Y.isnull())   #63   26%  \n",
      "print sum(data[data.TREATMENT==1].Y==0)  #150   23%\n",
      "print sum(data[data.TREATMENT==1].Y==1)  #450  68%\n",
      "print sum(data[data.TREATMENT==1].Y.isnull())   #59  9%\n",
      "\n",
      "print sum(data[data.TREATMENT==0].Y==0)/float((data.TREATMENT==0).sum())\n",
      "print sum(data[data.TREATMENT==0].Y==1)/float((data.TREATMENT==0).sum())\n",
      "print sum(data[data.TREATMENT==0].Y.isnull())/float((data.TREATMENT==0).sum())\n",
      "print sum(data[data.TREATMENT==1].Y==0)/float((data.TREATMENT==1).sum())\n",
      "print sum(data[data.TREATMENT==1].Y==1)/float((data.TREATMENT==1).sum())   \n",
      "print sum(data[data.TREATMENT==1].Y.isnull())/float((data.TREATMENT==1).sum())   "
     ],
     "language": "python",
     "metadata": {},
     "outputs": [
      {
       "output_type": "stream",
       "stream": "stdout",
       "text": [
        "146\n",
        "33\n",
        "63\n",
        "150\n",
        "450\n",
        "59\n",
        "0.603305785124\n",
        "0.136363636364\n",
        "0.260330578512\n",
        "0.227617602428\n",
        "0.682852807284\n",
        "0.0895295902883\n"
       ]
      }
     ],
     "prompt_number": 259
    },
    {
     "cell_type": "code",
     "collapsed": false,
     "input": [
      "#Try whether we can predict TREATMENT = T/F\n",
      "y1=data2.TREATMENT.values\n",
      "X1_df=data2.iloc[:,7:]\n",
      "#X1_df.head()\n",
      "X1=X1_df.values\n",
      "#Response_1=data."
     ],
     "language": "python",
     "metadata": {},
     "outputs": [],
     "prompt_number": 260
    },
    {
     "cell_type": "code",
     "collapsed": false,
     "input": [
      "#Try whether we can predict TREATMENT = T/F\n",
      "y3=data2.TREATMENT.values\n",
      "X3_df=data3.iloc[:,7:]\n",
      "#X1_df.head()\n",
      "X3=X3_df.values\n",
      "#Response_1=data."
     ],
     "language": "python",
     "metadata": {},
     "outputs": [],
     "prompt_number": 261
    },
    {
     "cell_type": "code",
     "collapsed": false,
     "input": [
      "#Try whether we can predict TREATMENT = T/F: data4a_OoS, data4a_train\n",
      "y4=data4.TREATMENT.values\n",
      "X4_df=data4.iloc[:,10:]\n",
      "X4=X4_df.values\n",
      "print y4.shape, X4.shape\n",
      "\n",
      "y4a=data4a_train.Y.values #for predicting phenotype\n",
      "X4a_df=data4a_train.iloc[:,10:]\n",
      "X4a=X4a_df.values\n",
      "print y4a.shape, X4a.shape\n",
      "\n",
      "#X1_df.head()\n",
      "#Response_1=data."
     ],
     "language": "python",
     "metadata": {},
     "outputs": [
      {
       "output_type": "stream",
       "stream": "stdout",
       "text": [
        "(901,) (901, 106)\n",
        "(779,) (779, 106)\n"
       ]
      }
     ],
     "prompt_number": 262
    },
    {
     "cell_type": "code",
     "collapsed": false,
     "input": [
      "print sum(np.isnan(y4a)==True)"
     ],
     "language": "python",
     "metadata": {},
     "outputs": [
      {
       "output_type": "stream",
       "stream": "stdout",
       "text": [
        "0\n"
       ]
      }
     ],
     "prompt_number": 263
    },
    {
     "cell_type": "code",
     "collapsed": false,
     "input": [
      "X1_df.head()"
     ],
     "language": "python",
     "metadata": {},
     "outputs": [
      {
       "html": [
        "<div style=\"max-height:1000px;max-width:1500px;overflow:auto;\">\n",
        "<table border=\"1\" class=\"dataframe\">\n",
        "  <thead>\n",
        "    <tr style=\"text-align: right;\">\n",
        "      <th></th>\n",
        "      <th>CONC_TREATMENT</th>\n",
        "      <th>SOLVENT</th>\n",
        "      <th>CONC_SOLVENT</th>\n",
        "      <th>AreaShape_Area</th>\n",
        "      <th>AreaShape_Center_X</th>\n",
        "      <th>AreaShape_Center_Y</th>\n",
        "      <th>AreaShape_Compactness</th>\n",
        "      <th>AreaShape_Eccentricity</th>\n",
        "      <th>AreaShape_EulerNumber</th>\n",
        "      <th>AreaShape_Extent</th>\n",
        "      <th>...</th>\n",
        "      <th>Texture_DifferenceVariance_CorrMT_3_0</th>\n",
        "      <th>Texture_Entropy_CorrMT_3_0</th>\n",
        "      <th>Texture_Gabor_CorrMT_3</th>\n",
        "      <th>Texture_InfoMeas1_CorrMT_3_0</th>\n",
        "      <th>Texture_InfoMeas2_CorrMT_3_0</th>\n",
        "      <th>Texture_InverseDifferenceMoment_CorrMT_3_0</th>\n",
        "      <th>Texture_SumAverage_CorrMT_3_0</th>\n",
        "      <th>Texture_SumEntropy_CorrMT_3_0</th>\n",
        "      <th>Texture_SumVariance_CorrMT_3_0</th>\n",
        "      <th>Texture_Variance_CorrMT_3_0</th>\n",
        "    </tr>\n",
        "  </thead>\n",
        "  <tbody>\n",
        "    <tr>\n",
        "      <th>0</th>\n",
        "      <td> 0</td>\n",
        "      <td> 0</td>\n",
        "      <td> 0</td>\n",
        "      <td> 13068</td>\n",
        "      <td>  725</td>\n",
        "      <td> 419</td>\n",
        "      <td> 1.175235</td>\n",
        "      <td> 0.816808</td>\n",
        "      <td> 1</td>\n",
        "      <td> 0.678646</td>\n",
        "      <td>...</td>\n",
        "      <td> 0.297365</td>\n",
        "      <td> 2.684328</td>\n",
        "      <td> 0.409684</td>\n",
        "      <td>-0.437082</td>\n",
        "      <td> 0.881585</td>\n",
        "      <td> 0.802499</td>\n",
        "      <td> 6.108677</td>\n",
        "      <td> 2.320283</td>\n",
        "      <td>  7.991828</td>\n",
        "      <td> 2.113309</td>\n",
        "    </tr>\n",
        "    <tr>\n",
        "      <th>1</th>\n",
        "      <td> 0</td>\n",
        "      <td> 0</td>\n",
        "      <td> 0</td>\n",
        "      <td> 12307</td>\n",
        "      <td>  758</td>\n",
        "      <td> 289</td>\n",
        "      <td> 1.178887</td>\n",
        "      <td> 0.821632</td>\n",
        "      <td> 1</td>\n",
        "      <td> 0.708602</td>\n",
        "      <td>...</td>\n",
        "      <td> 0.291719</td>\n",
        "      <td> 2.767921</td>\n",
        "      <td> 0.740311</td>\n",
        "      <td>-0.435407</td>\n",
        "      <td> 0.886449</td>\n",
        "      <td> 0.785932</td>\n",
        "      <td> 6.524518</td>\n",
        "      <td> 2.393549</td>\n",
        "      <td>  8.634587</td>\n",
        "      <td> 2.278483</td>\n",
        "    </tr>\n",
        "    <tr>\n",
        "      <th>2</th>\n",
        "      <td> 0</td>\n",
        "      <td> 0</td>\n",
        "      <td> 0</td>\n",
        "      <td> 10298</td>\n",
        "      <td>  678</td>\n",
        "      <td> 407</td>\n",
        "      <td> 1.258245</td>\n",
        "      <td> 0.867198</td>\n",
        "      <td> 1</td>\n",
        "      <td> 0.599348</td>\n",
        "      <td>...</td>\n",
        "      <td> 0.279736</td>\n",
        "      <td> 2.734776</td>\n",
        "      <td> 0.369790</td>\n",
        "      <td>-0.457761</td>\n",
        "      <td> 0.896009</td>\n",
        "      <td> 0.795300</td>\n",
        "      <td> 6.470624</td>\n",
        "      <td> 2.387569</td>\n",
        "      <td>  9.103473</td>\n",
        "      <td> 2.387813</td>\n",
        "    </tr>\n",
        "    <tr>\n",
        "      <th>3</th>\n",
        "      <td> 0</td>\n",
        "      <td> 0</td>\n",
        "      <td> 0</td>\n",
        "      <td> 11180</td>\n",
        "      <td> 1068</td>\n",
        "      <td> 738</td>\n",
        "      <td> 1.187022</td>\n",
        "      <td> 0.818549</td>\n",
        "      <td> 1</td>\n",
        "      <td> 0.616794</td>\n",
        "      <td>...</td>\n",
        "      <td> 0.322350</td>\n",
        "      <td> 2.996500</td>\n",
        "      <td> 0.519450</td>\n",
        "      <td>-0.410553</td>\n",
        "      <td> 0.887338</td>\n",
        "      <td> 0.737189</td>\n",
        "      <td> 7.554220</td>\n",
        "      <td> 2.523905</td>\n",
        "      <td> 10.775649</td>\n",
        "      <td> 2.850506</td>\n",
        "    </tr>\n",
        "    <tr>\n",
        "      <th>4</th>\n",
        "      <td> 0</td>\n",
        "      <td> 0</td>\n",
        "      <td> 0</td>\n",
        "      <td>  9148</td>\n",
        "      <td>  617</td>\n",
        "      <td> 378</td>\n",
        "      <td> 1.463196</td>\n",
        "      <td> 0.913755</td>\n",
        "      <td> 1</td>\n",
        "      <td> 0.558588</td>\n",
        "      <td>...</td>\n",
        "      <td> 0.338992</td>\n",
        "      <td> 2.902682</td>\n",
        "      <td> 0.888699</td>\n",
        "      <td>-0.359349</td>\n",
        "      <td> 0.848882</td>\n",
        "      <td> 0.733875</td>\n",
        "      <td> 7.248357</td>\n",
        "      <td> 2.405530</td>\n",
        "      <td>  7.781972</td>\n",
        "      <td> 2.083991</td>\n",
        "    </tr>\n",
        "  </tbody>\n",
        "</table>\n",
        "<p>5 rows \u00d7 109 columns</p>\n",
        "</div>"
       ],
       "metadata": {},
       "output_type": "pyout",
       "prompt_number": 264,
       "text": [
        "   CONC_TREATMENT  SOLVENT  CONC_SOLVENT  AreaShape_Area  AreaShape_Center_X  \\\n",
        "0               0        0             0           13068                 725   \n",
        "1               0        0             0           12307                 758   \n",
        "2               0        0             0           10298                 678   \n",
        "3               0        0             0           11180                1068   \n",
        "4               0        0             0            9148                 617   \n",
        "\n",
        "   AreaShape_Center_Y  AreaShape_Compactness  AreaShape_Eccentricity  \\\n",
        "0                 419               1.175235                0.816808   \n",
        "1                 289               1.178887                0.821632   \n",
        "2                 407               1.258245                0.867198   \n",
        "3                 738               1.187022                0.818549   \n",
        "4                 378               1.463196                0.913755   \n",
        "\n",
        "   AreaShape_EulerNumber  AreaShape_Extent        ...         \\\n",
        "0                      1          0.678646        ...          \n",
        "1                      1          0.708602        ...          \n",
        "2                      1          0.599348        ...          \n",
        "3                      1          0.616794        ...          \n",
        "4                      1          0.558588        ...          \n",
        "\n",
        "   Texture_DifferenceVariance_CorrMT_3_0  Texture_Entropy_CorrMT_3_0  \\\n",
        "0                               0.297365                    2.684328   \n",
        "1                               0.291719                    2.767921   \n",
        "2                               0.279736                    2.734776   \n",
        "3                               0.322350                    2.996500   \n",
        "4                               0.338992                    2.902682   \n",
        "\n",
        "   Texture_Gabor_CorrMT_3  Texture_InfoMeas1_CorrMT_3_0  \\\n",
        "0                0.409684                     -0.437082   \n",
        "1                0.740311                     -0.435407   \n",
        "2                0.369790                     -0.457761   \n",
        "3                0.519450                     -0.410553   \n",
        "4                0.888699                     -0.359349   \n",
        "\n",
        "   Texture_InfoMeas2_CorrMT_3_0  Texture_InverseDifferenceMoment_CorrMT_3_0  \\\n",
        "0                      0.881585                                    0.802499   \n",
        "1                      0.886449                                    0.785932   \n",
        "2                      0.896009                                    0.795300   \n",
        "3                      0.887338                                    0.737189   \n",
        "4                      0.848882                                    0.733875   \n",
        "\n",
        "   Texture_SumAverage_CorrMT_3_0  Texture_SumEntropy_CorrMT_3_0  \\\n",
        "0                       6.108677                       2.320283   \n",
        "1                       6.524518                       2.393549   \n",
        "2                       6.470624                       2.387569   \n",
        "3                       7.554220                       2.523905   \n",
        "4                       7.248357                       2.405530   \n",
        "\n",
        "   Texture_SumVariance_CorrMT_3_0  Texture_Variance_CorrMT_3_0  \n",
        "0                        7.991828                     2.113309  \n",
        "1                        8.634587                     2.278483  \n",
        "2                        9.103473                     2.387813  \n",
        "3                       10.775649                     2.850506  \n",
        "4                        7.781972                     2.083991  \n",
        "\n",
        "[5 rows x 109 columns]"
       ]
      }
     ],
     "prompt_number": 264
    },
    {
     "cell_type": "code",
     "collapsed": false,
     "input": [
      "X1_df.describe()"
     ],
     "language": "python",
     "metadata": {},
     "outputs": [
      {
       "html": [
        "<div style=\"max-height:1000px;max-width:1500px;overflow:auto;\">\n",
        "<table border=\"1\" class=\"dataframe\">\n",
        "  <thead>\n",
        "    <tr style=\"text-align: right;\">\n",
        "      <th></th>\n",
        "      <th>CONC_TREATMENT</th>\n",
        "      <th>SOLVENT</th>\n",
        "      <th>CONC_SOLVENT</th>\n",
        "      <th>AreaShape_Area</th>\n",
        "      <th>AreaShape_Center_X</th>\n",
        "      <th>AreaShape_Center_Y</th>\n",
        "      <th>AreaShape_Compactness</th>\n",
        "      <th>AreaShape_Eccentricity</th>\n",
        "      <th>AreaShape_EulerNumber</th>\n",
        "      <th>AreaShape_Extent</th>\n",
        "      <th>...</th>\n",
        "      <th>Texture_DifferenceVariance_CorrMT_3_0</th>\n",
        "      <th>Texture_Entropy_CorrMT_3_0</th>\n",
        "      <th>Texture_Gabor_CorrMT_3</th>\n",
        "      <th>Texture_InfoMeas1_CorrMT_3_0</th>\n",
        "      <th>Texture_InfoMeas2_CorrMT_3_0</th>\n",
        "      <th>Texture_InverseDifferenceMoment_CorrMT_3_0</th>\n",
        "      <th>Texture_SumAverage_CorrMT_3_0</th>\n",
        "      <th>Texture_SumEntropy_CorrMT_3_0</th>\n",
        "      <th>Texture_SumVariance_CorrMT_3_0</th>\n",
        "      <th>Texture_Variance_CorrMT_3_0</th>\n",
        "    </tr>\n",
        "  </thead>\n",
        "  <tbody>\n",
        "    <tr>\n",
        "      <th>count</th>\n",
        "      <td> 901.000000</td>\n",
        "      <td> 901.000000</td>\n",
        "      <td> 901.000000</td>\n",
        "      <td>   901.000000</td>\n",
        "      <td>  901.000000</td>\n",
        "      <td> 901.000000</td>\n",
        "      <td> 901.000000</td>\n",
        "      <td> 901.000000</td>\n",
        "      <td> 901</td>\n",
        "      <td> 901.000000</td>\n",
        "      <td>...</td>\n",
        "      <td> 901.000000</td>\n",
        "      <td> 901.000000</td>\n",
        "      <td> 901.000000</td>\n",
        "      <td> 901.000000</td>\n",
        "      <td> 901.000000</td>\n",
        "      <td> 901.000000</td>\n",
        "      <td> 901.000000</td>\n",
        "      <td> 901.000000</td>\n",
        "      <td> 901.000000</td>\n",
        "      <td> 901.000000</td>\n",
        "    </tr>\n",
        "    <tr>\n",
        "      <th>mean</th>\n",
        "      <td> 265.438402</td>\n",
        "      <td>   0.887902</td>\n",
        "      <td>   0.668923</td>\n",
        "      <td> 11356.941176</td>\n",
        "      <td>  715.187569</td>\n",
        "      <td> 511.033296</td>\n",
        "      <td>   1.218305</td>\n",
        "      <td>   0.743255</td>\n",
        "      <td>   1</td>\n",
        "      <td>   0.631614</td>\n",
        "      <td>...</td>\n",
        "      <td>   0.303563</td>\n",
        "      <td>   2.751912</td>\n",
        "      <td>   0.515828</td>\n",
        "      <td>  -0.467397</td>\n",
        "      <td>   0.890257</td>\n",
        "      <td>   0.794688</td>\n",
        "      <td>   6.813389</td>\n",
        "      <td>   2.386099</td>\n",
        "      <td>  10.979430</td>\n",
        "      <td>   2.869319</td>\n",
        "    </tr>\n",
        "    <tr>\n",
        "      <th>std</th>\n",
        "      <td> 344.534391</td>\n",
        "      <td>   0.315662</td>\n",
        "      <td>   0.339918</td>\n",
        "      <td>  5022.232579</td>\n",
        "      <td>  245.693299</td>\n",
        "      <td> 202.174460</td>\n",
        "      <td>   0.221133</td>\n",
        "      <td>   0.138863</td>\n",
        "      <td>   0</td>\n",
        "      <td>   0.096471</td>\n",
        "      <td>...</td>\n",
        "      <td>   0.098858</td>\n",
        "      <td>   0.279722</td>\n",
        "      <td>   0.516030</td>\n",
        "      <td>   0.096239</td>\n",
        "      <td>   0.067302</td>\n",
        "      <td>   0.057126</td>\n",
        "      <td>   1.364579</td>\n",
        "      <td>   0.224752</td>\n",
        "      <td>   3.201027</td>\n",
        "      <td>   0.796263</td>\n",
        "    </tr>\n",
        "    <tr>\n",
        "      <th>min</th>\n",
        "      <td>   0.000000</td>\n",
        "      <td>   0.000000</td>\n",
        "      <td>   0.000000</td>\n",
        "      <td>   567.000000</td>\n",
        "      <td>   30.000000</td>\n",
        "      <td>  76.000000</td>\n",
        "      <td>   1.003094</td>\n",
        "      <td>   0.106209</td>\n",
        "      <td>   1</td>\n",
        "      <td>   0.310187</td>\n",
        "      <td>...</td>\n",
        "      <td>   0.129607</td>\n",
        "      <td>   1.419379</td>\n",
        "      <td>   0.087666</td>\n",
        "      <td>  -0.678553</td>\n",
        "      <td>   0.502550</td>\n",
        "      <td>   0.407856</td>\n",
        "      <td>   3.004555</td>\n",
        "      <td>   1.205777</td>\n",
        "      <td>   1.696587</td>\n",
        "      <td>   0.525899</td>\n",
        "    </tr>\n",
        "    <tr>\n",
        "      <th>25%</th>\n",
        "      <td>   0.000000</td>\n",
        "      <td>   1.000000</td>\n",
        "      <td>   0.300000</td>\n",
        "      <td>  8878.000000</td>\n",
        "      <td>  560.000000</td>\n",
        "      <td> 354.000000</td>\n",
        "      <td>   1.078262</td>\n",
        "      <td>   0.675091</td>\n",
        "      <td>   1</td>\n",
        "      <td>   0.577609</td>\n",
        "      <td>...</td>\n",
        "      <td>   0.250662</td>\n",
        "      <td>   2.632223</td>\n",
        "      <td>   0.272121</td>\n",
        "      <td>  -0.531190</td>\n",
        "      <td>   0.882650</td>\n",
        "      <td>   0.770212</td>\n",
        "      <td>   5.921019</td>\n",
        "      <td>   2.307594</td>\n",
        "      <td>   8.963814</td>\n",
        "      <td>   2.353750</td>\n",
        "    </tr>\n",
        "    <tr>\n",
        "      <th>50%</th>\n",
        "      <td> 100.000000</td>\n",
        "      <td>   1.000000</td>\n",
        "      <td>   0.700000</td>\n",
        "      <td> 10764.000000</td>\n",
        "      <td>  715.000000</td>\n",
        "      <td> 518.000000</td>\n",
        "      <td>   1.153198</td>\n",
        "      <td>   0.771571</td>\n",
        "      <td>   1</td>\n",
        "      <td>   0.653218</td>\n",
        "      <td>...</td>\n",
        "      <td>   0.283470</td>\n",
        "      <td>   2.795361</td>\n",
        "      <td>   0.375236</td>\n",
        "      <td>  -0.483668</td>\n",
        "      <td>   0.911157</td>\n",
        "      <td>   0.803370</td>\n",
        "      <td>   6.885508</td>\n",
        "      <td>   2.450900</td>\n",
        "      <td>  11.075515</td>\n",
        "      <td>   2.884442</td>\n",
        "    </tr>\n",
        "    <tr>\n",
        "      <th>75%</th>\n",
        "      <td> 330.000000</td>\n",
        "      <td>   1.000000</td>\n",
        "      <td>   1.000000</td>\n",
        "      <td> 13399.000000</td>\n",
        "      <td>  880.000000</td>\n",
        "      <td> 669.000000</td>\n",
        "      <td>   1.275894</td>\n",
        "      <td>   0.846904</td>\n",
        "      <td>   1</td>\n",
        "      <td>   0.704202</td>\n",
        "      <td>...</td>\n",
        "      <td>   0.323239</td>\n",
        "      <td>   2.917451</td>\n",
        "      <td>   0.545854</td>\n",
        "      <td>  -0.428838</td>\n",
        "      <td>   0.929120</td>\n",
        "      <td>   0.830865</td>\n",
        "      <td>   7.837834</td>\n",
        "      <td>   2.538545</td>\n",
        "      <td>  13.065832</td>\n",
        "      <td>   3.395637</td>\n",
        "    </tr>\n",
        "    <tr>\n",
        "      <th>max</th>\n",
        "      <td> 900.000000</td>\n",
        "      <td>   1.000000</td>\n",
        "      <td>   1.000000</td>\n",
        "      <td> 41079.000000</td>\n",
        "      <td> 1274.000000</td>\n",
        "      <td> 941.000000</td>\n",
        "      <td>   3.393661</td>\n",
        "      <td>   0.979907</td>\n",
        "      <td>   1</td>\n",
        "      <td>   0.818880</td>\n",
        "      <td>...</td>\n",
        "      <td>   1.245668</td>\n",
        "      <td>   3.687275</td>\n",
        "      <td>   5.661032</td>\n",
        "      <td>  -0.097348</td>\n",
        "      <td>   0.960017</td>\n",
        "      <td>   0.923489</td>\n",
        "      <td>   9.947792</td>\n",
        "      <td>   2.693730</td>\n",
        "      <td>  22.896659</td>\n",
        "      <td>   5.808902</td>\n",
        "    </tr>\n",
        "  </tbody>\n",
        "</table>\n",
        "<p>8 rows \u00d7 109 columns</p>\n",
        "</div>"
       ],
       "metadata": {},
       "output_type": "pyout",
       "prompt_number": 265,
       "text": [
        "       CONC_TREATMENT     SOLVENT  CONC_SOLVENT  AreaShape_Area  \\\n",
        "count      901.000000  901.000000    901.000000      901.000000   \n",
        "mean       265.438402    0.887902      0.668923    11356.941176   \n",
        "std        344.534391    0.315662      0.339918     5022.232579   \n",
        "min          0.000000    0.000000      0.000000      567.000000   \n",
        "25%          0.000000    1.000000      0.300000     8878.000000   \n",
        "50%        100.000000    1.000000      0.700000    10764.000000   \n",
        "75%        330.000000    1.000000      1.000000    13399.000000   \n",
        "max        900.000000    1.000000      1.000000    41079.000000   \n",
        "\n",
        "       AreaShape_Center_X  AreaShape_Center_Y  AreaShape_Compactness  \\\n",
        "count          901.000000          901.000000             901.000000   \n",
        "mean           715.187569          511.033296               1.218305   \n",
        "std            245.693299          202.174460               0.221133   \n",
        "min             30.000000           76.000000               1.003094   \n",
        "25%            560.000000          354.000000               1.078262   \n",
        "50%            715.000000          518.000000               1.153198   \n",
        "75%            880.000000          669.000000               1.275894   \n",
        "max           1274.000000          941.000000               3.393661   \n",
        "\n",
        "       AreaShape_Eccentricity  AreaShape_EulerNumber  AreaShape_Extent  \\\n",
        "count              901.000000                    901        901.000000   \n",
        "mean                 0.743255                      1          0.631614   \n",
        "std                  0.138863                      0          0.096471   \n",
        "min                  0.106209                      1          0.310187   \n",
        "25%                  0.675091                      1          0.577609   \n",
        "50%                  0.771571                      1          0.653218   \n",
        "75%                  0.846904                      1          0.704202   \n",
        "max                  0.979907                      1          0.818880   \n",
        "\n",
        "             ...         Texture_DifferenceVariance_CorrMT_3_0  \\\n",
        "count        ...                                    901.000000   \n",
        "mean         ...                                      0.303563   \n",
        "std          ...                                      0.098858   \n",
        "min          ...                                      0.129607   \n",
        "25%          ...                                      0.250662   \n",
        "50%          ...                                      0.283470   \n",
        "75%          ...                                      0.323239   \n",
        "max          ...                                      1.245668   \n",
        "\n",
        "       Texture_Entropy_CorrMT_3_0  Texture_Gabor_CorrMT_3  \\\n",
        "count                  901.000000              901.000000   \n",
        "mean                     2.751912                0.515828   \n",
        "std                      0.279722                0.516030   \n",
        "min                      1.419379                0.087666   \n",
        "25%                      2.632223                0.272121   \n",
        "50%                      2.795361                0.375236   \n",
        "75%                      2.917451                0.545854   \n",
        "max                      3.687275                5.661032   \n",
        "\n",
        "       Texture_InfoMeas1_CorrMT_3_0  Texture_InfoMeas2_CorrMT_3_0  \\\n",
        "count                    901.000000                    901.000000   \n",
        "mean                      -0.467397                      0.890257   \n",
        "std                        0.096239                      0.067302   \n",
        "min                       -0.678553                      0.502550   \n",
        "25%                       -0.531190                      0.882650   \n",
        "50%                       -0.483668                      0.911157   \n",
        "75%                       -0.428838                      0.929120   \n",
        "max                       -0.097348                      0.960017   \n",
        "\n",
        "       Texture_InverseDifferenceMoment_CorrMT_3_0  \\\n",
        "count                                  901.000000   \n",
        "mean                                     0.794688   \n",
        "std                                      0.057126   \n",
        "min                                      0.407856   \n",
        "25%                                      0.770212   \n",
        "50%                                      0.803370   \n",
        "75%                                      0.830865   \n",
        "max                                      0.923489   \n",
        "\n",
        "       Texture_SumAverage_CorrMT_3_0  Texture_SumEntropy_CorrMT_3_0  \\\n",
        "count                     901.000000                     901.000000   \n",
        "mean                        6.813389                       2.386099   \n",
        "std                         1.364579                       0.224752   \n",
        "min                         3.004555                       1.205777   \n",
        "25%                         5.921019                       2.307594   \n",
        "50%                         6.885508                       2.450900   \n",
        "75%                         7.837834                       2.538545   \n",
        "max                         9.947792                       2.693730   \n",
        "\n",
        "       Texture_SumVariance_CorrMT_3_0  Texture_Variance_CorrMT_3_0  \n",
        "count                      901.000000                   901.000000  \n",
        "mean                        10.979430                     2.869319  \n",
        "std                          3.201027                     0.796263  \n",
        "min                          1.696587                     0.525899  \n",
        "25%                          8.963814                     2.353750  \n",
        "50%                         11.075515                     2.884442  \n",
        "75%                         13.065832                     3.395637  \n",
        "max                         22.896659                     5.808902  \n",
        "\n",
        "[8 rows x 109 columns]"
       ]
      }
     ],
     "prompt_number": 265
    },
    {
     "cell_type": "code",
     "collapsed": false,
     "input": [
      "X3_df.describe()"
     ],
     "language": "python",
     "metadata": {},
     "outputs": [
      {
       "html": [
        "<div style=\"max-height:1000px;max-width:1500px;overflow:auto;\">\n",
        "<table border=\"1\" class=\"dataframe\">\n",
        "  <thead>\n",
        "    <tr style=\"text-align: right;\">\n",
        "      <th></th>\n",
        "      <th>CONC_TREATMENT</th>\n",
        "      <th>SOLVENT</th>\n",
        "      <th>CONC_SOLVENT</th>\n",
        "      <th>AreaShape_Area</th>\n",
        "      <th>AreaShape_Center_X</th>\n",
        "      <th>AreaShape_Center_Y</th>\n",
        "      <th>AreaShape_Compactness</th>\n",
        "      <th>AreaShape_Eccentricity</th>\n",
        "      <th>AreaShape_EulerNumber</th>\n",
        "      <th>AreaShape_Extent</th>\n",
        "      <th>...</th>\n",
        "      <th>Texture_DifferenceVariance_CorrMT_3_0</th>\n",
        "      <th>Texture_Entropy_CorrMT_3_0</th>\n",
        "      <th>Texture_Gabor_CorrMT_3</th>\n",
        "      <th>Texture_InfoMeas1_CorrMT_3_0</th>\n",
        "      <th>Texture_InfoMeas2_CorrMT_3_0</th>\n",
        "      <th>Texture_InverseDifferenceMoment_CorrMT_3_0</th>\n",
        "      <th>Texture_SumAverage_CorrMT_3_0</th>\n",
        "      <th>Texture_SumEntropy_CorrMT_3_0</th>\n",
        "      <th>Texture_SumVariance_CorrMT_3_0</th>\n",
        "      <th>Texture_Variance_CorrMT_3_0</th>\n",
        "    </tr>\n",
        "  </thead>\n",
        "  <tbody>\n",
        "    <tr>\n",
        "      <th>count</th>\n",
        "      <td> 901.000000</td>\n",
        "      <td> 901.000000</td>\n",
        "      <td> 901.000000</td>\n",
        "      <td>   901.000000</td>\n",
        "      <td>  901.000000</td>\n",
        "      <td> 901.000000</td>\n",
        "      <td> 901.000000</td>\n",
        "      <td> 901.000000</td>\n",
        "      <td> 901</td>\n",
        "      <td> 901.000000</td>\n",
        "      <td>...</td>\n",
        "      <td> 901.000000</td>\n",
        "      <td> 901.000000</td>\n",
        "      <td> 901.000000</td>\n",
        "      <td> 901.000000</td>\n",
        "      <td> 901.000000</td>\n",
        "      <td> 901.000000</td>\n",
        "      <td> 901.000000</td>\n",
        "      <td> 901.000000</td>\n",
        "      <td> 901.000000</td>\n",
        "      <td> 901.000000</td>\n",
        "    </tr>\n",
        "    <tr>\n",
        "      <th>mean</th>\n",
        "      <td> 265.438402</td>\n",
        "      <td>   0.887902</td>\n",
        "      <td>   0.668923</td>\n",
        "      <td> 11356.941176</td>\n",
        "      <td>  715.187569</td>\n",
        "      <td> 511.033296</td>\n",
        "      <td>   1.218305</td>\n",
        "      <td>   0.743255</td>\n",
        "      <td>   1</td>\n",
        "      <td>   0.631614</td>\n",
        "      <td>...</td>\n",
        "      <td>   0.303563</td>\n",
        "      <td>   2.751912</td>\n",
        "      <td>   0.515828</td>\n",
        "      <td>  -0.467397</td>\n",
        "      <td>   0.890257</td>\n",
        "      <td>   0.794688</td>\n",
        "      <td>   6.813389</td>\n",
        "      <td>   2.386099</td>\n",
        "      <td>  10.979430</td>\n",
        "      <td>   2.869319</td>\n",
        "    </tr>\n",
        "    <tr>\n",
        "      <th>std</th>\n",
        "      <td> 344.534391</td>\n",
        "      <td>   0.315662</td>\n",
        "      <td>   0.339918</td>\n",
        "      <td>  5022.232579</td>\n",
        "      <td>  245.693299</td>\n",
        "      <td> 202.174460</td>\n",
        "      <td>   0.221133</td>\n",
        "      <td>   0.138863</td>\n",
        "      <td>   0</td>\n",
        "      <td>   0.096471</td>\n",
        "      <td>...</td>\n",
        "      <td>   0.098858</td>\n",
        "      <td>   0.279722</td>\n",
        "      <td>   0.516030</td>\n",
        "      <td>   0.096239</td>\n",
        "      <td>   0.067302</td>\n",
        "      <td>   0.057126</td>\n",
        "      <td>   1.364579</td>\n",
        "      <td>   0.224752</td>\n",
        "      <td>   3.201027</td>\n",
        "      <td>   0.796263</td>\n",
        "    </tr>\n",
        "    <tr>\n",
        "      <th>min</th>\n",
        "      <td>   0.000000</td>\n",
        "      <td>   0.000000</td>\n",
        "      <td>   0.000000</td>\n",
        "      <td>   567.000000</td>\n",
        "      <td>   30.000000</td>\n",
        "      <td>  76.000000</td>\n",
        "      <td>   1.003094</td>\n",
        "      <td>   0.106209</td>\n",
        "      <td>   1</td>\n",
        "      <td>   0.310187</td>\n",
        "      <td>...</td>\n",
        "      <td>   0.129607</td>\n",
        "      <td>   1.419379</td>\n",
        "      <td>   0.087666</td>\n",
        "      <td>  -0.678553</td>\n",
        "      <td>   0.502550</td>\n",
        "      <td>   0.407856</td>\n",
        "      <td>   3.004555</td>\n",
        "      <td>   1.205777</td>\n",
        "      <td>   1.696587</td>\n",
        "      <td>   0.525899</td>\n",
        "    </tr>\n",
        "    <tr>\n",
        "      <th>25%</th>\n",
        "      <td>   0.000000</td>\n",
        "      <td>   1.000000</td>\n",
        "      <td>   0.300000</td>\n",
        "      <td>  8878.000000</td>\n",
        "      <td>  560.000000</td>\n",
        "      <td> 354.000000</td>\n",
        "      <td>   1.078262</td>\n",
        "      <td>   0.675091</td>\n",
        "      <td>   1</td>\n",
        "      <td>   0.577609</td>\n",
        "      <td>...</td>\n",
        "      <td>   0.250662</td>\n",
        "      <td>   2.632223</td>\n",
        "      <td>   0.272121</td>\n",
        "      <td>  -0.531190</td>\n",
        "      <td>   0.882650</td>\n",
        "      <td>   0.770212</td>\n",
        "      <td>   5.921019</td>\n",
        "      <td>   2.307594</td>\n",
        "      <td>   8.963814</td>\n",
        "      <td>   2.353750</td>\n",
        "    </tr>\n",
        "    <tr>\n",
        "      <th>50%</th>\n",
        "      <td> 100.000000</td>\n",
        "      <td>   1.000000</td>\n",
        "      <td>   0.700000</td>\n",
        "      <td> 10764.000000</td>\n",
        "      <td>  715.000000</td>\n",
        "      <td> 518.000000</td>\n",
        "      <td>   1.153198</td>\n",
        "      <td>   0.771571</td>\n",
        "      <td>   1</td>\n",
        "      <td>   0.653218</td>\n",
        "      <td>...</td>\n",
        "      <td>   0.283470</td>\n",
        "      <td>   2.795361</td>\n",
        "      <td>   0.375236</td>\n",
        "      <td>  -0.483668</td>\n",
        "      <td>   0.911157</td>\n",
        "      <td>   0.803370</td>\n",
        "      <td>   6.885508</td>\n",
        "      <td>   2.450900</td>\n",
        "      <td>  11.075515</td>\n",
        "      <td>   2.884442</td>\n",
        "    </tr>\n",
        "    <tr>\n",
        "      <th>75%</th>\n",
        "      <td> 330.000000</td>\n",
        "      <td>   1.000000</td>\n",
        "      <td>   1.000000</td>\n",
        "      <td> 13399.000000</td>\n",
        "      <td>  880.000000</td>\n",
        "      <td> 669.000000</td>\n",
        "      <td>   1.275894</td>\n",
        "      <td>   0.846904</td>\n",
        "      <td>   1</td>\n",
        "      <td>   0.704202</td>\n",
        "      <td>...</td>\n",
        "      <td>   0.323239</td>\n",
        "      <td>   2.917451</td>\n",
        "      <td>   0.545854</td>\n",
        "      <td>  -0.428838</td>\n",
        "      <td>   0.929120</td>\n",
        "      <td>   0.830865</td>\n",
        "      <td>   7.837834</td>\n",
        "      <td>   2.538545</td>\n",
        "      <td>  13.065832</td>\n",
        "      <td>   3.395637</td>\n",
        "    </tr>\n",
        "    <tr>\n",
        "      <th>max</th>\n",
        "      <td> 900.000000</td>\n",
        "      <td>   1.000000</td>\n",
        "      <td>   1.000000</td>\n",
        "      <td> 41079.000000</td>\n",
        "      <td> 1274.000000</td>\n",
        "      <td> 941.000000</td>\n",
        "      <td>   3.393661</td>\n",
        "      <td>   0.979907</td>\n",
        "      <td>   1</td>\n",
        "      <td>   0.818880</td>\n",
        "      <td>...</td>\n",
        "      <td>   1.245668</td>\n",
        "      <td>   3.687275</td>\n",
        "      <td>   5.661032</td>\n",
        "      <td>  -0.097348</td>\n",
        "      <td>   0.960017</td>\n",
        "      <td>   0.923489</td>\n",
        "      <td>   9.947792</td>\n",
        "      <td>   2.693730</td>\n",
        "      <td>  22.896659</td>\n",
        "      <td>   5.808902</td>\n",
        "    </tr>\n",
        "  </tbody>\n",
        "</table>\n",
        "<p>8 rows \u00d7 109 columns</p>\n",
        "</div>"
       ],
       "metadata": {},
       "output_type": "pyout",
       "prompt_number": 266,
       "text": [
        "       CONC_TREATMENT     SOLVENT  CONC_SOLVENT  AreaShape_Area  \\\n",
        "count      901.000000  901.000000    901.000000      901.000000   \n",
        "mean       265.438402    0.887902      0.668923    11356.941176   \n",
        "std        344.534391    0.315662      0.339918     5022.232579   \n",
        "min          0.000000    0.000000      0.000000      567.000000   \n",
        "25%          0.000000    1.000000      0.300000     8878.000000   \n",
        "50%        100.000000    1.000000      0.700000    10764.000000   \n",
        "75%        330.000000    1.000000      1.000000    13399.000000   \n",
        "max        900.000000    1.000000      1.000000    41079.000000   \n",
        "\n",
        "       AreaShape_Center_X  AreaShape_Center_Y  AreaShape_Compactness  \\\n",
        "count          901.000000          901.000000             901.000000   \n",
        "mean           715.187569          511.033296               1.218305   \n",
        "std            245.693299          202.174460               0.221133   \n",
        "min             30.000000           76.000000               1.003094   \n",
        "25%            560.000000          354.000000               1.078262   \n",
        "50%            715.000000          518.000000               1.153198   \n",
        "75%            880.000000          669.000000               1.275894   \n",
        "max           1274.000000          941.000000               3.393661   \n",
        "\n",
        "       AreaShape_Eccentricity  AreaShape_EulerNumber  AreaShape_Extent  \\\n",
        "count              901.000000                    901        901.000000   \n",
        "mean                 0.743255                      1          0.631614   \n",
        "std                  0.138863                      0          0.096471   \n",
        "min                  0.106209                      1          0.310187   \n",
        "25%                  0.675091                      1          0.577609   \n",
        "50%                  0.771571                      1          0.653218   \n",
        "75%                  0.846904                      1          0.704202   \n",
        "max                  0.979907                      1          0.818880   \n",
        "\n",
        "             ...         Texture_DifferenceVariance_CorrMT_3_0  \\\n",
        "count        ...                                    901.000000   \n",
        "mean         ...                                      0.303563   \n",
        "std          ...                                      0.098858   \n",
        "min          ...                                      0.129607   \n",
        "25%          ...                                      0.250662   \n",
        "50%          ...                                      0.283470   \n",
        "75%          ...                                      0.323239   \n",
        "max          ...                                      1.245668   \n",
        "\n",
        "       Texture_Entropy_CorrMT_3_0  Texture_Gabor_CorrMT_3  \\\n",
        "count                  901.000000              901.000000   \n",
        "mean                     2.751912                0.515828   \n",
        "std                      0.279722                0.516030   \n",
        "min                      1.419379                0.087666   \n",
        "25%                      2.632223                0.272121   \n",
        "50%                      2.795361                0.375236   \n",
        "75%                      2.917451                0.545854   \n",
        "max                      3.687275                5.661032   \n",
        "\n",
        "       Texture_InfoMeas1_CorrMT_3_0  Texture_InfoMeas2_CorrMT_3_0  \\\n",
        "count                    901.000000                    901.000000   \n",
        "mean                      -0.467397                      0.890257   \n",
        "std                        0.096239                      0.067302   \n",
        "min                       -0.678553                      0.502550   \n",
        "25%                       -0.531190                      0.882650   \n",
        "50%                       -0.483668                      0.911157   \n",
        "75%                       -0.428838                      0.929120   \n",
        "max                       -0.097348                      0.960017   \n",
        "\n",
        "       Texture_InverseDifferenceMoment_CorrMT_3_0  \\\n",
        "count                                  901.000000   \n",
        "mean                                     0.794688   \n",
        "std                                      0.057126   \n",
        "min                                      0.407856   \n",
        "25%                                      0.770212   \n",
        "50%                                      0.803370   \n",
        "75%                                      0.830865   \n",
        "max                                      0.923489   \n",
        "\n",
        "       Texture_SumAverage_CorrMT_3_0  Texture_SumEntropy_CorrMT_3_0  \\\n",
        "count                     901.000000                     901.000000   \n",
        "mean                        6.813389                       2.386099   \n",
        "std                         1.364579                       0.224752   \n",
        "min                         3.004555                       1.205777   \n",
        "25%                         5.921019                       2.307594   \n",
        "50%                         6.885508                       2.450900   \n",
        "75%                         7.837834                       2.538545   \n",
        "max                         9.947792                       2.693730   \n",
        "\n",
        "       Texture_SumVariance_CorrMT_3_0  Texture_Variance_CorrMT_3_0  \n",
        "count                      901.000000                   901.000000  \n",
        "mean                        10.979430                     2.869319  \n",
        "std                          3.201027                     0.796263  \n",
        "min                          1.696587                     0.525899  \n",
        "25%                          8.963814                     2.353750  \n",
        "50%                         11.075515                     2.884442  \n",
        "75%                         13.065832                     3.395637  \n",
        "max                         22.896659                     5.808902  \n",
        "\n",
        "[8 rows x 109 columns]"
       ]
      }
     ],
     "prompt_number": 266
    },
    {
     "cell_type": "code",
     "collapsed": false,
     "input": [
      "X1_feature_names=X1_df.columns.values"
     ],
     "language": "python",
     "metadata": {},
     "outputs": [],
     "prompt_number": 267
    },
    {
     "cell_type": "code",
     "collapsed": false,
     "input": [
      "X3_feature_names=X3_df.columns.values"
     ],
     "language": "python",
     "metadata": {},
     "outputs": [],
     "prompt_number": 268
    },
    {
     "cell_type": "code",
     "collapsed": false,
     "input": [
      "X4_feature_names=X4_df.columns.values"
     ],
     "language": "python",
     "metadata": {},
     "outputs": [],
     "prompt_number": 269
    },
    {
     "cell_type": "code",
     "collapsed": false,
     "input": [
      "X1_feature_names"
     ],
     "language": "python",
     "metadata": {},
     "outputs": [
      {
       "metadata": {},
       "output_type": "pyout",
       "prompt_number": 270,
       "text": [
        "array(['CONC_TREATMENT', 'SOLVENT', 'CONC_SOLVENT', 'AreaShape_Area',\n",
        "       'AreaShape_Center_X', 'AreaShape_Center_Y', 'AreaShape_Compactness',\n",
        "       'AreaShape_Eccentricity', 'AreaShape_EulerNumber',\n",
        "       'AreaShape_Extent', 'AreaShape_FormFactor',\n",
        "       'AreaShape_MajorAxisLength', 'AreaShape_MaxFeretDiameter',\n",
        "       'AreaShape_MaximumRadius', 'AreaShape_MeanRadius',\n",
        "       'AreaShape_MedianRadius', 'AreaShape_MinFeretDiameter',\n",
        "       'AreaShape_MinorAxisLength', 'AreaShape_Orientation',\n",
        "       'AreaShape_Perimeter', 'AreaShape_Solidity',\n",
        "       'AreaShape_Zernike_0_0', 'AreaShape_Zernike_1_1',\n",
        "       'AreaShape_Zernike_2_0', 'AreaShape_Zernike_2_2',\n",
        "       'AreaShape_Zernike_3_1', 'AreaShape_Zernike_3_3',\n",
        "       'AreaShape_Zernike_4_0', 'AreaShape_Zernike_4_2',\n",
        "       'AreaShape_Zernike_4_4', 'AreaShape_Zernike_5_1',\n",
        "       'AreaShape_Zernike_5_3', 'AreaShape_Zernike_5_5',\n",
        "       'AreaShape_Zernike_6_0', 'AreaShape_Zernike_6_2',\n",
        "       'AreaShape_Zernike_6_4', 'AreaShape_Zernike_6_6',\n",
        "       'AreaShape_Zernike_7_1', 'AreaShape_Zernike_7_3',\n",
        "       'AreaShape_Zernike_7_5', 'AreaShape_Zernike_7_7',\n",
        "       'AreaShape_Zernike_8_0', 'AreaShape_Zernike_8_2',\n",
        "       'AreaShape_Zernike_8_4', 'AreaShape_Zernike_8_6',\n",
        "       'AreaShape_Zernike_8_8', 'AreaShape_Zernike_9_1',\n",
        "       'AreaShape_Zernike_9_3', 'AreaShape_Zernike_9_5',\n",
        "       'AreaShape_Zernike_9_7', 'AreaShape_Zernike_9_9',\n",
        "       'Correlation_Correlation_CorrMT_CorrChromosomes',\n",
        "       'Intensity_IntegratedIntensityEdge_CorrMT',\n",
        "       'Intensity_IntegratedIntensity_CorrMT',\n",
        "       'Intensity_LowerQuartileIntensity_CorrMT',\n",
        "       'Intensity_MADIntensity_CorrMT',\n",
        "       'Intensity_MassDisplacement_CorrMT',\n",
        "       'Intensity_MaxIntensityEdge_CorrMT',\n",
        "       'Intensity_MaxIntensity_CorrMT',\n",
        "       'Intensity_MeanIntensityEdge_CorrMT',\n",
        "       'Intensity_MeanIntensity_CorrMT',\n",
        "       'Intensity_MedianIntensity_CorrMT',\n",
        "       'Intensity_MinIntensityEdge_CorrMT',\n",
        "       'Intensity_MinIntensity_CorrMT',\n",
        "       'Intensity_StdIntensityEdge_CorrMT',\n",
        "       'Intensity_StdIntensity_CorrMT',\n",
        "       'Intensity_UpperQuartileIntensity_CorrMT',\n",
        "       'Location_CenterMassIntensity_X_CorrMT',\n",
        "       'Location_CenterMassIntensity_Y_CorrMT', 'Location_Center_X',\n",
        "       'Location_Center_Y', 'Location_MaxIntensity_X_CorrMT',\n",
        "       'Location_MaxIntensity_Y_CorrMT', 'Math_AxisRatio',\n",
        "       'Math_ChromosomeMassArea', 'Math_ChromosomeMassAreaPerSpindle',\n",
        "       'Math_ChromosomeMassCorrelation', 'Math_ChromosomeMassEccentricity',\n",
        "       'Math_ChromosomeMassEllipticalArea',\n",
        "       'Math_ChromosomeMassIntegratedIntensity',\n",
        "       'Math_ChromosomeMassMajorAxis', 'Math_ChromosomeMassMinorAxis',\n",
        "       'Math_ChromosomeMassPerimeter', 'Math_ChromosomeMassSolidity',\n",
        "       'Math_ChromosomesCorrelation',\n",
        "       'Math_DeltaSquareCenterX_Spindles_ChromosomeMass',\n",
        "       'Math_DeltaSquareCenterX_Spindles_Chromosomes',\n",
        "       'Math_DeltaSquareCenterY_Spindles_ChromosomeMass',\n",
        "       'Math_DeltaSquareCenterY_Spindles_Chromosomes',\n",
        "       'Math_GeometricCenterOffsetChromosomeMass',\n",
        "       'Math_GeometricCenterOffsetChromosomes',\n",
        "       'Math_SpindleToMetaphasePlateOffset', 'Math_SquarePlateAngle',\n",
        "       'Number_Object_Number', 'Parent_Spindles',\n",
        "       'Texture_AngularSecondMoment_CorrMT_3_0',\n",
        "       'Texture_Contrast_CorrMT_3_0', 'Texture_Correlation_CorrMT_3_0',\n",
        "       'Texture_DifferenceEntropy_CorrMT_3_0',\n",
        "       'Texture_DifferenceVariance_CorrMT_3_0',\n",
        "       'Texture_Entropy_CorrMT_3_0', 'Texture_Gabor_CorrMT_3',\n",
        "       'Texture_InfoMeas1_CorrMT_3_0', 'Texture_InfoMeas2_CorrMT_3_0',\n",
        "       'Texture_InverseDifferenceMoment_CorrMT_3_0',\n",
        "       'Texture_SumAverage_CorrMT_3_0', 'Texture_SumEntropy_CorrMT_3_0',\n",
        "       'Texture_SumVariance_CorrMT_3_0', 'Texture_Variance_CorrMT_3_0'], dtype=object)"
       ]
      }
     ],
     "prompt_number": 270
    },
    {
     "cell_type": "code",
     "collapsed": false,
     "input": [
      "print X1_df.describe().ix['mean'].abs().min()\n",
      "print X1_df.describe().ix['mean'].abs().max()"
     ],
     "language": "python",
     "metadata": {},
     "outputs": [
      {
       "output_type": "stream",
       "stream": "stdout",
       "text": [
        "0.000217696470588\n",
        "11356.9411765"
       ]
      },
      {
       "output_type": "stream",
       "stream": "stdout",
       "text": [
        "\n"
       ]
      }
     ],
     "prompt_number": 271
    },
    {
     "cell_type": "code",
     "collapsed": false,
     "input": [
      "y1.shape, X1.shape"
     ],
     "language": "python",
     "metadata": {},
     "outputs": [
      {
       "metadata": {},
       "output_type": "pyout",
       "prompt_number": 272,
       "text": [
        "((901,), (901, 109))"
       ]
      }
     ],
     "prompt_number": 272
    },
    {
     "cell_type": "code",
     "collapsed": false,
     "input": [
      "X1"
     ],
     "language": "python",
     "metadata": {},
     "outputs": [
      {
       "metadata": {},
       "output_type": "pyout",
       "prompt_number": 273,
       "text": [
        "array([[  0.        ,   0.        ,   0.        , ...,   2.32028251,\n",
        "          7.99182774,   2.11330861],\n",
        "       [  0.        ,   0.        ,   0.        , ...,   2.39354922,\n",
        "          8.63458655,   2.2784831 ],\n",
        "       [  0.        ,   0.        ,   0.        , ...,   2.38756886,\n",
        "          9.10347254,   2.38781261],\n",
        "       ..., \n",
        "       [ 50.        ,   1.        ,   0.3       , ...,   2.34418065,\n",
        "          9.21889769,   2.57618574],\n",
        "       [ 50.        ,   1.        ,   0.3       , ...,   1.77167053,\n",
        "          6.40611618,   1.66632176],\n",
        "       [ 50.        ,   1.        ,   0.3       , ...,   2.43374958,\n",
        "         11.87441528,   3.08895208]])"
       ]
      }
     ],
     "prompt_number": 273
    },
    {
     "cell_type": "code",
     "collapsed": false,
     "input": [
      "#scale the features:\n",
      "#http://scikit-learn.org/stable/modules/preprocessing.html\n",
      "from sklearn import preprocessing\n",
      "import numpy as np\n",
      "X1_scaled=preprocessing.scale(X1)"
     ],
     "language": "python",
     "metadata": {},
     "outputs": [],
     "prompt_number": 274
    },
    {
     "cell_type": "code",
     "collapsed": false,
     "input": [
      "#scale the features:\n",
      "#http://scikit-learn.org/stable/modules/preprocessing.html\n",
      "from sklearn import preprocessing\n",
      "import numpy as np\n",
      "X3_scaled=preprocessing.scale(X3)"
     ],
     "language": "python",
     "metadata": {},
     "outputs": [],
     "prompt_number": 275
    },
    {
     "cell_type": "code",
     "collapsed": false,
     "input": [
      "#scale the features:\n",
      "#http://scikit-learn.org/stable/modules/preprocessing.html\n",
      "from sklearn import preprocessing\n",
      "import numpy as np\n",
      "X4_scaled=preprocessing.scale(X4)\n",
      "X4a_scaled=preprocessing.scale(X4a)"
     ],
     "language": "python",
     "metadata": {},
     "outputs": [],
     "prompt_number": 276
    },
    {
     "cell_type": "code",
     "collapsed": false,
     "input": [
      "X1_scaled.mean()\n",
      "X1_scaled.std()\n"
     ],
     "language": "python",
     "metadata": {},
     "outputs": [
      {
       "metadata": {},
       "output_type": "pyout",
       "prompt_number": 277,
       "text": [
        "0.99540227449681529"
       ]
      }
     ],
     "prompt_number": 277
    },
    {
     "cell_type": "code",
     "collapsed": false,
     "input": [
      "#Cross validation: arbitrary K-fold:: 5-fold\n",
      "X1_train, X1_test, y1_train, y1_test=train_test_split(X1_scaled, y1, test_size=0.2,random_state=0)"
     ],
     "language": "python",
     "metadata": {},
     "outputs": [],
     "prompt_number": 278
    },
    {
     "cell_type": "code",
     "collapsed": false,
     "input": [
      "#Cross validation: arbitrary K-fold:: 5-fold\n",
      "X3_train, X3_test, y3_train, y3_test=train_test_split(X3_scaled, y3, test_size=0.2,random_state=0)"
     ],
     "language": "python",
     "metadata": {},
     "outputs": [],
     "prompt_number": 279
    },
    {
     "cell_type": "code",
     "collapsed": false,
     "input": [
      "#Cross validation: arbitrary K-fold:: 5-fold\n",
      "X4_train, X4_test, y4_train, y4_test=train_test_split(X4_scaled, y4, test_size=0.2,random_state=0)\n",
      "X4a_train, X4a_test, y4a_train, y4a_test=train_test_split(X4a_scaled, y4a, test_size=0.2,random_state=0)\n"
     ],
     "language": "python",
     "metadata": {},
     "outputs": [],
     "prompt_number": 280
    },
    {
     "cell_type": "code",
     "collapsed": false,
     "input": [
      "print X1_scaled.shape\n",
      "print y1.shape\n",
      "print \n",
      "print X1_train.shape\n",
      "print X1_test.shape\n",
      "print X1_train.shape\n",
      "print X1_train.shape\n"
     ],
     "language": "python",
     "metadata": {},
     "outputs": [
      {
       "output_type": "stream",
       "stream": "stdout",
       "text": [
        "(901, 109)\n",
        "(901,)\n",
        "\n",
        "(720, 109)\n",
        "(181, 109)\n",
        "(720, 109)\n",
        "(720, 109)\n"
       ]
      }
     ],
     "prompt_number": 281
    },
    {
     "cell_type": "markdown",
     "metadata": {},
     "source": [
      "#<font color='red'>CLASSIFIERS</font>\n",
      "###TRY LOGISTIC REGRESSION\n",
      "Things to consider:  \n",
      "[Logistic regression: INTRO](http://scikit-learn.org/stable/modules/linear_model.html#logistic-regression)  \n",
      "[Logistic regression: PARAMS](http://scikit-learn.org/stable/modules/generated/sklearn.linear_model.LogisticRegression.html#sklearn.linear_model.LogisticRegression)  \n",
      "*(penalty='l2', dual=False, tol=0.0001, C=1.0, fit_intercept=True, intercept_scaling=1, class_weight=None, random_state=None)*  \n",
      "*C is inverse of lambda. Low C is high lambda: strong regularization.*  \n",
      "[Scale C](http://scikit-learn.org/stable/auto_examples/svm/plot_svm_scale_c.html)  \n",
      "[REGULARIZATION](http://www.datarobot.com/blog/regularized-linear-regression-with-scikit-learn/)  \n",
      "[PICK C: really good](http://slendermeans.org/ml4h-ch6.html)   \n"
     ]
    },
    {
     "cell_type": "code",
     "collapsed": false,
     "input": [
      "#Classifier 1:\n",
      "#hyperparameters (a): penalty and C (regularization)\n",
      "model1=LogisticRegression(penalty = 'l2', C=1)"
     ],
     "language": "python",
     "metadata": {},
     "outputs": [],
     "prompt_number": 282
    },
    {
     "cell_type": "code",
     "collapsed": false,
     "input": [
      "#Classifier 2:\n",
      "#hyperparameters (a): penalty and C (regularization)\n",
      "model3=LogisticRegression(penalty = 'l2', C=1)"
     ],
     "language": "python",
     "metadata": {},
     "outputs": [],
     "prompt_number": 283
    },
    {
     "cell_type": "code",
     "collapsed": false,
     "input": [
      "#Classifier 3:\n",
      "#hyperparameters (a): penalty and C (regularization)\n",
      "model4=LogisticRegression(penalty = 'l2', C=1)"
     ],
     "language": "python",
     "metadata": {},
     "outputs": [],
     "prompt_number": 284
    },
    {
     "cell_type": "code",
     "collapsed": false,
     "input": [
      "model1.fit(X1_train,y1_train)"
     ],
     "language": "python",
     "metadata": {},
     "outputs": [
      {
       "metadata": {},
       "output_type": "pyout",
       "prompt_number": 285,
       "text": [
        "LogisticRegression(C=1, class_weight=None, dual=False, fit_intercept=True,\n",
        "          intercept_scaling=1, penalty='l2', random_state=None, tol=0.0001)"
       ]
      }
     ],
     "prompt_number": 285
    },
    {
     "cell_type": "code",
     "collapsed": false,
     "input": [
      "model3.fit(X3_train,y3_train)"
     ],
     "language": "python",
     "metadata": {},
     "outputs": [
      {
       "metadata": {},
       "output_type": "pyout",
       "prompt_number": 286,
       "text": [
        "LogisticRegression(C=1, class_weight=None, dual=False, fit_intercept=True,\n",
        "          intercept_scaling=1, penalty='l2', random_state=None, tol=0.0001)"
       ]
      }
     ],
     "prompt_number": 286
    },
    {
     "cell_type": "code",
     "collapsed": false,
     "input": [
      "model4.fit(X4_train,y4_train)"
     ],
     "language": "python",
     "metadata": {},
     "outputs": [
      {
       "metadata": {},
       "output_type": "pyout",
       "prompt_number": 287,
       "text": [
        "LogisticRegression(C=1, class_weight=None, dual=False, fit_intercept=True,\n",
        "          intercept_scaling=1, penalty='l2', random_state=None, tol=0.0001)"
       ]
      }
     ],
     "prompt_number": 287
    },
    {
     "cell_type": "code",
     "collapsed": false,
     "input": [
      "#for predicting phenotype\n",
      "my_model_4a=model1.fit(X4a_train,y4a_train)"
     ],
     "language": "python",
     "metadata": {},
     "outputs": [],
     "prompt_number": 288
    },
    {
     "cell_type": "code",
     "collapsed": false,
     "input": [
      "my_model_4a.score(X4a_test,y4a_test)"
     ],
     "language": "python",
     "metadata": {},
     "outputs": [
      {
       "metadata": {},
       "output_type": "pyout",
       "prompt_number": 289,
       "text": [
        "0.90384615384615385"
       ]
      }
     ],
     "prompt_number": 289
    },
    {
     "cell_type": "code",
     "collapsed": false,
     "input": [
      "y3_predicted=model3.predict(X3_test)"
     ],
     "language": "python",
     "metadata": {},
     "outputs": [],
     "prompt_number": 290
    },
    {
     "cell_type": "code",
     "collapsed": false,
     "input": [
      "y4_predicted=model4.predict(X4_test)"
     ],
     "language": "python",
     "metadata": {},
     "outputs": [],
     "prompt_number": 291
    },
    {
     "cell_type": "code",
     "collapsed": false,
     "input": [
      "y4a_predicted=my_model_4a.predict(X4a_test)"
     ],
     "language": "python",
     "metadata": {},
     "outputs": [],
     "prompt_number": 292
    },
    {
     "cell_type": "code",
     "collapsed": false,
     "input": [
      "#Residuals:\n",
      "#print y1_predicted!=y1_test\n",
      "#print (y1_predicted!=y1_test).sum()/float(len(y1_test))"
     ],
     "language": "python",
     "metadata": {},
     "outputs": [],
     "prompt_number": 293
    },
    {
     "cell_type": "code",
     "collapsed": false,
     "input": [
      "#Residuals:\n",
      "#print y1_predicted!=y1_test\n",
      "print (y3_predicted!=y3_test).sum()/float(len(y1_test))"
     ],
     "language": "python",
     "metadata": {},
     "outputs": [
      {
       "output_type": "stream",
       "stream": "stdout",
       "text": [
        "0.0331491712707\n"
       ]
      }
     ],
     "prompt_number": 294
    },
    {
     "cell_type": "code",
     "collapsed": false,
     "input": [
      "#Residuals:\n",
      "#print y1_predicted!=y1_test\n",
      "print (y4_predicted!=y4_test).sum()/float(len(y4_test))"
     ],
     "language": "python",
     "metadata": {},
     "outputs": [
      {
       "output_type": "stream",
       "stream": "stdout",
       "text": [
        "0.209944751381\n"
       ]
      }
     ],
     "prompt_number": 295
    },
    {
     "cell_type": "code",
     "collapsed": false,
     "input": [
      "print y4a_predicted.shape\n",
      "print y4a_test.shape"
     ],
     "language": "python",
     "metadata": {},
     "outputs": [
      {
       "output_type": "stream",
       "stream": "stdout",
       "text": [
        "(156,)\n",
        "(156,)\n"
       ]
      }
     ],
     "prompt_number": 296
    },
    {
     "cell_type": "code",
     "collapsed": false,
     "input": [
      "#Residuals:\n",
      "#print y1_predicted!=y1_test\n",
      "print (y4a_predicted!=y4a_test).sum()/float(len(y4a_test))"
     ],
     "language": "python",
     "metadata": {},
     "outputs": [
      {
       "output_type": "stream",
       "stream": "stdout",
       "text": [
        "0.0961538461538\n"
       ]
      }
     ],
     "prompt_number": 297
    },
    {
     "cell_type": "code",
     "collapsed": false,
     "input": [
      "#print sklearn.metrics.mean_squared_error(y1_test, y1_predicted)\n",
      "print sklearn.metrics.mean_squared_error(y4a_test,y4a_predicted)"
     ],
     "language": "python",
     "metadata": {},
     "outputs": [
      {
       "output_type": "stream",
       "stream": "stdout",
       "text": [
        "0.0961538461538\n"
       ]
      }
     ],
     "prompt_number": 298
    },
    {
     "cell_type": "code",
     "collapsed": false,
     "input": [
      "print sklearn.metrics.mean_squared_error(y4_test, y4_predicted)"
     ],
     "language": "python",
     "metadata": {},
     "outputs": [
      {
       "output_type": "stream",
       "stream": "stdout",
       "text": [
        "0.209944751381\n"
       ]
      }
     ],
     "prompt_number": 299
    },
    {
     "cell_type": "code",
     "collapsed": false,
     "input": [
      "#classification_report(y_true, y_pred, labels=None, target_names=None)\n",
      "#print 'Accuracy: ', accuracy_score(y1_test, y1_predicted)\n",
      "#print \n",
      "#print sklearn.metrics.jaccard_similarity_score(y1_test, y1_predicted)\n",
      "#print classification_report(y1_test,y1_predicted,target_names=['^S','S'])\n",
      "#print classification_report(y1_test,y1_predicted,target_names=['0','1'])"
     ],
     "language": "python",
     "metadata": {},
     "outputs": [],
     "prompt_number": 300
    },
    {
     "cell_type": "code",
     "collapsed": false,
     "input": [
      "#MODEL 3\n",
      "#classification_report(y_true, y_pred, labels=None, target_names=None)\n",
      "print 'Accuracy: ', accuracy_score(y3_test, y3_predicted)\n",
      "print \n",
      "print sklearn.metrics.jaccard_similarity_score(y3_test, y3_predicted)\n",
      "print classification_report(y3_test,y3_predicted,target_names=['^S','S'])\n",
      "print classification_report(y3_test,y3_predicted,target_names=['0','1'])"
     ],
     "language": "python",
     "metadata": {},
     "outputs": [
      {
       "output_type": "stream",
       "stream": "stdout",
       "text": [
        "Accuracy:  0.966850828729\n",
        "\n",
        "0.966850828729\n",
        "             precision    recall  f1-score   support\n",
        "\n",
        "         ^S       0.96      0.93      0.94        55\n",
        "          S       0.97      0.98      0.98       126\n",
        "\n",
        "avg / total       0.97      0.97      0.97       181\n",
        "\n",
        "             precision    recall  f1-score   support\n",
        "\n",
        "          0       0.96      0.93      0.94        55\n",
        "          1       0.97      0.98      0.98       126\n",
        "\n",
        "avg / total       0.97      0.97      0.97       181\n",
        "\n"
       ]
      }
     ],
     "prompt_number": 301
    },
    {
     "cell_type": "code",
     "collapsed": false,
     "input": [
      "#MODEL 4\n",
      "#classification_report(y_true, y_pred, labels=None, target_names=None)\n",
      "print 'Accuracy: ', accuracy_score(y4_test, y4_predicted)\n",
      "print \n",
      "print sklearn.metrics.jaccard_similarity_score(y4_test, y4_predicted)\n",
      "print classification_report(y4_test,y4_predicted,target_names=['^S','S'])\n",
      "print classification_report(y4_test,y4_predicted,target_names=['0','1'])\n",
      "print classification_report(y4_test,y4_predicted)"
     ],
     "language": "python",
     "metadata": {},
     "outputs": [
      {
       "output_type": "stream",
       "stream": "stdout",
       "text": [
        "Accuracy:  0.790055248619\n",
        "\n",
        "0.790055248619\n",
        "             precision    recall  f1-score   support\n",
        "\n",
        "         ^S       0.80      0.93      0.86       126\n",
        "          S       0.74      0.47      0.58        55\n",
        "\n",
        "avg / total       0.78      0.79      0.77       181\n",
        "\n",
        "             precision    recall  f1-score   support\n",
        "\n",
        "          0       0.80      0.93      0.86       126\n",
        "          1       0.74      0.47      0.58        55\n",
        "\n",
        "avg / total       0.78      0.79      0.77       181\n",
        "\n",
        "             precision    recall  f1-score   support\n",
        "\n",
        "          0       0.80      0.93      0.86       126\n",
        "          1       0.74      0.47      0.58        55\n",
        "\n",
        "avg / total       0.78      0.79      0.77       181\n",
        "\n"
       ]
      }
     ],
     "prompt_number": 302
    },
    {
     "cell_type": "code",
     "collapsed": false,
     "input": [
      "print accuracy_score(y4a_test,y4a_predicted)\n",
      "print sklearn.metrics.jaccard_similarity_score(y4a_test,y4a_predicted)\n",
      "print classification_report(y4a_test,y4a_predicted)"
     ],
     "language": "python",
     "metadata": {},
     "outputs": [
      {
       "output_type": "stream",
       "stream": "stdout",
       "text": [
        "0.903846153846\n",
        "0.903846153846\n",
        "             precision    recall  f1-score   support\n",
        "\n",
        "        0.0       0.84      0.89      0.86        54\n",
        "        1.0       0.94      0.91      0.93       102\n",
        "\n",
        "avg / total       0.91      0.90      0.90       156\n",
        "\n"
       ]
      }
     ],
     "prompt_number": 303
    },
    {
     "cell_type": "code",
     "collapsed": false,
     "input": [
      "#Model Coefficients\n",
      "coefficients = model1.coef_[0]\n",
      "model1.coef_.shape\n",
      "len(model1.coef_[0])\n",
      "#print type(abs(model1.coef_[0])) #<type 'numpy.ndarray'>\n",
      "coefficients_abs=abs(coefficients)\n",
      "coefficients_abs.sort()"
     ],
     "language": "python",
     "metadata": {},
     "outputs": [],
     "prompt_number": 304
    },
    {
     "cell_type": "code",
     "collapsed": false,
     "input": [
      "my_model_4a.coef_[0]"
     ],
     "language": "python",
     "metadata": {},
     "outputs": [
      {
       "metadata": {},
       "output_type": "pyout",
       "prompt_number": 305,
       "text": [
        "array([ 0.76376379, -0.14641593, -0.27336171,  0.48532929, -0.7140937 ,\n",
        "        0.        , -0.09912657,  0.56305117, -0.14690292, -0.058573  ,\n",
        "       -0.3774721 , -0.43937227, -0.55735131, -0.04560976,  0.52933923,\n",
        "        0.17365497,  0.6800358 , -1.1247334 ,  0.49290237, -0.40493146,\n",
        "       -0.76115079, -0.78196966,  0.70796391, -0.31945263, -0.20141219,\n",
        "        0.25417991, -0.6199707 , -0.23814995, -0.02740867, -0.1014757 ,\n",
        "       -0.21160614, -0.0569451 , -0.01541313, -0.15805416, -0.40882274,\n",
        "        0.37392439, -0.02863034, -0.00481261,  0.26299456, -0.30705445,\n",
        "       -0.23014368, -0.08732501,  0.34838505, -0.10673269,  0.10420711,\n",
        "       -0.51886775, -0.0164093 ,  0.32445276,  1.48865161,  0.33842398,\n",
        "       -0.41452909, -0.7349368 , -0.07843068, -0.10225684,  0.33370166,\n",
        "        0.19606815,  0.15941639, -0.40245084, -0.5249055 ,  0.06408625,\n",
        "       -0.07242293,  0.8347888 ,  0.09470886, -0.41220472, -0.2125767 ,\n",
        "       -0.02258754, -0.23513331, -0.00810089,  0.48644474, -0.02001066,\n",
        "       -0.18756816, -0.19588746,  0.10176597,  0.14589309, -0.55143483,\n",
        "        0.60634545,  0.34284004, -1.13875449,  0.56394742, -0.63884198,\n",
        "       -1.44641043,  0.18595767, -0.29393315,  0.09018144,  0.40869008,\n",
        "       -0.16030974,  0.32936866,  0.42403999, -0.4925439 ,  0.11879589,\n",
        "        1.19332695, -1.28239207, -0.18288103,  0.08661949, -0.25340334,\n",
        "       -0.27687299,  0.06944263, -0.27671863,  0.10010235, -0.46638534,\n",
        "       -0.14359507,  0.12088332, -1.5239802 , -0.10879589,  0.65843141,\n",
        "        0.67488474])"
       ]
      }
     ],
     "prompt_number": 305
    },
    {
     "cell_type": "code",
     "collapsed": false,
     "input": [
      "#descending\n",
      "coefficients_abs[::-1]"
     ],
     "language": "python",
     "metadata": {},
     "outputs": [
      {
       "metadata": {},
       "output_type": "pyout",
       "prompt_number": 306,
       "text": [
        "array([ 1.5239802 ,  1.48865161,  1.44641043,  1.28239207,  1.19332695,\n",
        "        1.13875449,  1.1247334 ,  0.8347888 ,  0.78196966,  0.76376379,\n",
        "        0.76115079,  0.7349368 ,  0.7140937 ,  0.70796391,  0.6800358 ,\n",
        "        0.67488474,  0.65843141,  0.63884198,  0.6199707 ,  0.60634545,\n",
        "        0.56394742,  0.56305117,  0.55735131,  0.55143483,  0.52933923,\n",
        "        0.5249055 ,  0.51886775,  0.49290237,  0.4925439 ,  0.48644474,\n",
        "        0.48532929,  0.46638534,  0.43937227,  0.42403999,  0.41452909,\n",
        "        0.41220472,  0.40882274,  0.40869008,  0.40493146,  0.40245084,\n",
        "        0.3774721 ,  0.37392439,  0.34838505,  0.34284004,  0.33842398,\n",
        "        0.33370166,  0.32936866,  0.32445276,  0.31945263,  0.30705445,\n",
        "        0.29393315,  0.27687299,  0.27671863,  0.27336171,  0.26299456,\n",
        "        0.25417991,  0.25340334,  0.23814995,  0.23513331,  0.23014368,\n",
        "        0.2125767 ,  0.21160614,  0.20141219,  0.19606815,  0.19588746,\n",
        "        0.18756816,  0.18595767,  0.18288103,  0.17365497,  0.16030974,\n",
        "        0.15941639,  0.15805416,  0.14690292,  0.14641593,  0.14589309,\n",
        "        0.14359507,  0.12088332,  0.11879589,  0.10879589,  0.10673269,\n",
        "        0.10420711,  0.10225684,  0.10176597,  0.1014757 ,  0.10010235,\n",
        "        0.09912657,  0.09470886,  0.09018144,  0.08732501,  0.08661949,\n",
        "        0.07843068,  0.07242293,  0.06944263,  0.06408625,  0.058573  ,\n",
        "        0.0569451 ,  0.04560976,  0.02863034,  0.02740867,  0.02258754,\n",
        "        0.02001066,  0.0164093 ,  0.01541313,  0.00810089,  0.00481261,  0.        ])"
       ]
      }
     ],
     "prompt_number": 306
    },
    {
     "cell_type": "code",
     "collapsed": false,
     "input": [
      "for i, coef in enumerate(model1.coef_[0]):\n",
      "    print \"theta_%s = %s\" %(i+1, coef)"
     ],
     "language": "python",
     "metadata": {},
     "outputs": [
      {
       "output_type": "stream",
       "stream": "stdout",
       "text": [
        "theta_1 = 0.763763785422\n",
        "theta_2 = -0.146415934841\n",
        "theta_3 = -0.273361710378\n",
        "theta_4 = 0.485329286023\n",
        "theta_5 = -0.714093702925\n",
        "theta_6 = 0.0\n",
        "theta_7 = -0.0991265735886\n",
        "theta_8 = 0.56305116752\n",
        "theta_9 = -0.146902923424\n",
        "theta_10 = -0.0585729950368\n",
        "theta_11 = -0.377472102776\n",
        "theta_12 = -0.439372273661\n",
        "theta_13 = -0.55735130584\n",
        "theta_14 = -0.0456097594764\n",
        "theta_15 = 0.529339234887\n",
        "theta_16 = 0.173654967253\n",
        "theta_17 = 0.680035797749\n",
        "theta_18 = -1.12473339606\n",
        "theta_19 = 0.492902368887\n",
        "theta_20 = -0.404931462751\n",
        "theta_21 = -0.761150794457\n",
        "theta_22 = -0.781969660906\n",
        "theta_23 = 0.707963906431\n",
        "theta_24 = -0.31945263229\n",
        "theta_25 = -0.201412186361\n",
        "theta_26 = 0.254179910221\n",
        "theta_27 = -0.619970695145\n",
        "theta_28 = -0.238149947949\n",
        "theta_29 = -0.0274086734331\n",
        "theta_30 = -0.101475701232\n",
        "theta_31 = -0.211606137\n",
        "theta_32 = -0.0569450997743\n",
        "theta_33 = -0.0154131277408\n",
        "theta_34 = -0.158054155076\n",
        "theta_35 = -0.408822738133\n",
        "theta_36 = 0.373924391359\n",
        "theta_37 = -0.0286303411051\n",
        "theta_38 = -0.00481261300926\n",
        "theta_39 = 0.262994557068\n",
        "theta_40 = -0.307054451645\n",
        "theta_41 = -0.230143680779\n",
        "theta_42 = -0.0873250127817\n",
        "theta_43 = 0.348385053748\n",
        "theta_44 = -0.106732691055\n",
        "theta_45 = 0.104207105857\n",
        "theta_46 = -0.51886775267\n",
        "theta_47 = -0.0164093001705\n",
        "theta_48 = 0.32445275818\n",
        "theta_49 = 1.48865160594\n",
        "theta_50 = 0.338423983134\n",
        "theta_51 = -0.414529092944\n",
        "theta_52 = -0.73493680268\n",
        "theta_53 = -0.0784306827599\n",
        "theta_54 = -0.102256838107\n",
        "theta_55 = 0.333701662368\n",
        "theta_56 = 0.196068147058\n",
        "theta_57 = 0.159416390896\n",
        "theta_58 = -0.402450838303\n",
        "theta_59 = -0.524905495014\n",
        "theta_60 = 0.0640862538909\n",
        "theta_61 = -0.0724229279675\n",
        "theta_62 = 0.834788800471\n",
        "theta_63 = 0.0947088577392\n",
        "theta_64 = -0.412204716326\n",
        "theta_65 = -0.212576699403\n",
        "theta_66 = -0.0225875414245\n",
        "theta_67 = -0.235133305019\n",
        "theta_68 = -0.00810089182225\n",
        "theta_69 = 0.486444735159\n",
        "theta_70 = -0.0200106561561\n",
        "theta_71 = -0.187568158091\n",
        "theta_72 = -0.195887463925\n",
        "theta_73 = 0.101765974849\n",
        "theta_74 = 0.145893091112\n",
        "theta_75 = -0.551434828703\n",
        "theta_76 = 0.606345446352\n",
        "theta_77 = 0.342840044042\n",
        "theta_78 = -1.13875448518\n",
        "theta_79 = 0.563947423054\n",
        "theta_80 = -0.638841979642\n",
        "theta_81 = -1.44641043106\n",
        "theta_82 = 0.185957669017\n",
        "theta_83 = -0.293933152361\n",
        "theta_84 = 0.0901814380595\n",
        "theta_85 = 0.408690084862\n",
        "theta_86 = -0.160309735436\n",
        "theta_87 = 0.329368662664\n",
        "theta_88 = 0.424039986354\n",
        "theta_89 = -0.492543902129\n",
        "theta_90 = 0.118795894296\n",
        "theta_91 = 1.19332694725\n",
        "theta_92 = -1.28239207432\n",
        "theta_93 = -0.182881032431\n",
        "theta_94 = 0.0866194850756\n",
        "theta_95 = -0.253403341837\n",
        "theta_96 = -0.276872993526\n",
        "theta_97 = 0.0694426349408\n",
        "theta_98 = -0.27671863225\n",
        "theta_99 = 0.100102347333\n",
        "theta_100 = -0.466385336962\n",
        "theta_101 = -0.143595067696\n",
        "theta_102 = 0.120883319678\n",
        "theta_103 = -1.5239802015\n",
        "theta_104 = -0.108795889423\n",
        "theta_105 = 0.658431408226\n",
        "theta_106 = 0.674884738426\n"
       ]
      }
     ],
     "prompt_number": 307
    },
    {
     "cell_type": "code",
     "collapsed": false,
     "input": [
      "print \"theta_0 = %s\" %(str(model1.intercept_[0]))"
     ],
     "language": "python",
     "metadata": {},
     "outputs": [
      {
       "output_type": "stream",
       "stream": "stdout",
       "text": [
        "theta_0 = 2.83922491172\n"
       ]
      }
     ],
     "prompt_number": 308
    },
    {
     "cell_type": "code",
     "collapsed": false,
     "input": [
      "#model1.class_weight_"
     ],
     "language": "python",
     "metadata": {},
     "outputs": [],
     "prompt_number": 309
    },
    {
     "cell_type": "code",
     "collapsed": false,
     "input": [
      "##Feature selection (Chi-sq and coefficients):\n",
      "##SEE ALSO: COEFFICIENTS\n",
      "##http://stackoverflow.com/questions/12987162/strange-chi-square-result-using-scikit-learn-with-feature-matrix\n",
      "##problem with the chi2-test: 'Input X must be non-negative\"\n",
      "F_test = sklearn.feature_selection.univariate_selection.f_classif(X1_train, y1_train)\n",
      "print F_test, len(F_test) \n",
      "print\n",
      "#print num_variables\n",
      "print F_test[0] #F-score\n",
      "#print num_variables\n",
      "print\n",
      "print X1_feature_names\n",
      "print F_test[1] #p-values\n",
      "print zip(X1_feature_names,F_test[1])\n"
     ],
     "language": "python",
     "metadata": {},
     "outputs": [
      {
       "output_type": "stream",
       "stream": "stdout",
       "text": [
        "(array([  1.95184149e+02,   4.24193403e+02,   1.51568487e+02,\n",
        "         5.79301521e+00,   7.22656970e+00,   8.85516615e+00,\n",
        "         6.64574436e+00,   3.52848403e+01,              nan,\n",
        "         1.30688681e+00,   5.97861900e+00,   3.88561183e+01,\n",
        "         2.42005891e+01,   1.53370413e+00,   7.83542000e+00,\n",
        "         1.28490957e+01,   6.03426689e-02,   4.41107063e-01,\n",
        "         6.12180995e-01,   3.73836255e+00,   2.64511358e+01,\n",
        "         7.41412329e+00,   2.40198200e+01,   3.30514518e+00,\n",
        "         5.19170289e+01,   2.37265556e+00,   1.05343340e+01,\n",
        "         2.34370319e+00,   2.61137813e+01,   9.75795451e+01,\n",
        "         1.67796990e+01,   1.05790756e+01,   1.32308989e+01,\n",
        "         3.32637932e-01,   2.15552805e+00,   1.48406069e+01,\n",
        "         7.34264857e+01,   9.26294600e-01,   4.40446914e+00,\n",
        "         1.35944370e+01,   1.77826903e+01,   1.14361077e+01,\n",
        "         2.29228667e-01,   1.22548734e+00,   1.12574449e+00,\n",
        "         1.37541920e+01,   2.13893788e-01,   1.54958902e+00,\n",
        "         5.17338242e-02,   1.41009254e+01,   2.68908236e+01,\n",
        "         5.28456846e+01,   5.93649861e-01,   1.09147581e+01,\n",
        "         6.17858872e+00,   4.32681073e+00,   2.44366840e+00,\n",
        "         1.65508011e+00,   4.15674077e+00,   1.57071966e+00,\n",
        "         5.64734459e+00,   6.99299335e+00,   1.73666772e+00,\n",
        "         1.67196285e+00,   8.33162565e-01,   4.43319166e+00,\n",
        "         5.26122316e+00,   6.86952763e+00,   9.18853837e+00,\n",
        "         6.85228192e+00,   9.17598147e+00,   7.36657754e+00,\n",
        "         8.81376534e+00,   4.93842297e+01,   6.46030527e+00,\n",
        "         7.57607561e-01,   1.06079068e+01,   4.19243609e+01,\n",
        "         5.86435715e-01,   3.32327284e+00,   1.73568007e+01,\n",
        "         2.18520112e+00,   1.09134387e+01,   2.34003051e+01,\n",
        "         1.16884893e+01,   1.95706104e+00,   2.60459956e+00,\n",
        "         4.59571102e-02,   3.93746689e+00,   3.32161618e+00,\n",
        "         9.44639384e+00,   2.81344993e+01,   1.11584702e+01,\n",
        "         1.63908810e+01,   1.60840432e+01,   9.38397976e+00,\n",
        "         3.91821112e+00,   1.34710247e+01,   1.22536456e+00,\n",
        "         3.97534523e+00,   7.08426572e+00,   1.62517777e+01,\n",
        "         5.87909366e+00,   1.79982596e+01,   1.36566834e+00,\n",
        "         1.14057838e+01,   1.36445363e+01,   3.08956711e+00,\n",
        "         2.60408650e+00]), array([  2.06450000e-39,   2.03208330e-74,   9.74711475e-32,\n",
        "         1.63414481e-02,   7.34973899e-03,   3.02076328e-03,\n",
        "         1.01374917e-02,   4.43828060e-09,              nan,\n",
        "         2.53340114e-01,   1.47195972e-02,   7.77831364e-10,\n",
        "         1.07709845e-06,   2.15962116e-01,   5.26073372e-03,\n",
        "         3.60486477e-04,   8.06025355e-01,   5.06801827e-01,\n",
        "         4.34225766e-01,   5.35693104e-02,   3.49012737e-07,\n",
        "         6.62849847e-03,   1.17949400e-06,   6.94798307e-02,\n",
        "         1.46765520e-12,   1.23917425e-01,   1.22614149e-03,\n",
        "         1.26230653e-01,   4.13065603e-07,   1.15535275e-21,\n",
        "         4.67608116e-05,   1.19724288e-03,   2.95081867e-04,\n",
        "         5.64290659e-01,   1.42495530e-01,   1.27451260e-04,\n",
        "         6.36168177e-17,   3.36151639e-01,   3.61936022e-02,\n",
        "         2.43966103e-04,   2.79285479e-05,   7.59329803e-04,\n",
        "         6.32242116e-01,   2.68657177e-01,   2.89041632e-01,\n",
        "         2.24428278e-04,   6.43872581e-01,   2.13602270e-01,\n",
        "         8.20138044e-01,   1.87284663e-04,   2.80259462e-07,\n",
        "         9.44553555e-13,   4.41264644e-01,   1.00133453e-03,\n",
        "         1.31569997e-02,   3.78706081e-02,   1.18440603e-01,\n",
        "         1.98683564e-01,   4.18349128e-02,   2.10510496e-01,\n",
        "         1.77431011e-02,   8.36171699e-03,   1.87981909e-01,\n",
        "         1.96411723e-01,   3.61666012e-01,   3.55932514e-02,\n",
        "         2.20936636e-02,   8.95330494e-03,   2.52292733e-03,\n",
        "         9.03929182e-03,   2.54007273e-03,   6.80418415e-03,\n",
        "         3.08921084e-03,   4.89922295e-12,   1.12402010e-02,\n",
        "         3.84369174e-01,   1.17898785e-03,   1.75878567e-10,\n",
        "         4.44052390e-01,   6.87214311e-02,   3.47522327e-05,\n",
        "         1.39781392e-01,   1.00203717e-03,   1.61069867e-06,\n",
        "         6.64391450e-04,   1.62259803e-01,   1.06993437e-01,\n",
        "         8.30314649e-01,   4.76021295e-02,   6.87903702e-02,\n",
        "         2.19573071e-03,   1.50875856e-07,   8.79748257e-04,\n",
        "         5.71347965e-05,   6.69381844e-05,   2.27074197e-03,\n",
        "         4.81472169e-02,   2.60229173e-04,   2.68681137e-01,\n",
        "         4.65488280e-02,   7.95027378e-03,   6.13857222e-05,\n",
        "         1.55674806e-02,   2.50066846e-05,   2.42945374e-01,\n",
        "         7.71625726e-04,   2.37660764e-04,   7.92218662e-02,\n",
        "         1.07027934e-01])) 2\n",
        "\n",
        "[  1.95184149e+02   4.24193403e+02   1.51568487e+02   5.79301521e+00\n",
        "   7.22656970e+00   8.85516615e+00   6.64574436e+00   3.52848403e+01\n",
        "              nan   1.30688681e+00   5.97861900e+00   3.88561183e+01\n",
        "   2.42005891e+01   1.53370413e+00   7.83542000e+00   1.28490957e+01\n",
        "   6.03426689e-02   4.41107063e-01   6.12180995e-01   3.73836255e+00\n",
        "   2.64511358e+01   7.41412329e+00   2.40198200e+01   3.30514518e+00\n",
        "   5.19170289e+01   2.37265556e+00   1.05343340e+01   2.34370319e+00\n",
        "   2.61137813e+01   9.75795451e+01   1.67796990e+01   1.05790756e+01\n",
        "   1.32308989e+01   3.32637932e-01   2.15552805e+00   1.48406069e+01\n",
        "   7.34264857e+01   9.26294600e-01   4.40446914e+00   1.35944370e+01\n",
        "   1.77826903e+01   1.14361077e+01   2.29228667e-01   1.22548734e+00\n",
        "   1.12574449e+00   1.37541920e+01   2.13893788e-01   1.54958902e+00\n",
        "   5.17338242e-02   1.41009254e+01   2.68908236e+01   5.28456846e+01\n",
        "   5.93649861e-01   1.09147581e+01   6.17858872e+00   4.32681073e+00\n",
        "   2.44366840e+00   1.65508011e+00   4.15674077e+00   1.57071966e+00\n",
        "   5.64734459e+00   6.99299335e+00   1.73666772e+00   1.67196285e+00\n",
        "   8.33162565e-01   4.43319166e+00   5.26122316e+00   6.86952763e+00\n",
        "   9.18853837e+00   6.85228192e+00   9.17598147e+00   7.36657754e+00\n",
        "   8.81376534e+00   4.93842297e+01   6.46030527e+00   7.57607561e-01\n",
        "   1.06079068e+01   4.19243609e+01   5.86435715e-01   3.32327284e+00\n",
        "   1.73568007e+01   2.18520112e+00   1.09134387e+01   2.34003051e+01\n",
        "   1.16884893e+01   1.95706104e+00   2.60459956e+00   4.59571102e-02\n",
        "   3.93746689e+00   3.32161618e+00   9.44639384e+00   2.81344993e+01\n",
        "   1.11584702e+01   1.63908810e+01   1.60840432e+01   9.38397976e+00\n",
        "   3.91821112e+00   1.34710247e+01   1.22536456e+00   3.97534523e+00\n",
        "   7.08426572e+00   1.62517777e+01   5.87909366e+00   1.79982596e+01\n",
        "   1.36566834e+00   1.14057838e+01   1.36445363e+01   3.08956711e+00\n",
        "   2.60408650e+00]\n",
        "\n",
        "['CONC_TREATMENT' 'SOLVENT' 'CONC_SOLVENT' 'AreaShape_Area'\n",
        " 'AreaShape_Center_X' 'AreaShape_Center_Y' 'AreaShape_Compactness'\n",
        " 'AreaShape_Eccentricity' 'AreaShape_EulerNumber' 'AreaShape_Extent'\n",
        " 'AreaShape_FormFactor' 'AreaShape_MajorAxisLength'\n",
        " 'AreaShape_MaxFeretDiameter' 'AreaShape_MaximumRadius'\n",
        " 'AreaShape_MeanRadius' 'AreaShape_MedianRadius'\n",
        " 'AreaShape_MinFeretDiameter' 'AreaShape_MinorAxisLength'\n",
        " 'AreaShape_Orientation' 'AreaShape_Perimeter' 'AreaShape_Solidity'\n",
        " 'AreaShape_Zernike_0_0' 'AreaShape_Zernike_1_1' 'AreaShape_Zernike_2_0'\n",
        " 'AreaShape_Zernike_2_2' 'AreaShape_Zernike_3_1' 'AreaShape_Zernike_3_3'\n",
        " 'AreaShape_Zernike_4_0' 'AreaShape_Zernike_4_2' 'AreaShape_Zernike_4_4'\n",
        " 'AreaShape_Zernike_5_1' 'AreaShape_Zernike_5_3' 'AreaShape_Zernike_5_5'\n",
        " 'AreaShape_Zernike_6_0' 'AreaShape_Zernike_6_2' 'AreaShape_Zernike_6_4'\n",
        " 'AreaShape_Zernike_6_6' 'AreaShape_Zernike_7_1' 'AreaShape_Zernike_7_3'\n",
        " 'AreaShape_Zernike_7_5' 'AreaShape_Zernike_7_7' 'AreaShape_Zernike_8_0'\n",
        " 'AreaShape_Zernike_8_2' 'AreaShape_Zernike_8_4' 'AreaShape_Zernike_8_6'\n",
        " 'AreaShape_Zernike_8_8' 'AreaShape_Zernike_9_1' 'AreaShape_Zernike_9_3'\n",
        " 'AreaShape_Zernike_9_5' 'AreaShape_Zernike_9_7' 'AreaShape_Zernike_9_9'\n",
        " 'Correlation_Correlation_CorrMT_CorrChromosomes'\n",
        " 'Intensity_IntegratedIntensityEdge_CorrMT'\n",
        " 'Intensity_IntegratedIntensity_CorrMT'\n",
        " 'Intensity_LowerQuartileIntensity_CorrMT' 'Intensity_MADIntensity_CorrMT'\n",
        " 'Intensity_MassDisplacement_CorrMT' 'Intensity_MaxIntensityEdge_CorrMT'\n",
        " 'Intensity_MaxIntensity_CorrMT' 'Intensity_MeanIntensityEdge_CorrMT'\n",
        " 'Intensity_MeanIntensity_CorrMT' 'Intensity_MedianIntensity_CorrMT'\n",
        " 'Intensity_MinIntensityEdge_CorrMT' 'Intensity_MinIntensity_CorrMT'\n",
        " 'Intensity_StdIntensityEdge_CorrMT' 'Intensity_StdIntensity_CorrMT'\n",
        " 'Intensity_UpperQuartileIntensity_CorrMT'\n",
        " 'Location_CenterMassIntensity_X_CorrMT'\n",
        " 'Location_CenterMassIntensity_Y_CorrMT' 'Location_Center_X'\n",
        " 'Location_Center_Y' 'Location_MaxIntensity_X_CorrMT'\n",
        " 'Location_MaxIntensity_Y_CorrMT' 'Math_AxisRatio'\n",
        " 'Math_ChromosomeMassArea' 'Math_ChromosomeMassAreaPerSpindle'\n",
        " 'Math_ChromosomeMassCorrelation' 'Math_ChromosomeMassEccentricity'\n",
        " 'Math_ChromosomeMassEllipticalArea'\n",
        " 'Math_ChromosomeMassIntegratedIntensity' 'Math_ChromosomeMassMajorAxis'\n",
        " 'Math_ChromosomeMassMinorAxis' 'Math_ChromosomeMassPerimeter'\n",
        " 'Math_ChromosomeMassSolidity' 'Math_ChromosomesCorrelation'\n",
        " 'Math_DeltaSquareCenterX_Spindles_ChromosomeMass'\n",
        " 'Math_DeltaSquareCenterX_Spindles_Chromosomes'\n",
        " 'Math_DeltaSquareCenterY_Spindles_ChromosomeMass'\n",
        " 'Math_DeltaSquareCenterY_Spindles_Chromosomes'\n",
        " 'Math_GeometricCenterOffsetChromosomeMass'\n",
        " 'Math_GeometricCenterOffsetChromosomes'\n",
        " 'Math_SpindleToMetaphasePlateOffset' 'Math_SquarePlateAngle'\n",
        " 'Number_Object_Number' 'Parent_Spindles'\n",
        " 'Texture_AngularSecondMoment_CorrMT_3_0' 'Texture_Contrast_CorrMT_3_0'\n",
        " 'Texture_Correlation_CorrMT_3_0' 'Texture_DifferenceEntropy_CorrMT_3_0'\n",
        " 'Texture_DifferenceVariance_CorrMT_3_0' 'Texture_Entropy_CorrMT_3_0'\n",
        " 'Texture_Gabor_CorrMT_3' 'Texture_InfoMeas1_CorrMT_3_0'\n",
        " 'Texture_InfoMeas2_CorrMT_3_0'\n",
        " 'Texture_InverseDifferenceMoment_CorrMT_3_0'\n",
        " 'Texture_SumAverage_CorrMT_3_0' 'Texture_SumEntropy_CorrMT_3_0'\n",
        " 'Texture_SumVariance_CorrMT_3_0' 'Texture_Variance_CorrMT_3_0']\n",
        "[  2.06450000e-39   2.03208330e-74   9.74711475e-32   1.63414481e-02\n",
        "   7.34973899e-03   3.02076328e-03   1.01374917e-02   4.43828060e-09\n",
        "              nan   2.53340114e-01   1.47195972e-02   7.77831364e-10\n",
        "   1.07709845e-06   2.15962116e-01   5.26073372e-03   3.60486477e-04\n",
        "   8.06025355e-01   5.06801827e-01   4.34225766e-01   5.35693104e-02\n",
        "   3.49012737e-07   6.62849847e-03   1.17949400e-06   6.94798307e-02\n",
        "   1.46765520e-12   1.23917425e-01   1.22614149e-03   1.26230653e-01\n",
        "   4.13065603e-07   1.15535275e-21   4.67608116e-05   1.19724288e-03\n",
        "   2.95081867e-04   5.64290659e-01   1.42495530e-01   1.27451260e-04\n",
        "   6.36168177e-17   3.36151639e-01   3.61936022e-02   2.43966103e-04\n",
        "   2.79285479e-05   7.59329803e-04   6.32242116e-01   2.68657177e-01\n",
        "   2.89041632e-01   2.24428278e-04   6.43872581e-01   2.13602270e-01\n",
        "   8.20138044e-01   1.87284663e-04   2.80259462e-07   9.44553555e-13\n",
        "   4.41264644e-01   1.00133453e-03   1.31569997e-02   3.78706081e-02\n",
        "   1.18440603e-01   1.98683564e-01   4.18349128e-02   2.10510496e-01\n",
        "   1.77431011e-02   8.36171699e-03   1.87981909e-01   1.96411723e-01\n",
        "   3.61666012e-01   3.55932514e-02   2.20936636e-02   8.95330494e-03\n",
        "   2.52292733e-03   9.03929182e-03   2.54007273e-03   6.80418415e-03\n",
        "   3.08921084e-03   4.89922295e-12   1.12402010e-02   3.84369174e-01\n",
        "   1.17898785e-03   1.75878567e-10   4.44052390e-01   6.87214311e-02\n",
        "   3.47522327e-05   1.39781392e-01   1.00203717e-03   1.61069867e-06\n",
        "   6.64391450e-04   1.62259803e-01   1.06993437e-01   8.30314649e-01\n",
        "   4.76021295e-02   6.87903702e-02   2.19573071e-03   1.50875856e-07\n",
        "   8.79748257e-04   5.71347965e-05   6.69381844e-05   2.27074197e-03\n",
        "   4.81472169e-02   2.60229173e-04   2.68681137e-01   4.65488280e-02\n",
        "   7.95027378e-03   6.13857222e-05   1.55674806e-02   2.50066846e-05\n",
        "   2.42945374e-01   7.71625726e-04   2.37660764e-04   7.92218662e-02\n",
        "   1.07027934e-01]\n",
        "[('CONC_TREATMENT', 2.0644999977506375e-39), ('SOLVENT', 2.0320833040916903e-74), ('CONC_SOLVENT', 9.7471147511402141e-32), ('AreaShape_Area', 0.016341448148786481), ('AreaShape_Center_X', 0.0073497389926201829), ('AreaShape_Center_Y', 0.0030207632783748289), ('AreaShape_Compactness', 0.010137491704920436), ('AreaShape_Eccentricity', 4.4382806037190172e-09), ('AreaShape_EulerNumber', nan), ('AreaShape_Extent', 0.25334011438703219), ('AreaShape_FormFactor', 0.01471959724648739), ('AreaShape_MajorAxisLength', 7.7783136441942516e-10), ('AreaShape_MaxFeretDiameter', 1.0770984462333594e-06), ('AreaShape_MaximumRadius', 0.2159621157100983), ('AreaShape_MeanRadius', 0.0052607337230405286), ('AreaShape_MedianRadius', 0.00036048647724889159), ('AreaShape_MinFeretDiameter', 0.80602535503077122), ('AreaShape_MinorAxisLength', 0.5068018268175738), ('AreaShape_Orientation', 0.43422576590890782), ('AreaShape_Perimeter', 0.053569310432793359), ('AreaShape_Solidity', 3.490127368665461e-07), ('AreaShape_Zernike_0_0', 0.0066284984736147811), ('AreaShape_Zernike_1_1', 1.1794940041681599e-06), ('AreaShape_Zernike_2_0', 0.069479830685081026), ('AreaShape_Zernike_2_2', 1.4676551962401873e-12), ('AreaShape_Zernike_3_1', 0.12391742479037018), ('AreaShape_Zernike_3_3', 0.0012261414918866358), ('AreaShape_Zernike_4_0', 0.12623065317930768), ('AreaShape_Zernike_4_2', 4.1306560327863188e-07), ('AreaShape_Zernike_4_4', 1.1553527526811095e-21), ('AreaShape_Zernike_5_1', 4.6760811587668794e-05), ('AreaShape_Zernike_5_3', 0.0011972428834092976), ('AreaShape_Zernike_5_5', 0.00029508186726660298), ('AreaShape_Zernike_6_0', 0.56429065930406042), ('AreaShape_Zernike_6_2', 0.14249553023885292), ('AreaShape_Zernike_6_4', 0.00012745125958503733), ('AreaShape_Zernike_6_6', 6.3616817707704517e-17), ('AreaShape_Zernike_7_1', 0.33615163925230607), ('AreaShape_Zernike_7_3', 0.036193602204898631), ('AreaShape_Zernike_7_5', 0.00024396610316064073), ('AreaShape_Zernike_7_7', 2.7928547866687223e-05), ('AreaShape_Zernike_8_0', 0.00075932980271208625), ('AreaShape_Zernike_8_2', 0.63224211633031502), ('AreaShape_Zernike_8_4', 0.26865717723166799), ('AreaShape_Zernike_8_6', 0.28904163213698009), ('AreaShape_Zernike_8_8', 0.00022442827752571279), ('AreaShape_Zernike_9_1', 0.64387258115138035), ('AreaShape_Zernike_9_3', 0.21360227017926003), ('AreaShape_Zernike_9_5', 0.82013804416835911), ('AreaShape_Zernike_9_7', 0.00018728466341281705), ('AreaShape_Zernike_9_9', 2.8025946189375894e-07), ('Correlation_Correlation_CorrMT_CorrChromosomes', 9.445535554668634e-13), ('Intensity_IntegratedIntensityEdge_CorrMT', 0.44126464389436848), ('Intensity_IntegratedIntensity_CorrMT', 0.0010013345256568058), ('Intensity_LowerQuartileIntensity_CorrMT', 0.013156999694268761), ('Intensity_MADIntensity_CorrMT', 0.037870608122811622), ('Intensity_MassDisplacement_CorrMT', 0.11844060341743243), ('Intensity_MaxIntensityEdge_CorrMT', 0.19868356360454037), ('Intensity_MaxIntensity_CorrMT', 0.041834912846744038), ('Intensity_MeanIntensityEdge_CorrMT', 0.21051049559565954), ('Intensity_MeanIntensity_CorrMT', 0.017743101123378163), ('Intensity_MedianIntensity_CorrMT', 0.0083617169863281354), ('Intensity_MinIntensityEdge_CorrMT', 0.18798190903376821), ('Intensity_MinIntensity_CorrMT', 0.19641172259567566), ('Intensity_StdIntensityEdge_CorrMT', 0.36166601210439053), ('Intensity_StdIntensity_CorrMT', 0.03559325135482401), ('Intensity_UpperQuartileIntensity_CorrMT', 0.022093663567183786), ('Location_CenterMassIntensity_X_CorrMT', 0.0089533049371300043), ('Location_CenterMassIntensity_Y_CorrMT', 0.0025229273281901039), ('Location_Center_X', 0.0090392918247537077), ('Location_Center_Y', 0.0025400727263412081), ('Location_MaxIntensity_X_CorrMT', 0.0068041841497334049), ('Location_MaxIntensity_Y_CorrMT', 0.0030892108367844145), ('Math_AxisRatio', 4.8992229520643014e-12), ('Math_ChromosomeMassArea', 0.011240200963489126), ('Math_ChromosomeMassAreaPerSpindle', 0.38436917386633551), ('Math_ChromosomeMassCorrelation', 0.0011789878504990224), ('Math_ChromosomeMassEccentricity', 1.7587856650681054e-10), ('Math_ChromosomeMassEllipticalArea', 0.44405238975981021), ('Math_ChromosomeMassIntegratedIntensity', 0.068721431128398514), ('Math_ChromosomeMassMajorAxis', 3.4752232735167091e-05), ('Math_ChromosomeMassMinorAxis', 0.13978139244535923), ('Math_ChromosomeMassPerimeter', 0.001002037167789265), ('Math_ChromosomeMassSolidity', 1.610698672556637e-06), ('Math_ChromosomesCorrelation', 0.00066439145038354986), ('Math_DeltaSquareCenterX_Spindles_ChromosomeMass', 0.16225980260992251), ('Math_DeltaSquareCenterX_Spindles_Chromosomes', 0.10699343650108263), ('Math_DeltaSquareCenterY_Spindles_ChromosomeMass', 0.83031464944822131), ('Math_DeltaSquareCenterY_Spindles_Chromosomes', 0.04760212950777902), ('Math_GeometricCenterOffsetChromosomeMass', 0.068790370170860565), ('Math_GeometricCenterOffsetChromosomes', 0.0021957307092013026), ('Math_SpindleToMetaphasePlateOffset', 1.5087585618889207e-07), ('Math_SquarePlateAngle', 0.00087974825652881021), ('Number_Object_Number', 5.7134796502675039e-05), ('Parent_Spindles', 6.6938184400813888e-05), ('Texture_AngularSecondMoment_CorrMT_3_0', 0.0022707419676198872), ('Texture_Contrast_CorrMT_3_0', 0.04814721693968875), ('Texture_Correlation_CorrMT_3_0', 0.00026022917262477868), ('Texture_DifferenceEntropy_CorrMT_3_0', 0.26868113675255856), ('Texture_DifferenceVariance_CorrMT_3_0', 0.046548828018005306), ('Texture_Entropy_CorrMT_3_0', 0.0079502737802891032), ('Texture_Gabor_CorrMT_3', 6.1385722157596874e-05), ('Texture_InfoMeas1_CorrMT_3_0', 0.015567480574276739), ('Texture_InfoMeas2_CorrMT_3_0', 2.5006684592574558e-05), ('Texture_InverseDifferenceMoment_CorrMT_3_0', 0.24294537412754152), ('Texture_SumAverage_CorrMT_3_0', 0.0007716257258094134), ('Texture_SumEntropy_CorrMT_3_0', 0.0002376607644559058), ('Texture_SumVariance_CorrMT_3_0', 0.079221866212254508), ('Texture_Variance_CorrMT_3_0', 0.10702793381175563)]\n"
       ]
      },
      {
       "output_type": "stream",
       "stream": "stderr",
       "text": [
        "/Users/Tango/Library/Enthought/Canopy_64bit/User/lib/python2.7/site-packages/numpy/lib/utils.py:134: DeprecationWarning: `fprob` is deprecated!\n",
        "fprob is deprecated in scipy 0.14, use stats.f.sf or special.fdtrc instead\n",
        "\n",
        "  warnings.warn(depdoc, DeprecationWarning)\n"
       ]
      }
     ],
     "prompt_number": 310
    },
    {
     "cell_type": "code",
     "collapsed": false,
     "input": [
      "##Feature selection (Chi-sq and coefficients):\n",
      "##SEE ALSO: COEFFICIENTS\n",
      "##http://stackoverflow.com/questions/12987162/strange-chi-square-result-using-scikit-learn-with-feature-matrix\n",
      "##problem with the chi2-test: 'Input X must be non-negative\"\n",
      "F_test = sklearn.feature_selection.univariate_selection.f_classif(X3_train, y3_train)\n",
      "print F_test, len(F_test) \n",
      "print\n",
      "#print num_variables\n",
      "print F_test[0] #F-score\n",
      "#print num_variables\n",
      "print\n",
      "print X3_feature_names\n",
      "print F_test[1] #p-values\n",
      "#print zip(X1_feature_names,F_test[1])\n"
     ],
     "language": "python",
     "metadata": {},
     "outputs": [
      {
       "output_type": "stream",
       "stream": "stdout",
       "text": [
        "(array([  1.95184149e+02,   4.24193403e+02,   1.51568487e+02,\n",
        "         5.79301521e+00,   7.22656970e+00,   8.85516615e+00,\n",
        "         6.64574436e+00,   3.52848403e+01,              nan,\n",
        "         1.30688681e+00,   5.97861900e+00,   3.88561183e+01,\n",
        "         2.42005891e+01,   1.53370413e+00,   7.83542000e+00,\n",
        "         1.28490957e+01,   6.03426689e-02,   4.41107063e-01,\n",
        "         6.12180995e-01,   3.73836255e+00,   2.64511358e+01,\n",
        "         7.41412329e+00,   2.40198200e+01,   3.30514518e+00,\n",
        "         5.19170289e+01,   2.37265556e+00,   1.05343340e+01,\n",
        "         2.34370319e+00,   2.61137813e+01,   9.75795451e+01,\n",
        "         1.67796990e+01,   1.05790756e+01,   1.32308989e+01,\n",
        "         3.32637932e-01,   2.15552805e+00,   1.48406069e+01,\n",
        "         7.34264857e+01,   9.26294600e-01,   4.40446914e+00,\n",
        "         1.35944370e+01,   1.77826903e+01,   1.14361077e+01,\n",
        "         2.29228667e-01,   1.22548734e+00,   1.12574449e+00,\n",
        "         1.37541920e+01,   2.13893788e-01,   1.54958902e+00,\n",
        "         5.17338242e-02,   1.41009254e+01,   2.68908236e+01,\n",
        "         5.28456846e+01,   5.93649861e-01,   1.09147581e+01,\n",
        "         6.17858872e+00,   4.32681073e+00,   2.44366840e+00,\n",
        "         1.65508011e+00,   4.15674077e+00,   1.57071966e+00,\n",
        "         5.64734459e+00,   6.99299335e+00,   1.73666772e+00,\n",
        "         1.67196285e+00,   8.33162565e-01,   4.43319166e+00,\n",
        "         5.26122316e+00,   6.86952763e+00,   9.18853837e+00,\n",
        "         6.85228192e+00,   9.17598147e+00,   7.36657754e+00,\n",
        "         8.81376534e+00,   4.93842297e+01,   6.46030527e+00,\n",
        "         7.57607561e-01,   1.06079068e+01,   4.19243609e+01,\n",
        "         5.86435715e-01,   3.32327284e+00,   1.73568007e+01,\n",
        "         2.18520112e+00,   1.09134387e+01,   2.34003051e+01,\n",
        "         1.16884893e+01,   1.95706104e+00,   2.60459956e+00,\n",
        "         4.59571102e-02,   3.93746689e+00,   3.32161618e+00,\n",
        "         9.44639384e+00,   2.81344993e+01,   1.11584702e+01,\n",
        "         1.63908810e+01,   1.60840432e+01,   9.38397976e+00,\n",
        "         3.91821112e+00,   1.34710247e+01,   1.22536456e+00,\n",
        "         3.97534523e+00,   7.08426572e+00,   1.62517777e+01,\n",
        "         5.87909366e+00,   1.79982596e+01,   1.36566834e+00,\n",
        "         1.14057838e+01,   1.36445363e+01,   3.08956711e+00,\n",
        "         2.60408650e+00]), array([  2.06450000e-39,   2.03208330e-74,   9.74711475e-32,\n",
        "         1.63414481e-02,   7.34973899e-03,   3.02076328e-03,\n",
        "         1.01374917e-02,   4.43828060e-09,              nan,\n",
        "         2.53340114e-01,   1.47195972e-02,   7.77831364e-10,\n",
        "         1.07709845e-06,   2.15962116e-01,   5.26073372e-03,\n",
        "         3.60486477e-04,   8.06025355e-01,   5.06801827e-01,\n",
        "         4.34225766e-01,   5.35693104e-02,   3.49012737e-07,\n",
        "         6.62849847e-03,   1.17949400e-06,   6.94798307e-02,\n",
        "         1.46765520e-12,   1.23917425e-01,   1.22614149e-03,\n",
        "         1.26230653e-01,   4.13065603e-07,   1.15535275e-21,\n",
        "         4.67608116e-05,   1.19724288e-03,   2.95081867e-04,\n",
        "         5.64290659e-01,   1.42495530e-01,   1.27451260e-04,\n",
        "         6.36168177e-17,   3.36151639e-01,   3.61936022e-02,\n",
        "         2.43966103e-04,   2.79285479e-05,   7.59329803e-04,\n",
        "         6.32242116e-01,   2.68657177e-01,   2.89041632e-01,\n",
        "         2.24428278e-04,   6.43872581e-01,   2.13602270e-01,\n",
        "         8.20138044e-01,   1.87284663e-04,   2.80259462e-07,\n",
        "         9.44553555e-13,   4.41264644e-01,   1.00133453e-03,\n",
        "         1.31569997e-02,   3.78706081e-02,   1.18440603e-01,\n",
        "         1.98683564e-01,   4.18349128e-02,   2.10510496e-01,\n",
        "         1.77431011e-02,   8.36171699e-03,   1.87981909e-01,\n",
        "         1.96411723e-01,   3.61666012e-01,   3.55932514e-02,\n",
        "         2.20936636e-02,   8.95330494e-03,   2.52292733e-03,\n",
        "         9.03929182e-03,   2.54007273e-03,   6.80418415e-03,\n",
        "         3.08921084e-03,   4.89922295e-12,   1.12402010e-02,\n",
        "         3.84369174e-01,   1.17898785e-03,   1.75878567e-10,\n",
        "         4.44052390e-01,   6.87214311e-02,   3.47522327e-05,\n",
        "         1.39781392e-01,   1.00203717e-03,   1.61069867e-06,\n",
        "         6.64391450e-04,   1.62259803e-01,   1.06993437e-01,\n",
        "         8.30314649e-01,   4.76021295e-02,   6.87903702e-02,\n",
        "         2.19573071e-03,   1.50875856e-07,   8.79748257e-04,\n",
        "         5.71347965e-05,   6.69381844e-05,   2.27074197e-03,\n",
        "         4.81472169e-02,   2.60229173e-04,   2.68681137e-01,\n",
        "         4.65488280e-02,   7.95027378e-03,   6.13857222e-05,\n",
        "         1.55674806e-02,   2.50066846e-05,   2.42945374e-01,\n",
        "         7.71625726e-04,   2.37660764e-04,   7.92218662e-02,\n",
        "         1.07027934e-01])) 2\n",
        "\n",
        "[  1.95184149e+02   4.24193403e+02   1.51568487e+02   5.79301521e+00\n",
        "   7.22656970e+00   8.85516615e+00   6.64574436e+00   3.52848403e+01\n",
        "              nan   1.30688681e+00   5.97861900e+00   3.88561183e+01\n",
        "   2.42005891e+01   1.53370413e+00   7.83542000e+00   1.28490957e+01\n",
        "   6.03426689e-02   4.41107063e-01   6.12180995e-01   3.73836255e+00\n",
        "   2.64511358e+01   7.41412329e+00   2.40198200e+01   3.30514518e+00\n",
        "   5.19170289e+01   2.37265556e+00   1.05343340e+01   2.34370319e+00\n",
        "   2.61137813e+01   9.75795451e+01   1.67796990e+01   1.05790756e+01\n",
        "   1.32308989e+01   3.32637932e-01   2.15552805e+00   1.48406069e+01\n",
        "   7.34264857e+01   9.26294600e-01   4.40446914e+00   1.35944370e+01\n",
        "   1.77826903e+01   1.14361077e+01   2.29228667e-01   1.22548734e+00\n",
        "   1.12574449e+00   1.37541920e+01   2.13893788e-01   1.54958902e+00\n",
        "   5.17338242e-02   1.41009254e+01   2.68908236e+01   5.28456846e+01\n",
        "   5.93649861e-01   1.09147581e+01   6.17858872e+00   4.32681073e+00\n",
        "   2.44366840e+00   1.65508011e+00   4.15674077e+00   1.57071966e+00\n",
        "   5.64734459e+00   6.99299335e+00   1.73666772e+00   1.67196285e+00\n",
        "   8.33162565e-01   4.43319166e+00   5.26122316e+00   6.86952763e+00\n",
        "   9.18853837e+00   6.85228192e+00   9.17598147e+00   7.36657754e+00\n",
        "   8.81376534e+00   4.93842297e+01   6.46030527e+00   7.57607561e-01\n",
        "   1.06079068e+01   4.19243609e+01   5.86435715e-01   3.32327284e+00\n",
        "   1.73568007e+01   2.18520112e+00   1.09134387e+01   2.34003051e+01\n",
        "   1.16884893e+01   1.95706104e+00   2.60459956e+00   4.59571102e-02\n",
        "   3.93746689e+00   3.32161618e+00   9.44639384e+00   2.81344993e+01\n",
        "   1.11584702e+01   1.63908810e+01   1.60840432e+01   9.38397976e+00\n",
        "   3.91821112e+00   1.34710247e+01   1.22536456e+00   3.97534523e+00\n",
        "   7.08426572e+00   1.62517777e+01   5.87909366e+00   1.79982596e+01\n",
        "   1.36566834e+00   1.14057838e+01   1.36445363e+01   3.08956711e+00\n",
        "   2.60408650e+00]\n",
        "\n",
        "['CONC_TREATMENT' 'SOLVENT' 'CONC_SOLVENT' 'AreaShape_Area'\n",
        " 'AreaShape_Center_X' 'AreaShape_Center_Y' 'AreaShape_Compactness'\n",
        " 'AreaShape_Eccentricity' 'AreaShape_EulerNumber' 'AreaShape_Extent'\n",
        " 'AreaShape_FormFactor' 'AreaShape_MajorAxisLength'\n",
        " 'AreaShape_MaxFeretDiameter' 'AreaShape_MaximumRadius'\n",
        " 'AreaShape_MeanRadius' 'AreaShape_MedianRadius'\n",
        " 'AreaShape_MinFeretDiameter' 'AreaShape_MinorAxisLength'\n",
        " 'AreaShape_Orientation' 'AreaShape_Perimeter' 'AreaShape_Solidity'\n",
        " 'AreaShape_Zernike_0_0' 'AreaShape_Zernike_1_1' 'AreaShape_Zernike_2_0'\n",
        " 'AreaShape_Zernike_2_2' 'AreaShape_Zernike_3_1' 'AreaShape_Zernike_3_3'\n",
        " 'AreaShape_Zernike_4_0' 'AreaShape_Zernike_4_2' 'AreaShape_Zernike_4_4'\n",
        " 'AreaShape_Zernike_5_1' 'AreaShape_Zernike_5_3' 'AreaShape_Zernike_5_5'\n",
        " 'AreaShape_Zernike_6_0' 'AreaShape_Zernike_6_2' 'AreaShape_Zernike_6_4'\n",
        " 'AreaShape_Zernike_6_6' 'AreaShape_Zernike_7_1' 'AreaShape_Zernike_7_3'\n",
        " 'AreaShape_Zernike_7_5' 'AreaShape_Zernike_7_7' 'AreaShape_Zernike_8_0'\n",
        " 'AreaShape_Zernike_8_2' 'AreaShape_Zernike_8_4' 'AreaShape_Zernike_8_6'\n",
        " 'AreaShape_Zernike_8_8' 'AreaShape_Zernike_9_1' 'AreaShape_Zernike_9_3'\n",
        " 'AreaShape_Zernike_9_5' 'AreaShape_Zernike_9_7' 'AreaShape_Zernike_9_9'\n",
        " 'Correlation_Correlation_CorrMT_CorrChromosomes'\n",
        " 'Intensity_IntegratedIntensityEdge_CorrMT'\n",
        " 'Intensity_IntegratedIntensity_CorrMT'\n",
        " 'Intensity_LowerQuartileIntensity_CorrMT' 'Intensity_MADIntensity_CorrMT'\n",
        " 'Intensity_MassDisplacement_CorrMT' 'Intensity_MaxIntensityEdge_CorrMT'\n",
        " 'Intensity_MaxIntensity_CorrMT' 'Intensity_MeanIntensityEdge_CorrMT'\n",
        " 'Intensity_MeanIntensity_CorrMT' 'Intensity_MedianIntensity_CorrMT'\n",
        " 'Intensity_MinIntensityEdge_CorrMT' 'Intensity_MinIntensity_CorrMT'\n",
        " 'Intensity_StdIntensityEdge_CorrMT' 'Intensity_StdIntensity_CorrMT'\n",
        " 'Intensity_UpperQuartileIntensity_CorrMT'\n",
        " 'Location_CenterMassIntensity_X_CorrMT'\n",
        " 'Location_CenterMassIntensity_Y_CorrMT' 'Location_Center_X'\n",
        " 'Location_Center_Y' 'Location_MaxIntensity_X_CorrMT'\n",
        " 'Location_MaxIntensity_Y_CorrMT' 'Math_AxisRatio'\n",
        " 'Math_ChromosomeMassArea' 'Math_ChromosomeMassAreaPerSpindle'\n",
        " 'Math_ChromosomeMassCorrelation' 'Math_ChromosomeMassEccentricity'\n",
        " 'Math_ChromosomeMassEllipticalArea'\n",
        " 'Math_ChromosomeMassIntegratedIntensity' 'Math_ChromosomeMassMajorAxis'\n",
        " 'Math_ChromosomeMassMinorAxis' 'Math_ChromosomeMassPerimeter'\n",
        " 'Math_ChromosomeMassSolidity' 'Math_ChromosomesCorrelation'\n",
        " 'Math_DeltaSquareCenterX_Spindles_ChromosomeMass'\n",
        " 'Math_DeltaSquareCenterX_Spindles_Chromosomes'\n",
        " 'Math_DeltaSquareCenterY_Spindles_ChromosomeMass'\n",
        " 'Math_DeltaSquareCenterY_Spindles_Chromosomes'\n",
        " 'Math_GeometricCenterOffsetChromosomeMass'\n",
        " 'Math_GeometricCenterOffsetChromosomes'\n",
        " 'Math_SpindleToMetaphasePlateOffset' 'Math_SquarePlateAngle'\n",
        " 'Number_Object_Number' 'Parent_Spindles'\n",
        " 'Texture_AngularSecondMoment_CorrMT_3_0' 'Texture_Contrast_CorrMT_3_0'\n",
        " 'Texture_Correlation_CorrMT_3_0' 'Texture_DifferenceEntropy_CorrMT_3_0'\n",
        " 'Texture_DifferenceVariance_CorrMT_3_0' 'Texture_Entropy_CorrMT_3_0'\n",
        " 'Texture_Gabor_CorrMT_3' 'Texture_InfoMeas1_CorrMT_3_0'\n",
        " 'Texture_InfoMeas2_CorrMT_3_0'\n",
        " 'Texture_InverseDifferenceMoment_CorrMT_3_0'\n",
        " 'Texture_SumAverage_CorrMT_3_0' 'Texture_SumEntropy_CorrMT_3_0'\n",
        " 'Texture_SumVariance_CorrMT_3_0' 'Texture_Variance_CorrMT_3_0']\n",
        "[  2.06450000e-39   2.03208330e-74   9.74711475e-32   1.63414481e-02\n",
        "   7.34973899e-03   3.02076328e-03   1.01374917e-02   4.43828060e-09\n",
        "              nan   2.53340114e-01   1.47195972e-02   7.77831364e-10\n",
        "   1.07709845e-06   2.15962116e-01   5.26073372e-03   3.60486477e-04\n",
        "   8.06025355e-01   5.06801827e-01   4.34225766e-01   5.35693104e-02\n",
        "   3.49012737e-07   6.62849847e-03   1.17949400e-06   6.94798307e-02\n",
        "   1.46765520e-12   1.23917425e-01   1.22614149e-03   1.26230653e-01\n",
        "   4.13065603e-07   1.15535275e-21   4.67608116e-05   1.19724288e-03\n",
        "   2.95081867e-04   5.64290659e-01   1.42495530e-01   1.27451260e-04\n",
        "   6.36168177e-17   3.36151639e-01   3.61936022e-02   2.43966103e-04\n",
        "   2.79285479e-05   7.59329803e-04   6.32242116e-01   2.68657177e-01\n",
        "   2.89041632e-01   2.24428278e-04   6.43872581e-01   2.13602270e-01\n",
        "   8.20138044e-01   1.87284663e-04   2.80259462e-07   9.44553555e-13\n",
        "   4.41264644e-01   1.00133453e-03   1.31569997e-02   3.78706081e-02\n",
        "   1.18440603e-01   1.98683564e-01   4.18349128e-02   2.10510496e-01\n",
        "   1.77431011e-02   8.36171699e-03   1.87981909e-01   1.96411723e-01\n",
        "   3.61666012e-01   3.55932514e-02   2.20936636e-02   8.95330494e-03\n",
        "   2.52292733e-03   9.03929182e-03   2.54007273e-03   6.80418415e-03\n",
        "   3.08921084e-03   4.89922295e-12   1.12402010e-02   3.84369174e-01\n",
        "   1.17898785e-03   1.75878567e-10   4.44052390e-01   6.87214311e-02\n",
        "   3.47522327e-05   1.39781392e-01   1.00203717e-03   1.61069867e-06\n",
        "   6.64391450e-04   1.62259803e-01   1.06993437e-01   8.30314649e-01\n",
        "   4.76021295e-02   6.87903702e-02   2.19573071e-03   1.50875856e-07\n",
        "   8.79748257e-04   5.71347965e-05   6.69381844e-05   2.27074197e-03\n",
        "   4.81472169e-02   2.60229173e-04   2.68681137e-01   4.65488280e-02\n",
        "   7.95027378e-03   6.13857222e-05   1.55674806e-02   2.50066846e-05\n",
        "   2.42945374e-01   7.71625726e-04   2.37660764e-04   7.92218662e-02\n",
        "   1.07027934e-01]\n"
       ]
      }
     ],
     "prompt_number": 311
    },
    {
     "cell_type": "code",
     "collapsed": false,
     "input": [
      "#print num_variables\n",
      "#print len(num_variables)\n",
      "#print model1.coef_\n",
      "#print model1.coef_.ravel()\n",
      "#?model1.coef_.ravel() #Return a flattened array.\n",
      "#x = np.arange(X1_test.shape[1])\n",
      "#plt.bar(x, model1.coef_.ravel())\n",
      "#_ = plt.xticks(x + 0.5, X1_feature_names, rotation=30)\n",
      "#plt.ylabel('thetas')\n",
      "#plt.xlabel('variables/features')"
     ],
     "language": "python",
     "metadata": {},
     "outputs": [],
     "prompt_number": 312
    },
    {
     "cell_type": "code",
     "collapsed": false,
     "input": [
      "x = np.arange(X3_test.shape[1])\n",
      "plt.bar(x, model3.coef_.ravel())\n",
      "#_ = plt.xticks(x + 0.5, X1_feature_names, rotation=30)\n",
      "plt.ylabel('thetas')\n",
      "plt.xlabel('variables/features')"
     ],
     "language": "python",
     "metadata": {},
     "outputs": [
      {
       "metadata": {},
       "output_type": "pyout",
       "prompt_number": 313,
       "text": [
        "<matplotlib.text.Text at 0x10e7b4790>"
       ]
      },
      {
       "metadata": {},
       "output_type": "display_data",
       "png": "[encoded data removed]",
       "text": [
        "<matplotlib.figure.Figure at 0x10e234610>"
       ]
      }
     ],
     "prompt_number": 313
    },
    {
     "cell_type": "code",
     "collapsed": false,
     "input": [
      "x = np.arange(X4_test.shape[1])\n",
      "plt.bar(x, model4.coef_.ravel())\n",
      "#_ = plt.xticks(x + 0.5, X1_feature_names, rotation=30)\n",
      "plt.ylabel('thetas')\n",
      "plt.xlabel('variables/features')\n",
      "plt.xlim(0,110)"
     ],
     "language": "python",
     "metadata": {},
     "outputs": [
      {
       "metadata": {},
       "output_type": "pyout",
       "prompt_number": 314,
       "text": [
        "(0, 110)"
       ]
      },
      {
       "metadata": {},
       "output_type": "display_data",
       "png": "[encoded data removed]",
       "text": [
        "<matplotlib.figure.Figure at 0x110b43e50>"
       ]
      }
     ],
     "prompt_number": 314
    },
    {
     "cell_type": "code",
     "collapsed": false,
     "input": [
      "x = np.arange(X4a_test.shape[1])\n",
      "plt.bar(x,my_model_4a.coef_.ravel())\n",
      "#_ = plt.xticks(x + 0.5, X1_feature_names, rotation=30)\n",
      "plt.ylabel('thetas')\n",
      "plt.xlabel('variables/features')\n",
      "plt.xlim(0,110)"
     ],
     "language": "python",
     "metadata": {},
     "outputs": [
      {
       "metadata": {},
       "output_type": "pyout",
       "prompt_number": 315,
       "text": [
        "(0, 110)"
       ]
      },
      {
       "metadata": {},
       "output_type": "display_data",
       "png": "[encoded data removed]",
       "text": [
        "<matplotlib.figure.Figure at 0x10e222d90>"
       ]
      }
     ],
     "prompt_number": 315
    },
    {
     "cell_type": "code",
     "collapsed": false,
     "input": [
      "##Feature selection (Chi-sq and coefficients):\n",
      "##SEE ALSO: COEFFICIENTS\n",
      "##http://stackoverflow.com/questions/12987162/strange-chi-square-result-using-scikit-learn-with-feature-matrix\n",
      "##problem with the chi2-test: 'Input X must be non-negative\"\n",
      "F_test = sklearn.feature_selection.univariate_selection.f_classif(X4_train, y4_train)\n",
      "#print F_test, len(F_test) \n",
      "print\n",
      "#print num_variables\n",
      "#print F_test[0] #F-score\n",
      "#print num_variables\n",
      "print\n",
      "print X4_feature_names\n",
      "print F_test[1] #p-values\n",
      "#print zip(X1_feature_names,F_test[1])\n",
      "x = np.arange(X4_test.shape[1])\n",
      "y = np.log10(F_test[1])\n",
      "plt.bar(x,y)\n",
      "#_ = plt.xticks(x + 0.5, X1_feature_names, rotation=30)\n",
      "plt.ylabel('log10(pval)')\n",
      "plt.xlabel('variables/features')\n",
      "plt.xlim(0,110)\n"
     ],
     "language": "python",
     "metadata": {},
     "outputs": [
      {
       "output_type": "stream",
       "stream": "stdout",
       "text": [
        "\n",
        "\n",
        "['AreaShape_Area' 'AreaShape_Center_X' 'AreaShape_Center_Y'\n",
        " 'AreaShape_Compactness' 'AreaShape_Eccentricity' 'AreaShape_EulerNumber'\n",
        " 'AreaShape_Extent' 'AreaShape_FormFactor' 'AreaShape_MajorAxisLength'\n",
        " 'AreaShape_MaxFeretDiameter' 'AreaShape_MaximumRadius'\n",
        " 'AreaShape_MeanRadius' 'AreaShape_MedianRadius'\n",
        " 'AreaShape_MinFeretDiameter' 'AreaShape_MinorAxisLength'\n",
        " 'AreaShape_Orientation' 'AreaShape_Perimeter' 'AreaShape_Solidity'\n",
        " 'AreaShape_Zernike_0_0' 'AreaShape_Zernike_1_1' 'AreaShape_Zernike_2_0'\n",
        " 'AreaShape_Zernike_2_2' 'AreaShape_Zernike_3_1' 'AreaShape_Zernike_3_3'\n",
        " 'AreaShape_Zernike_4_0' 'AreaShape_Zernike_4_2' 'AreaShape_Zernike_4_4'\n",
        " 'AreaShape_Zernike_5_1' 'AreaShape_Zernike_5_3' 'AreaShape_Zernike_5_5'\n",
        " 'AreaShape_Zernike_6_0' 'AreaShape_Zernike_6_2' 'AreaShape_Zernike_6_4'\n",
        " 'AreaShape_Zernike_6_6' 'AreaShape_Zernike_7_1' 'AreaShape_Zernike_7_3'\n",
        " 'AreaShape_Zernike_7_5' 'AreaShape_Zernike_7_7' 'AreaShape_Zernike_8_0'\n",
        " 'AreaShape_Zernike_8_2' 'AreaShape_Zernike_8_4' 'AreaShape_Zernike_8_6'\n",
        " 'AreaShape_Zernike_8_8' 'AreaShape_Zernike_9_1' 'AreaShape_Zernike_9_3'\n",
        " 'AreaShape_Zernike_9_5' 'AreaShape_Zernike_9_7' 'AreaShape_Zernike_9_9'\n",
        " 'Correlation_Correlation_CorrMT_CorrChromosomes'\n",
        " 'Intensity_IntegratedIntensityEdge_CorrMT'\n",
        " 'Intensity_IntegratedIntensity_CorrMT'\n",
        " 'Intensity_LowerQuartileIntensity_CorrMT' 'Intensity_MADIntensity_CorrMT'\n",
        " 'Intensity_MassDisplacement_CorrMT' 'Intensity_MaxIntensityEdge_CorrMT'\n",
        " 'Intensity_MaxIntensity_CorrMT' 'Intensity_MeanIntensityEdge_CorrMT'\n",
        " 'Intensity_MeanIntensity_CorrMT' 'Intensity_MedianIntensity_CorrMT'\n",
        " 'Intensity_MinIntensityEdge_CorrMT' 'Intensity_MinIntensity_CorrMT'\n",
        " 'Intensity_StdIntensityEdge_CorrMT' 'Intensity_StdIntensity_CorrMT'\n",
        " 'Intensity_UpperQuartileIntensity_CorrMT'\n",
        " 'Location_CenterMassIntensity_X_CorrMT'\n",
        " 'Location_CenterMassIntensity_Y_CorrMT' 'Location_Center_X'\n",
        " 'Location_Center_Y' 'Location_MaxIntensity_X_CorrMT'\n",
        " 'Location_MaxIntensity_Y_CorrMT' 'Math_AxisRatio'\n",
        " 'Math_ChromosomeMassArea' 'Math_ChromosomeMassAreaPerSpindle'\n",
        " 'Math_ChromosomeMassCorrelation' 'Math_ChromosomeMassEccentricity'\n",
        " 'Math_ChromosomeMassEllipticalArea'\n",
        " 'Math_ChromosomeMassIntegratedIntensity' 'Math_ChromosomeMassMajorAxis'\n",
        " 'Math_ChromosomeMassMinorAxis' 'Math_ChromosomeMassPerimeter'\n",
        " 'Math_ChromosomeMassSolidity' 'Math_ChromosomesCorrelation'\n",
        " 'Math_DeltaSquareCenterX_Spindles_ChromosomeMass'\n",
        " 'Math_DeltaSquareCenterX_Spindles_Chromosomes'\n",
        " 'Math_DeltaSquareCenterY_Spindles_ChromosomeMass'\n",
        " 'Math_DeltaSquareCenterY_Spindles_Chromosomes'\n",
        " 'Math_GeometricCenterOffsetChromosomeMass'\n",
        " 'Math_GeometricCenterOffsetChromosomes'\n",
        " 'Math_SpindleToMetaphasePlateOffset' 'Math_SquarePlateAngle'\n",
        " 'Number_Object_Number' 'Parent_Spindles'\n",
        " 'Texture_AngularSecondMoment_CorrMT_3_0' 'Texture_Contrast_CorrMT_3_0'\n",
        " 'Texture_Correlation_CorrMT_3_0' 'Texture_DifferenceEntropy_CorrMT_3_0'\n",
        " 'Texture_DifferenceVariance_CorrMT_3_0' 'Texture_Entropy_CorrMT_3_0'\n",
        " 'Texture_Gabor_CorrMT_3' 'Texture_InfoMeas1_CorrMT_3_0'\n",
        " 'Texture_InfoMeas2_CorrMT_3_0'\n",
        " 'Texture_InverseDifferenceMoment_CorrMT_3_0'\n",
        " 'Texture_SumAverage_CorrMT_3_0' 'Texture_SumEntropy_CorrMT_3_0'\n",
        " 'Texture_SumVariance_CorrMT_3_0' 'Texture_Variance_CorrMT_3_0']\n",
        "[  1.63414481e-02   7.34973899e-03   3.02076328e-03   1.01374917e-02\n",
        "   4.43828060e-09              nan   2.53340114e-01   1.47195972e-02\n",
        "   7.77831364e-10   1.07709845e-06   2.15962116e-01   5.26073372e-03\n",
        "   3.60486477e-04   8.06025355e-01   5.06801827e-01   4.34225766e-01\n",
        "   5.35693104e-02   3.49012737e-07   6.62849847e-03   1.17949400e-06\n",
        "   6.94798307e-02   1.46765520e-12   1.23917425e-01   1.22614149e-03\n",
        "   1.26230653e-01   4.13065603e-07   1.15535275e-21   4.67608116e-05\n",
        "   1.19724288e-03   2.95081867e-04   5.64290659e-01   1.42495530e-01\n",
        "   1.27451260e-04   6.36168177e-17   3.36151639e-01   3.61936022e-02\n",
        "   2.43966103e-04   2.79285479e-05   7.59329803e-04   6.32242116e-01\n",
        "   2.68657177e-01   2.89041632e-01   2.24428278e-04   6.43872581e-01\n",
        "   2.13602270e-01   8.20138044e-01   1.87284663e-04   2.80259462e-07\n",
        "   9.44553555e-13   4.41264644e-01   1.00133453e-03   1.31569997e-02\n",
        "   3.78706081e-02   1.18440603e-01   1.98683564e-01   4.18349128e-02\n",
        "   2.10510496e-01   1.77431011e-02   8.36171699e-03   1.87981909e-01\n",
        "   1.96411723e-01   3.61666012e-01   3.55932514e-02   2.20936636e-02\n",
        "   8.95330494e-03   2.52292733e-03   9.03929182e-03   2.54007273e-03\n",
        "   6.80418415e-03   3.08921084e-03   4.89922295e-12   1.12402010e-02\n",
        "   3.84369174e-01   1.17898785e-03   1.75878567e-10   4.44052390e-01\n",
        "   6.87214311e-02   3.47522327e-05   1.39781392e-01   1.00203717e-03\n",
        "   1.61069867e-06   6.64391450e-04   1.62259803e-01   1.06993437e-01\n",
        "   8.30314649e-01   4.76021295e-02   6.87903702e-02   2.19573071e-03\n",
        "   1.50875856e-07   8.79748257e-04   5.71347965e-05   6.69381844e-05\n",
        "   2.27074197e-03   4.81472169e-02   2.60229173e-04   2.68681137e-01\n",
        "   4.65488280e-02   7.95027378e-03   6.13857222e-05   1.55674806e-02\n",
        "   2.50066846e-05   2.42945374e-01   7.71625726e-04   2.37660764e-04\n",
        "   7.92218662e-02   1.07027934e-01]\n"
       ]
      },
      {
       "metadata": {},
       "output_type": "pyout",
       "prompt_number": 320,
       "text": [
        "(0, 110)"
       ]
      },
      {
       "metadata": {},
       "output_type": "display_data",
       "png": "[encoded data removed]",
       "text": [
        "<matplotlib.figure.Figure at 0x10de92c50>"
       ]
      }
     ],
     "prompt_number": 320
    },
    {
     "cell_type": "code",
     "collapsed": false,
     "input": [
      "#CROSS-VALIDATION\n",
      "#http://localhost:8890/notebooks/07252014_MIKE/GA_DAT7/DAT7%20iPython%20notebooks/DAT7-lab2.2b_Matplot_KNN.ipynb\n",
      "from sklearn.cross_validation import cross_val_score, ShuffleSplit\n",
      "n_samples = len(y1)\n",
      "#knn = KNeighborsClassifier(3)\n",
      "cv = ShuffleSplit(n_samples, n_iter=10, test_size=0.3, random_state=0) #10-fold\n",
      "\n",
      "test_scores = cross_val_score(LogisticRegression(penalty = 'l2', C=1), X1, y1, cv=cv)\n",
      "test_scores.mean()\n"
     ],
     "language": "python",
     "metadata": {},
     "outputs": [
      {
       "metadata": {},
       "output_type": "pyout",
       "prompt_number": 321,
       "text": [
        "0.99963099630996299"
       ]
      }
     ],
     "prompt_number": 321
    },
    {
     "cell_type": "code",
     "collapsed": false,
     "input": [
      "#CROSS-VALIDATION\n",
      "#http://localhost:8890/notebooks/07252014_MIKE/GA_DAT7/DAT7%20iPython%20notebooks/DAT7-lab2.2b_Matplot_KNN.ipynb\n",
      "from sklearn.cross_validation import cross_val_score, ShuffleSplit\n",
      "n_samples = len(y3)\n",
      "#knn = KNeighborsClassifier(3)\n",
      "cv = ShuffleSplit(n_samples, n_iter=10, test_size=0.3, random_state=0) #10-fold\n",
      "\n",
      "test_scores3 = cross_val_score(LogisticRegression(penalty = 'l2', C=1), X3, y3, cv=cv)\n",
      "test_scores3.mean()\n"
     ],
     "language": "python",
     "metadata": {},
     "outputs": [
      {
       "metadata": {},
       "output_type": "pyout",
       "prompt_number": 322,
       "text": [
        "0.99963099630996299"
       ]
      }
     ],
     "prompt_number": 322
    },
    {
     "cell_type": "code",
     "collapsed": false,
     "input": [
      "#CROSS-VALIDATION\n",
      "#http://localhost:8890/notebooks/07252014_MIKE/GA_DAT7/DAT7%20iPython%20notebooks/DAT7-lab2.2b_Matplot_KNN.ipynb\n",
      "from sklearn.cross_validation import cross_val_score, ShuffleSplit\n",
      "n_samples = len(y4)\n",
      "#knn = KNeighborsClassifier(3)\n",
      "cv = ShuffleSplit(n_samples, n_iter=10, test_size=0.3, random_state=0) #10-fold\n",
      "\n",
      "test_scores4 = cross_val_score(LogisticRegression(penalty = 'l2', C=1), X4, y4, cv=cv)\n",
      "test_scores4.mean()\n"
     ],
     "language": "python",
     "metadata": {},
     "outputs": [
      {
       "metadata": {},
       "output_type": "pyout",
       "prompt_number": 323,
       "text": [
        "0.79815498154981557"
       ]
      }
     ],
     "prompt_number": 323
    },
    {
     "cell_type": "code",
     "collapsed": false,
     "input": [
      "#CROSS-VALIDATION ON MODEL 4a\n",
      "#http://localhost:8890/notebooks/07252014_MIKE/GA_DAT7/DAT7%20iPython%20notebooks/DAT7-lab2.2b_Matplot_KNN.ipynb\n",
      "from sklearn.cross_validation import cross_val_score, ShuffleSplit\n",
      "n_samples = len(y4a)\n",
      "#knn = KNeighborsClassifier(3)\n",
      "cv = ShuffleSplit(n_samples, n_iter=10, test_size=0.3, random_state=0) #10-fold\n",
      "\n",
      "test_scores4a = cross_val_score(LogisticRegression(penalty = 'l2', C=1), X4a, y4a, cv=cv)\n",
      "test_scores4a.mean()\n"
     ],
     "language": "python",
     "metadata": {},
     "outputs": [
      {
       "metadata": {},
       "output_type": "pyout",
       "prompt_number": 324,
       "text": [
        "0.90641025641025652"
       ]
      }
     ],
     "prompt_number": 324
    },
    {
     "cell_type": "code",
     "collapsed": false,
     "input": [
      "test_scores"
     ],
     "language": "python",
     "metadata": {},
     "outputs": [
      {
       "metadata": {},
       "output_type": "pyout",
       "prompt_number": 325,
       "text": [
        "array([ 1.        ,  1.        ,  1.        ,  1.        ,  1.        ,\n",
        "        1.        ,  0.99630996,  1.        ,  1.        ,  1.        ])"
       ]
      }
     ],
     "prompt_number": 325
    },
    {
     "cell_type": "code",
     "collapsed": false,
     "input": [
      "test_scores3"
     ],
     "language": "python",
     "metadata": {},
     "outputs": [
      {
       "metadata": {},
       "output_type": "pyout",
       "prompt_number": 326,
       "text": [
        "array([ 1.        ,  1.        ,  1.        ,  1.        ,  1.        ,\n",
        "        1.        ,  0.99630996,  1.        ,  1.        ,  1.        ])"
       ]
      }
     ],
     "prompt_number": 326
    },
    {
     "cell_type": "code",
     "collapsed": false,
     "input": [
      "test_scores4"
     ],
     "language": "python",
     "metadata": {},
     "outputs": [
      {
       "metadata": {},
       "output_type": "pyout",
       "prompt_number": 327,
       "text": [
        "array([ 0.78597786,  0.81180812,  0.79704797,  0.77121771,  0.81918819,\n",
        "        0.78597786,  0.79335793,  0.8302583 ,  0.80442804,  0.78228782])"
       ]
      }
     ],
     "prompt_number": 327
    },
    {
     "cell_type": "code",
     "collapsed": false,
     "input": [
      "from sklearn.cross_validation import KFold\n",
      "# generic cross validation function\n",
      "def cross_validate(X, y, classifier, k_fold) :\n",
      "\n",
      "    # derive a set of (random) training and testing indices\n",
      "    k_fold_indices = KFold( len(X), n_folds=k_fold,\n",
      "                           indices=True, shuffle=True,\n",
      "                           random_state=0)\n",
      "\n",
      "    k_score_total = 0\n",
      "    # for each training and testing slices run the classifier, and score the results\n",
      "    for train_slice, test_slice in k_fold_indices :\n",
      "\n",
      "        model = classifier(X[[ train_slice  ]],\n",
      "                         y[[ train_slice  ]])\n",
      "\n",
      "        k_score = model.score(X[[ test_slice ]],\n",
      "                              y[[ test_slice ]])\n",
      "\n",
      "        k_score_total += k_score\n",
      "\n",
      "    # return the average accuracy\n",
      "    return k_score_total/k_fold"
     ],
     "language": "python",
     "metadata": {},
     "outputs": [],
     "prompt_number": 328
    },
    {
     "cell_type": "code",
     "collapsed": false,
     "input": [
      "cross_validate(X1, y1, LogisticRegression(penalty = 'l2', C=1).fit, 10)"
     ],
     "language": "python",
     "metadata": {},
     "outputs": [
      {
       "output_type": "stream",
       "stream": "stderr",
       "text": [
        "/Users/Tango/Library/Enthought/Canopy_64bit/User/lib/python2.7/site-packages/sklearn/cross_validation.py:65: DeprecationWarning: The indices parameter is deprecated and will be removed (assumed True) in 0.17\n",
        "  stacklevel=1)\n"
       ]
      },
      {
       "metadata": {},
       "output_type": "pyout",
       "prompt_number": 329,
       "text": [
        "1.0"
       ]
      }
     ],
     "prompt_number": 329
    },
    {
     "cell_type": "code",
     "collapsed": false,
     "input": [
      "cross_validate(X3, y3, LogisticRegression(penalty = 'l2', C=1).fit, 10)"
     ],
     "language": "python",
     "metadata": {},
     "outputs": [
      {
       "metadata": {},
       "output_type": "pyout",
       "prompt_number": 330,
       "text": [
        "1.0"
       ]
      }
     ],
     "prompt_number": 330
    },
    {
     "cell_type": "markdown",
     "metadata": {},
     "source": [
      "**The part below was done quite some time ago. Irresepctive of the code run. K from the range 6-10 seems like a good choice for most. It might be dropped to ~5 when the data set grows.**"
     ]
    },
    {
     "cell_type": "code",
     "collapsed": false,
     "input": [
      "potential_k_folds=range(2,15+1)\n",
      "print potential_k_folds"
     ],
     "language": "python",
     "metadata": {},
     "outputs": [
      {
       "output_type": "stream",
       "stream": "stdout",
       "text": [
        "[2, 3, 4, 5, 6, 7, 8, 9, 10, 11, 12, 13, 14, 15]\n"
       ]
      }
     ],
     "prompt_number": 347
    },
    {
     "cell_type": "code",
     "collapsed": false,
     "input": [],
     "language": "python",
     "metadata": {},
     "outputs": [],
     "prompt_number": 347
    },
    {
     "cell_type": "markdown",
     "metadata": {},
     "source": []
    },
    {
     "cell_type": "code",
     "collapsed": false,
     "input": [
      "#potential_k_folds\n",
      "accuracy_estimate=[]\n",
      "for k_fold in potential_k_folds:\n",
      "    accuracy_estimate.append(cross_validate(X1_train,y1_train,LogisticRegression(penalty = 'l2', C=1).fit,k_fold))"
     ],
     "language": "python",
     "metadata": {},
     "outputs": [],
     "prompt_number": 348
    },
    {
     "cell_type": "code",
     "collapsed": false,
     "input": [
      "#potential_k_folds\n",
      "accuracy_estimate3=[]\n",
      "for k_fold in potential_k_folds:\n",
      "    accuracy_estimate3.append(cross_validate(X3_train,y3_train,LogisticRegression(penalty = 'l2', C=1).fit,k_fold))"
     ],
     "language": "python",
     "metadata": {},
     "outputs": [],
     "prompt_number": 349
    },
    {
     "cell_type": "code",
     "collapsed": false,
     "input": [
      "#potential_k_folds\n",
      "accuracy_estimate4=[]\n",
      "for k_fold in potential_k_folds:\n",
      "    accuracy_estimate4.append(cross_validate(X4_train,y4_train,LogisticRegression(penalty = 'l2', C=1).fit,k_fold))"
     ],
     "language": "python",
     "metadata": {},
     "outputs": [],
     "prompt_number": 350
    },
    {
     "cell_type": "code",
     "collapsed": false,
     "input": [
      "#accuracy_estimate"
     ],
     "language": "python",
     "metadata": {},
     "outputs": [],
     "prompt_number": 351
    },
    {
     "cell_type": "code",
     "collapsed": false,
     "input": [
      "cross_validate(X3, y3, LogisticRegression(penalty = 'l2', C=1).fit, 10)"
     ],
     "language": "python",
     "metadata": {},
     "outputs": [
      {
       "metadata": {},
       "output_type": "pyout",
       "prompt_number": 352,
       "text": [
        "1.0"
       ]
      }
     ],
     "prompt_number": 352
    },
    {
     "cell_type": "code",
     "collapsed": false,
     "input": [
      "accuracy_estimate_df=pd.DataFrame(zip(potential_k_folds,accuracy_estimate))\n",
      "#accuracy_estimate_df.values"
     ],
     "language": "python",
     "metadata": {},
     "outputs": [],
     "prompt_number": 353
    },
    {
     "cell_type": "code",
     "collapsed": false,
     "input": [
      "accuracy_estimate_df3=pd.DataFrame(zip(potential_k_folds,accuracy_estimate3))\n",
      "#accuracy_estimate_df3.values"
     ],
     "language": "python",
     "metadata": {},
     "outputs": [],
     "prompt_number": 354
    },
    {
     "cell_type": "code",
     "collapsed": false,
     "input": [
      "accuracy_estimate_df4=pd.DataFrame(zip(potential_k_folds,accuracy_estimate4))\n",
      "#accuracy_estimate_df3.values"
     ],
     "language": "python",
     "metadata": {},
     "outputs": [],
     "prompt_number": 355
    },
    {
     "cell_type": "code",
     "collapsed": false,
     "input": [
      "colors = []\n",
      "for value in accuracy_estimate_df[1].values: # keys are the names of the boys\n",
      "    if value == accuracy_estimate_df[1].max():\n",
      "        colors.append('r')\n",
      "    else:\n",
      "        colors.append('g')\n",
      "colors\n"
     ],
     "language": "python",
     "metadata": {},
     "outputs": [
      {
       "metadata": {},
       "output_type": "pyout",
       "prompt_number": 356,
       "text": [
        "['g', 'g', 'g', 'g', 'g', 'g', 'g', 'g', 'g', 'g', 'g', 'r', 'g', 'g']"
       ]
      }
     ],
     "prompt_number": 356
    },
    {
     "cell_type": "code",
     "collapsed": false,
     "input": [
      "colors3 = []\n",
      "for value in accuracy_estimate_df3[1].values: # keys are the names of the boys\n",
      "    if value == accuracy_estimate_df3[1].max():\n",
      "        colors3.append('r')\n",
      "    else:\n",
      "        colors3.append('g')\n",
      "colors3\n"
     ],
     "language": "python",
     "metadata": {},
     "outputs": [
      {
       "metadata": {},
       "output_type": "pyout",
       "prompt_number": 357,
       "text": [
        "['g', 'g', 'g', 'g', 'g', 'g', 'g', 'g', 'g', 'g', 'g', 'r', 'g', 'g']"
       ]
      }
     ],
     "prompt_number": 357
    },
    {
     "cell_type": "code",
     "collapsed": false,
     "input": [
      "colors4 = []\n",
      "for value in accuracy_estimate_df4[1].values: # keys are the names of the boys\n",
      "    if value == accuracy_estimate_df4[1].max():\n",
      "        colors4.append('r')\n",
      "    else:\n",
      "        colors4.append('g')\n",
      "colors4\n"
     ],
     "language": "python",
     "metadata": {},
     "outputs": [
      {
       "metadata": {},
       "output_type": "pyout",
       "prompt_number": 358,
       "text": [
        "['g', 'g', 'g', 'g', 'g', 'g', 'g', 'g', 'g', 'g', 'g', 'g', 'g', 'r']"
       ]
      }
     ],
     "prompt_number": 358
    },
    {
     "cell_type": "code",
     "collapsed": false,
     "input": [
      "plt.scatter(accuracy_estimate_df[0],accuracy_estimate_df[1],color=colors)\n",
      "#plt.annotate('max accuracy', xy=(4,accuracy_estimate_df[1].max()),xytext=())"
     ],
     "language": "python",
     "metadata": {},
     "outputs": [
      {
       "metadata": {},
       "output_type": "pyout",
       "prompt_number": 359,
       "text": [
        "<matplotlib.collections.PathCollection at 0x110d0cb50>"
       ]
      },
      {
       "metadata": {},
       "output_type": "display_data",
       "png": "[encoded data removed]",
       "text": [
        "<matplotlib.figure.Figure at 0x10e7b67d0>"
       ]
      }
     ],
     "prompt_number": 359
    },
    {
     "cell_type": "markdown",
     "metadata": {},
     "source": [
      "The K=6 seems a good choice here."
     ]
    },
    {
     "cell_type": "code",
     "collapsed": false,
     "input": [
      "plt.scatter(accuracy_estimate_df3[0],accuracy_estimate_df3[1],color=colors3)\n",
      "#plt.annotate('max accuracy', xy=(4,accuracy_estimate_df[1].max()),xytext=())"
     ],
     "language": "python",
     "metadata": {},
     "outputs": [
      {
       "metadata": {},
       "output_type": "pyout",
       "prompt_number": 360,
       "text": [
        "<matplotlib.collections.PathCollection at 0x1111009d0>"
       ]
      },
      {
       "metadata": {},
       "output_type": "display_data",
       "png": "[encoded data removed]",
       "text": [
        "<matplotlib.figure.Figure at 0x11113fe50>"
       ]
      }
     ],
     "prompt_number": 360
    },
    {
     "cell_type": "markdown",
     "metadata": {},
     "source": [
      "The K=6 seems a good choice here."
     ]
    },
    {
     "cell_type": "code",
     "collapsed": false,
     "input": [
      "plt.scatter(accuracy_estimate_df4[0],accuracy_estimate_df4[1],color=colors4)\n",
      "#plt.annotate('max accuracy', xy=(4,accuracy_estimate_df[1].max()),xytext=())\n",
      "plt.ylabel('Accuracy')\n",
      "plt.xlabel('Number of K-folds')"
     ],
     "language": "python",
     "metadata": {},
     "outputs": [
      {
       "metadata": {},
       "output_type": "pyout",
       "prompt_number": 361,
       "text": [
        "<matplotlib.text.Text at 0x1111168d0>"
       ]
      },
      {
       "metadata": {},
       "output_type": "display_data",
       "png": "[encoded data removed]",
       "text": [
        "<matplotlib.figure.Figure at 0x110d7a210>"
       ]
      }
     ],
     "prompt_number": 361
    },
    {
     "cell_type": "markdown",
     "metadata": {},
     "source": [
      "K=10 seems a good choice here. "
     ]
    },
    {
     "cell_type": "code",
     "collapsed": false,
     "input": [
      "##ROC METRICS"
     ],
     "language": "python",
     "metadata": {},
     "outputs": [],
     "prompt_number": 365
    },
    {
     "cell_type": "code",
     "collapsed": false,
     "input": [
      "from sklearn.metrics import roc_curve\n",
      "from sklearn.metrics import auc\n",
      "from sklearn.metrics import confusion_matrix\n",
      "\n",
      "def plot_roc_curve(target_test, target_predicted_proba):\n",
      "    fpr, tpr, thresholds = roc_curve(target_test, target_predicted_proba[:, 1])\n",
      "    \n",
      "    roc_auc = auc(fpr, tpr)\n",
      "    # Plot ROC curve\n",
      "    plt.plot(fpr, tpr, label='ROC curve (area = %0.3f)' % roc_auc)\n",
      "    plt.plot([0, 1], [0, 1], 'k--')  # random predictions curve\n",
      "    plt.xlim([0.0, 1.0])\n",
      "    plt.ylim([0.0, 1.0])\n",
      "    plt.xlabel('False Positive Rate or (1 - Specifity)')\n",
      "    plt.ylabel('True Positive Rate or (Sensitivity)')\n",
      "   # plt.title('Receiver Operating Characteristic')\n",
      "    plt.legend(loc=\"lower right\")"
     ],
     "language": "python",
     "metadata": {},
     "outputs": [],
     "prompt_number": 366
    },
    {
     "cell_type": "code",
     "collapsed": false,
     "input": [
      "#print model1.predict_proba(X1_test)"
     ],
     "language": "python",
     "metadata": {},
     "outputs": [],
     "prompt_number": 367
    },
    {
     "cell_type": "code",
     "collapsed": false,
     "input": [
      "#NEEDED FOR ROC \n",
      "#print model1.predict_proba(X_test)\n",
      "\n",
      "#probs_ROC=model1.predict_proba(X1_test)\n",
      "#probs_ROC[:5]\n",
      "\n",
      "#probs_ROC = model1.predict_proba(X1_test)\n",
      "#print model1.predict_proba(X1_test).shape\n",
      "#print type(model1.predict_proba(X1_test).shape)"
     ],
     "language": "python",
     "metadata": {},
     "outputs": [],
     "prompt_number": 368
    },
    {
     "cell_type": "code",
     "collapsed": false,
     "input": [
      "#NEEDED FOR ROC \n",
      "#print model1.predict_proba(X_test)\n",
      "probs_ROC3=model3.predict_proba(X3_test)\n",
      "probs_ROC3[:5]\n",
      "#probs_ROC = model1.predict_proba(X1_test)\n",
      "#print model1.predict_proba(X1_test).shape\n",
      "#print type(model1.predict_proba(X1_test).shape)"
     ],
     "language": "python",
     "metadata": {},
     "outputs": [
      {
       "metadata": {},
       "output_type": "pyout",
       "prompt_number": 369,
       "text": [
        "array([[  9.95717959e-01,   4.28204136e-03],\n",
        "       [  1.49580341e-01,   8.50419659e-01],\n",
        "       [  9.94136619e-01,   5.86338113e-03],\n",
        "       [  7.00793492e-01,   2.99206508e-01],\n",
        "       [  7.83651168e-06,   9.99992163e-01]])"
       ]
      }
     ],
     "prompt_number": 369
    },
    {
     "cell_type": "code",
     "collapsed": false,
     "input": [
      "#NEEDED FOR ROC \n",
      "#print model1.predict_proba(X_test)\n",
      "probs_ROC4=model4.predict_proba(X4_test)\n",
      "probs_ROC4.shape\n",
      "#probs_ROC3[:5]\n",
      "#probs_ROC = model1.predict_proba(X1_test)\n",
      "#print model1.predict_proba(X1_test).shape\n",
      "#print type(model1.predict_proba(X1_test).shape)"
     ],
     "language": "python",
     "metadata": {},
     "outputs": [
      {
       "metadata": {},
       "output_type": "pyout",
       "prompt_number": 370,
       "text": [
        "(181, 2)"
       ]
      }
     ],
     "prompt_number": 370
    },
    {
     "cell_type": "code",
     "collapsed": false,
     "input": [
      "#print confusion_matrix.func_doc"
     ],
     "language": "python",
     "metadata": {},
     "outputs": [],
     "prompt_number": 371
    },
    {
     "cell_type": "code",
     "collapsed": false,
     "input": [
      "#y1_predicted"
     ],
     "language": "python",
     "metadata": {},
     "outputs": [],
     "prompt_number": 372
    },
    {
     "cell_type": "code",
     "collapsed": false,
     "input": [
      "y1_test\n"
     ],
     "language": "python",
     "metadata": {},
     "outputs": [
      {
       "metadata": {},
       "output_type": "pyout",
       "prompt_number": 373,
       "text": [
        "array([0, 1, 0, 0, 1, 1, 0, 1, 0, 1, 1, 1, 1, 1, 1, 0, 0, 1, 1, 1, 1, 0, 1,\n",
        "       1, 1, 1, 1, 1, 1, 0, 0, 1, 1, 0, 1, 1, 1, 0, 0, 1, 1, 1, 1, 1, 1, 0,\n",
        "       0, 1, 1, 1, 1, 0, 0, 1, 1, 1, 0, 0, 1, 1, 1, 1, 0, 1, 1, 0, 1, 1, 1,\n",
        "       1, 0, 1, 1, 0, 0, 0, 1, 1, 1, 0, 1, 0, 0, 1, 0, 0, 1, 0, 1, 0, 1, 0,\n",
        "       0, 0, 1, 1, 1, 1, 0, 1, 0, 1, 1, 1, 1, 1, 1, 1, 1, 1, 1, 1, 0, 1, 1,\n",
        "       1, 1, 1, 1, 1, 1, 1, 1, 1, 0, 1, 1, 0, 0, 0, 0, 0, 1, 1, 0, 0, 1, 1,\n",
        "       1, 1, 1, 1, 1, 1, 1, 0, 0, 1, 1, 0, 0, 1, 1, 1, 1, 1, 1, 1, 1, 1, 1,\n",
        "       1, 1, 0, 0, 0, 1, 1, 1, 1, 1, 1, 1, 1, 1, 1, 0, 1, 0, 1, 1])"
       ]
      }
     ],
     "prompt_number": 373
    },
    {
     "cell_type": "code",
     "collapsed": false,
     "input": [
      "#confusion_matrix(y1_test, y1_predicted)\n",
      "#http://en.wikipedia.org/wiki/Confusion_matrix\n",
      "#TP  FN\n",
      "#FP  TN"
     ],
     "language": "python",
     "metadata": {},
     "outputs": [],
     "prompt_number": 374
    },
    {
     "cell_type": "code",
     "collapsed": false,
     "input": [
      "confusion_matrix(y3_test, y3_predicted)\n",
      "#http://en.wikipedia.org/wiki/Confusion_matrix\n",
      "#TP  FN\n",
      "#FP  TN"
     ],
     "language": "python",
     "metadata": {},
     "outputs": [
      {
       "metadata": {},
       "output_type": "pyout",
       "prompt_number": 375,
       "text": [
        "array([[ 51,   4],\n",
        "       [  2, 124]])"
       ]
      }
     ],
     "prompt_number": 375
    },
    {
     "cell_type": "code",
     "collapsed": false,
     "input": [
      "confusion_matrix(y4_test, y4_predicted)\n",
      "#http://en.wikipedia.org/wiki/Confusion_matrix\n",
      "#TP  FN\n",
      "#FP  TN"
     ],
     "language": "python",
     "metadata": {},
     "outputs": [
      {
       "metadata": {},
       "output_type": "pyout",
       "prompt_number": 376,
       "text": [
        "array([[117,   9],\n",
        "       [ 29,  26]])"
       ]
      }
     ],
     "prompt_number": 376
    },
    {
     "cell_type": "code",
     "collapsed": false,
     "input": [
      "confusion_matrix(y4a_test, y4a_predicted)"
     ],
     "language": "python",
     "metadata": {},
     "outputs": [
      {
       "metadata": {},
       "output_type": "pyout",
       "prompt_number": 377,
       "text": [
        "array([[48,  6],\n",
        "       [ 9, 93]])"
       ]
      }
     ],
     "prompt_number": 377
    },
    {
     "cell_type": "code",
     "collapsed": false,
     "input": [
      "cm=confusion_matrix(y4_test, y4_predicted)\n",
      "plt.matshow(cm)\n",
      "plt.title('Confusion matrix')\n",
      "plt.colorbar()\n",
      "plt.ylabel('True label')\n",
      "plt.xlabel('Predicted label')"
     ],
     "language": "python",
     "metadata": {},
     "outputs": [
      {
       "metadata": {},
       "output_type": "pyout",
       "prompt_number": 378,
       "text": [
        "<matplotlib.text.Text at 0x111678bd0>"
       ]
      },
      {
       "metadata": {},
       "output_type": "display_data",
       "png": "[encoded data removed]",
       "text": [
        "<matplotlib.figure.Figure at 0x11111a450>"
       ]
      }
     ],
     "prompt_number": 378
    },
    {
     "cell_type": "code",
     "collapsed": false,
     "input": [
      "cm4a=confusion_matrix(y4a_test, y4a_predicted)\n",
      "plt.matshow(cm4a)\n",
      "plt.title('Confusion matrix')\n",
      "plt.colorbar()\n",
      "plt.ylabel('True label')\n",
      "plt.xlabel('Predicted label')"
     ],
     "language": "python",
     "metadata": {},
     "outputs": [
      {
       "metadata": {},
       "output_type": "pyout",
       "prompt_number": 379,
       "text": [
        "<matplotlib.text.Text at 0x1116d1b90>"
       ]
      },
      {
       "metadata": {},
       "output_type": "display_data",
       "png": "[encoded data removed]",
       "text": [
        "<matplotlib.figure.Figure at 0x11168b810>"
       ]
      }
     ],
     "prompt_number": 379
    },
    {
     "cell_type": "code",
     "collapsed": false,
     "input": [
      "#http://stats.stackexchange.com/questions/52435/roc-curve-and-confusion-matrix-in-classifier-performance-evaluation\n"
     ],
     "language": "python",
     "metadata": {},
     "outputs": [],
     "prompt_number": 380
    },
    {
     "cell_type": "code",
     "collapsed": false,
     "input": [
      "#plot_roc_curve(y1_test, probs_ROC)\n",
      "#plt.title('Receiver Operating Characteristic v.1')"
     ],
     "language": "python",
     "metadata": {},
     "outputs": [],
     "prompt_number": 381
    },
    {
     "cell_type": "code",
     "collapsed": false,
     "input": [
      "plot_roc_curve(y3_test, probs_ROC3)\n",
      "plt.title('Receiver Operating Characteristic v.1')"
     ],
     "language": "python",
     "metadata": {},
     "outputs": [
      {
       "metadata": {},
       "output_type": "pyout",
       "prompt_number": 382,
       "text": [
        "<matplotlib.text.Text at 0x111724890>"
       ]
      },
      {
       "metadata": {},
       "output_type": "display_data",
       "png": "[encoded data removed]",
       "text": [
        "<matplotlib.figure.Figure at 0x1116972d0>"
       ]
      }
     ],
     "prompt_number": 382
    },
    {
     "cell_type": "markdown",
     "metadata": {},
     "source": [
      "This is the overfitting one. Truth predicts truth."
     ]
    },
    {
     "cell_type": "code",
     "collapsed": false,
     "input": [
      "plot_roc_curve(y4_test, probs_ROC4)\n",
      "plt.title('Receiver Operating Characteristic v.1')"
     ],
     "language": "python",
     "metadata": {},
     "outputs": [
      {
       "metadata": {},
       "output_type": "pyout",
       "prompt_number": 383,
       "text": [
        "<matplotlib.text.Text at 0x11179af90>"
       ]
      },
      {
       "metadata": {},
       "output_type": "display_data",
       "png": "[encoded data removed]",
       "text": [
        "<matplotlib.figure.Figure at 0x111697390>"
       ]
      }
     ],
     "prompt_number": 383
    },
    {
     "cell_type": "markdown",
     "metadata": {},
     "source": [
      "This model predicts treatment when the effect is nit 100% penetrant. Still, pretty good."
     ]
    },
    {
     "cell_type": "code",
     "collapsed": false,
     "input": [
      "plot_roc_curve(y4a_test, my_model_4a.predict_proba(X4a_test)) #model4.predict_proba(X4_test)\n",
      "plt.title('Receiver Operating Characteristic v.4a')"
     ],
     "language": "python",
     "metadata": {},
     "outputs": [
      {
       "metadata": {},
       "output_type": "pyout",
       "prompt_number": 384,
       "text": [
        "<matplotlib.text.Text at 0x1119cf710>"
       ]
      },
      {
       "metadata": {},
       "output_type": "display_data",
       "png": "[encoded data removed]",
       "text": [
        "<matplotlib.figure.Figure at 0x111792490>"
       ]
      }
     ],
     "prompt_number": 384
    },
    {
     "cell_type": "code",
     "collapsed": false,
     "input": [
      "#fpr, tpr, thresholds = roc_curve(y1_test, probs_ROC[:,1])"
     ],
     "language": "python",
     "metadata": {},
     "outputs": [],
     "prompt_number": 385
    },
    {
     "cell_type": "code",
     "collapsed": false,
     "input": [
      "fpr3, tpr3, thresholds3 = roc_curve(y3_test, probs_ROC3[:,1])"
     ],
     "language": "python",
     "metadata": {},
     "outputs": [],
     "prompt_number": 386
    },
    {
     "cell_type": "code",
     "collapsed": false,
     "input": [
      "fpr4, tpr4, thresholds4 = roc_curve(y4_test, probs_ROC4[:,1])\n",
      "#y4_test.shape\n",
      "#probs_ROC4[:,1].shape"
     ],
     "language": "python",
     "metadata": {},
     "outputs": [],
     "prompt_number": 387
    },
    {
     "cell_type": "code",
     "collapsed": false,
     "input": [
      "probs_ROC4a=my_model_4a.predict_proba(X4a_test)\n",
      "fpr4a, tpr4a, thresholds4a = roc_curve(y4a_test, my_model_4a.predict_proba(X4a_test)[:,1])"
     ],
     "language": "python",
     "metadata": {},
     "outputs": [],
     "prompt_number": 388
    },
    {
     "cell_type": "code",
     "collapsed": false,
     "input": [
      "#using numpy broadcasting:\n",
      "sensitivity3=tpr3\n",
      "specificity3=1-fpr3\n",
      "J3=sensitivity3+specificity3-1"
     ],
     "language": "python",
     "metadata": {},
     "outputs": [],
     "prompt_number": 389
    },
    {
     "cell_type": "code",
     "collapsed": false,
     "input": [
      "#using numpy broadcasting:\n",
      "sensitivity4=tpr4\n",
      "specificity4=1-fpr4\n",
      "J4=sensitivity4+specificity4-1"
     ],
     "language": "python",
     "metadata": {},
     "outputs": [],
     "prompt_number": 390
    },
    {
     "cell_type": "code",
     "collapsed": false,
     "input": [
      "#using numpy broadcasting:\n",
      "sensitivity4a=tpr4a\n",
      "specificity4a=1-fpr4a\n",
      "J4a=sensitivity4a+specificity4a-1"
     ],
     "language": "python",
     "metadata": {},
     "outputs": [],
     "prompt_number": 391
    },
    {
     "cell_type": "code",
     "collapsed": false,
     "input": [
      "#using numpy broadcasting:\n",
      "#sensitivity=tpr\n",
      "#specificity=1-fpr\n",
      "#J=sensitivity+specificity-1"
     ],
     "language": "python",
     "metadata": {},
     "outputs": [],
     "prompt_number": 392
    },
    {
     "cell_type": "code",
     "collapsed": false,
     "input": [
      "print max(J3)\n",
      "\n",
      "print np.where(J3==max(J3))\n",
      "#print J[np.where(J==max(J))]\n",
      "#I'll use the index to find corresponding threshold:\n",
      "print 'prob threshold: ', thresholds3[np.where(J3==max(J3))]\n",
      "#print 'prob threshold: ', thresholds[np.where(J==min(J))]\n",
      "\n",
      "print 'fpr: ',fpr3[np.where(J3==max(J3))]\n",
      "#print 'fpr: ',fpr[np.where(J==min(J))]\n",
      "print 'tpr: ',tpr3[np.where(J3==max(J3))]\n",
      "#print 'tpr: ',tpr[np.where(J==min(J))]"
     ],
     "language": "python",
     "metadata": {},
     "outputs": [
      {
       "output_type": "stream",
       "stream": "stdout",
       "text": [
        "0.934199134199\n",
        "(array([120]),)\n",
        "prob threshold:  [ 0.7639677]\n",
        "fpr:  [ 0.01818182]\n",
        "tpr:  [ 0.95238095]\n"
       ]
      }
     ],
     "prompt_number": 393
    },
    {
     "cell_type": "code",
     "collapsed": false,
     "input": [
      "print max(J4a)\n",
      "\n",
      "print np.where(J4a==max(J4a))\n",
      "#print J[np.where(J==max(J))]\n",
      "#I'll use the index to find corresponding threshold:\n",
      "print 'prob threshold: ', thresholds4a[np.where(J4a==max(J4a))]\n",
      "#print 'prob threshold: ', thresholds[np.where(J==min(J))]\n",
      "\n",
      "print 'fpr: ',fpr4a[np.where(J4a==max(J4a))]\n",
      "#print 'fpr: ',fpr[np.where(J==min(J))]\n",
      "print 'tpr: ',tpr4a[np.where(J4a==max(J4a))]\n",
      "#print 'tpr: ',tpr[np.where(J==min(J))]"
     ],
     "language": "python",
     "metadata": {},
     "outputs": [
      {
       "output_type": "stream",
       "stream": "stdout",
       "text": [
        "0.81917211329\n",
        "(array([94]),)\n",
        "prob threshold:  [ 0.5146507]\n",
        "fpr:  [ 0.09259259]\n",
        "tpr:  [ 0.91176471]\n"
       ]
      }
     ],
     "prompt_number": 394
    },
    {
     "cell_type": "code",
     "collapsed": false,
     "input": [],
     "language": "python",
     "metadata": {},
     "outputs": [],
     "prompt_number": 394
    },
    {
     "cell_type": "code",
     "collapsed": false,
     "input": [
      "#plot formatting:\n",
      "#http://matplotlib.org/users/text_intro.html\n",
      "plot_roc_curve(y3_test, probs_ROC3)\n",
      "#plt.plot(fpr[np.where(J==max(J))],tpr[np.where(J==max(J))],'o',color='r')\n",
      "plt.plot(fpr3[np.where(J3==max(J3))],tpr3[np.where(J3==max(J3))],'o',color='r')\n",
      "\n",
      "#plt.annotate('inferred from Youden index', xy=(fpr[np.where(J==max(J))],tpr[np.where(J==max(J))]),xytext=(fpr[np.where(J==max(J))]-0.15,tpr[np.where(J==max(J))]+0.05),arrowprops=dict(facecolor='red', shrink=0.1, width=2, frac=0.3, headwidth=8),color='r')\n",
      "plt.annotate('inferred from Youden index', xy=(fpr3[np.where(J3==max(J3))],tpr3[np.where(J3==max(J3))]),xytext=(fpr3[np.where(J3==max(J3))]+0.15,tpr3[np.where(J3==max(J3))]-0.05),arrowprops=dict(facecolor='red', shrink=0.1, width=2, frac=0.3, headwidth=8),color='r')\n",
      "\n",
      "plt.title('Receiver Operating Characteristic: MODEL3')\n",
      "#http://www.stata.com/statalist/archive/2011-01/msg00697.html\n",
      "#In reply to your first query, the area under the ROC can be anything from 0 to 1. \n",
      "#Predictors with a ROC area less than 0.5 are negative prwedictors, and predictors with a ROC area between 0.5 and 1 are positive predictors.\n",
      "#http://www.ncbi.nlm.nih.gov/pmc/articles/PMC3234533/\n",
      "#http://www.advms.pl/?q=system/files/10_52Rosman.pdf\n",
      "# An \n",
      "#AUC significantly less than 0.5 would indicate that the criteria \n",
      "#for \u201cnormal\u201d and \u201cabnormal\u201d should be reversed. This scoring \n",
      "#system is analogous to that of a true-false test. "
     ],
     "language": "python",
     "metadata": {},
     "outputs": [
      {
       "metadata": {},
       "output_type": "pyout",
       "prompt_number": 395,
       "text": [
        "<matplotlib.text.Text at 0x111c92d10>"
       ]
      },
      {
       "metadata": {},
       "output_type": "display_data",
       "png": "[encoded data removed]",
       "text": [
        "<matplotlib.figure.Figure at 0x1119cb750>"
       ]
      }
     ],
     "prompt_number": 395
    },
    {
     "cell_type": "code",
     "collapsed": false,
     "input": [
      "#plot formatting:\n",
      "#http://matplotlib.org/users/text_intro.html\n",
      "plot_roc_curve(y4_test, probs_ROC4)\n",
      "#plt.plot(fpr[np.where(J==max(J))],tpr[np.where(J==max(J))],'o',color='r')\n",
      "plt.plot(fpr4[np.where(J4==max(J4))],tpr4[np.where(J4==max(J4))],'o',color='r')\n",
      "\n",
      "#plt.annotate('inferred from Youden index', xy=(fpr[np.where(J==max(J))],tpr[np.where(J==max(J))]),xytext=(fpr[np.where(J==max(J))]-0.15,tpr[np.where(J==max(J))]+0.05),arrowprops=dict(facecolor='red', shrink=0.1, width=2, frac=0.3, headwidth=8),color='r')\n",
      "plt.annotate('inferred from Youden index', xy=(fpr4[np.where(J4==max(J4))],tpr4[np.where(J4==max(J4))]),xytext=(fpr4[np.where(J4==max(J4))]+0.15,tpr4[np.where(J4==max(J4))]-0.05),arrowprops=dict(facecolor='red', shrink=0.1, width=2, frac=0.3, headwidth=8),color='r')\n",
      "\n",
      "plt.title('Receiver Operating Characteristic: MODEL4')\n",
      "#http://www.stata.com/statalist/archive/2011-01/msg00697.html\n",
      "#In reply to your first query, the area under the ROC can be anything from 0 to 1. \n",
      "#Predictors with a ROC area less than 0.5 are negative prwedictors, and predictors with a ROC area between 0.5 and 1 are positive predictors.\n",
      "#http://www.ncbi.nlm.nih.gov/pmc/articles/PMC3234533/\n",
      "#http://www.advms.pl/?q=system/files/10_52Rosman.pdf\n",
      "# An \n",
      "#AUC significantly less than 0.5 would indicate that the criteria \n",
      "#for \u201cnormal\u201d and \u201cabnormal\u201d should be reversed. This scoring \n",
      "#system is analogous to that of a true-false test. \n",
      "print 'prob threshold: ', thresholds4[np.where(J4==max(J4))]\n"
     ],
     "language": "python",
     "metadata": {},
     "outputs": [
      {
       "output_type": "stream",
       "stream": "stdout",
       "text": [
        "prob threshold:  [ 0.34043035]\n"
       ]
      },
      {
       "metadata": {},
       "output_type": "display_data",
       "png": "[encoded data removed]",
       "text": [
        "<matplotlib.figure.Figure at 0x111c8e910>"
       ]
      }
     ],
     "prompt_number": 396
    },
    {
     "cell_type": "code",
     "collapsed": false,
     "input": [
      "#plot formatting:\n",
      "#http://matplotlib.org/users/text_intro.html\n",
      "plot_roc_curve(y4a_test, probs_ROC4a)\n",
      "#plt.plot(fpr[np.where(J==max(J))],tpr[np.where(J==max(J))],'o',color='r')\n",
      "plt.plot(fpr4a[np.where(J4a==max(J4a))],tpr4a[np.where(J4a==max(J4a))],'o',color='r')\n",
      "\n",
      "#plt.annotate('inferred from Youden index', xy=(fpr[np.where(J==max(J))],tpr[np.where(J==max(J))]),xytext=(fpr[np.where(J==max(J))]-0.15,tpr[np.where(J==max(J))]+0.05),arrowprops=dict(facecolor='red', shrink=0.1, width=2, frac=0.3, headwidth=8),color='r')\n",
      "plt.annotate('inferred from Youden index', xy=(fpr4a[np.where(J4a==max(J4a))],tpr4a[np.where(J4a==max(J4a))]),xytext=(fpr4a[np.where(J4a==max(J4a))]+0.15,tpr4a[np.where(J4a==max(J4a))]-0.05),arrowprops=dict(facecolor='red', shrink=0.1, width=2, frac=0.3, headwidth=8),color='r')\n",
      "\n",
      "plt.title('Receiver Operating Characteristic: MODEL4a')\n",
      "#http://www.stata.com/statalist/archive/2011-01/msg00697.html\n",
      "#In reply to your first query, the area under the ROC can be anything from 0 to 1. \n",
      "#Predictors with a ROC area less than 0.5 are negative prwedictors, and predictors with a ROC area between 0.5 and 1 are positive predictors.\n",
      "#http://www.ncbi.nlm.nih.gov/pmc/articles/PMC3234533/\n",
      "#http://www.advms.pl/?q=system/files/10_52Rosman.pdf\n",
      "# An \n",
      "#AUC significantly less than 0.5 would indicate that the criteria \n",
      "#for \u201cnormal\u201d and \u201cabnormal\u201d should be reversed. This scoring \n",
      "#system is analogous to that of a true-false test. \n",
      "print 'prob threshold: ', thresholds4a[np.where(J4a==max(J4a))]\n"
     ],
     "language": "python",
     "metadata": {},
     "outputs": [
      {
       "output_type": "stream",
       "stream": "stdout",
       "text": [
        "prob threshold:  [ 0.5146507]\n"
       ]
      },
      {
       "metadata": {},
       "output_type": "display_data",
       "png": "[encoded data removed]",
       "text": [
        "<matplotlib.figure.Figure at 0x1119e5b10>"
       ]
      }
     ],
     "prompt_number": 397
    },
    {
     "cell_type": "markdown",
     "metadata": {},
     "source": [
      "This is the most relevant model. Predict that the imaged structure will be classified as 'perturbed'."
     ]
    },
    {
     "cell_type": "code",
     "collapsed": false,
     "input": [
      "from sklearn.grid_search import GridSearchCV"
     ],
     "language": "python",
     "metadata": {},
     "outputs": [],
     "prompt_number": 398
    },
    {
     "cell_type": "code",
     "collapsed": false,
     "input": [
      "my_model_4a.get_params()"
     ],
     "language": "python",
     "metadata": {},
     "outputs": [
      {
       "metadata": {},
       "output_type": "pyout",
       "prompt_number": 399,
       "text": [
        "{'C': 1,\n",
        " 'class_weight': None,\n",
        " 'dual': False,\n",
        " 'fit_intercept': True,\n",
        " 'intercept_scaling': 1,\n",
        " 'penalty': 'l2',\n",
        " 'random_state': None,\n",
        " 'tol': 0.0001}"
       ]
      }
     ],
     "prompt_number": 399
    },
    {
     "cell_type": "code",
     "collapsed": false,
     "input": [
      "parameter_grid = [\n",
      "  {'C': [0.01,0.1,1, 10, 100, 1000], 'penalty': ['l1']},\n",
      "  {'C': [0.01,0.1,1, 10, 100, 1000], 'penalty': ['l2']}\n",
      " ]"
     ],
     "language": "python",
     "metadata": {},
     "outputs": [],
     "prompt_number": 400
    },
    {
     "cell_type": "code",
     "collapsed": false,
     "input": [
      "my_model_5a=GridSearchCV(LogisticRegression(),parameter_grid,cv=5)"
     ],
     "language": "python",
     "metadata": {},
     "outputs": [],
     "prompt_number": 401
    },
    {
     "cell_type": "code",
     "collapsed": false,
     "input": [
      "my_model_5a.fit(X4a_train,y4a_train)"
     ],
     "language": "python",
     "metadata": {},
     "outputs": [
      {
       "metadata": {},
       "output_type": "pyout",
       "prompt_number": 402,
       "text": [
        "GridSearchCV(cv=5,\n",
        "       estimator=LogisticRegression(C=1.0, class_weight=None, dual=False, fit_intercept=True,\n",
        "          intercept_scaling=1, penalty='l2', random_state=None, tol=0.0001),\n",
        "       fit_params={}, iid=True, loss_func=None, n_jobs=1,\n",
        "       param_grid=[{'penalty': ['l1'], 'C': [0.01, 0.1, 1, 10, 100, 1000]}, {'penalty': ['l2'], 'C': [0.01, 0.1, 1, 10, 100, 1000]}],\n",
        "       pre_dispatch='2*n_jobs', refit=True, score_func=None, scoring=None,\n",
        "       verbose=0)"
       ]
      }
     ],
     "prompt_number": 402
    },
    {
     "cell_type": "code",
     "collapsed": false,
     "input": [
      "my_model_5a.score(X4a_test,y4a_test)"
     ],
     "language": "python",
     "metadata": {},
     "outputs": [
      {
       "metadata": {},
       "output_type": "pyout",
       "prompt_number": 403,
       "text": [
        "0.89743589743589747"
       ]
      }
     ],
     "prompt_number": 403
    },
    {
     "cell_type": "code",
     "collapsed": false,
     "input": [
      "print my_model_5a.best_estimator_\n",
      "print my_model_5a.best_params_\n",
      "print my_model_5a.best_score_\n",
      "print my_model_5a.score(X4a_test,y4a_test)"
     ],
     "language": "python",
     "metadata": {},
     "outputs": [
      {
       "output_type": "stream",
       "stream": "stdout",
       "text": [
        "LogisticRegression(C=1, class_weight=None, dual=False, fit_intercept=True,\n",
        "          intercept_scaling=1, penalty='l1', random_state=None, tol=0.0001)\n",
        "{'penalty': 'l1', 'C': 1}\n",
        "0.921348314607\n",
        "0.897435897436\n"
       ]
      }
     ],
     "prompt_number": 404
    },
    {
     "cell_type": "code",
     "collapsed": false,
     "input": [
      "y4a_predicted=my_model_5a.predict(X4a_test)"
     ],
     "language": "python",
     "metadata": {},
     "outputs": [],
     "prompt_number": 405
    },
    {
     "cell_type": "code",
     "collapsed": false,
     "input": [
      "cm5a_LR=confusion_matrix(y4a_test, y4a_predicted)\n",
      "plt.matshow(cm5a_LR)\n",
      "plt.title('Confusion matrix')\n",
      "plt.colorbar()\n",
      "plt.ylabel('True label')\n",
      "plt.xlabel('Predicted label')"
     ],
     "language": "python",
     "metadata": {},
     "outputs": [
      {
       "metadata": {},
       "output_type": "pyout",
       "prompt_number": 406,
       "text": [
        "<matplotlib.text.Text at 0x111cb3250>"
       ]
      },
      {
       "metadata": {},
       "output_type": "display_data",
       "png": "[encoded data removed]",
       "text": [
        "<matplotlib.figure.Figure at 0x111726950>"
       ]
      }
     ],
     "prompt_number": 406
    },
    {
     "cell_type": "code",
     "collapsed": false,
     "input": [
      "print classification_report(y4a_test,y4a_predicted)"
     ],
     "language": "python",
     "metadata": {},
     "outputs": [
      {
       "output_type": "stream",
       "stream": "stdout",
       "text": [
        "             precision    recall  f1-score   support\n",
        "\n",
        "        0.0       0.83      0.89      0.86        54\n",
        "        1.0       0.94      0.90      0.92       102\n",
        "\n",
        "avg / total       0.90      0.90      0.90       156\n",
        "\n"
       ]
      }
     ],
     "prompt_number": 407
    },
    {
     "cell_type": "markdown",
     "metadata": {},
     "source": [
      "Looks like that if we retain all features (will still most likely change); logistic regression model with lasso distance metrics adn default regularization will perform best using F1 score as a criterion. It will be interesting to run the grid search using F1 as evaluation metrics instead of the default accuracy."
     ]
    },
    {
     "cell_type": "code",
     "collapsed": false,
     "input": [],
     "language": "python",
     "metadata": {},
     "outputs": [],
     "prompt_number": 407
    },
    {
     "cell_type": "markdown",
     "metadata": {},
     "source": [
      "###TRY SVM"
     ]
    },
    {
     "cell_type": "code",
     "collapsed": false,
     "input": [
      "from sklearn import svm\n"
     ],
     "language": "python",
     "metadata": {},
     "outputs": [],
     "prompt_number": 408
    },
    {
     "cell_type": "code",
     "collapsed": false,
     "input": [
      "modelSVM1=svm.SVC(kernel='linear',random_state=0)"
     ],
     "language": "python",
     "metadata": {},
     "outputs": [],
     "prompt_number": 409
    },
    {
     "cell_type": "code",
     "collapsed": false,
     "input": [],
     "language": "python",
     "metadata": {},
     "outputs": [],
     "prompt_number": 409
    },
    {
     "cell_type": "code",
     "collapsed": false,
     "input": [
      "modelSVM1.fit(X4a_train,y4a_train)"
     ],
     "language": "python",
     "metadata": {},
     "outputs": [
      {
       "metadata": {},
       "output_type": "pyout",
       "prompt_number": 410,
       "text": [
        "SVC(C=1.0, cache_size=200, class_weight=None, coef0=0.0, degree=3, gamma=0.0,\n",
        "  kernel='linear', max_iter=-1, probability=False, random_state=0,\n",
        "  shrinking=True, tol=0.001, verbose=False)"
       ]
      }
     ],
     "prompt_number": 410
    },
    {
     "cell_type": "code",
     "collapsed": false,
     "input": [
      "modelSVM1.score(X4a_test,y4a_test)"
     ],
     "language": "python",
     "metadata": {},
     "outputs": [
      {
       "metadata": {},
       "output_type": "pyout",
       "prompt_number": 411,
       "text": [
        "0.89743589743589747"
       ]
      }
     ],
     "prompt_number": 411
    },
    {
     "cell_type": "code",
     "collapsed": false,
     "input": [
      "modelSVM2=svm.SVC(kernel='rbf')"
     ],
     "language": "python",
     "metadata": {},
     "outputs": [],
     "prompt_number": 412
    },
    {
     "cell_type": "code",
     "collapsed": false,
     "input": [
      "modelSVM2.fit(X4a_train,y4a_train)"
     ],
     "language": "python",
     "metadata": {},
     "outputs": [
      {
       "metadata": {},
       "output_type": "pyout",
       "prompt_number": 413,
       "text": [
        "SVC(C=1.0, cache_size=200, class_weight=None, coef0=0.0, degree=3, gamma=0.0,\n",
        "  kernel='rbf', max_iter=-1, probability=False, random_state=None,\n",
        "  shrinking=True, tol=0.001, verbose=False)"
       ]
      }
     ],
     "prompt_number": 413
    },
    {
     "cell_type": "code",
     "collapsed": false,
     "input": [
      "modelSVM2.score(X4a_test,y4a_test)"
     ],
     "language": "python",
     "metadata": {},
     "outputs": [
      {
       "metadata": {},
       "output_type": "pyout",
       "prompt_number": 414,
       "text": [
        "0.9358974358974359"
       ]
      }
     ],
     "prompt_number": 414
    },
    {
     "cell_type": "code",
     "collapsed": false,
     "input": [
      "from sklearn.grid_search import GridSearchCV"
     ],
     "language": "python",
     "metadata": {},
     "outputs": [],
     "prompt_number": 415
    },
    {
     "cell_type": "code",
     "collapsed": false,
     "input": [
      "#http://scikit-learn.org/stable/modules/grid_search.html\n",
      "modelSVM1.get_params()"
     ],
     "language": "python",
     "metadata": {},
     "outputs": [
      {
       "metadata": {},
       "output_type": "pyout",
       "prompt_number": 416,
       "text": [
        "{'C': 1.0,\n",
        " 'cache_size': 200,\n",
        " 'class_weight': None,\n",
        " 'coef0': 0.0,\n",
        " 'degree': 3,\n",
        " 'gamma': 0.0,\n",
        " 'kernel': 'linear',\n",
        " 'max_iter': -1,\n",
        " 'probability': False,\n",
        " 'random_state': 0,\n",
        " 'shrinking': True,\n",
        " 'tol': 0.001,\n",
        " 'verbose': False}"
       ]
      }
     ],
     "prompt_number": 416
    },
    {
     "cell_type": "code",
     "collapsed": false,
     "input": [
      "parameter_grid = [\n",
      "  {'C': [0.01,0.1,1, 10, 100, 1000], 'kernel': ['linear']},\n",
      " {'C': [0.01,0.1,1, 10, 100, 1000], 'gamma': [0.1,0.01,0.001, 0.0001], 'kernel': ['rbf']},\n",
      " ]"
     ],
     "language": "python",
     "metadata": {},
     "outputs": [],
     "prompt_number": 417
    },
    {
     "cell_type": "code",
     "collapsed": false,
     "input": [
      "modelSVM3=GridSearchCV(svm.SVC(),parameter_grid,cv=5)"
     ],
     "language": "python",
     "metadata": {},
     "outputs": [],
     "prompt_number": 418
    },
    {
     "cell_type": "code",
     "collapsed": false,
     "input": [
      "modelSVM3.fit(X4a_train,y4a_train)"
     ],
     "language": "python",
     "metadata": {},
     "outputs": [
      {
       "metadata": {},
       "output_type": "pyout",
       "prompt_number": 419,
       "text": [
        "GridSearchCV(cv=5,\n",
        "       estimator=SVC(C=1.0, cache_size=200, class_weight=None, coef0=0.0, degree=3, gamma=0.0,\n",
        "  kernel='rbf', max_iter=-1, probability=False, random_state=None,\n",
        "  shrinking=True, tol=0.001, verbose=False),\n",
        "       fit_params={}, iid=True, loss_func=None, n_jobs=1,\n",
        "       param_grid=[{'kernel': ['linear'], 'C': [0.01, 0.1, 1, 10, 100, 1000]}, {'kernel': ['rbf'], 'C': [0.01, 0.1, 1, 10, 100, 1000], 'gamma': [0.1, 0.01, 0.001, 0.0001]}],\n",
        "       pre_dispatch='2*n_jobs', refit=True, score_func=None, scoring=None,\n",
        "       verbose=0)"
       ]
      }
     ],
     "prompt_number": 419
    },
    {
     "cell_type": "code",
     "collapsed": false,
     "input": [
      "modelSVM3.best_estimator_"
     ],
     "language": "python",
     "metadata": {},
     "outputs": [
      {
       "metadata": {},
       "output_type": "pyout",
       "prompt_number": 420,
       "text": [
        "SVC(C=10, cache_size=200, class_weight=None, coef0=0.0, degree=3, gamma=0.001,\n",
        "  kernel='rbf', max_iter=-1, probability=False, random_state=None,\n",
        "  shrinking=True, tol=0.001, verbose=False)"
       ]
      }
     ],
     "prompt_number": 420
    },
    {
     "cell_type": "code",
     "collapsed": false,
     "input": [
      "modelSVM3.best_params_"
     ],
     "language": "python",
     "metadata": {},
     "outputs": [
      {
       "metadata": {},
       "output_type": "pyout",
       "prompt_number": 421,
       "text": [
        "{'C': 10, 'gamma': 0.001, 'kernel': 'rbf'}"
       ]
      }
     ],
     "prompt_number": 421
    },
    {
     "cell_type": "code",
     "collapsed": false,
     "input": [
      "modelSVM3.best_score_"
     ],
     "language": "python",
     "metadata": {},
     "outputs": [
      {
       "metadata": {},
       "output_type": "pyout",
       "prompt_number": 422,
       "text": [
        "0.9197431781701445"
       ]
      }
     ],
     "prompt_number": 422
    },
    {
     "cell_type": "code",
     "collapsed": false,
     "input": [
      "modelSVM3.score(X4a_test,y4a_test)"
     ],
     "language": "python",
     "metadata": {},
     "outputs": [
      {
       "metadata": {},
       "output_type": "pyout",
       "prompt_number": 423,
       "text": [
        "0.92948717948717952"
       ]
      }
     ],
     "prompt_number": 423
    },
    {
     "cell_type": "code",
     "collapsed": false,
     "input": [
      "y4a_predicted=modelSVM3.predict(X4a_test)"
     ],
     "language": "python",
     "metadata": {},
     "outputs": [],
     "prompt_number": 424
    },
    {
     "cell_type": "code",
     "collapsed": false,
     "input": [
      "cm4aSVM3=confusion_matrix(y4a_test, y4a_predicted)\n",
      "plt.matshow(cm4a)\n",
      "plt.title('Confusion matrix')\n",
      "plt.colorbar()\n",
      "plt.ylabel('True label')\n",
      "plt.xlabel('Predicted label')"
     ],
     "language": "python",
     "metadata": {},
     "outputs": [
      {
       "metadata": {},
       "output_type": "pyout",
       "prompt_number": 425,
       "text": [
        "<matplotlib.text.Text at 0x1119c4e10>"
       ]
      },
      {
       "metadata": {},
       "output_type": "display_data",
       "png": "[encoded data removed]",
       "text": [
        "<matplotlib.figure.Figure at 0x111cb3c10>"
       ]
      }
     ],
     "prompt_number": 425
    },
    {
     "cell_type": "code",
     "collapsed": false,
     "input": [
      "print classification_report(y4a_test,y4a_predicted)"
     ],
     "language": "python",
     "metadata": {},
     "outputs": [
      {
       "output_type": "stream",
       "stream": "stdout",
       "text": [
        "             precision    recall  f1-score   support\n",
        "\n",
        "        0.0       0.89      0.91      0.90        54\n",
        "        1.0       0.95      0.94      0.95       102\n",
        "\n",
        "avg / total       0.93      0.93      0.93       156\n",
        "\n"
       ]
      }
     ],
     "prompt_number": 426
    },
    {
     "cell_type": "markdown",
     "metadata": {},
     "source": [
      "Here, SVM with gaussian kernel, C=10, gamma = 0.001 seems to do the best job. Similarly to the logistic regression, it will be interesting to run the grid search using F1 as evaluation metrics instead of the default accuracy."
     ]
    },
    {
     "cell_type": "code",
     "collapsed": false,
     "input": [],
     "language": "python",
     "metadata": {},
     "outputs": []
    },
    {
     "cell_type": "markdown",
     "metadata": {},
     "source": [
      "###TRY DECISION TREE & RANDOM FOREST"
     ]
    },
    {
     "cell_type": "code",
     "collapsed": false,
     "input": [
      "from sklearn import tree\n"
     ],
     "language": "python",
     "metadata": {},
     "outputs": [],
     "prompt_number": 213
    },
    {
     "cell_type": "code",
     "collapsed": false,
     "input": [
      "modelTree1=tree.DecisionTreeClassifier(random_state=0,max_depth=4)"
     ],
     "language": "python",
     "metadata": {},
     "outputs": [],
     "prompt_number": 214
    },
    {
     "cell_type": "code",
     "collapsed": false,
     "input": [
      "modelTree1.fit(X4a_train,y4a_train)"
     ],
     "language": "python",
     "metadata": {},
     "outputs": [
      {
       "metadata": {},
       "output_type": "pyout",
       "prompt_number": 216,
       "text": [
        "DecisionTreeClassifier(compute_importances=None, criterion='gini',\n",
        "            max_depth=4, max_features=None, max_leaf_nodes=None,\n",
        "            min_density=None, min_samples_leaf=1, min_samples_split=2,\n",
        "            random_state=0, splitter='best')"
       ]
      }
     ],
     "prompt_number": 216
    },
    {
     "cell_type": "code",
     "collapsed": false,
     "input": [
      "modelTree1.score(X4a_test,y4a_test)"
     ],
     "language": "python",
     "metadata": {},
     "outputs": [
      {
       "metadata": {},
       "output_type": "pyout",
       "prompt_number": 217,
       "text": [
        "0.84615384615384615"
       ]
      }
     ],
     "prompt_number": 217
    },
    {
     "cell_type": "code",
     "collapsed": false,
     "input": [
      "modelTree1.get_params()"
     ],
     "language": "python",
     "metadata": {},
     "outputs": [
      {
       "metadata": {},
       "output_type": "pyout",
       "prompt_number": 224,
       "text": [
        "{'compute_importances': None,\n",
        " 'criterion': 'gini',\n",
        " 'max_depth': 4,\n",
        " 'max_features': None,\n",
        " 'max_leaf_nodes': None,\n",
        " 'min_density': None,\n",
        " 'min_samples_leaf': 1,\n",
        " 'min_samples_split': 2,\n",
        " 'random_state': 0,\n",
        " 'splitter': 'best'}"
       ]
      }
     ],
     "prompt_number": 224
    },
    {
     "cell_type": "code",
     "collapsed": false,
     "input": [
      "parameter_grid = [\n",
      "  {'max_depth': range(2,10)}\n",
      " ]"
     ],
     "language": "python",
     "metadata": {},
     "outputs": [],
     "prompt_number": 226
    },
    {
     "cell_type": "code",
     "collapsed": false,
     "input": [
      "modelTree2=GridSearchCV(tree.DecisionTreeClassifier(random_state=0),parameter_grid,cv=5)"
     ],
     "language": "python",
     "metadata": {},
     "outputs": [],
     "prompt_number": 227
    },
    {
     "cell_type": "code",
     "collapsed": false,
     "input": [
      "modelTree2.fit(X4a_train, y4a_train)"
     ],
     "language": "python",
     "metadata": {},
     "outputs": [
      {
       "metadata": {},
       "output_type": "pyout",
       "prompt_number": 230,
       "text": [
        "GridSearchCV(cv=5,\n",
        "       estimator=DecisionTreeClassifier(compute_importances=None, criterion='gini',\n",
        "            max_depth=None, max_features=None, max_leaf_nodes=None,\n",
        "            min_density=None, min_samples_leaf=1, min_samples_split=2,\n",
        "            random_state=0, splitter='best'),\n",
        "       fit_params={}, iid=True, loss_func=None, n_jobs=1,\n",
        "       param_grid=[{'max_depth': [2, 3, 4, 5, 6]}],\n",
        "       pre_dispatch='2*n_jobs', refit=True, score_func=None, scoring=None,\n",
        "       verbose=0)"
       ]
      }
     ],
     "prompt_number": 230
    },
    {
     "cell_type": "code",
     "collapsed": false,
     "input": [
      "print modelTree2.best_estimator_\n",
      "print modelTree2.best_params_\n",
      "print modelTree2.best_score_\n",
      "print modelTree2.score(X4a_test,y4a_test)"
     ],
     "language": "python",
     "metadata": {},
     "outputs": [
      {
       "output_type": "stream",
       "stream": "stdout",
       "text": [
        "DecisionTreeClassifier(compute_importances=None, criterion='gini',\n",
        "            max_depth=5, max_features=None, max_leaf_nodes=None,\n",
        "            min_density=None, min_samples_leaf=1, min_samples_split=2,\n",
        "            random_state=0, splitter='best')\n",
        "{'max_depth': 5}\n",
        "0.85393258427\n",
        "0.807692307692\n"
       ]
      }
     ],
     "prompt_number": 253
    },
    {
     "cell_type": "code",
     "collapsed": false,
     "input": [],
     "language": "python",
     "metadata": {},
     "outputs": [],
     "prompt_number": 253
    },
    {
     "cell_type": "code",
     "collapsed": false,
     "input": [
      "y4a_predicted=modelTree2.predict(X4a_test)"
     ],
     "language": "python",
     "metadata": {},
     "outputs": [],
     "prompt_number": 234
    },
    {
     "cell_type": "code",
     "collapsed": false,
     "input": [
      "cm4aTree2=confusion_matrix(y4a_test, y4a_predicted)\n",
      "plt.matshow(cm4a)\n",
      "plt.title('Confusion matrix')\n",
      "plt.colorbar()\n",
      "plt.ylabel('True label')\n",
      "plt.xlabel('Predicted label')"
     ],
     "language": "python",
     "metadata": {},
     "outputs": [
      {
       "metadata": {},
       "output_type": "pyout",
       "prompt_number": 258,
       "text": [
        "<matplotlib.text.Text at 0x111613b90>"
       ]
      },
      {
       "metadata": {},
       "output_type": "display_data",
       "png": "[encoded data removed]",
       "text": [
        "<matplotlib.figure.Figure at 0x110fea390>"
       ]
      }
     ],
     "prompt_number": 258
    },
    {
     "cell_type": "code",
     "collapsed": false,
     "input": [
      "print classification_report(y4a_test,y4a_predicted)"
     ],
     "language": "python",
     "metadata": {},
     "outputs": [
      {
       "output_type": "stream",
       "stream": "stdout",
       "text": [
        "             precision    recall  f1-score   support\n",
        "\n",
        "        0.0       0.71      0.74      0.73        54\n",
        "        1.0       0.86      0.84      0.85       102\n",
        "\n",
        "avg / total       0.81      0.81      0.81       156\n",
        "\n"
       ]
      }
     ],
     "prompt_number": 236
    },
    {
     "cell_type": "code",
     "collapsed": false,
     "input": [
      "tree.export_graphviz(modelTree1,out_file='modelTree1.dot',max_depth=5,feature_names=X4_feature_names)"
     ],
     "language": "python",
     "metadata": {},
     "outputs": [],
     "prompt_number": 237
    },
    {
     "cell_type": "code",
     "collapsed": false,
     "input": [
      "! dot -Tpng modelTree1.dot -o modelTree1.png"
     ],
     "language": "python",
     "metadata": {},
     "outputs": [],
     "prompt_number": 238
    },
    {
     "cell_type": "code",
     "collapsed": false,
     "input": [
      "from IPython.core.display import Image"
     ],
     "language": "python",
     "metadata": {},
     "outputs": [],
     "prompt_number": 239
    },
    {
     "cell_type": "code",
     "collapsed": false,
     "input": [
      "Image('modelTree1.png')"
     ],
     "language": "python",
     "metadata": {},
     "outputs": [
      {
       "metadata": {},
       "output_type": "pyout",
       "png": "[encoded data removed]",
       "prompt_number": 240,
       "text": [
        "<IPython.core.display.Image at 0x110f15350>"
       ]
      }
     ],
     "prompt_number": 240
    },
    {
     "cell_type": "code",
     "collapsed": false,
     "input": [],
     "language": "python",
     "metadata": {},
     "outputs": [],
     "prompt_number": 180
    },
    {
     "cell_type": "code",
     "collapsed": false,
     "input": [
      "#RandomForestClassifier"
     ],
     "language": "python",
     "metadata": {},
     "outputs": [],
     "prompt_number": 241
    },
    {
     "cell_type": "code",
     "collapsed": false,
     "input": [
      "from sklearn.ensemble import RandomForestClassifier"
     ],
     "language": "python",
     "metadata": {},
     "outputs": [],
     "prompt_number": 242
    },
    {
     "cell_type": "code",
     "collapsed": false,
     "input": [
      "modelRF1=RandomForestClassifier(random_state=0)"
     ],
     "language": "python",
     "metadata": {},
     "outputs": [],
     "prompt_number": 243
    },
    {
     "cell_type": "code",
     "collapsed": false,
     "input": [
      "modelRF1.fit(X4a_train,y4a_train)"
     ],
     "language": "python",
     "metadata": {},
     "outputs": [
      {
       "metadata": {},
       "output_type": "pyout",
       "prompt_number": 244,
       "text": [
        "RandomForestClassifier(bootstrap=True, compute_importances=None,\n",
        "            criterion='gini', max_depth=None, max_features='auto',\n",
        "            max_leaf_nodes=None, min_density=None, min_samples_leaf=1,\n",
        "            min_samples_split=2, n_estimators=10, n_jobs=1,\n",
        "            oob_score=False, random_state=0, verbose=0)"
       ]
      }
     ],
     "prompt_number": 244
    },
    {
     "cell_type": "code",
     "collapsed": false,
     "input": [
      "modelRF1.score(X4a_test,y4a_test)"
     ],
     "language": "python",
     "metadata": {},
     "outputs": [
      {
       "metadata": {},
       "output_type": "pyout",
       "prompt_number": 246,
       "text": [
        "0.86538461538461542"
       ]
      }
     ],
     "prompt_number": 246
    },
    {
     "cell_type": "code",
     "collapsed": false,
     "input": [
      "modelRF1.get_params()"
     ],
     "language": "python",
     "metadata": {},
     "outputs": [
      {
       "metadata": {},
       "output_type": "pyout",
       "prompt_number": 247,
       "text": [
        "{'bootstrap': True,\n",
        " 'compute_importances': None,\n",
        " 'criterion': 'gini',\n",
        " 'max_depth': None,\n",
        " 'max_features': 'auto',\n",
        " 'max_leaf_nodes': None,\n",
        " 'min_density': None,\n",
        " 'min_samples_leaf': 1,\n",
        " 'min_samples_split': 2,\n",
        " 'n_estimators': 10,\n",
        " 'n_jobs': 1,\n",
        " 'oob_score': False,\n",
        " 'random_state': 0,\n",
        " 'verbose': 0}"
       ]
      }
     ],
     "prompt_number": 247
    },
    {
     "cell_type": "code",
     "collapsed": false,
     "input": [
      "parameter_grid = [\n",
      "  {'max_depth': range(2,10)},\n",
      "    {'n_estimators':range(2,20)}\n",
      " ]"
     ],
     "language": "python",
     "metadata": {},
     "outputs": [],
     "prompt_number": 248
    },
    {
     "cell_type": "code",
     "collapsed": false,
     "input": [
      "modelRF2=GridSearchCV(RandomForestClassifier(random_state=0),parameter_grid,cv=5)\n",
      "modelRF2.fit(X4a_train, y4a_train)"
     ],
     "language": "python",
     "metadata": {},
     "outputs": [
      {
       "metadata": {},
       "output_type": "pyout",
       "prompt_number": 249,
       "text": [
        "GridSearchCV(cv=5,\n",
        "       estimator=RandomForestClassifier(bootstrap=True, compute_importances=None,\n",
        "            criterion='gini', max_depth=None, max_features='auto',\n",
        "            max_leaf_nodes=None, min_density=None, min_samples_leaf=1,\n",
        "            min_samples_split=2, n_estimators=10, n_jobs=1,\n",
        "            oob_score=False, random_state=0, verbose=0),\n",
        "       fit_params={}, iid=True, loss_func=None, n_jobs=1,\n",
        "       param_grid=[{'max_depth': [2, 3, 4, 5, 6, 7, 8, 9]}, {'n_estimators': [2, 3, 4, 5, 6, 7, 8, 9, 10, 11, 12, 13, 14, 15, 16, 17, 18, 19]}],\n",
        "       pre_dispatch='2*n_jobs', refit=True, score_func=None, scoring=None,\n",
        "       verbose=0)"
       ]
      }
     ],
     "prompt_number": 249
    },
    {
     "cell_type": "code",
     "collapsed": false,
     "input": [
      "print modelRF2.best_estimator_\n",
      "print modelRF2.best_params_\n",
      "print modelRF2.best_score_\n",
      "print modelRF2.score(X4a_test,y4a_test)"
     ],
     "language": "python",
     "metadata": {},
     "outputs": [
      {
       "output_type": "stream",
       "stream": "stdout",
       "text": [
        "RandomForestClassifier(bootstrap=True, compute_importances=None,\n",
        "            criterion='gini', max_depth=None, max_features='auto',\n",
        "            max_leaf_nodes=None, min_density=None, min_samples_leaf=1,\n",
        "            min_samples_split=2, n_estimators=13, n_jobs=1,\n",
        "            oob_score=False, random_state=0, verbose=0)\n",
        "{'n_estimators': 13}\n",
        "0.905296950241\n",
        "0.878205128205\n"
       ]
      }
     ],
     "prompt_number": 255
    },
    {
     "cell_type": "code",
     "collapsed": false,
     "input": [
      "y4a_predicted=modelRF2.predict(X4a_test)"
     ],
     "language": "python",
     "metadata": {},
     "outputs": [],
     "prompt_number": 257
    },
    {
     "cell_type": "code",
     "collapsed": false,
     "input": [
      "cm4aTree2=confusion_matrix(y4a_test, y4a_predicted)\n",
      "plt.matshow(cm4a)\n",
      "plt.title('Confusion matrix')\n",
      "plt.colorbar()\n",
      "plt.ylabel('True label')\n",
      "plt.xlabel('Predicted label')"
     ],
     "language": "python",
     "metadata": {},
     "outputs": [
      {
       "metadata": {},
       "output_type": "pyout",
       "prompt_number": 259,
       "text": [
        "<matplotlib.text.Text at 0x1116312d0>"
       ]
      },
      {
       "metadata": {},
       "output_type": "display_data",
       "png": "[encoded data removed]",
       "text": [
        "<matplotlib.figure.Figure at 0x11018a610>"
       ]
      }
     ],
     "prompt_number": 259
    },
    {
     "cell_type": "code",
     "collapsed": false,
     "input": [
      "print classification_report(y4a_test,y4a_predicted)"
     ],
     "language": "python",
     "metadata": {},
     "outputs": [
      {
       "output_type": "stream",
       "stream": "stdout",
       "text": [
        "             precision    recall  f1-score   support\n",
        "\n",
        "        0.0       0.91      0.72      0.80        54\n",
        "        1.0       0.87      0.96      0.91       102\n",
        "\n",
        "avg / total       0.88      0.88      0.87       156\n",
        "\n"
       ]
      }
     ],
     "prompt_number": 260
    },
    {
     "cell_type": "markdown",
     "metadata": {},
     "source": [
      "Both decision trees and random forest performed worse than logistic regression and SVMs (judging by F1 score). It might be the specifics of the data set or the subset of the data set. I still see a great value though, in using the decision tree plot for visualization of the concepts in decision making."
     ]
    },
    {
     "cell_type": "markdown",
     "metadata": {},
     "source": [
      "###TRY NEURAL NETWORK"
     ]
    },
    {
     "cell_type": "markdown",
     "metadata": {},
     "source": [
      "This part is not finished. I coulnd't find an optimizer that would handle optimization of my cost function given the gradient as efficiently as Matlab's fminunc. I haven't done an exhaustive searh though. I guess the failure to run this on my laptop is a combination of not choosing the right function, library and MacBook air being largely browsing/editing machine. The helper functions are however set up below."
     ]
    },
    {
     "cell_type": "code",
     "collapsed": false,
     "input": [
      "#Still using X4a and y4a"
     ],
     "language": "python",
     "metadata": {},
     "outputs": [],
     "prompt_number": 427
    },
    {
     "cell_type": "code",
     "collapsed": false,
     "input": [
      "#X4a.shape"
     ],
     "language": "python",
     "metadata": {},
     "outputs": [],
     "prompt_number": 428
    },
    {
     "cell_type": "code",
     "collapsed": false,
     "input": [
      "input_layer_size = X4a_test.shape[1]\n",
      "hidden_layer_size=25\n",
      "output_layer=2"
     ],
     "language": "python",
     "metadata": {},
     "outputs": [],
     "prompt_number": 429
    },
    {
     "cell_type": "code",
     "collapsed": false,
     "input": [
      "input_layer_size"
     ],
     "language": "python",
     "metadata": {},
     "outputs": [
      {
       "metadata": {},
       "output_type": "pyout",
       "prompt_number": 430,
       "text": [
        "106"
       ]
      }
     ],
     "prompt_number": 430
    },
    {
     "cell_type": "markdown",
     "metadata": {},
     "source": [
      "Below are helper functions for a simple neural network. "
     ]
    },
    {
     "cell_type": "code",
     "collapsed": false,
     "input": [
      "def sigmoid(z):\n",
      "    #computes sigmoid of z \n",
      "    g=np.divide(1.0,(1.0+np.exp(-z)))\n",
      "    return g"
     ],
     "language": "python",
     "metadata": {},
     "outputs": [],
     "prompt_number": 431
    },
    {
     "cell_type": "code",
     "collapsed": false,
     "input": [
      "#sigmoid(np.array((1,-0.5,0,0.5,1)))"
     ],
     "language": "python",
     "metadata": {},
     "outputs": [],
     "prompt_number": 432
    },
    {
     "cell_type": "code",
     "collapsed": false,
     "input": [
      "def gradient_for_sigmoid(z):\n",
      "    #g'(z)=g(z)(1-g(z))\n",
      "    g=np.multiply(np.divide(1.0,(1.0+np.exp(-z))),np.subtract(1.0,np.divide(1.0,(1.0+np.exp(-z)))))\n",
      "    return g"
     ],
     "language": "python",
     "metadata": {},
     "outputs": [],
     "prompt_number": 433
    },
    {
     "cell_type": "code",
     "collapsed": false,
     "input": [
      "#gradient_for_sigmoid(np.array((1,-0.5,0,0.5,1)))"
     ],
     "language": "python",
     "metadata": {},
     "outputs": [],
     "prompt_number": 434
    },
    {
     "cell_type": "code",
     "collapsed": false,
     "input": [
      "def get_epsilon(input_units, output_units): \n",
      "    epsilon=np.divide(np.power(6,0.5),np.power(np.sum((input_units, output_units)),0.5))\n",
      "    return epsilon"
     ],
     "language": "python",
     "metadata": {},
     "outputs": [],
     "prompt_number": 435
    },
    {
     "cell_type": "code",
     "collapsed": false,
     "input": [
      "#get_epsilon(400,25)"
     ],
     "language": "python",
     "metadata": {},
     "outputs": [],
     "prompt_number": 436
    },
    {
     "cell_type": "code",
     "collapsed": false,
     "input": [
      "def initialize_random_weights(L_in,L_out):\n",
      "    eps=get_epsilon(L_in,L_out)\n",
      "    weights=np.random.uniform(-eps,eps,(L_out,L_in+1))\n",
      "    return eps, weights"
     ],
     "language": "python",
     "metadata": {},
     "outputs": [],
     "prompt_number": 437
    },
    {
     "cell_type": "code",
     "collapsed": false,
     "input": [
      "eps1 , Theta1=initialize_random_weights(input_layer_size,hidden_layer_size)"
     ],
     "language": "python",
     "metadata": {},
     "outputs": [],
     "prompt_number": 438
    },
    {
     "cell_type": "code",
     "collapsed": false,
     "input": [
      "eps2 , Theta2=initialize_random_weights(hidden_layer_size,output_layer)"
     ],
     "language": "python",
     "metadata": {},
     "outputs": [],
     "prompt_number": 439
    },
    {
     "cell_type": "code",
     "collapsed": false,
     "input": [
      "Theta1.shape"
     ],
     "language": "python",
     "metadata": {},
     "outputs": [
      {
       "metadata": {},
       "output_type": "pyout",
       "prompt_number": 440,
       "text": [
        "(25, 107)"
       ]
      }
     ],
     "prompt_number": 440
    },
    {
     "cell_type": "code",
     "collapsed": false,
     "input": [],
     "language": "python",
     "metadata": {},
     "outputs": [],
     "prompt_number": 440
    },
    {
     "cell_type": "code",
     "collapsed": false,
     "input": [
      "Theta2.shape"
     ],
     "language": "python",
     "metadata": {},
     "outputs": [
      {
       "metadata": {},
       "output_type": "pyout",
       "prompt_number": 441,
       "text": [
        "(2, 26)"
       ]
      }
     ],
     "prompt_number": 441
    },
    {
     "cell_type": "code",
     "collapsed": false,
     "input": [
      "#Unroll Thetas\n",
      "unrolled_Thetas=np.concatenate((np.ndarray.flatten(Theta1.T),np.ndarray.flatten(Theta2.T)))\n",
      "unrolled_Thetas.shape"
     ],
     "language": "python",
     "metadata": {},
     "outputs": [
      {
       "metadata": {},
       "output_type": "pyout",
       "prompt_number": 442,
       "text": [
        "(2727,)"
       ]
      }
     ],
     "prompt_number": 442
    },
    {
     "cell_type": "code",
     "collapsed": false,
     "input": [
      "#get Thetas back:\n",
      "#k=np.ndarray.flatten(a.T)\n",
      "#k.reshape((3,2)).T\n",
      "Theta1init=unrolled_Thetas[0:hidden_layer_size*(input_layer_size+1)].reshape(Theta1.T.shape).T\n",
      "Theta2a=unrolled_Thetas[hidden_layer_size*(input_layer_size+1):].reshape(Theta2.T.shape).T"
     ],
     "language": "python",
     "metadata": {},
     "outputs": [],
     "prompt_number": 450
    },
    {
     "cell_type": "code",
     "collapsed": false,
     "input": [
      "#Theta1a.shape"
     ],
     "language": "python",
     "metadata": {},
     "outputs": [],
     "prompt_number": 444
    },
    {
     "cell_type": "code",
     "collapsed": false,
     "input": [
      "#Theta2a.shape"
     ],
     "language": "python",
     "metadata": {},
     "outputs": [],
     "prompt_number": 445
    },
    {
     "cell_type": "code",
     "collapsed": false,
     "input": [],
     "language": "python",
     "metadata": {},
     "outputs": [],
     "prompt_number": 280
    },
    {
     "cell_type": "markdown",
     "metadata": {},
     "source": [
      "#TRANSFERING MATLAB CODE"
     ]
    },
    {
     "cell_type": "code",
     "collapsed": false,
     "input": [
      "import scipy.io"
     ],
     "language": "python",
     "metadata": {},
     "outputs": [],
     "prompt_number": 446
    },
    {
     "cell_type": "code",
     "collapsed": false,
     "input": [
      "mat=scipy.io.loadmat('sample_data1.mat')"
     ],
     "language": "python",
     "metadata": {},
     "outputs": [],
     "prompt_number": 447
    },
    {
     "cell_type": "code",
     "collapsed": false,
     "input": [
      "weights=scipy.io.loadmat('weights.mat')"
     ],
     "language": "python",
     "metadata": {},
     "outputs": [],
     "prompt_number": 448
    },
    {
     "cell_type": "code",
     "collapsed": false,
     "input": [
      "weights.keys()"
     ],
     "language": "python",
     "metadata": {},
     "outputs": [
      {
       "metadata": {},
       "output_type": "pyout",
       "prompt_number": 449,
       "text": [
        "['Theta2', '__version__', '__header__', 'Theta1', '__globals__']"
       ]
      }
     ],
     "prompt_number": 449
    },
    {
     "cell_type": "code",
     "collapsed": false,
     "input": [
      "weights['Theta1'].shape"
     ],
     "language": "python",
     "metadata": {},
     "outputs": [
      {
       "metadata": {},
       "output_type": "pyout",
       "prompt_number": 66,
       "text": [
        "(25, 401)"
       ]
      }
     ],
     "prompt_number": 66
    },
    {
     "cell_type": "code",
     "collapsed": false,
     "input": [
      "X=mat['X']"
     ],
     "language": "python",
     "metadata": {},
     "outputs": [],
     "prompt_number": 210
    },
    {
     "cell_type": "code",
     "collapsed": false,
     "input": [
      "y=mat['y']\n",
      "Theta1init=weights['Theta1']\n",
      "Theta2init=weights['Theta2']"
     ],
     "language": "python",
     "metadata": {},
     "outputs": [],
     "prompt_number": 457
    },
    {
     "cell_type": "code",
     "collapsed": false,
     "input": [
      "bin_y=np.eye(len(np.unique(y)))[y-1,:]"
     ],
     "language": "python",
     "metadata": {},
     "outputs": [],
     "prompt_number": 468
    },
    {
     "cell_type": "code",
     "collapsed": false,
     "input": [
      "bin_y.shape"
     ],
     "language": "python",
     "metadata": {},
     "outputs": [
      {
       "metadata": {},
       "output_type": "pyout",
       "prompt_number": 14,
       "text": [
        "(5000, 1, 10)"
       ]
      }
     ],
     "prompt_number": 14
    },
    {
     "cell_type": "code",
     "collapsed": false,
     "input": [
      "bin_y=bin_y.reshape(bin_y.shape[0],bin_y.shape[2])"
     ],
     "language": "python",
     "metadata": {},
     "outputs": [],
     "prompt_number": 471
    },
    {
     "cell_type": "code",
     "collapsed": false,
     "input": [
      "bin_y.shape"
     ],
     "language": "python",
     "metadata": {},
     "outputs": [
      {
       "metadata": {},
       "output_type": "pyout",
       "prompt_number": 472,
       "text": [
        "(5000, 10)"
       ]
      }
     ],
     "prompt_number": 472
    },
    {
     "cell_type": "code",
     "collapsed": false,
     "input": [
      "lambda_=1"
     ],
     "language": "python",
     "metadata": {},
     "outputs": [],
     "prompt_number": 473
    },
    {
     "cell_type": "code",
     "collapsed": false,
     "input": [
      "print Theta1init.shape\n",
      "print Theta2init.shape"
     ],
     "language": "python",
     "metadata": {},
     "outputs": [
      {
       "output_type": "stream",
       "stream": "stdout",
       "text": [
        "(25, 401)\n",
        "(10, 26)\n"
       ]
      }
     ],
     "prompt_number": 474
    },
    {
     "cell_type": "code",
     "collapsed": false,
     "input": [
      "#a= np.array(([1,2,3],[4,5,6]))\n",
      "#a.shape\n",
      "#b=np.ndarray.flatten(a.T)\n",
      "#c=b.reshape(a.T.shape).T"
     ],
     "language": "python",
     "metadata": {},
     "outputs": [],
     "prompt_number": 475
    },
    {
     "cell_type": "code",
     "collapsed": false,
     "input": [],
     "language": "python",
     "metadata": {},
     "outputs": []
    },
    {
     "cell_type": "code",
     "collapsed": false,
     "input": [
      "#Unroll Thetas (This has been done already, though). Can skip it\n",
      "unrolled_Thetas_init=np.concatenate((np.ndarray.flatten(Theta1init.T),np.ndarray.flatten(Theta2init.T)))\n",
      "unrolled_Thetas_init.shape"
     ],
     "language": "python",
     "metadata": {},
     "outputs": [
      {
       "metadata": {},
       "output_type": "pyout",
       "prompt_number": 476,
       "text": [
        "(10285,)"
       ]
      }
     ],
     "prompt_number": 476
    },
    {
     "cell_type": "code",
     "collapsed": false,
     "input": [
      "hidden_layer_size=25\n",
      "print X.shape"
     ],
     "language": "python",
     "metadata": {},
     "outputs": [
      {
       "output_type": "stream",
       "stream": "stdout",
       "text": [
        "(5000, 400)\n"
       ]
      }
     ],
     "prompt_number": 477
    },
    {
     "cell_type": "markdown",
     "metadata": {},
     "source": [
      "**Required for the optimizer:**"
     ]
    },
    {
     "cell_type": "code",
     "collapsed": false,
     "input": [
      "#Theta1a=unrolled_Thetas[0:hidden_layer_size*(X.shape[1])].reshape(Theta1init.T.shape).T\n",
      "#Theta2a=unrolled_Thetas[hidden_layer_size*(X.shape[1]):].reshape(Theta2init.T.shape).T\n",
      "#print Theta1a.shape\n",
      "#print Theta2a.shape"
     ],
     "language": "python",
     "metadata": {},
     "outputs": [],
     "prompt_number": 478
    },
    {
     "cell_type": "code",
     "collapsed": false,
     "input": [
      "#init_params should be: unrolled_Thetas\n",
      "#def NNCostFunc(X,y,lambda_,Theta1,Theta2,unrolled_Thetas,hidden_layer_size):#,L_in,L_hid,L_out,init_params):\n",
      "def NNCostFunc(X,y,lambda_,unrolled_Thetas,hidden_layer_size):\n",
      "    #np.concatenate((np.ones((X4a_train.shape[0],1)),X4a_train),axis=1)\n",
      "    X=np.concatenate((np.ones((X.shape[0],1)),X),axis=1)\n",
      "    \n",
      "    Theta1=unrolled_Thetas[0:hidden_layer_size*(X.shape[1])].reshape(Theta1init.T.shape).T\n",
      "    Theta2=unrolled_Thetas[hidden_layer_size*(X.shape[1]):].reshape(Theta2init.T.shape).T\n",
      "    \n",
      "    #FORWARD PROPAGATION:\n",
      "    z2=sigmoid(np.dot(X,np.transpose(Theta1)))\n",
      "    a2=np.concatenate((np.ones((z2.shape[0],1)),z2),axis=1)\n",
      "    z3=sigmoid(np.dot(a2,np.transpose(Theta2)))\n",
      "    hypo=z3\n",
      "    #COST\n",
      "    cost=(1.0/X.shape[0])*np.sum(np.subtract(np.multiply(-y,np.log(hypo)),np.multiply(np.log(1-hypo),1-y)))+(lambda_/(2.0*X.shape[0]))*(np.sum(np.power(Theta1[:,1:],2))+np.sum(np.power(Theta2[:,1:],2)))\n",
      "    #BACKPROPAGATION\n",
      "    d3=hypo-y\n",
      "    d2=np.multiply(np.multiply(np.dot(d3,Theta2),a2),(1-a2))\n",
      "\n",
      "    d2c=d2[:,1:]\n",
      "    Delta2=np.dot(d3.T,a2)\n",
      "    Delta1=np.dot(d2c.T,X)\n",
      "    Theta1_grad=(1.0/X.shape[0])*Delta1\n",
      "    Theta2_grad=(1.0/X.shape[0])*Delta2\n",
      "    \n",
      "    #REGULARIZE GRADIENT\n",
      "    corr_term_1=np.concatenate((np.zeros((Theta1.shape[0],1)),np.ones((Theta1.shape[0],(Theta1.shape[1]-1)))),axis=1)\n",
      "    corr_term_2=np.concatenate((np.zeros((Theta2.shape[0],1)),np.ones((Theta2.shape[0],(Theta2.shape[1]-1)))),axis=1)\n",
      "    Theta1_grad=Theta1_grad+np.multiply(corr_term_1,((float(lambda_)/X.shape[0])*Theta1))\n",
      "    Theta2_grad=Theta2_grad+np.multiply(corr_term_2,((float(lambda_)/X.shape[0])*Theta2))\n",
      "    \n",
      "    grad=np.concatenate((np.ndarray.flatten(Theta1_grad.T),np.ndarray.flatten(Theta2_grad.T)))\n",
      "    \n",
      "    #grad=grad.reshape(len(grad),1)\n",
      "    #Theta2_grad=Theta2_grad+np.multiply(corr_term_2,(lambda_/X.shape[0])*Theta2)\n",
      "    return cost.flatten(), grad #Theta1_grad, Theta2_grad"
     ],
     "language": "python",
     "metadata": {},
     "outputs": [],
     "prompt_number": 479
    },
    {
     "cell_type": "code",
     "collapsed": false,
     "input": [
      "NNCostFunc(X,bin_y,lambda_,unrolled_Thetas_init,hidden_layer_size)"
     ],
     "language": "python",
     "metadata": {},
     "outputs": [
      {
       "metadata": {},
       "output_type": "pyout",
       "prompt_number": 481,
       "text": [
        "(array([ 0.38376986]),\n",
        " array([  6.18712766e-05,   9.38798109e-05,  -1.92593606e-04, ...,\n",
        "          8.57546470e-04,   9.30689893e-04,   5.07825789e-04]))"
       ]
      }
     ],
     "prompt_number": 481
    },
    {
     "cell_type": "code",
     "collapsed": false,
     "input": [
      "#http://aimotion.blogspot.com/2011/11/machine-learning-with-python-logistic.html\n",
      "def decorated_cost(unrolled_Thetas):\n",
      "    return NNCostFunc(X,bin_y,lambda_,unrolled_Thetas,hidden_layer_size)[0]"
     ],
     "language": "python",
     "metadata": {},
     "outputs": [],
     "prompt_number": 488
    },
    {
     "cell_type": "code",
     "collapsed": false,
     "input": [
      "def decorated_gradient(unrolled_Thetas):\n",
      "    return NNCostFunc(X,bin_y,lambda_,unrolled_Thetas,hidden_layer_size)[1]"
     ],
     "language": "python",
     "metadata": {},
     "outputs": [],
     "prompt_number": 489
    },
    {
     "cell_type": "code",
     "collapsed": false,
     "input": [
      "decorated_cost1(unrolled_Thetas_init)"
     ],
     "language": "python",
     "metadata": {},
     "outputs": [
      {
       "metadata": {},
       "output_type": "pyout",
       "prompt_number": 490,
       "text": [
        "array([ 0.38376986])"
       ]
      }
     ],
     "prompt_number": 490
    },
    {
     "cell_type": "code",
     "collapsed": false,
     "input": [
      "decorated_cost2(unrolled_Thetas_init)"
     ],
     "language": "python",
     "metadata": {},
     "outputs": [
      {
       "metadata": {},
       "output_type": "pyout",
       "prompt_number": 491,
       "text": [
        "array([  6.18712766e-05,   9.38798109e-05,  -1.92593606e-04, ...,\n",
        "         8.57546470e-04,   9.30689893e-04,   5.07825789e-04])"
       ]
      }
     ],
     "prompt_number": 491
    },
    {
     "cell_type": "code",
     "collapsed": false,
     "input": [
      "from scipy.optimize import fmin \n",
      "from scipy.optimize import tnc"
     ],
     "language": "python",
     "metadata": {},
     "outputs": [],
     "prompt_number": 492
    },
    {
     "cell_type": "code",
     "collapsed": false,
     "input": [
      "fmin_bfgs(decorated_cost, x0=unrolled_Thetas_init, fprime=decorated_gradient,maxiter=3,retall=1)  \n",
      "#fmin_bfgs(f=decorated_cost1, x0=unrolled_Thetas_init, fprime=decorated_cost2,maxiter=50)  \n"
     ],
     "language": "python",
     "metadata": {},
     "outputs": [
      {
       "output_type": "stream",
       "stream": "stdout",
       "text": [
        "Warning: Maximum number of iterations has been exceeded.\n",
        "         Current function value: 0.378835\n",
        "         Iterations: 3\n",
        "         Function evaluations: 5\n",
        "         Gradient evaluations: 5\n"
       ]
      },
      {
       "metadata": {},
       "output_type": "pyout",
       "prompt_number": 198,
       "text": [
        "(array([-0.02436387, -0.10142237,  0.12101123, ..., -2.14121993,\n",
        "        -2.16483825, -1.34639329]),\n",
        " [array([-0.02256239, -0.09838113,  0.11615605, ..., -2.11014003,\n",
        "         -2.1319153 , -1.32752042]),\n",
        "  array([-0.02287175, -0.09885053,  0.11711902, ..., -2.11442776,\n",
        "         -2.13656875, -1.33005955]),\n",
        "  array([-0.02340274, -0.09973695,  0.11861092, ..., -2.12327065,\n",
        "         -2.14596682, -1.33540946]),\n",
        "  array([-0.02436387, -0.10142237,  0.12101123, ..., -2.14121993,\n",
        "         -2.16483825, -1.34639329])])"
       ]
      }
     ],
     "prompt_number": 198
    },
    {
     "cell_type": "code",
     "collapsed": false,
     "input": [
      "scipy.optimize.minimize(fun=decorated_cost,x0=unrolled_Thetas_init,jac=decorated_gradient,method='tnc')"
     ],
     "language": "python",
     "metadata": {},
     "outputs": [
      {
       "metadata": {},
       "output_type": "pyout",
       "prompt_number": 213,
       "text": [
        "  status: 1\n",
        " success: True\n",
        "    nfev: 3065\n",
        "     fun: array([ 0.30151323])\n",
        "       x: array([ 1.19745037, -1.81426503,  1.71228615, ..., -2.34370875,\n",
        "       -2.94850239, -1.83113384])\n",
        " message: 'Converged (|f_n-f_(n-1)| ~= 0)'\n",
        "     jac: array([  2.17957915e-07,  -3.99599835e-07,   8.69997858e-08, ...,\n",
        "         1.40060306e-07,  -6.13730675e-09,  -1.73695513e-08])\n",
        "     nit: 116"
       ]
      }
     ],
     "prompt_number": 213
    },
    {
     "cell_type": "markdown",
     "metadata": {},
     "source": [
      "This is super inefficient on the laptop (Matlab fminunc seems to deal with the problem far better). Clearly requires finding more resource-friendly solutions. Also, I need to split the cost and gradient into two functions for Python judging by some comments on-line (mostly Stack Overflow)."
     ]
    },
    {
     "cell_type": "code",
     "collapsed": false,
     "input": [],
     "language": "python",
     "metadata": {},
     "outputs": []
    },
    {
     "cell_type": "code",
     "collapsed": false,
     "input": [],
     "language": "python",
     "metadata": {},
     "outputs": []
    },
    {
     "cell_type": "markdown",
     "metadata": {},
     "source": [
      "#FINAL COMMENTS  \n",
      "Currently, SVM and Logistic regression are performing best. It will be interesting to see how much this will change as the data set is growing.\n"
     ]
    },
    {
     "cell_type": "code",
     "collapsed": false,
     "input": [],
     "language": "python",
     "metadata": {},
     "outputs": []
    }
   ],
   "metadata": {}
  }
 ]
}