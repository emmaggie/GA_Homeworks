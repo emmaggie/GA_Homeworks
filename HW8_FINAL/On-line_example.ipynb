{
 "metadata": {
  "name": "",
  "signature": "sha256:83aa849d8e493b161cfd1e14a7da1cb58f270b22989cf7f1442448100f9e173a"
 },
 "nbformat": 3,
 "nbformat_minor": 0,
 "worksheets": [
  {
   "cells": [
    {
     "cell_type": "code",
     "collapsed": false,
     "input": [
      "def f(x ):\n",
      "    if x < 0:\n",
      "        return 1.79769313e+308\n",
      "    else :\n",
      "        return x + 1./x"
     ],
     "language": "python",
     "metadata": {},
     "outputs": []
    },
    {
     "cell_type": "code",
     "collapsed": false,
     "input": [
      "xs = fmin_bfgs(f, np.array( [10.]), retall = True)"
     ],
     "language": "python",
     "metadata": {},
     "outputs": []
    },
    {
     "cell_type": "code",
     "collapsed": false,
     "input": [
      "import numpy as np\n",
      "import scipy.optimize as op\n",
      "\n",
      "def Sigmoid(z):\n",
      "    return 1/(1 + np.exp(-z));\n",
      "\n",
      "def Gradient(theta,x,y):\n",
      "    m , n = x.shape\n",
      "    theta = theta.reshape((n,1));\n",
      "    y = y.reshape((m,1))\n",
      "    sigmoid_x_theta = Sigmoid(x.dot(theta));\n",
      "    grad = ((x.T).dot(sigmoid_x_theta-y))/m;\n",
      "    return grad.flatten();\n",
      "\n",
      "def CostFunc(theta,x,y):\n",
      "    m,n = x.shape; \n",
      "    theta = theta.reshape((n,1));\n",
      "    y = y.reshape((m,1));\n",
      "    term1 = np.log(Sigmoid(x.dot(theta)));\n",
      "    term2 = np.log(1-Sigmoid(x.dot(theta)));\n",
      "    term1 = term1.reshape((m,1))\n",
      "    term2 = term2.reshape((m,1))\n",
      "    term = y * term1 + (1 - y) * term2;\n",
      "    J = -((np.sum(term))/m);\n",
      "    return J;\n",
      "\n",
      "# intialize X and y\n",
      "X = np.array([[1,2,3],[1,3,4]]);\n",
      "y = np.array([[1],[0]]);\n",
      "\n",
      "m , n = X.shape;\n",
      "initial_theta = np.zeros(n);\n",
      "Result = op.minimize(fun = CostFunc, x0 = initial_theta, args = (X, y), method = 'TNC',\n",
      "                                 jac = Gradient);\n",
      "optimal_theta = Result.x;"
     ],
     "language": "python",
     "metadata": {},
     "outputs": []
    },
    {
     "cell_type": "code",
     "collapsed": false,
     "input": [],
     "language": "python",
     "metadata": {},
     "outputs": []
    },
    {
     "cell_type": "code",
     "collapsed": false,
     "input": [],
     "language": "python",
     "metadata": {},
     "outputs": []
    },
    {
     "cell_type": "code",
     "collapsed": false,
     "input": [],
     "language": "python",
     "metadata": {},
     "outputs": []
    },
    {
     "cell_type": "code",
     "collapsed": false,
     "input": [],
     "language": "python",
     "metadata": {},
     "outputs": []
    },
    {
     "cell_type": "code",
     "collapsed": false,
     "input": [],
     "language": "python",
     "metadata": {},
     "outputs": []
    },
    {
     "cell_type": "code",
     "collapsed": false,
     "input": [],
     "language": "python",
     "metadata": {},
     "outputs": []
    },
    {
     "cell_type": "code",
     "collapsed": false,
     "input": [],
     "language": "python",
     "metadata": {},
     "outputs": []
    },
    {
     "cell_type": "code",
     "collapsed": false,
     "input": [],
     "language": "python",
     "metadata": {},
     "outputs": []
    }
   ],
   "metadata": {}
  }
 ]
}