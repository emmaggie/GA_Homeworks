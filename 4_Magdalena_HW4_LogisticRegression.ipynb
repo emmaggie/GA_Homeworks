{
 "metadata": {
  "name": "",
  "signature": "sha256:8194ffc5fb15c786c6251bddcb14689d39c1bb3348fd004e75a84102fae8c33c"
 },
 "nbformat": 3,
 "nbformat_minor": 0,
 "worksheets": [
  {
   "cells": [
    {
     "cell_type": "markdown",
     "metadata": {},
     "source": [
      "DAT7 SF: HOMEWORK 4 \u201cMIDTERM\u201d \u2013 LOGISTIC REGRESSION\n",
      "====================================================\n",
      "Assigned: Sunday 6/21\n",
      "\n",
      "Due: Sat 7/12 by 11:59PM\n",
      "\n",
      "Submission Method: Submit via Schoology. Feel free to push to Github after the deadline has passed. Work independently on this midterm assignment."
     ]
    },
    {
     "cell_type": "markdown",
     "metadata": {},
     "source": [
      "### Load packages and functions that we will use"
     ]
    },
    {
     "cell_type": "code",
     "collapsed": false,
     "input": [
      "#import data and packages\n",
      "import pandas as pd\n",
      "%matplotlib inline\n",
      "import matplotlib.pyplot as plt\n",
      "pd.set_option('display.mpl_style','default')\n",
      "import random as rd\n",
      "import sklearn\n",
      "\n",
      "from scipy import stats\n",
      "\n",
      "\n",
      "import numpy as np\n",
      "from sklearn.cross_validation import train_test_split\n",
      "from sklearn.linear_model import LogisticRegression\n",
      "from sklearn.metrics import classification_report\n",
      "from sklearn.metrics import accuracy_score\n"
     ],
     "language": "python",
     "metadata": {},
     "outputs": [],
     "prompt_number": 393
    },
    {
     "cell_type": "markdown",
     "metadata": {},
     "source": [
      "### Loading tabular data from the Titanic kaggle challenge in a pandas Data Frame\n",
      "\n",
      "Let's have a look at the Titanic dataset from the Kaggle Getting Started challenge at:\n",
      "\n",
      "https://www.kaggle.com/c/titanic-gettingStarted\n",
      "\n",
      "https://www.kaggle.com/c/titanic-gettingStarted/data\n",
      "\n",
      "***FROM THE SITES ABOVE:***\n",
      "\n",
      "VARIABLE DESCRIPTIONS:\n",
      "\n",
      "1. survival        Survival\n",
      "                (0 = No; 1 = Yes)\n",
      "2. pclass          Passenger Class\n",
      "                (1 = 1st; 2 = 2nd; 3 = 3rd)\n",
      "3. name            Name\n",
      "4. sex             Sex\n",
      "5. age             Age\n",
      "6. sibsp           Number of Siblings/Spouses Aboard\n",
      "7. parch           Number of Parents/Children Aboard\n",
      "8. ticket          Ticket Number\n",
      "9. fare            Passenger Fare\n",
      "10. cabin           Cabin\n",
      "11. embarked        Port of Embarkation\n",
      "                (C = Cherbourg; Q = Queenstown; S = Southampton)\n",
      "                \n",
      "\n",
      "SPECIAL NOTES:\n",
      "**Pclass** is a proxy for socio-economic status (SES)\n",
      " 1st ~ Upper; 2nd ~ Middle; 3rd ~ Lower\n",
      "\n",
      "**Age** is in Years; Fractional if Age less than One (1)\n",
      " If the Age is Estimated, it is in the form xx.5\n",
      "\n",
      "With respect to the family relation variables (i.e. **sibsp** and **parch**)\n",
      "some relations were ignored.  The following are the definitions used\n",
      "for sibsp and parch.\n",
      "\n",
      "Sibling:  Brother, Sister, Stepbrother, or Stepsister of Passenger Aboard Titanic\n",
      "Spouse:   Husband or Wife of Passenger Aboard Titanic (Mistresses and Fiances Ignored)\n",
      "Parent:   Mother or Father of Passenger Aboard Titanic\n",
      "Child:    Son, Daughter, Stepson, or Stepdaughter of Passenger Aboard Titanic\n",
      "\n",
      "Other family relatives excluded from this study include cousins,\n",
      "nephews/nieces, aunts/uncles, and in-laws.  Some children travelled\n",
      "only with a nanny, therefore **parch=0** for them.  As well, some\n",
      "travelled with very close friends or neighbors in a village, however,\n",
      "the definitions do not support such relations."
     ]
    },
    {
     "cell_type": "code",
     "collapsed": false,
     "input": [
      "#data = pd.read_csv('https://dl.dropboxusercontent.com/u/5743203/data/titanic/titanic_train.csv')\n",
      "data = pd.read_csv(\"data/titanic-train.csv\")\n",
      "data.head()\n",
      "data[['Pclass', 'Name']]\n"
     ],
     "language": "python",
     "metadata": {},
     "outputs": [
      {
       "html": [
        "<div style=\"max-height:1000px;max-width:1500px;overflow:auto;\">\n",
        "<table border=\"1\" class=\"dataframe\">\n",
        "  <thead>\n",
        "    <tr style=\"text-align: right;\">\n",
        "      <th></th>\n",
        "      <th>Pclass</th>\n",
        "      <th>Name</th>\n",
        "    </tr>\n",
        "  </thead>\n",
        "  <tbody>\n",
        "    <tr>\n",
        "      <th>0  </th>\n",
        "      <td> 3</td>\n",
        "      <td>                           Braund, Mr. Owen Harris</td>\n",
        "    </tr>\n",
        "    <tr>\n",
        "      <th>1  </th>\n",
        "      <td> 1</td>\n",
        "      <td> Cumings, Mrs. John Bradley (Florence Briggs Th...</td>\n",
        "    </tr>\n",
        "    <tr>\n",
        "      <th>2  </th>\n",
        "      <td> 3</td>\n",
        "      <td>                            Heikkinen, Miss. Laina</td>\n",
        "    </tr>\n",
        "    <tr>\n",
        "      <th>3  </th>\n",
        "      <td> 1</td>\n",
        "      <td>      Futrelle, Mrs. Jacques Heath (Lily May Peel)</td>\n",
        "    </tr>\n",
        "    <tr>\n",
        "      <th>4  </th>\n",
        "      <td> 3</td>\n",
        "      <td>                          Allen, Mr. William Henry</td>\n",
        "    </tr>\n",
        "    <tr>\n",
        "      <th>5  </th>\n",
        "      <td> 3</td>\n",
        "      <td>                                  Moran, Mr. James</td>\n",
        "    </tr>\n",
        "    <tr>\n",
        "      <th>6  </th>\n",
        "      <td> 1</td>\n",
        "      <td>                           McCarthy, Mr. Timothy J</td>\n",
        "    </tr>\n",
        "    <tr>\n",
        "      <th>7  </th>\n",
        "      <td> 3</td>\n",
        "      <td>                    Palsson, Master. Gosta Leonard</td>\n",
        "    </tr>\n",
        "    <tr>\n",
        "      <th>8  </th>\n",
        "      <td> 3</td>\n",
        "      <td> Johnson, Mrs. Oscar W (Elisabeth Vilhelmina Berg)</td>\n",
        "    </tr>\n",
        "    <tr>\n",
        "      <th>9  </th>\n",
        "      <td> 2</td>\n",
        "      <td>               Nasser, Mrs. Nicholas (Adele Achem)</td>\n",
        "    </tr>\n",
        "    <tr>\n",
        "      <th>10 </th>\n",
        "      <td> 3</td>\n",
        "      <td>                   Sandstrom, Miss. Marguerite Rut</td>\n",
        "    </tr>\n",
        "    <tr>\n",
        "      <th>11 </th>\n",
        "      <td> 1</td>\n",
        "      <td>                          Bonnell, Miss. Elizabeth</td>\n",
        "    </tr>\n",
        "    <tr>\n",
        "      <th>12 </th>\n",
        "      <td> 3</td>\n",
        "      <td>                    Saundercock, Mr. William Henry</td>\n",
        "    </tr>\n",
        "    <tr>\n",
        "      <th>13 </th>\n",
        "      <td> 3</td>\n",
        "      <td>                       Andersson, Mr. Anders Johan</td>\n",
        "    </tr>\n",
        "    <tr>\n",
        "      <th>14 </th>\n",
        "      <td> 3</td>\n",
        "      <td>              Vestrom, Miss. Hulda Amanda Adolfina</td>\n",
        "    </tr>\n",
        "    <tr>\n",
        "      <th>15 </th>\n",
        "      <td> 2</td>\n",
        "      <td>                  Hewlett, Mrs. (Mary D Kingcome) </td>\n",
        "    </tr>\n",
        "    <tr>\n",
        "      <th>16 </th>\n",
        "      <td> 3</td>\n",
        "      <td>                              Rice, Master. Eugene</td>\n",
        "    </tr>\n",
        "    <tr>\n",
        "      <th>17 </th>\n",
        "      <td> 2</td>\n",
        "      <td>                      Williams, Mr. Charles Eugene</td>\n",
        "    </tr>\n",
        "    <tr>\n",
        "      <th>18 </th>\n",
        "      <td> 3</td>\n",
        "      <td> Vander Planke, Mrs. Julius (Emelia Maria Vande...</td>\n",
        "    </tr>\n",
        "    <tr>\n",
        "      <th>19 </th>\n",
        "      <td> 3</td>\n",
        "      <td>                           Masselmani, Mrs. Fatima</td>\n",
        "    </tr>\n",
        "    <tr>\n",
        "      <th>20 </th>\n",
        "      <td> 2</td>\n",
        "      <td>                              Fynney, Mr. Joseph J</td>\n",
        "    </tr>\n",
        "    <tr>\n",
        "      <th>21 </th>\n",
        "      <td> 2</td>\n",
        "      <td>                             Beesley, Mr. Lawrence</td>\n",
        "    </tr>\n",
        "    <tr>\n",
        "      <th>22 </th>\n",
        "      <td> 3</td>\n",
        "      <td>                       McGowan, Miss. Anna \"Annie\"</td>\n",
        "    </tr>\n",
        "    <tr>\n",
        "      <th>23 </th>\n",
        "      <td> 1</td>\n",
        "      <td>                      Sloper, Mr. William Thompson</td>\n",
        "    </tr>\n",
        "    <tr>\n",
        "      <th>24 </th>\n",
        "      <td> 3</td>\n",
        "      <td>                     Palsson, Miss. Torborg Danira</td>\n",
        "    </tr>\n",
        "    <tr>\n",
        "      <th>25 </th>\n",
        "      <td> 3</td>\n",
        "      <td> Asplund, Mrs. Carl Oscar (Selma Augusta Emilia...</td>\n",
        "    </tr>\n",
        "    <tr>\n",
        "      <th>26 </th>\n",
        "      <td> 3</td>\n",
        "      <td>                           Emir, Mr. Farred Chehab</td>\n",
        "    </tr>\n",
        "    <tr>\n",
        "      <th>27 </th>\n",
        "      <td> 1</td>\n",
        "      <td>                    Fortune, Mr. Charles Alexander</td>\n",
        "    </tr>\n",
        "    <tr>\n",
        "      <th>28 </th>\n",
        "      <td> 3</td>\n",
        "      <td>                     O'Dwyer, Miss. Ellen \"Nellie\"</td>\n",
        "    </tr>\n",
        "    <tr>\n",
        "      <th>29 </th>\n",
        "      <td> 3</td>\n",
        "      <td>                               Todoroff, Mr. Lalio</td>\n",
        "    </tr>\n",
        "    <tr>\n",
        "      <th>...</th>\n",
        "      <td>...</td>\n",
        "      <td>...</td>\n",
        "    </tr>\n",
        "    <tr>\n",
        "      <th>861</th>\n",
        "      <td> 2</td>\n",
        "      <td>                       Giles, Mr. Frederick Edward</td>\n",
        "    </tr>\n",
        "    <tr>\n",
        "      <th>862</th>\n",
        "      <td> 1</td>\n",
        "      <td> Swift, Mrs. Frederick Joel (Margaret Welles Ba...</td>\n",
        "    </tr>\n",
        "    <tr>\n",
        "      <th>863</th>\n",
        "      <td> 3</td>\n",
        "      <td>                 Sage, Miss. Dorothy Edith \"Dolly\"</td>\n",
        "    </tr>\n",
        "    <tr>\n",
        "      <th>864</th>\n",
        "      <td> 2</td>\n",
        "      <td>                            Gill, Mr. John William</td>\n",
        "    </tr>\n",
        "    <tr>\n",
        "      <th>865</th>\n",
        "      <td> 2</td>\n",
        "      <td>                          Bystrom, Mrs. (Karolina)</td>\n",
        "    </tr>\n",
        "    <tr>\n",
        "      <th>866</th>\n",
        "      <td> 2</td>\n",
        "      <td>                      Duran y More, Miss. Asuncion</td>\n",
        "    </tr>\n",
        "    <tr>\n",
        "      <th>867</th>\n",
        "      <td> 1</td>\n",
        "      <td>              Roebling, Mr. Washington Augustus II</td>\n",
        "    </tr>\n",
        "    <tr>\n",
        "      <th>868</th>\n",
        "      <td> 3</td>\n",
        "      <td>                       van Melkebeke, Mr. Philemon</td>\n",
        "    </tr>\n",
        "    <tr>\n",
        "      <th>869</th>\n",
        "      <td> 3</td>\n",
        "      <td>                   Johnson, Master. Harold Theodor</td>\n",
        "    </tr>\n",
        "    <tr>\n",
        "      <th>870</th>\n",
        "      <td> 3</td>\n",
        "      <td>                                 Balkic, Mr. Cerin</td>\n",
        "    </tr>\n",
        "    <tr>\n",
        "      <th>871</th>\n",
        "      <td> 1</td>\n",
        "      <td>  Beckwith, Mrs. Richard Leonard (Sallie Monypeny)</td>\n",
        "    </tr>\n",
        "    <tr>\n",
        "      <th>872</th>\n",
        "      <td> 1</td>\n",
        "      <td>                          Carlsson, Mr. Frans Olof</td>\n",
        "    </tr>\n",
        "    <tr>\n",
        "      <th>873</th>\n",
        "      <td> 3</td>\n",
        "      <td>                       Vander Cruyssen, Mr. Victor</td>\n",
        "    </tr>\n",
        "    <tr>\n",
        "      <th>874</th>\n",
        "      <td> 2</td>\n",
        "      <td>             Abelson, Mrs. Samuel (Hannah Wizosky)</td>\n",
        "    </tr>\n",
        "    <tr>\n",
        "      <th>875</th>\n",
        "      <td> 3</td>\n",
        "      <td>                  Najib, Miss. Adele Kiamie \"Jane\"</td>\n",
        "    </tr>\n",
        "    <tr>\n",
        "      <th>876</th>\n",
        "      <td> 3</td>\n",
        "      <td>                     Gustafsson, Mr. Alfred Ossian</td>\n",
        "    </tr>\n",
        "    <tr>\n",
        "      <th>877</th>\n",
        "      <td> 3</td>\n",
        "      <td>                              Petroff, Mr. Nedelio</td>\n",
        "    </tr>\n",
        "    <tr>\n",
        "      <th>878</th>\n",
        "      <td> 3</td>\n",
        "      <td>                                Laleff, Mr. Kristo</td>\n",
        "    </tr>\n",
        "    <tr>\n",
        "      <th>879</th>\n",
        "      <td> 1</td>\n",
        "      <td>     Potter, Mrs. Thomas Jr (Lily Alexenia Wilson)</td>\n",
        "    </tr>\n",
        "    <tr>\n",
        "      <th>880</th>\n",
        "      <td> 2</td>\n",
        "      <td>      Shelley, Mrs. William (Imanita Parrish Hall)</td>\n",
        "    </tr>\n",
        "    <tr>\n",
        "      <th>881</th>\n",
        "      <td> 3</td>\n",
        "      <td>                                Markun, Mr. Johann</td>\n",
        "    </tr>\n",
        "    <tr>\n",
        "      <th>882</th>\n",
        "      <td> 3</td>\n",
        "      <td>                      Dahlberg, Miss. Gerda Ulrika</td>\n",
        "    </tr>\n",
        "    <tr>\n",
        "      <th>883</th>\n",
        "      <td> 2</td>\n",
        "      <td>                     Banfield, Mr. Frederick James</td>\n",
        "    </tr>\n",
        "    <tr>\n",
        "      <th>884</th>\n",
        "      <td> 3</td>\n",
        "      <td>                            Sutehall, Mr. Henry Jr</td>\n",
        "    </tr>\n",
        "    <tr>\n",
        "      <th>885</th>\n",
        "      <td> 3</td>\n",
        "      <td>              Rice, Mrs. William (Margaret Norton)</td>\n",
        "    </tr>\n",
        "    <tr>\n",
        "      <th>886</th>\n",
        "      <td> 2</td>\n",
        "      <td>                             Montvila, Rev. Juozas</td>\n",
        "    </tr>\n",
        "    <tr>\n",
        "      <th>887</th>\n",
        "      <td> 1</td>\n",
        "      <td>                      Graham, Miss. Margaret Edith</td>\n",
        "    </tr>\n",
        "    <tr>\n",
        "      <th>888</th>\n",
        "      <td> 3</td>\n",
        "      <td>          Johnston, Miss. Catherine Helen \"Carrie\"</td>\n",
        "    </tr>\n",
        "    <tr>\n",
        "      <th>889</th>\n",
        "      <td> 1</td>\n",
        "      <td>                             Behr, Mr. Karl Howell</td>\n",
        "    </tr>\n",
        "    <tr>\n",
        "      <th>890</th>\n",
        "      <td> 3</td>\n",
        "      <td>                               Dooley, Mr. Patrick</td>\n",
        "    </tr>\n",
        "  </tbody>\n",
        "</table>\n",
        "<p>891 rows \u00d7 2 columns</p>\n",
        "</div>"
       ],
       "metadata": {},
       "output_type": "pyout",
       "prompt_number": 405,
       "text": [
        "     Pclass                                               Name\n",
        "0         3                            Braund, Mr. Owen Harris\n",
        "1         1  Cumings, Mrs. John Bradley (Florence Briggs Th...\n",
        "2         3                             Heikkinen, Miss. Laina\n",
        "3         1       Futrelle, Mrs. Jacques Heath (Lily May Peel)\n",
        "4         3                           Allen, Mr. William Henry\n",
        "5         3                                   Moran, Mr. James\n",
        "6         1                            McCarthy, Mr. Timothy J\n",
        "7         3                     Palsson, Master. Gosta Leonard\n",
        "8         3  Johnson, Mrs. Oscar W (Elisabeth Vilhelmina Berg)\n",
        "9         2                Nasser, Mrs. Nicholas (Adele Achem)\n",
        "10        3                    Sandstrom, Miss. Marguerite Rut\n",
        "11        1                           Bonnell, Miss. Elizabeth\n",
        "12        3                     Saundercock, Mr. William Henry\n",
        "13        3                        Andersson, Mr. Anders Johan\n",
        "14        3               Vestrom, Miss. Hulda Amanda Adolfina\n",
        "15        2                   Hewlett, Mrs. (Mary D Kingcome) \n",
        "16        3                               Rice, Master. Eugene\n",
        "17        2                       Williams, Mr. Charles Eugene\n",
        "18        3  Vander Planke, Mrs. Julius (Emelia Maria Vande...\n",
        "19        3                            Masselmani, Mrs. Fatima\n",
        "20        2                               Fynney, Mr. Joseph J\n",
        "21        2                              Beesley, Mr. Lawrence\n",
        "22        3                        McGowan, Miss. Anna \"Annie\"\n",
        "23        1                       Sloper, Mr. William Thompson\n",
        "24        3                      Palsson, Miss. Torborg Danira\n",
        "25        3  Asplund, Mrs. Carl Oscar (Selma Augusta Emilia...\n",
        "26        3                            Emir, Mr. Farred Chehab\n",
        "27        1                     Fortune, Mr. Charles Alexander\n",
        "28        3                      O'Dwyer, Miss. Ellen \"Nellie\"\n",
        "29        3                                Todoroff, Mr. Lalio\n",
        "..      ...                                                ...\n",
        "861       2                        Giles, Mr. Frederick Edward\n",
        "862       1  Swift, Mrs. Frederick Joel (Margaret Welles Ba...\n",
        "863       3                  Sage, Miss. Dorothy Edith \"Dolly\"\n",
        "864       2                             Gill, Mr. John William\n",
        "865       2                           Bystrom, Mrs. (Karolina)\n",
        "866       2                       Duran y More, Miss. Asuncion\n",
        "867       1               Roebling, Mr. Washington Augustus II\n",
        "868       3                        van Melkebeke, Mr. Philemon\n",
        "869       3                    Johnson, Master. Harold Theodor\n",
        "870       3                                  Balkic, Mr. Cerin\n",
        "871       1   Beckwith, Mrs. Richard Leonard (Sallie Monypeny)\n",
        "872       1                           Carlsson, Mr. Frans Olof\n",
        "873       3                        Vander Cruyssen, Mr. Victor\n",
        "874       2              Abelson, Mrs. Samuel (Hannah Wizosky)\n",
        "875       3                   Najib, Miss. Adele Kiamie \"Jane\"\n",
        "876       3                      Gustafsson, Mr. Alfred Ossian\n",
        "877       3                               Petroff, Mr. Nedelio\n",
        "878       3                                 Laleff, Mr. Kristo\n",
        "879       1      Potter, Mrs. Thomas Jr (Lily Alexenia Wilson)\n",
        "880       2       Shelley, Mrs. William (Imanita Parrish Hall)\n",
        "881       3                                 Markun, Mr. Johann\n",
        "882       3                       Dahlberg, Miss. Gerda Ulrika\n",
        "883       2                      Banfield, Mr. Frederick James\n",
        "884       3                             Sutehall, Mr. Henry Jr\n",
        "885       3               Rice, Mrs. William (Margaret Norton)\n",
        "886       2                              Montvila, Rev. Juozas\n",
        "887       1                       Graham, Miss. Margaret Edith\n",
        "888       3           Johnston, Miss. Catherine Helen \"Carrie\"\n",
        "889       1                              Behr, Mr. Karl Howell\n",
        "890       3                                Dooley, Mr. Patrick\n",
        "\n",
        "[891 rows x 2 columns]"
       ]
      }
     ],
     "prompt_number": 405
    },
    {
     "cell_type": "markdown",
     "metadata": {},
     "source": [
      "### Have a look at the data\n",
      "*There are 12 columns in the data set. The Survived column is the response variable, which leaves 11 features to use in the model, potentially.\n",
      "For the purpose of this exercise, due to time constraints, I will build and evaluate maximal model only. In other words I will attempt to use close to all features in the dataset. All the numerical features are an easy choice ('PassengerId', 'Survived', 'Pclass', 'Age', 'SibSp', 'Parch', 'Fare'). They require that the missing values are dealt with, though. Categorical variables have to be binarized. Variables not used: name, ticket, cabin. Of these, Cabin might be informative, as it maps to the location within the ship (deck vs. under). Name might be informative for married women in the 1st class (identify by brackets). *"
     ]
    },
    {
     "cell_type": "code",
     "collapsed": false,
     "input": [
      "#Data frame 'data' will store original values only. It will not be modified. Copies of data names datai where i={1,2,...n} will.\n",
      "data.info()\n",
      "data.shape\n",
      "num_variables=list(data.mean().index) #original; will be modified as categorical variables are binarized\n",
      "data2=data.copy()\n",
      "print num_variables\n",
      "to_remove=num_variables[1] #this is y/target/response variable\n",
      "print to_remove #this is response variable\n",
      "data2.drop(to_remove, axis=1, inplace=True)\n",
      "data2.head()\n",
      "#From now on, I will only use data2 data frame. It contains explanatory features/variables only."
     ],
     "language": "python",
     "metadata": {},
     "outputs": [
      {
       "output_type": "stream",
       "stream": "stdout",
       "text": [
        "<class 'pandas.core.frame.DataFrame'>\n",
        "Int64Index: 891 entries, 0 to 890\n",
        "Data columns (total 12 columns):\n",
        "PassengerId    891 non-null int64\n",
        "Survived       891 non-null int64\n",
        "Pclass         891 non-null int64\n",
        "Name           891 non-null object\n",
        "Sex            891 non-null object\n",
        "Age            714 non-null float64\n",
        "SibSp          891 non-null int64\n",
        "Parch          891 non-null int64\n",
        "Ticket         891 non-null object\n",
        "Fare           891 non-null float64\n",
        "Cabin          204 non-null object\n",
        "Embarked       889 non-null object\n",
        "dtypes: float64(2), int64(5), object(5)['PassengerId', 'Survived', 'Pclass', 'Age', 'SibSp', 'Parch', 'Fare']\n",
        "Survived\n"
       ]
      },
      {
       "html": [
        "<div style=\"max-height:1000px;max-width:1500px;overflow:auto;\">\n",
        "<table border=\"1\" class=\"dataframe\">\n",
        "  <thead>\n",
        "    <tr style=\"text-align: right;\">\n",
        "      <th></th>\n",
        "      <th>PassengerId</th>\n",
        "      <th>Pclass</th>\n",
        "      <th>Name</th>\n",
        "      <th>Sex</th>\n",
        "      <th>Age</th>\n",
        "      <th>SibSp</th>\n",
        "      <th>Parch</th>\n",
        "      <th>Ticket</th>\n",
        "      <th>Fare</th>\n",
        "      <th>Cabin</th>\n",
        "      <th>Embarked</th>\n",
        "    </tr>\n",
        "  </thead>\n",
        "  <tbody>\n",
        "    <tr>\n",
        "      <th>0</th>\n",
        "      <td> 1</td>\n",
        "      <td> 3</td>\n",
        "      <td>                           Braund, Mr. Owen Harris</td>\n",
        "      <td>   male</td>\n",
        "      <td> 22</td>\n",
        "      <td> 1</td>\n",
        "      <td> 0</td>\n",
        "      <td>        A/5 21171</td>\n",
        "      <td>  7.2500</td>\n",
        "      <td>  NaN</td>\n",
        "      <td> S</td>\n",
        "    </tr>\n",
        "    <tr>\n",
        "      <th>1</th>\n",
        "      <td> 2</td>\n",
        "      <td> 1</td>\n",
        "      <td> Cumings, Mrs. John Bradley (Florence Briggs Th...</td>\n",
        "      <td> female</td>\n",
        "      <td> 38</td>\n",
        "      <td> 1</td>\n",
        "      <td> 0</td>\n",
        "      <td>         PC 17599</td>\n",
        "      <td> 71.2833</td>\n",
        "      <td>  C85</td>\n",
        "      <td> C</td>\n",
        "    </tr>\n",
        "    <tr>\n",
        "      <th>2</th>\n",
        "      <td> 3</td>\n",
        "      <td> 3</td>\n",
        "      <td>                            Heikkinen, Miss. Laina</td>\n",
        "      <td> female</td>\n",
        "      <td> 26</td>\n",
        "      <td> 0</td>\n",
        "      <td> 0</td>\n",
        "      <td> STON/O2. 3101282</td>\n",
        "      <td>  7.9250</td>\n",
        "      <td>  NaN</td>\n",
        "      <td> S</td>\n",
        "    </tr>\n",
        "    <tr>\n",
        "      <th>3</th>\n",
        "      <td> 4</td>\n",
        "      <td> 1</td>\n",
        "      <td>      Futrelle, Mrs. Jacques Heath (Lily May Peel)</td>\n",
        "      <td> female</td>\n",
        "      <td> 35</td>\n",
        "      <td> 1</td>\n",
        "      <td> 0</td>\n",
        "      <td>           113803</td>\n",
        "      <td> 53.1000</td>\n",
        "      <td> C123</td>\n",
        "      <td> S</td>\n",
        "    </tr>\n",
        "    <tr>\n",
        "      <th>4</th>\n",
        "      <td> 5</td>\n",
        "      <td> 3</td>\n",
        "      <td>                          Allen, Mr. William Henry</td>\n",
        "      <td>   male</td>\n",
        "      <td> 35</td>\n",
        "      <td> 0</td>\n",
        "      <td> 0</td>\n",
        "      <td>           373450</td>\n",
        "      <td>  8.0500</td>\n",
        "      <td>  NaN</td>\n",
        "      <td> S</td>\n",
        "    </tr>\n",
        "  </tbody>\n",
        "</table>\n",
        "</div>"
       ],
       "metadata": {},
       "output_type": "pyout",
       "prompt_number": 406,
       "text": [
        "   PassengerId  Pclass                                               Name  \\\n",
        "0            1       3                            Braund, Mr. Owen Harris   \n",
        "1            2       1  Cumings, Mrs. John Bradley (Florence Briggs Th...   \n",
        "2            3       3                             Heikkinen, Miss. Laina   \n",
        "3            4       1       Futrelle, Mrs. Jacques Heath (Lily May Peel)   \n",
        "4            5       3                           Allen, Mr. William Henry   \n",
        "\n",
        "      Sex  Age  SibSp  Parch            Ticket     Fare Cabin Embarked  \n",
        "0    male   22      1      0         A/5 21171   7.2500   NaN        S  \n",
        "1  female   38      1      0          PC 17599  71.2833   C85        C  \n",
        "2  female   26      0      0  STON/O2. 3101282   7.9250   NaN        S  \n",
        "3  female   35      1      0            113803  53.1000  C123        S  \n",
        "4    male   35      0      0            373450   8.0500   NaN        S  "
       ]
      }
     ],
     "prompt_number": 406
    },
    {
     "cell_type": "markdown",
     "metadata": {},
     "source": [
      "## Question 1:\n",
      "Several passengers are missing data points for age. Impute the missing values so that there are no \u201cNaN\u201d values for age as inputs to your model. Explain what value or values you used for the missing age data and why you used those values. (Hint: Think statistically here. Explain your thinking and choices.)\n",
      "\n",
      "*There are 177 values missing for the variable Age (124 for men and 53 for women). \n",
      "Looks like the populations are right skewed (most likely non-normal). \n",
      "There are several ways one could consider filling in missing data: mean, median, mode, random sampling. Among those, mode and random sampling should not change the distribution. Both mean and median will shift it right (see: Fig. 1, Fig. 2. Fig. 3). \n",
      "*\n"
     ]
    },
    {
     "cell_type": "markdown",
     "metadata": {},
     "source": [
      "From the previous exercises we know that Sex and PClass are important feature in predicting survival. Let's double check that."
     ]
    },
    {
     "cell_type": "code",
     "collapsed": false,
     "input": [
      "data.shape"
     ],
     "language": "python",
     "metadata": {},
     "outputs": [
      {
       "metadata": {},
       "output_type": "pyout",
       "prompt_number": 407,
       "text": [
        "(891, 12)"
       ]
      }
     ],
     "prompt_number": 407
    },
    {
     "cell_type": "code",
     "collapsed": false,
     "input": [
      "data.isnull().sum()"
     ],
     "language": "python",
     "metadata": {},
     "outputs": [
      {
       "metadata": {},
       "output_type": "pyout",
       "prompt_number": 408,
       "text": [
        "PassengerId      0\n",
        "Survived         0\n",
        "Pclass           0\n",
        "Name             0\n",
        "Sex              0\n",
        "Age            177\n",
        "SibSp            0\n",
        "Parch            0\n",
        "Ticket           0\n",
        "Fare             0\n",
        "Cabin          687\n",
        "Embarked         2\n",
        "dtype: int64"
       ]
      }
     ],
     "prompt_number": 408
    },
    {
     "cell_type": "code",
     "collapsed": false,
     "input": [
      "print data[data.Sex=='male'].Age.isnull().sum()\n",
      "print data[data.Sex=='female'].Age.isnull().sum()"
     ],
     "language": "python",
     "metadata": {},
     "outputs": [
      {
       "output_type": "stream",
       "stream": "stdout",
       "text": [
        "124\n",
        "53\n"
       ]
      }
     ],
     "prompt_number": 409
    },
    {
     "cell_type": "code",
     "collapsed": false,
     "input": [
      "data[data.Sex=='male'].Age.hist(bins=20, label='male')\n",
      "data[data.Sex=='female'].Age.hist(bins=20, alpha=0.5, label='female')\n",
      "plt.title('Fig 1A. Age distribution | gender: original data')\n",
      "plt.ylabel('Count')\n",
      "plt.xlabel('Age')\n",
      "plt.legend(loc= 'best')\n"
     ],
     "language": "python",
     "metadata": {},
     "outputs": [
      {
       "metadata": {},
       "output_type": "pyout",
       "prompt_number": 410,
       "text": [
        "<matplotlib.legend.Legend at 0x121402dd0>"
       ]
      },
      {
       "metadata": {},
       "output_type": "display_data",
       "png": "[encoded data removed]",
       "text": [
        "<matplotlib.figure.Figure at 0x121402610>"
       ]
      }
     ],
     "prompt_number": 410
    },
    {
     "cell_type": "code",
     "collapsed": false,
     "input": [
      "data[data.Sex=='male'].Age.dropna().plot(kind='kde',xlim=(0,100), label='male')\n",
      "data[data.Sex=='female'].Age.dropna().plot(kind='kde',xlim=(0,100), label='male')\n",
      "plt.title('Fig 1B. Age density | gender: original data')\n",
      "plt.xlabel('Age')\n",
      "plt.legend(loc= 'best')\n"
     ],
     "language": "python",
     "metadata": {},
     "outputs": [
      {
       "metadata": {},
       "output_type": "pyout",
       "prompt_number": 411,
       "text": [
        "<matplotlib.legend.Legend at 0x1214886d0>"
       ]
      },
      {
       "metadata": {},
       "output_type": "display_data",
       "png": "[encoded data removed]",
       "text": [
        "<matplotlib.figure.Figure at 0x121488890>"
       ]
      }
     ],
     "prompt_number": 411
    },
    {
     "cell_type": "code",
     "collapsed": false,
     "input": [
      "grouped_by_age_pclass = data2.groupby(['Sex', 'Pclass']).mean()\n",
      "grouped_by_age_pclass"
     ],
     "language": "python",
     "metadata": {},
     "outputs": [
      {
       "html": [
        "<div style=\"max-height:1000px;max-width:1500px;overflow:auto;\">\n",
        "<table border=\"1\" class=\"dataframe\">\n",
        "  <thead>\n",
        "    <tr style=\"text-align: right;\">\n",
        "      <th></th>\n",
        "      <th></th>\n",
        "      <th>PassengerId</th>\n",
        "      <th>Age</th>\n",
        "      <th>SibSp</th>\n",
        "      <th>Parch</th>\n",
        "      <th>Fare</th>\n",
        "    </tr>\n",
        "    <tr>\n",
        "      <th>Sex</th>\n",
        "      <th>Pclass</th>\n",
        "      <th></th>\n",
        "      <th></th>\n",
        "      <th></th>\n",
        "      <th></th>\n",
        "      <th></th>\n",
        "    </tr>\n",
        "  </thead>\n",
        "  <tbody>\n",
        "    <tr>\n",
        "      <th rowspan=\"3\" valign=\"top\">female</th>\n",
        "      <th>1</th>\n",
        "      <td> 469.212766</td>\n",
        "      <td> 34.611765</td>\n",
        "      <td> 0.553191</td>\n",
        "      <td> 0.457447</td>\n",
        "      <td> 106.125798</td>\n",
        "    </tr>\n",
        "    <tr>\n",
        "      <th>2</th>\n",
        "      <td> 443.105263</td>\n",
        "      <td> 28.722973</td>\n",
        "      <td> 0.486842</td>\n",
        "      <td> 0.605263</td>\n",
        "      <td>  21.970121</td>\n",
        "    </tr>\n",
        "    <tr>\n",
        "      <th>3</th>\n",
        "      <td> 399.729167</td>\n",
        "      <td> 21.750000</td>\n",
        "      <td> 0.895833</td>\n",
        "      <td> 0.798611</td>\n",
        "      <td>  16.118810</td>\n",
        "    </tr>\n",
        "    <tr>\n",
        "      <th rowspan=\"3\" valign=\"top\">male</th>\n",
        "      <th>1</th>\n",
        "      <td> 455.729508</td>\n",
        "      <td> 41.281386</td>\n",
        "      <td> 0.311475</td>\n",
        "      <td> 0.278689</td>\n",
        "      <td>  67.226127</td>\n",
        "    </tr>\n",
        "    <tr>\n",
        "      <th>2</th>\n",
        "      <td> 447.962963</td>\n",
        "      <td> 30.740707</td>\n",
        "      <td> 0.342593</td>\n",
        "      <td> 0.222222</td>\n",
        "      <td>  19.741782</td>\n",
        "    </tr>\n",
        "    <tr>\n",
        "      <th>3</th>\n",
        "      <td> 455.515850</td>\n",
        "      <td> 26.507589</td>\n",
        "      <td> 0.498559</td>\n",
        "      <td> 0.224784</td>\n",
        "      <td>  12.661633</td>\n",
        "    </tr>\n",
        "  </tbody>\n",
        "</table>\n",
        "</div>"
       ],
       "metadata": {},
       "output_type": "pyout",
       "prompt_number": 412,
       "text": [
        "               PassengerId        Age     SibSp     Parch        Fare\n",
        "Sex    Pclass                                                        \n",
        "female 1        469.212766  34.611765  0.553191  0.457447  106.125798\n",
        "       2        443.105263  28.722973  0.486842  0.605263   21.970121\n",
        "       3        399.729167  21.750000  0.895833  0.798611   16.118810\n",
        "male   1        455.729508  41.281386  0.311475  0.278689   67.226127\n",
        "       2        447.962963  30.740707  0.342593  0.222222   19.741782\n",
        "       3        455.515850  26.507589  0.498559  0.224784   12.661633"
       ]
      }
     ],
     "prompt_number": 412
    },
    {
     "cell_type": "markdown",
     "metadata": {},
     "source": [
      "Survival rates are very different in these classes"
     ]
    },
    {
     "cell_type": "code",
     "collapsed": false,
     "input": [
      "#grouped_by_age_pclass.Survived.round(3)*100"
     ],
     "language": "python",
     "metadata": {},
     "outputs": [],
     "prompt_number": 414
    },
    {
     "cell_type": "markdown",
     "metadata": {},
     "source": [
      "Average ages are also quite different in these classes"
     ]
    },
    {
     "cell_type": "markdown",
     "metadata": {},
     "source": [
      "Let's look closer. Age distribution for male and female population"
     ]
    },
    {
     "cell_type": "code",
     "collapsed": false,
     "input": [
      "# ORIGINAL:\n",
      "# Plot distribution of passenger ages\n",
      "plt.hist(data2[data.Sex == 'male']['Age'].dropna().values, bins=16, range=(0,80), alpha = .3, label='male', normed = True)\n",
      "plt.hist(data2[data.Sex == 'female']['Age'].dropna().values, bins=16, range=(0,80), alpha = .3, label='female', normed = True)\n",
      "plt.ylabel('Count')\n",
      "plt.xlabel('Age')\n",
      "plt.title('Histogram of Passenger Ages')\n",
      "plt.legend(loc= 'best')\n",
      "plt.show()"
     ],
     "language": "python",
     "metadata": {},
     "outputs": [
      {
       "metadata": {},
       "output_type": "display_data",
       "png": "[encoded data removed]",
       "text": [
        "<matplotlib.figure.Figure at 0x1125bb190>"
       ]
      }
     ],
     "prompt_number": 415
    },
    {
     "cell_type": "markdown",
     "metadata": {},
     "source": [
      "A simple idea: use the mean value per sex and Pclass to fill the missing values\n",
      "\n",
      "A slightly more complex idea: draw random values from the distribution of ages of a certain sex and class"
     ]
    },
    {
     "cell_type": "markdown",
     "metadata": {},
     "source": [
      "Let's Keep It Simple"
     ]
    },
    {
     "cell_type": "code",
     "collapsed": false,
     "input": [
      "data2.fillna(grouped_by_age_pclass, inplace=True)\n",
      "data2.isnull().sum()"
     ],
     "language": "python",
     "metadata": {},
     "outputs": [
      {
       "metadata": {},
       "output_type": "pyout",
       "prompt_number": 416,
       "text": [
        "PassengerId      0\n",
        "Pclass           0\n",
        "Name             0\n",
        "Sex              0\n",
        "Age              0\n",
        "SibSp            0\n",
        "Parch            0\n",
        "Ticket           0\n",
        "Fare             0\n",
        "Cabin          687\n",
        "Embarked         2\n",
        "dtype: int64"
       ]
      }
     ],
     "prompt_number": 416
    },
    {
     "cell_type": "markdown",
     "metadata": {},
     "source": [
      "**a. Numerical variables**"
     ]
    },
    {
     "cell_type": "code",
     "collapsed": false,
     "input": [
      "#these are the original numerical variables\n",
      "num_variables"
     ],
     "language": "python",
     "metadata": {},
     "outputs": [
      {
       "metadata": {},
       "output_type": "pyout",
       "prompt_number": 417,
       "text": [
        "['PassengerId', 'Survived', 'Pclass', 'Age', 'SibSp', 'Parch', 'Fare']"
       ]
      }
     ],
     "prompt_number": 417
    },
    {
     "cell_type": "code",
     "collapsed": false,
     "input": [
      "#Define variables for first approach (all numerical variables)\n",
      "print data2.isnull().sum()\n",
      "#get column names of numerical features\n",
      "num_variables=list(data2.mean().index)\n",
      "#print num_variables\n",
      "#del num_variables[1]\n",
      "#print num_variables, to_remove\n",
      "#num_variables[0]\n",
      "\n",
      "#Among the values below: Sex, Ticket, Embarked and Cabin are categirical. Ignore, for now."
     ],
     "language": "python",
     "metadata": {},
     "outputs": [
      {
       "output_type": "stream",
       "stream": "stdout",
       "text": [
        "PassengerId      0\n",
        "Pclass           0\n",
        "Name             0\n",
        "Sex              0\n",
        "Age              0\n",
        "SibSp            0\n",
        "Parch            0\n",
        "Ticket           0\n",
        "Fare             0\n",
        "Cabin          687\n",
        "Embarked         2\n",
        "dtype: int64\n"
       ]
      }
     ],
     "prompt_number": 418
    },
    {
     "cell_type": "code",
     "collapsed": false,
     "input": [
      "#data.info()"
     ],
     "language": "python",
     "metadata": {},
     "outputs": [],
     "prompt_number": 419
    },
    {
     "cell_type": "code",
     "collapsed": false,
     "input": [
      "#x = np.random.randn(10000)\n",
      "#plt.hist(x, 100)\n",
      "data2[data.Sex=='male'].Age.dropna().plot(kind='kde', xlim=(0,100))\n",
      "data2[data.Sex=='female'].Age.dropna().plot(kind='kde',xlim=(0,100))\n",
      "plt.xlabel('Age')\n",
      "plt.title('Fig. 2A. Age density distribution | gender')"
     ],
     "language": "python",
     "metadata": {},
     "outputs": [
      {
       "metadata": {},
       "output_type": "pyout",
       "prompt_number": 420,
       "text": [
        "<matplotlib.text.Text at 0x121ba9350>"
       ]
      },
      {
       "metadata": {},
       "output_type": "display_data",
       "png": "[encoded data removed]",
       "text": [
        "<matplotlib.figure.Figure at 0x12143f390>"
       ]
      }
     ],
     "prompt_number": 420
    },
    {
     "cell_type": "code",
     "collapsed": false,
     "input": [
      "data2[data2.Sex=='male'].Age.hist(bins=20)\n",
      "plt.title('Fig. 2B. Age distribution | gender')\n",
      "plt.ylabel('Count')\n",
      "plt.xlabel('Age')\n",
      "data2[data.Sex=='female'].Age.hist(bins=20, alpha=0.5)"
     ],
     "language": "python",
     "metadata": {},
     "outputs": [
      {
       "metadata": {},
       "output_type": "pyout",
       "prompt_number": 421,
       "text": [
        "<matplotlib.axes.AxesSubplot at 0x121b9fd90>"
       ]
      },
      {
       "metadata": {},
       "output_type": "display_data",
       "png": "[encoded data removed]",
       "text": [
        "<matplotlib.figure.Figure at 0x121581e50>"
       ]
      }
     ],
     "prompt_number": 421
    },
    {
     "cell_type": "code",
     "collapsed": false,
     "input": [
      "data[data.Sex=='male'].Age.hist(bins=20, label='male')\n",
      "data[data.Sex=='female'].Age.hist(bins=20, alpha=0.5, label='female')\n",
      "plt.title('Fig 1A. ORIGINAL: Age distribution | gender: original data')\n",
      "plt.ylabel('Count')\n",
      "plt.xlabel('Age')\n",
      "plt.legend(loc= 'best')\n"
     ],
     "language": "python",
     "metadata": {},
     "outputs": [
      {
       "metadata": {},
       "output_type": "pyout",
       "prompt_number": 422,
       "text": [
        "<matplotlib.legend.Legend at 0x1215ede90>"
       ]
      },
      {
       "metadata": {},
       "output_type": "display_data",
       "png": "[encoded data removed]",
       "text": [
        "<matplotlib.figure.Figure at 0x1215ed6d0>"
       ]
      }
     ],
     "prompt_number": 422
    },
    {
     "cell_type": "code",
     "collapsed": false,
     "input": [
      "#TRYING MEDIAN:\n",
      "#grouped_by_age_pclass = data2.groupby(['Sex', 'Pclass']).mean()\n",
      "#grouped_by_age_pclass\n",
      "data3=data.copy()\n",
      "grouped_by_age_pclass2 = data3.groupby(['Sex', 'Pclass']).median()\n",
      "print grouped_by_age_pclass2\n",
      "#grouped_by_age_pclass2.shape"
     ],
     "language": "python",
     "metadata": {},
     "outputs": [
      {
       "output_type": "stream",
       "stream": "stdout",
       "text": [
        "               PassengerId  Survived   Age  SibSp  Parch      Fare\n",
        "Sex    Pclass                                                     \n",
        "female 1             447.0       1.0  35.0      0      0  82.66455\n",
        "       2             439.5       1.0  28.0      0      0  22.00000\n",
        "       3             376.0       0.5  21.5      0      0  12.47500\n",
        "male   1             480.5       0.0  40.0      0      0  41.26250\n",
        "       2             416.5       0.0  30.0      0      0  13.00000\n",
        "       3             466.0       0.0  25.0      0      0   7.92500\n"
       ]
      }
     ],
     "prompt_number": 423
    },
    {
     "cell_type": "code",
     "collapsed": false,
     "input": [
      "#substituting NA's\n",
      "data3.fillna(grouped_by_age_pclass2,inplace=True);"
     ],
     "language": "python",
     "metadata": {},
     "outputs": [],
     "prompt_number": 424
    },
    {
     "cell_type": "code",
     "collapsed": false,
     "input": [
      "data3[data3.Sex=='male'].Age.hist(bins=20)\n",
      "data3[data3.Sex=='female'].Age.hist(bins=20)\n",
      "plt.xlabel('Age')\n",
      "plt.ylabel('Count')\n",
      "plt.title('Fig. 3. Age distribution | gender')\n"
     ],
     "language": "python",
     "metadata": {},
     "outputs": [
      {
       "metadata": {},
       "output_type": "pyout",
       "prompt_number": 425,
       "text": [
        "<matplotlib.text.Text at 0x122a21050>"
       ]
      },
      {
       "metadata": {},
       "output_type": "display_data",
       "png": "[encoded data removed]",
       "text": [
        "<matplotlib.figure.Figure at 0x1219e0810>"
       ]
      }
     ],
     "prompt_number": 425
    },
    {
     "cell_type": "code",
     "collapsed": false,
     "input": [
      "data[data.Sex=='male'].Age.hist(bins=20, label='male')\n",
      "data[data.Sex=='female'].Age.hist(bins=20, alpha=0.5, label='female')\n",
      "plt.title('ORIGINAL: Fig 1A. Age distribution | gender: original data')\n",
      "plt.ylabel('Count')\n",
      "plt.xlabel('Age')\n",
      "plt.legend(loc= 'best')\n"
     ],
     "language": "python",
     "metadata": {},
     "outputs": [
      {
       "metadata": {},
       "output_type": "pyout",
       "prompt_number": 426,
       "text": [
        "<matplotlib.legend.Legend at 0x122a80990>"
       ]
      },
      {
       "metadata": {},
       "output_type": "display_data",
       "png": "[encoded data removed]",
       "text": [
        "<matplotlib.figure.Figure at 0x122a80690>"
       ]
      }
     ],
     "prompt_number": 426
    },
    {
     "cell_type": "code",
     "collapsed": false,
     "input": [
      "data3.isnull().sum()"
     ],
     "language": "python",
     "metadata": {},
     "outputs": [
      {
       "metadata": {},
       "output_type": "pyout",
       "prompt_number": 427,
       "text": [
        "PassengerId      0\n",
        "Survived         0\n",
        "Pclass           0\n",
        "Name             0\n",
        "Sex              0\n",
        "Age              0\n",
        "SibSp            0\n",
        "Parch            0\n",
        "Ticket           0\n",
        "Fare             0\n",
        "Cabin          687\n",
        "Embarked         2\n",
        "dtype: int64"
       ]
      }
     ],
     "prompt_number": 427
    },
    {
     "cell_type": "code",
     "collapsed": false,
     "input": [
      "#TRYING MODE (for Age) NOT FINISHED!:\n",
      "\n",
      "data4=data.copy()\n",
      "print data4.shape\n",
      "print data4.isnull().sum()\n",
      "print data4.isnull().sum()/data2.shape[0]\n",
      "\n",
      "data4.head()"
     ],
     "language": "python",
     "metadata": {},
     "outputs": [
      {
       "output_type": "stream",
       "stream": "stdout",
       "text": [
        "(891, 12)\n",
        "PassengerId      0\n",
        "Survived         0\n",
        "Pclass           0\n",
        "Name             0\n",
        "Sex              0\n",
        "Age            177\n",
        "SibSp            0\n",
        "Parch            0\n",
        "Ticket           0\n",
        "Fare             0\n",
        "Cabin          687\n",
        "Embarked         2\n",
        "dtype: int64\n",
        "PassengerId    0.000000\n",
        "Survived       0.000000\n",
        "Pclass         0.000000\n",
        "Name           0.000000\n",
        "Sex            0.000000\n",
        "Age            0.198653\n",
        "SibSp          0.000000\n",
        "Parch          0.000000\n",
        "Ticket         0.000000\n",
        "Fare           0.000000\n",
        "Cabin          0.771044\n",
        "Embarked       0.002245\n",
        "dtype: float64\n"
       ]
      },
      {
       "html": [
        "<div style=\"max-height:1000px;max-width:1500px;overflow:auto;\">\n",
        "<table border=\"1\" class=\"dataframe\">\n",
        "  <thead>\n",
        "    <tr style=\"text-align: right;\">\n",
        "      <th></th>\n",
        "      <th>PassengerId</th>\n",
        "      <th>Survived</th>\n",
        "      <th>Pclass</th>\n",
        "      <th>Name</th>\n",
        "      <th>Sex</th>\n",
        "      <th>Age</th>\n",
        "      <th>SibSp</th>\n",
        "      <th>Parch</th>\n",
        "      <th>Ticket</th>\n",
        "      <th>Fare</th>\n",
        "      <th>Cabin</th>\n",
        "      <th>Embarked</th>\n",
        "    </tr>\n",
        "  </thead>\n",
        "  <tbody>\n",
        "    <tr>\n",
        "      <th>0</th>\n",
        "      <td> 1</td>\n",
        "      <td> 0</td>\n",
        "      <td> 3</td>\n",
        "      <td>                           Braund, Mr. Owen Harris</td>\n",
        "      <td>   male</td>\n",
        "      <td> 22</td>\n",
        "      <td> 1</td>\n",
        "      <td> 0</td>\n",
        "      <td>        A/5 21171</td>\n",
        "      <td>  7.2500</td>\n",
        "      <td>  NaN</td>\n",
        "      <td> S</td>\n",
        "    </tr>\n",
        "    <tr>\n",
        "      <th>1</th>\n",
        "      <td> 2</td>\n",
        "      <td> 1</td>\n",
        "      <td> 1</td>\n",
        "      <td> Cumings, Mrs. John Bradley (Florence Briggs Th...</td>\n",
        "      <td> female</td>\n",
        "      <td> 38</td>\n",
        "      <td> 1</td>\n",
        "      <td> 0</td>\n",
        "      <td>         PC 17599</td>\n",
        "      <td> 71.2833</td>\n",
        "      <td>  C85</td>\n",
        "      <td> C</td>\n",
        "    </tr>\n",
        "    <tr>\n",
        "      <th>2</th>\n",
        "      <td> 3</td>\n",
        "      <td> 1</td>\n",
        "      <td> 3</td>\n",
        "      <td>                            Heikkinen, Miss. Laina</td>\n",
        "      <td> female</td>\n",
        "      <td> 26</td>\n",
        "      <td> 0</td>\n",
        "      <td> 0</td>\n",
        "      <td> STON/O2. 3101282</td>\n",
        "      <td>  7.9250</td>\n",
        "      <td>  NaN</td>\n",
        "      <td> S</td>\n",
        "    </tr>\n",
        "    <tr>\n",
        "      <th>3</th>\n",
        "      <td> 4</td>\n",
        "      <td> 1</td>\n",
        "      <td> 1</td>\n",
        "      <td>      Futrelle, Mrs. Jacques Heath (Lily May Peel)</td>\n",
        "      <td> female</td>\n",
        "      <td> 35</td>\n",
        "      <td> 1</td>\n",
        "      <td> 0</td>\n",
        "      <td>           113803</td>\n",
        "      <td> 53.1000</td>\n",
        "      <td> C123</td>\n",
        "      <td> S</td>\n",
        "    </tr>\n",
        "    <tr>\n",
        "      <th>4</th>\n",
        "      <td> 5</td>\n",
        "      <td> 0</td>\n",
        "      <td> 3</td>\n",
        "      <td>                          Allen, Mr. William Henry</td>\n",
        "      <td>   male</td>\n",
        "      <td> 35</td>\n",
        "      <td> 0</td>\n",
        "      <td> 0</td>\n",
        "      <td>           373450</td>\n",
        "      <td>  8.0500</td>\n",
        "      <td>  NaN</td>\n",
        "      <td> S</td>\n",
        "    </tr>\n",
        "  </tbody>\n",
        "</table>\n",
        "</div>"
       ],
       "metadata": {},
       "output_type": "pyout",
       "prompt_number": 428,
       "text": [
        "   PassengerId  Survived  Pclass  \\\n",
        "0            1         0       3   \n",
        "1            2         1       1   \n",
        "2            3         1       3   \n",
        "3            4         1       1   \n",
        "4            5         0       3   \n",
        "\n",
        "                                                Name     Sex  Age  SibSp  \\\n",
        "0                            Braund, Mr. Owen Harris    male   22      1   \n",
        "1  Cumings, Mrs. John Bradley (Florence Briggs Th...  female   38      1   \n",
        "2                             Heikkinen, Miss. Laina  female   26      0   \n",
        "3       Futrelle, Mrs. Jacques Heath (Lily May Peel)  female   35      1   \n",
        "4                           Allen, Mr. William Henry    male   35      0   \n",
        "\n",
        "   Parch            Ticket     Fare Cabin Embarked  \n",
        "0      0         A/5 21171   7.2500   NaN        S  \n",
        "1      0          PC 17599  71.2833   C85        C  \n",
        "2      0  STON/O2. 3101282   7.9250   NaN        S  \n",
        "3      0            113803  53.1000  C123        S  \n",
        "4      0            373450   8.0500   NaN        S  "
       ]
      }
     ],
     "prompt_number": 428
    },
    {
     "cell_type": "code",
     "collapsed": false,
     "input": [
      "from scipy import stats\n",
      "#grouped_by_age_pclass3 = data4.groupby(['Sex', 'Pclass']).agg(lambda x: stats.mode(x['Age']))\n",
      "grouped_by_age_pclass4=data4[['Sex', 'Pclass','Age']].groupby(['Sex', 'Pclass']).agg(lambda x:x.value_counts().index[0])\n",
      "#data4.groupby(['Sex', 'Pclass']).agg(lambda x:x.value_counts().index[0])\n",
      "grouped_by_age_pclass4\n",
      "#stats.mode(data4['Age'])\n",
      "data4.fillna(grouped_by_age_pclass4,inplace=True)\n",
      "#print data4.head()\n",
      "data4.isnull().sum()\n",
      "#didn't work"
     ],
     "language": "python",
     "metadata": {},
     "outputs": [
      {
       "metadata": {},
       "output_type": "pyout",
       "prompt_number": 429,
       "text": [
        "PassengerId      0\n",
        "Survived         0\n",
        "Pclass           0\n",
        "Name             0\n",
        "Sex              0\n",
        "Age             88\n",
        "SibSp            0\n",
        "Parch            0\n",
        "Ticket           0\n",
        "Fare             0\n",
        "Cabin          687\n",
        "Embarked         2\n",
        "dtype: int64"
       ]
      }
     ],
     "prompt_number": 429
    },
    {
     "cell_type": "code",
     "collapsed": false,
     "input": [
      "#RESET\n",
      "data4=data.copy()\n",
      "print data4.shape\n",
      "print data4.isnull().sum()\n",
      "#print data4.isnull().sum()/data2.shape[0]\n",
      "\n",
      "#data4.head()"
     ],
     "language": "python",
     "metadata": {},
     "outputs": [
      {
       "output_type": "stream",
       "stream": "stdout",
       "text": [
        "(891, 12)\n",
        "PassengerId      0\n",
        "Survived         0\n",
        "Pclass           0\n",
        "Name             0\n",
        "Sex              0\n",
        "Age            177\n",
        "SibSp            0\n",
        "Parch            0\n",
        "Ticket           0\n",
        "Fare             0\n",
        "Cabin          687\n",
        "Embarked         2\n",
        "dtype: int64\n"
       ]
      }
     ],
     "prompt_number": 430
    },
    {
     "cell_type": "code",
     "collapsed": false,
     "input": [
      "#grouped object: cane be used for random sampling or mode\n",
      "#grouped_by_age_pclass2 = data3.groupby(['Sex', 'Pclass']).median()\n",
      "#print grouped_by_age_pclass2\n",
      "#data3.fillna(grouped_by_age_pclass2,inplace=True);\n",
      "\n",
      "gb4=data4.groupby(['Sex', 'Pclass']).agg(stats.mode)#['Age']\n",
      "#print gb4\n",
      "#print gb4.shape\n",
      "#type(gb4.Age[0])\n",
      "\n",
      "gb4.apply(lambda x: x[0])"
     ],
     "language": "python",
     "metadata": {},
     "outputs": [
      {
       "metadata": {},
       "output_type": "pyout",
       "prompt_number": 431,
       "text": [
        "PassengerId                              ([2.0], [1.0])\n",
        "Survived                                ([1.0], [91.0])\n",
        "Name           ([Allen, Miss. Elisabeth Walton], [1.0])\n",
        "Age                                     ([35.0], [6.0])\n",
        "SibSp                                   ([0.0], [49.0])\n",
        "Parch                                   ([0.0], [64.0])\n",
        "Ticket                                ([110152], [3.0])\n",
        "Fare                                 ([77.9583], [3.0])\n",
        "Cabin                                    ([B18], [2.0])\n",
        "Embarked                                  ([S], [48.0])\n",
        "dtype: object"
       ]
      }
     ],
     "prompt_number": 431
    },
    {
     "cell_type": "code",
     "collapsed": false,
     "input": [
      "from scipy import stats\n",
      "#http://docs.scipy.org/doc/scipy-0.7.x/reference/generated/scipy.stats.mode.html\n",
      "#gb4_df=gb4.agg([np.mean,stats.mode,np.median])\n",
      "#gb4_df=gb4.agg(stats.mode)\n",
      "#print gb4_df\n",
      "#print gb4_df.shape\n",
      "gb4.apply(lambda x: x[0])\n",
      "\n",
      "#for row in gb4_df.Age:\n",
      " #   print row[0]\n",
      "\n",
      "\n",
      "#gb4_df['Age']['mode']\n",
      "#gb4_df['Age'][['mean','mode','median']]\n",
      "\n",
      "#USE APPLY FOR SUBSTITUTION!!!!"
     ],
     "language": "python",
     "metadata": {},
     "outputs": [
      {
       "metadata": {},
       "output_type": "pyout",
       "prompt_number": 432,
       "text": [
        "PassengerId                              ([2.0], [1.0])\n",
        "Survived                                ([1.0], [91.0])\n",
        "Name           ([Allen, Miss. Elisabeth Walton], [1.0])\n",
        "Age                                     ([35.0], [6.0])\n",
        "SibSp                                   ([0.0], [49.0])\n",
        "Parch                                   ([0.0], [64.0])\n",
        "Ticket                                ([110152], [3.0])\n",
        "Fare                                 ([77.9583], [3.0])\n",
        "Cabin                                    ([B18], [2.0])\n",
        "Embarked                                  ([S], [48.0])\n",
        "dtype: object"
       ]
      }
     ],
     "prompt_number": 432
    },
    {
     "cell_type": "code",
     "collapsed": false,
     "input": [
      "print gb4\n",
      "print type(gb4)\n",
      "print type(grouped_by_age_pclass2)\n"
     ],
     "language": "python",
     "metadata": {},
     "outputs": [
      {
       "output_type": "stream",
       "stream": "stdout",
       "text": [
        "                   PassengerId          Survived  \\\n",
        "Sex    Pclass                                      \n",
        "female 1        ([2.0], [1.0])   ([1.0], [91.0])   \n",
        "       2       ([10.0], [1.0])   ([1.0], [70.0])   \n",
        "       3        ([3.0], [1.0])   ([0.0], [72.0])   \n",
        "male   1        ([7.0], [1.0])   ([0.0], [77.0])   \n",
        "       2       ([18.0], [1.0])   ([0.0], [91.0])   \n",
        "       3        ([1.0], [1.0])  ([0.0], [300.0])   \n",
        "\n",
        "                                                           Name  \\\n",
        "Sex    Pclass                                                     \n",
        "female 1               ([Allen, Miss. Elisabeth Walton], [1.0])   \n",
        "       2       ([Abelson, Mrs. Samuel (Hannah Wizosky)], [1.0])   \n",
        "       3            ([Abbott, Mrs. Stanton (Rosa Hunt)], [1.0])   \n",
        "male   1              ([Allison, Master. Hudson Trevor], [1.0])   \n",
        "       2                         ([Abelson, Mr. Samuel], [1.0])   \n",
        "       3                         ([Abbing, Mr. Anthony], [1.0])   \n",
        "\n",
        "                            Age             SibSp             Parch  \\\n",
        "Sex    Pclass                                                         \n",
        "female 1        ([35.0], [6.0])   ([0.0], [49.0])   ([0.0], [64.0])   \n",
        "       2        ([24.0], [7.0])   ([0.0], [44.0])   ([0.0], [45.0])   \n",
        "       3        ([18.0], [8.0])   ([0.0], [81.0])   ([0.0], [85.0])   \n",
        "male   1        ([36.0], [6.0])   ([0.0], [88.0])   ([0.0], [99.0])   \n",
        "       2        ([23.0], [6.0])   ([0.0], [76.0])   ([0.0], [89.0])   \n",
        "       3       ([22.0], [14.0])  ([0.0], [270.0])  ([0.0], [296.0])   \n",
        "\n",
        "                          Ticket                Fare           Cabin  \\\n",
        "Sex    Pclass                                                          \n",
        "female 1       ([110152], [3.0])  ([77.9583], [3.0])  ([B18], [2.0])   \n",
        "       2        ([22084], [2.0])    ([13.0], [14.0])    ([E], [3.0])   \n",
        "       3        ([34708], [5.0])    ([7.75], [15.0])   ([G6], [4.0])   \n",
        "male   1       ([110465], [2.0])   ([26.55], [14.0])  ([B51], [2.0])   \n",
        "       2        ([S.O.C], [5.0])    ([13.0], [28.0])    ([F], [3.0])   \n",
        "       3         ([1601], [7.0])    ([8.05], [41.0])  ([F G], [2.0])   \n",
        "\n",
        "                     Embarked  \n",
        "Sex    Pclass                  \n",
        "female 1        ([S], [48.0])  \n",
        "       2        ([S], [67.0])  \n",
        "       3        ([S], [88.0])  \n",
        "male   1        ([S], [79.0])  \n",
        "       2        ([S], [97.0])  \n",
        "       3       ([S], [265.0])  \n",
        "<class 'pandas.core.frame.DataFrame'>\n",
        "<class 'pandas.core.frame.DataFrame'>\n"
       ]
      }
     ],
     "prompt_number": 433
    },
    {
     "cell_type": "code",
     "collapsed": false,
     "input": [
      "data4.Age.fillna(gb4,inplace=True);\n",
      "# # lambda x: float(x.replace('$', ''))\n",
      "# # myLambda = lambda x: x.replace('$', '')\n",
      "# def myDef(x):\n",
      "#     x = x.replace('$','')\n",
      "#     return x\n",
      "\n",
      "# # df['Employee Annual Salary'].apply(lambda x: x.replace('$', ''))\n",
      "# # df['Employee Annual Salary'].apply(myLambda)\n",
      "# df['Employee Annual Salary'].apply(myDef)\n",
      "\n",
      "#data4.replace(gb4_df['Age'], gb4_df.Age[0])"
     ],
     "language": "python",
     "metadata": {},
     "outputs": [],
     "prompt_number": 434
    },
    {
     "cell_type": "code",
     "collapsed": false,
     "input": [
      "data4[data4.Sex=='male'].Age.hist(bins=20)\n",
      "data4[data4.Sex=='female'].Age.hist(bins=20,alpha=0.5)\n",
      "plt.xlabel('Age')\n",
      "plt.ylabel('Count')\n",
      "plt.title('Fig. 4. Age distribution | gender')"
     ],
     "language": "python",
     "metadata": {},
     "outputs": [
      {
       "metadata": {},
       "output_type": "pyout",
       "prompt_number": 435,
       "text": [
        "<matplotlib.text.Text at 0x123816d90>"
       ]
      },
      {
       "metadata": {},
       "output_type": "display_data",
       "png": "[encoded data removed]",
       "text": [
        "<matplotlib.figure.Figure at 0x1205968d0>"
       ]
      }
     ],
     "prompt_number": 435
    },
    {
     "cell_type": "code",
     "collapsed": false,
     "input": [
      "data[data.Sex=='male'].Age.hist(bins=20, label='male')\n",
      "data[data.Sex=='female'].Age.hist(bins=20, alpha=0.5, label='female')\n",
      "plt.title('ORIGINAL: Fig 1A. Age distribution | gender: original data')\n",
      "plt.ylabel('Count')\n",
      "plt.xlabel('Age')\n",
      "plt.legend(loc= 'best')\n"
     ],
     "language": "python",
     "metadata": {},
     "outputs": [
      {
       "metadata": {},
       "output_type": "pyout",
       "prompt_number": 436,
       "text": [
        "<matplotlib.legend.Legend at 0x1238fd2d0>"
       ]
      },
      {
       "metadata": {},
       "output_type": "display_data",
       "png": "[encoded data removed]",
       "text": [
        "<matplotlib.figure.Figure at 0x1238f8750>"
       ]
      }
     ],
     "prompt_number": 436
    },
    {
     "cell_type": "code",
     "collapsed": false,
     "input": [
      "#data.isnull().sum()\n",
      "data4.isnull().sum()"
     ],
     "language": "python",
     "metadata": {},
     "outputs": [
      {
       "metadata": {},
       "output_type": "pyout",
       "prompt_number": 437,
       "text": [
        "PassengerId      0\n",
        "Survived         0\n",
        "Pclass           0\n",
        "Name             0\n",
        "Sex              0\n",
        "Age            177\n",
        "SibSp            0\n",
        "Parch            0\n",
        "Ticket           0\n",
        "Fare             0\n",
        "Cabin          687\n",
        "Embarked         2\n",
        "dtype: int64"
       ]
      }
     ],
     "prompt_number": 437
    },
    {
     "cell_type": "code",
     "collapsed": false,
     "input": [
      "data4.mode()"
     ],
     "language": "python",
     "metadata": {},
     "outputs": [
      {
       "html": [
        "<div style=\"max-height:1000px;max-width:1500px;overflow:auto;\">\n",
        "<table border=\"1\" class=\"dataframe\">\n",
        "  <thead>\n",
        "    <tr style=\"text-align: right;\">\n",
        "      <th></th>\n",
        "      <th>PassengerId</th>\n",
        "      <th>Survived</th>\n",
        "      <th>Pclass</th>\n",
        "      <th>Name</th>\n",
        "      <th>Sex</th>\n",
        "      <th>Age</th>\n",
        "      <th>SibSp</th>\n",
        "      <th>Parch</th>\n",
        "      <th>Ticket</th>\n",
        "      <th>Fare</th>\n",
        "      <th>Cabin</th>\n",
        "      <th>Embarked</th>\n",
        "    </tr>\n",
        "  </thead>\n",
        "  <tbody>\n",
        "    <tr>\n",
        "      <th>0</th>\n",
        "      <td>NaN</td>\n",
        "      <td>  0</td>\n",
        "      <td>  3</td>\n",
        "      <td>NaN</td>\n",
        "      <td> male</td>\n",
        "      <td> 24</td>\n",
        "      <td>  0</td>\n",
        "      <td>  0</td>\n",
        "      <td>     1601</td>\n",
        "      <td> 8.05</td>\n",
        "      <td>     B96 B98</td>\n",
        "      <td>   S</td>\n",
        "    </tr>\n",
        "    <tr>\n",
        "      <th>1</th>\n",
        "      <td>NaN</td>\n",
        "      <td>NaN</td>\n",
        "      <td>NaN</td>\n",
        "      <td>NaN</td>\n",
        "      <td>  NaN</td>\n",
        "      <td>NaN</td>\n",
        "      <td>NaN</td>\n",
        "      <td>NaN</td>\n",
        "      <td>   347082</td>\n",
        "      <td>  NaN</td>\n",
        "      <td> C23 C25 C27</td>\n",
        "      <td> NaN</td>\n",
        "    </tr>\n",
        "    <tr>\n",
        "      <th>2</th>\n",
        "      <td>NaN</td>\n",
        "      <td>NaN</td>\n",
        "      <td>NaN</td>\n",
        "      <td>NaN</td>\n",
        "      <td>  NaN</td>\n",
        "      <td>NaN</td>\n",
        "      <td>NaN</td>\n",
        "      <td>NaN</td>\n",
        "      <td> CA. 2343</td>\n",
        "      <td>  NaN</td>\n",
        "      <td>          G6</td>\n",
        "      <td> NaN</td>\n",
        "    </tr>\n",
        "  </tbody>\n",
        "</table>\n",
        "</div>"
       ],
       "metadata": {},
       "output_type": "pyout",
       "prompt_number": 438,
       "text": [
        "   PassengerId  Survived  Pclass  Name   Sex  Age  SibSp  Parch    Ticket  \\\n",
        "0          NaN         0       3   NaN  male   24      0      0      1601   \n",
        "1          NaN       NaN     NaN   NaN   NaN  NaN    NaN    NaN    347082   \n",
        "2          NaN       NaN     NaN   NaN   NaN  NaN    NaN    NaN  CA. 2343   \n",
        "\n",
        "   Fare        Cabin Embarked  \n",
        "0  8.05      B96 B98        S  \n",
        "1   NaN  C23 C25 C27      NaN  \n",
        "2   NaN           G6      NaN  "
       ]
      }
     ],
     "prompt_number": 438
    },
    {
     "cell_type": "code",
     "collapsed": false,
     "input": [
      "data4[['Sex', 'Pclass','Age']].head()"
     ],
     "language": "python",
     "metadata": {},
     "outputs": [
      {
       "html": [
        "<div style=\"max-height:1000px;max-width:1500px;overflow:auto;\">\n",
        "<table border=\"1\" class=\"dataframe\">\n",
        "  <thead>\n",
        "    <tr style=\"text-align: right;\">\n",
        "      <th></th>\n",
        "      <th>Sex</th>\n",
        "      <th>Pclass</th>\n",
        "      <th>Age</th>\n",
        "    </tr>\n",
        "  </thead>\n",
        "  <tbody>\n",
        "    <tr>\n",
        "      <th>0</th>\n",
        "      <td>   male</td>\n",
        "      <td> 3</td>\n",
        "      <td> 22</td>\n",
        "    </tr>\n",
        "    <tr>\n",
        "      <th>1</th>\n",
        "      <td> female</td>\n",
        "      <td> 1</td>\n",
        "      <td> 38</td>\n",
        "    </tr>\n",
        "    <tr>\n",
        "      <th>2</th>\n",
        "      <td> female</td>\n",
        "      <td> 3</td>\n",
        "      <td> 26</td>\n",
        "    </tr>\n",
        "    <tr>\n",
        "      <th>3</th>\n",
        "      <td> female</td>\n",
        "      <td> 1</td>\n",
        "      <td> 35</td>\n",
        "    </tr>\n",
        "    <tr>\n",
        "      <th>4</th>\n",
        "      <td>   male</td>\n",
        "      <td> 3</td>\n",
        "      <td> 35</td>\n",
        "    </tr>\n",
        "  </tbody>\n",
        "</table>\n",
        "</div>"
       ],
       "metadata": {},
       "output_type": "pyout",
       "prompt_number": 439,
       "text": [
        "      Sex  Pclass  Age\n",
        "0    male       3   22\n",
        "1  female       1   38\n",
        "2  female       3   26\n",
        "3  female       1   35\n",
        "4    male       3   35"
       ]
      }
     ],
     "prompt_number": 439
    },
    {
     "cell_type": "code",
     "collapsed": false,
     "input": [
      "data4[['Sex', 'Pclass','Age']].mode()"
     ],
     "language": "python",
     "metadata": {},
     "outputs": [
      {
       "html": [
        "<div style=\"max-height:1000px;max-width:1500px;overflow:auto;\">\n",
        "<table border=\"1\" class=\"dataframe\">\n",
        "  <thead>\n",
        "    <tr style=\"text-align: right;\">\n",
        "      <th></th>\n",
        "      <th>Sex</th>\n",
        "      <th>Pclass</th>\n",
        "      <th>Age</th>\n",
        "    </tr>\n",
        "  </thead>\n",
        "  <tbody>\n",
        "    <tr>\n",
        "      <th>0</th>\n",
        "      <td> male</td>\n",
        "      <td> 3</td>\n",
        "      <td> 24</td>\n",
        "    </tr>\n",
        "  </tbody>\n",
        "</table>\n",
        "</div>"
       ],
       "metadata": {},
       "output_type": "pyout",
       "prompt_number": 440,
       "text": [
        "    Sex  Pclass  Age\n",
        "0  male       3   24"
       ]
      }
     ],
     "prompt_number": 440
    },
    {
     "cell_type": "code",
     "collapsed": false,
     "input": [
      "data4[['Sex', 'Pclass','Age']].groupby(['Sex','Pclass']).median()"
     ],
     "language": "python",
     "metadata": {},
     "outputs": [
      {
       "html": [
        "<div style=\"max-height:1000px;max-width:1500px;overflow:auto;\">\n",
        "<table border=\"1\" class=\"dataframe\">\n",
        "  <thead>\n",
        "    <tr style=\"text-align: right;\">\n",
        "      <th></th>\n",
        "      <th></th>\n",
        "      <th>Age</th>\n",
        "    </tr>\n",
        "    <tr>\n",
        "      <th>Sex</th>\n",
        "      <th>Pclass</th>\n",
        "      <th></th>\n",
        "    </tr>\n",
        "  </thead>\n",
        "  <tbody>\n",
        "    <tr>\n",
        "      <th rowspan=\"3\" valign=\"top\">female</th>\n",
        "      <th>1</th>\n",
        "      <td> 35.0</td>\n",
        "    </tr>\n",
        "    <tr>\n",
        "      <th>2</th>\n",
        "      <td> 28.0</td>\n",
        "    </tr>\n",
        "    <tr>\n",
        "      <th>3</th>\n",
        "      <td> 21.5</td>\n",
        "    </tr>\n",
        "    <tr>\n",
        "      <th rowspan=\"3\" valign=\"top\">male</th>\n",
        "      <th>1</th>\n",
        "      <td> 40.0</td>\n",
        "    </tr>\n",
        "    <tr>\n",
        "      <th>2</th>\n",
        "      <td> 30.0</td>\n",
        "    </tr>\n",
        "    <tr>\n",
        "      <th>3</th>\n",
        "      <td> 25.0</td>\n",
        "    </tr>\n",
        "  </tbody>\n",
        "</table>\n",
        "</div>"
       ],
       "metadata": {},
       "output_type": "pyout",
       "prompt_number": 441,
       "text": [
        "                Age\n",
        "Sex    Pclass      \n",
        "female 1       35.0\n",
        "       2       28.0\n",
        "       3       21.5\n",
        "male   1       40.0\n",
        "       2       30.0\n",
        "       3       25.0"
       ]
      }
     ],
     "prompt_number": 441
    },
    {
     "cell_type": "markdown",
     "metadata": {},
     "source": [
      "Random sampling:\n",
      "1. use groupby.groups: sample the number equivalentto the number of na's (get this number with isnull() on groupby object)\n",
      "\n"
     ]
    },
    {
     "cell_type": "code",
     "collapsed": false,
     "input": [
      "#RANDOM SAMPLING: NOT FINISHED"
     ],
     "language": "python",
     "metadata": {},
     "outputs": [],
     "prompt_number": 442
    },
    {
     "cell_type": "code",
     "collapsed": false,
     "input": [],
     "language": "python",
     "metadata": {},
     "outputs": [],
     "prompt_number": 34
    },
    {
     "cell_type": "code",
     "collapsed": false,
     "input": [],
     "language": "python",
     "metadata": {},
     "outputs": [],
     "prompt_number": 34
    },
    {
     "cell_type": "code",
     "collapsed": false,
     "input": [],
     "language": "python",
     "metadata": {},
     "outputs": [],
     "prompt_number": 34
    },
    {
     "cell_type": "code",
     "collapsed": false,
     "input": [],
     "language": "python",
     "metadata": {},
     "outputs": [],
     "prompt_number": 34
    },
    {
     "cell_type": "code",
     "collapsed": false,
     "input": [],
     "language": "python",
     "metadata": {},
     "outputs": [],
     "prompt_number": 34
    },
    {
     "cell_type": "code",
     "collapsed": false,
     "input": [],
     "language": "python",
     "metadata": {},
     "outputs": [],
     "prompt_number": 34
    },
    {
     "cell_type": "markdown",
     "metadata": {},
     "source": [
      "**b. Categorical variables**"
     ]
    },
    {
     "cell_type": "code",
     "collapsed": false,
     "input": [
      "#data reminder\n",
      "data2.head()"
     ],
     "language": "python",
     "metadata": {},
     "outputs": [
      {
       "html": [
        "<div style=\"max-height:1000px;max-width:1500px;overflow:auto;\">\n",
        "<table border=\"1\" class=\"dataframe\">\n",
        "  <thead>\n",
        "    <tr style=\"text-align: right;\">\n",
        "      <th></th>\n",
        "      <th>PassengerId</th>\n",
        "      <th>Pclass</th>\n",
        "      <th>Name</th>\n",
        "      <th>Sex</th>\n",
        "      <th>Age</th>\n",
        "      <th>SibSp</th>\n",
        "      <th>Parch</th>\n",
        "      <th>Ticket</th>\n",
        "      <th>Fare</th>\n",
        "      <th>Cabin</th>\n",
        "      <th>Embarked</th>\n",
        "    </tr>\n",
        "  </thead>\n",
        "  <tbody>\n",
        "    <tr>\n",
        "      <th>0</th>\n",
        "      <td> 1</td>\n",
        "      <td> 3</td>\n",
        "      <td>                           Braund, Mr. Owen Harris</td>\n",
        "      <td>   male</td>\n",
        "      <td> 22</td>\n",
        "      <td> 1</td>\n",
        "      <td> 0</td>\n",
        "      <td>        A/5 21171</td>\n",
        "      <td>  7.2500</td>\n",
        "      <td>  NaN</td>\n",
        "      <td> S</td>\n",
        "    </tr>\n",
        "    <tr>\n",
        "      <th>1</th>\n",
        "      <td> 2</td>\n",
        "      <td> 1</td>\n",
        "      <td> Cumings, Mrs. John Bradley (Florence Briggs Th...</td>\n",
        "      <td> female</td>\n",
        "      <td> 38</td>\n",
        "      <td> 1</td>\n",
        "      <td> 0</td>\n",
        "      <td>         PC 17599</td>\n",
        "      <td> 71.2833</td>\n",
        "      <td>  C85</td>\n",
        "      <td> C</td>\n",
        "    </tr>\n",
        "    <tr>\n",
        "      <th>2</th>\n",
        "      <td> 3</td>\n",
        "      <td> 3</td>\n",
        "      <td>                            Heikkinen, Miss. Laina</td>\n",
        "      <td> female</td>\n",
        "      <td> 26</td>\n",
        "      <td> 0</td>\n",
        "      <td> 0</td>\n",
        "      <td> STON/O2. 3101282</td>\n",
        "      <td>  7.9250</td>\n",
        "      <td>  NaN</td>\n",
        "      <td> S</td>\n",
        "    </tr>\n",
        "    <tr>\n",
        "      <th>3</th>\n",
        "      <td> 4</td>\n",
        "      <td> 1</td>\n",
        "      <td>      Futrelle, Mrs. Jacques Heath (Lily May Peel)</td>\n",
        "      <td> female</td>\n",
        "      <td> 35</td>\n",
        "      <td> 1</td>\n",
        "      <td> 0</td>\n",
        "      <td>           113803</td>\n",
        "      <td> 53.1000</td>\n",
        "      <td> C123</td>\n",
        "      <td> S</td>\n",
        "    </tr>\n",
        "    <tr>\n",
        "      <th>4</th>\n",
        "      <td> 5</td>\n",
        "      <td> 3</td>\n",
        "      <td>                          Allen, Mr. William Henry</td>\n",
        "      <td>   male</td>\n",
        "      <td> 35</td>\n",
        "      <td> 0</td>\n",
        "      <td> 0</td>\n",
        "      <td>           373450</td>\n",
        "      <td>  8.0500</td>\n",
        "      <td>  NaN</td>\n",
        "      <td> S</td>\n",
        "    </tr>\n",
        "  </tbody>\n",
        "</table>\n",
        "</div>"
       ],
       "metadata": {},
       "output_type": "pyout",
       "prompt_number": 443,
       "text": [
        "   PassengerId  Pclass                                               Name  \\\n",
        "0            1       3                            Braund, Mr. Owen Harris   \n",
        "1            2       1  Cumings, Mrs. John Bradley (Florence Briggs Th...   \n",
        "2            3       3                             Heikkinen, Miss. Laina   \n",
        "3            4       1       Futrelle, Mrs. Jacques Heath (Lily May Peel)   \n",
        "4            5       3                           Allen, Mr. William Henry   \n",
        "\n",
        "      Sex  Age  SibSp  Parch            Ticket     Fare Cabin Embarked  \n",
        "0    male   22      1      0         A/5 21171   7.2500   NaN        S  \n",
        "1  female   38      1      0          PC 17599  71.2833   C85        C  \n",
        "2  female   26      0      0  STON/O2. 3101282   7.9250   NaN        S  \n",
        "3  female   35      1      0            113803  53.1000  C123        S  \n",
        "4    male   35      0      0            373450   8.0500   NaN        S  "
       ]
      }
     ],
     "prompt_number": 443
    },
    {
     "cell_type": "code",
     "collapsed": false,
     "input": [
      "#let's start with the features having low number of levels\n",
      "for feature in data2.columns:\n",
      "    #print len(data2[feature].unique())\n",
      "    if len(data2[feature].unique()) <11:\n",
      "        print feature, ':\\t', data2[feature].unique()\n",
      "#print data2.Embarked.unique()\n",
      "#NaN's for Embarked will \n",
      "#print data2.Parch.unique()\n",
      "#print data2.SibSp.unique()\n",
      "#sex: replace with 01\n",
      "#use: embraked too, replace NAN with NA=not available"
     ],
     "language": "python",
     "metadata": {},
     "outputs": [
      {
       "output_type": "stream",
       "stream": "stdout",
       "text": [
        "Pclass :\t[3 1 2]\n",
        "Sex :\t['male' 'female']\n",
        "SibSp :\t[1 0 3 4 2 5 8]\n",
        "Parch :\t[0 1 2 5 3 4 6]\n",
        "Embarked :\t['S' 'C' 'Q' nan]\n"
       ]
      }
     ],
     "prompt_number": 449
    },
    {
     "cell_type": "code",
     "collapsed": false,
     "input": [
      "data2_1=data2.copy()"
     ],
     "language": "python",
     "metadata": {},
     "outputs": [],
     "prompt_number": 450
    },
    {
     "cell_type": "code",
     "collapsed": false,
     "input": [
      "#data2_1=data2.drop(to_remove, axis=1)"
     ],
     "language": "python",
     "metadata": {},
     "outputs": [],
     "prompt_number": 452
    },
    {
     "cell_type": "code",
     "collapsed": false,
     "input": [
      "data2_1.Embarked.isnull().sum()\n"
     ],
     "language": "python",
     "metadata": {},
     "outputs": [
      {
       "metadata": {},
       "output_type": "pyout",
       "prompt_number": 453,
       "text": [
        "2"
       ]
      }
     ],
     "prompt_number": 453
    },
    {
     "cell_type": "code",
     "collapsed": false,
     "input": [
      "#data2_1.Embarked.isnull().sum()\n",
      "data2_1[data2_1.Embarked.isnull()]\n",
      "#data2_1=data2_1.Embarked.fillna('NA')"
     ],
     "language": "python",
     "metadata": {},
     "outputs": [
      {
       "html": [
        "<div style=\"max-height:1000px;max-width:1500px;overflow:auto;\">\n",
        "<table border=\"1\" class=\"dataframe\">\n",
        "  <thead>\n",
        "    <tr style=\"text-align: right;\">\n",
        "      <th></th>\n",
        "      <th>PassengerId</th>\n",
        "      <th>Pclass</th>\n",
        "      <th>Name</th>\n",
        "      <th>Sex</th>\n",
        "      <th>Age</th>\n",
        "      <th>SibSp</th>\n",
        "      <th>Parch</th>\n",
        "      <th>Ticket</th>\n",
        "      <th>Fare</th>\n",
        "      <th>Cabin</th>\n",
        "      <th>Embarked</th>\n",
        "    </tr>\n",
        "  </thead>\n",
        "  <tbody>\n",
        "    <tr>\n",
        "      <th>61 </th>\n",
        "      <td>  62</td>\n",
        "      <td> 1</td>\n",
        "      <td>                       Icard, Miss. Amelie</td>\n",
        "      <td> female</td>\n",
        "      <td> 38</td>\n",
        "      <td> 0</td>\n",
        "      <td> 0</td>\n",
        "      <td> 113572</td>\n",
        "      <td> 80</td>\n",
        "      <td> B28</td>\n",
        "      <td> NaN</td>\n",
        "    </tr>\n",
        "    <tr>\n",
        "      <th>829</th>\n",
        "      <td> 830</td>\n",
        "      <td> 1</td>\n",
        "      <td> Stone, Mrs. George Nelson (Martha Evelyn)</td>\n",
        "      <td> female</td>\n",
        "      <td> 62</td>\n",
        "      <td> 0</td>\n",
        "      <td> 0</td>\n",
        "      <td> 113572</td>\n",
        "      <td> 80</td>\n",
        "      <td> B28</td>\n",
        "      <td> NaN</td>\n",
        "    </tr>\n",
        "  </tbody>\n",
        "</table>\n",
        "</div>"
       ],
       "metadata": {},
       "output_type": "pyout",
       "prompt_number": 454,
       "text": [
        "     PassengerId  Pclass                                       Name     Sex  \\\n",
        "61            62       1                        Icard, Miss. Amelie  female   \n",
        "829          830       1  Stone, Mrs. George Nelson (Martha Evelyn)  female   \n",
        "\n",
        "     Age  SibSp  Parch  Ticket  Fare Cabin Embarked  \n",
        "61    38      0      0  113572    80   B28      NaN  \n",
        "829   62      0      0  113572    80   B28      NaN  "
       ]
      }
     ],
     "prompt_number": 454
    },
    {
     "cell_type": "code",
     "collapsed": false,
     "input": [
      "data2_1.Embarked.fillna('NA',inplace=True)"
     ],
     "language": "python",
     "metadata": {},
     "outputs": [],
     "prompt_number": 455
    },
    {
     "cell_type": "code",
     "collapsed": false,
     "input": [
      "data2_1.Embarked.isnull().sum()\n",
      "#Embarked :\t['S' 'C' 'Q' 'NA']"
     ],
     "language": "python",
     "metadata": {},
     "outputs": [
      {
       "metadata": {},
       "output_type": "pyout",
       "prompt_number": 456,
       "text": [
        "0"
       ]
      }
     ],
     "prompt_number": 456
    },
    {
     "cell_type": "code",
     "collapsed": false,
     "input": [
      "data2_1.head()"
     ],
     "language": "python",
     "metadata": {},
     "outputs": [
      {
       "html": [
        "<div style=\"max-height:1000px;max-width:1500px;overflow:auto;\">\n",
        "<table border=\"1\" class=\"dataframe\">\n",
        "  <thead>\n",
        "    <tr style=\"text-align: right;\">\n",
        "      <th></th>\n",
        "      <th>PassengerId</th>\n",
        "      <th>Pclass</th>\n",
        "      <th>Name</th>\n",
        "      <th>Sex</th>\n",
        "      <th>Age</th>\n",
        "      <th>SibSp</th>\n",
        "      <th>Parch</th>\n",
        "      <th>Ticket</th>\n",
        "      <th>Fare</th>\n",
        "      <th>Cabin</th>\n",
        "      <th>Embarked</th>\n",
        "    </tr>\n",
        "  </thead>\n",
        "  <tbody>\n",
        "    <tr>\n",
        "      <th>0</th>\n",
        "      <td> 1</td>\n",
        "      <td> 3</td>\n",
        "      <td>                           Braund, Mr. Owen Harris</td>\n",
        "      <td>   male</td>\n",
        "      <td> 22</td>\n",
        "      <td> 1</td>\n",
        "      <td> 0</td>\n",
        "      <td>        A/5 21171</td>\n",
        "      <td>  7.2500</td>\n",
        "      <td>  NaN</td>\n",
        "      <td> S</td>\n",
        "    </tr>\n",
        "    <tr>\n",
        "      <th>1</th>\n",
        "      <td> 2</td>\n",
        "      <td> 1</td>\n",
        "      <td> Cumings, Mrs. John Bradley (Florence Briggs Th...</td>\n",
        "      <td> female</td>\n",
        "      <td> 38</td>\n",
        "      <td> 1</td>\n",
        "      <td> 0</td>\n",
        "      <td>         PC 17599</td>\n",
        "      <td> 71.2833</td>\n",
        "      <td>  C85</td>\n",
        "      <td> C</td>\n",
        "    </tr>\n",
        "    <tr>\n",
        "      <th>2</th>\n",
        "      <td> 3</td>\n",
        "      <td> 3</td>\n",
        "      <td>                            Heikkinen, Miss. Laina</td>\n",
        "      <td> female</td>\n",
        "      <td> 26</td>\n",
        "      <td> 0</td>\n",
        "      <td> 0</td>\n",
        "      <td> STON/O2. 3101282</td>\n",
        "      <td>  7.9250</td>\n",
        "      <td>  NaN</td>\n",
        "      <td> S</td>\n",
        "    </tr>\n",
        "    <tr>\n",
        "      <th>3</th>\n",
        "      <td> 4</td>\n",
        "      <td> 1</td>\n",
        "      <td>      Futrelle, Mrs. Jacques Heath (Lily May Peel)</td>\n",
        "      <td> female</td>\n",
        "      <td> 35</td>\n",
        "      <td> 1</td>\n",
        "      <td> 0</td>\n",
        "      <td>           113803</td>\n",
        "      <td> 53.1000</td>\n",
        "      <td> C123</td>\n",
        "      <td> S</td>\n",
        "    </tr>\n",
        "    <tr>\n",
        "      <th>4</th>\n",
        "      <td> 5</td>\n",
        "      <td> 3</td>\n",
        "      <td>                          Allen, Mr. William Henry</td>\n",
        "      <td>   male</td>\n",
        "      <td> 35</td>\n",
        "      <td> 0</td>\n",
        "      <td> 0</td>\n",
        "      <td>           373450</td>\n",
        "      <td>  8.0500</td>\n",
        "      <td>  NaN</td>\n",
        "      <td> S</td>\n",
        "    </tr>\n",
        "  </tbody>\n",
        "</table>\n",
        "</div>"
       ],
       "metadata": {},
       "output_type": "pyout",
       "prompt_number": 457,
       "text": [
        "   PassengerId  Pclass                                               Name  \\\n",
        "0            1       3                            Braund, Mr. Owen Harris   \n",
        "1            2       1  Cumings, Mrs. John Bradley (Florence Briggs Th...   \n",
        "2            3       3                             Heikkinen, Miss. Laina   \n",
        "3            4       1       Futrelle, Mrs. Jacques Heath (Lily May Peel)   \n",
        "4            5       3                           Allen, Mr. William Henry   \n",
        "\n",
        "      Sex  Age  SibSp  Parch            Ticket     Fare Cabin Embarked  \n",
        "0    male   22      1      0         A/5 21171   7.2500   NaN        S  \n",
        "1  female   38      1      0          PC 17599  71.2833   C85        C  \n",
        "2  female   26      0      0  STON/O2. 3101282   7.9250   NaN        S  \n",
        "3  female   35      1      0            113803  53.1000  C123        S  \n",
        "4    male   35      0      0            373450   8.0500   NaN        S  "
       ]
      }
     ],
     "prompt_number": 457
    },
    {
     "cell_type": "code",
     "collapsed": false,
     "input": [
      "data2_1.Sex.replace({'male':0, 'female':1},inplace=True)\n"
     ],
     "language": "python",
     "metadata": {},
     "outputs": [],
     "prompt_number": 458
    },
    {
     "cell_type": "code",
     "collapsed": false,
     "input": [
      "data2_1.head()"
     ],
     "language": "python",
     "metadata": {},
     "outputs": [
      {
       "html": [
        "<div style=\"max-height:1000px;max-width:1500px;overflow:auto;\">\n",
        "<table border=\"1\" class=\"dataframe\">\n",
        "  <thead>\n",
        "    <tr style=\"text-align: right;\">\n",
        "      <th></th>\n",
        "      <th>PassengerId</th>\n",
        "      <th>Pclass</th>\n",
        "      <th>Name</th>\n",
        "      <th>Sex</th>\n",
        "      <th>Age</th>\n",
        "      <th>SibSp</th>\n",
        "      <th>Parch</th>\n",
        "      <th>Ticket</th>\n",
        "      <th>Fare</th>\n",
        "      <th>Cabin</th>\n",
        "      <th>Embarked</th>\n",
        "    </tr>\n",
        "  </thead>\n",
        "  <tbody>\n",
        "    <tr>\n",
        "      <th>0</th>\n",
        "      <td> 1</td>\n",
        "      <td> 3</td>\n",
        "      <td>                           Braund, Mr. Owen Harris</td>\n",
        "      <td> 0</td>\n",
        "      <td> 22</td>\n",
        "      <td> 1</td>\n",
        "      <td> 0</td>\n",
        "      <td>        A/5 21171</td>\n",
        "      <td>  7.2500</td>\n",
        "      <td>  NaN</td>\n",
        "      <td> S</td>\n",
        "    </tr>\n",
        "    <tr>\n",
        "      <th>1</th>\n",
        "      <td> 2</td>\n",
        "      <td> 1</td>\n",
        "      <td> Cumings, Mrs. John Bradley (Florence Briggs Th...</td>\n",
        "      <td> 1</td>\n",
        "      <td> 38</td>\n",
        "      <td> 1</td>\n",
        "      <td> 0</td>\n",
        "      <td>         PC 17599</td>\n",
        "      <td> 71.2833</td>\n",
        "      <td>  C85</td>\n",
        "      <td> C</td>\n",
        "    </tr>\n",
        "    <tr>\n",
        "      <th>2</th>\n",
        "      <td> 3</td>\n",
        "      <td> 3</td>\n",
        "      <td>                            Heikkinen, Miss. Laina</td>\n",
        "      <td> 1</td>\n",
        "      <td> 26</td>\n",
        "      <td> 0</td>\n",
        "      <td> 0</td>\n",
        "      <td> STON/O2. 3101282</td>\n",
        "      <td>  7.9250</td>\n",
        "      <td>  NaN</td>\n",
        "      <td> S</td>\n",
        "    </tr>\n",
        "    <tr>\n",
        "      <th>3</th>\n",
        "      <td> 4</td>\n",
        "      <td> 1</td>\n",
        "      <td>      Futrelle, Mrs. Jacques Heath (Lily May Peel)</td>\n",
        "      <td> 1</td>\n",
        "      <td> 35</td>\n",
        "      <td> 1</td>\n",
        "      <td> 0</td>\n",
        "      <td>           113803</td>\n",
        "      <td> 53.1000</td>\n",
        "      <td> C123</td>\n",
        "      <td> S</td>\n",
        "    </tr>\n",
        "    <tr>\n",
        "      <th>4</th>\n",
        "      <td> 5</td>\n",
        "      <td> 3</td>\n",
        "      <td>                          Allen, Mr. William Henry</td>\n",
        "      <td> 0</td>\n",
        "      <td> 35</td>\n",
        "      <td> 0</td>\n",
        "      <td> 0</td>\n",
        "      <td>           373450</td>\n",
        "      <td>  8.0500</td>\n",
        "      <td>  NaN</td>\n",
        "      <td> S</td>\n",
        "    </tr>\n",
        "  </tbody>\n",
        "</table>\n",
        "</div>"
       ],
       "metadata": {},
       "output_type": "pyout",
       "prompt_number": 459,
       "text": [
        "   PassengerId  Pclass                                               Name  \\\n",
        "0            1       3                            Braund, Mr. Owen Harris   \n",
        "1            2       1  Cumings, Mrs. John Bradley (Florence Briggs Th...   \n",
        "2            3       3                             Heikkinen, Miss. Laina   \n",
        "3            4       1       Futrelle, Mrs. Jacques Heath (Lily May Peel)   \n",
        "4            5       3                           Allen, Mr. William Henry   \n",
        "\n",
        "   Sex  Age  SibSp  Parch            Ticket     Fare Cabin Embarked  \n",
        "0    0   22      1      0         A/5 21171   7.2500   NaN        S  \n",
        "1    1   38      1      0          PC 17599  71.2833   C85        C  \n",
        "2    1   26      0      0  STON/O2. 3101282   7.9250   NaN        S  \n",
        "3    1   35      1      0            113803  53.1000  C123        S  \n",
        "4    0   35      0      0            373450   8.0500   NaN        S  "
       ]
      }
     ],
     "prompt_number": 459
    },
    {
     "cell_type": "code",
     "collapsed": false,
     "input": [
      "data2_1[['Embarked_S','Embarked_Q','Embarked_C','Embarked_NA']]=pd.get_dummies(data2_1['Embarked'])"
     ],
     "language": "python",
     "metadata": {},
     "outputs": [],
     "prompt_number": 460
    },
    {
     "cell_type": "code",
     "collapsed": false,
     "input": [
      "data2_1.head()"
     ],
     "language": "python",
     "metadata": {},
     "outputs": [
      {
       "html": [
        "<div style=\"max-height:1000px;max-width:1500px;overflow:auto;\">\n",
        "<table border=\"1\" class=\"dataframe\">\n",
        "  <thead>\n",
        "    <tr style=\"text-align: right;\">\n",
        "      <th></th>\n",
        "      <th>PassengerId</th>\n",
        "      <th>Pclass</th>\n",
        "      <th>Name</th>\n",
        "      <th>Sex</th>\n",
        "      <th>Age</th>\n",
        "      <th>SibSp</th>\n",
        "      <th>Parch</th>\n",
        "      <th>Ticket</th>\n",
        "      <th>Fare</th>\n",
        "      <th>Cabin</th>\n",
        "      <th>Embarked</th>\n",
        "      <th>Embarked_S</th>\n",
        "      <th>Embarked_Q</th>\n",
        "      <th>Embarked_C</th>\n",
        "      <th>Embarked_NA</th>\n",
        "    </tr>\n",
        "  </thead>\n",
        "  <tbody>\n",
        "    <tr>\n",
        "      <th>0</th>\n",
        "      <td> 1</td>\n",
        "      <td> 3</td>\n",
        "      <td>                           Braund, Mr. Owen Harris</td>\n",
        "      <td> 0</td>\n",
        "      <td> 22</td>\n",
        "      <td> 1</td>\n",
        "      <td> 0</td>\n",
        "      <td>        A/5 21171</td>\n",
        "      <td>  7.2500</td>\n",
        "      <td>  NaN</td>\n",
        "      <td> S</td>\n",
        "      <td> 0</td>\n",
        "      <td> 0</td>\n",
        "      <td> 0</td>\n",
        "      <td> 1</td>\n",
        "    </tr>\n",
        "    <tr>\n",
        "      <th>1</th>\n",
        "      <td> 2</td>\n",
        "      <td> 1</td>\n",
        "      <td> Cumings, Mrs. John Bradley (Florence Briggs Th...</td>\n",
        "      <td> 1</td>\n",
        "      <td> 38</td>\n",
        "      <td> 1</td>\n",
        "      <td> 0</td>\n",
        "      <td>         PC 17599</td>\n",
        "      <td> 71.2833</td>\n",
        "      <td>  C85</td>\n",
        "      <td> C</td>\n",
        "      <td> 1</td>\n",
        "      <td> 0</td>\n",
        "      <td> 0</td>\n",
        "      <td> 0</td>\n",
        "    </tr>\n",
        "    <tr>\n",
        "      <th>2</th>\n",
        "      <td> 3</td>\n",
        "      <td> 3</td>\n",
        "      <td>                            Heikkinen, Miss. Laina</td>\n",
        "      <td> 1</td>\n",
        "      <td> 26</td>\n",
        "      <td> 0</td>\n",
        "      <td> 0</td>\n",
        "      <td> STON/O2. 3101282</td>\n",
        "      <td>  7.9250</td>\n",
        "      <td>  NaN</td>\n",
        "      <td> S</td>\n",
        "      <td> 0</td>\n",
        "      <td> 0</td>\n",
        "      <td> 0</td>\n",
        "      <td> 1</td>\n",
        "    </tr>\n",
        "    <tr>\n",
        "      <th>3</th>\n",
        "      <td> 4</td>\n",
        "      <td> 1</td>\n",
        "      <td>      Futrelle, Mrs. Jacques Heath (Lily May Peel)</td>\n",
        "      <td> 1</td>\n",
        "      <td> 35</td>\n",
        "      <td> 1</td>\n",
        "      <td> 0</td>\n",
        "      <td>           113803</td>\n",
        "      <td> 53.1000</td>\n",
        "      <td> C123</td>\n",
        "      <td> S</td>\n",
        "      <td> 0</td>\n",
        "      <td> 0</td>\n",
        "      <td> 0</td>\n",
        "      <td> 1</td>\n",
        "    </tr>\n",
        "    <tr>\n",
        "      <th>4</th>\n",
        "      <td> 5</td>\n",
        "      <td> 3</td>\n",
        "      <td>                          Allen, Mr. William Henry</td>\n",
        "      <td> 0</td>\n",
        "      <td> 35</td>\n",
        "      <td> 0</td>\n",
        "      <td> 0</td>\n",
        "      <td>           373450</td>\n",
        "      <td>  8.0500</td>\n",
        "      <td>  NaN</td>\n",
        "      <td> S</td>\n",
        "      <td> 0</td>\n",
        "      <td> 0</td>\n",
        "      <td> 0</td>\n",
        "      <td> 1</td>\n",
        "    </tr>\n",
        "  </tbody>\n",
        "</table>\n",
        "</div>"
       ],
       "metadata": {},
       "output_type": "pyout",
       "prompt_number": 461,
       "text": [
        "   PassengerId  Pclass                                               Name  \\\n",
        "0            1       3                            Braund, Mr. Owen Harris   \n",
        "1            2       1  Cumings, Mrs. John Bradley (Florence Briggs Th...   \n",
        "2            3       3                             Heikkinen, Miss. Laina   \n",
        "3            4       1       Futrelle, Mrs. Jacques Heath (Lily May Peel)   \n",
        "4            5       3                           Allen, Mr. William Henry   \n",
        "\n",
        "   Sex  Age  SibSp  Parch            Ticket     Fare Cabin Embarked  \\\n",
        "0    0   22      1      0         A/5 21171   7.2500   NaN        S   \n",
        "1    1   38      1      0          PC 17599  71.2833   C85        C   \n",
        "2    1   26      0      0  STON/O2. 3101282   7.9250   NaN        S   \n",
        "3    1   35      1      0            113803  53.1000  C123        S   \n",
        "4    0   35      0      0            373450   8.0500   NaN        S   \n",
        "\n",
        "   Embarked_S  Embarked_Q  Embarked_C  Embarked_NA  \n",
        "0           0           0           0            1  \n",
        "1           1           0           0            0  \n",
        "2           0           0           0            1  \n",
        "3           0           0           0            1  \n",
        "4           0           0           0            1  "
       ]
      }
     ],
     "prompt_number": 461
    },
    {
     "cell_type": "code",
     "collapsed": false,
     "input": [
      "data2_1.mean()"
     ],
     "language": "python",
     "metadata": {},
     "outputs": [
      {
       "metadata": {},
       "output_type": "pyout",
       "prompt_number": 462,
       "text": [
        "PassengerId    446.000000\n",
        "Pclass           2.308642\n",
        "Sex              0.352413\n",
        "Age             30.213508\n",
        "SibSp            0.523008\n",
        "Parch            0.381594\n",
        "Fare            32.204208\n",
        "Embarked_S       0.188552\n",
        "Embarked_Q       0.002245\n",
        "Embarked_C       0.086420\n",
        "Embarked_NA      0.722783\n",
        "dtype: float64"
       ]
      }
     ],
     "prompt_number": 462
    },
    {
     "cell_type": "code",
     "collapsed": false,
     "input": [
      "num_variables=list(data2_1.mean().index)\n",
      "\n",
      "print num_variables\n",
      "print len(num_variables)\n"
     ],
     "language": "python",
     "metadata": {},
     "outputs": [
      {
       "output_type": "stream",
       "stream": "stdout",
       "text": [
        "['PassengerId', 'Pclass', 'Sex', 'Age', 'SibSp', 'Parch', 'Fare', 'Embarked_S', 'Embarked_Q', 'Embarked_C', 'Embarked_NA']\n",
        "11\n"
       ]
      }
     ],
     "prompt_number": 463
    },
    {
     "cell_type": "code",
     "collapsed": false,
     "input": [
      "#add gender, relationship encoding and embarked\n",
      "#for sex: replace with 1 and 0\n",
      "data2_1=data2_1[num_variables]\n",
      "#data2_1[['female','male']]=pd.get_dummies(data2['Sex'])\n",
      "#pd.get_dummies(data2['Embarked'])\n",
      "#data2_1[['Embarked_S','Embarked_Q','Embarked_C','Embarked_NaN']]=pd.get_dummies(data2['Embarked'])\n",
      "#data2_1\n",
      "#data2_1.head()\n",
      "#Interesting features to consider: cabin (ship mapping) and name (married female from class 1)."
     ],
     "language": "python",
     "metadata": {},
     "outputs": [],
     "prompt_number": 467
    },
    {
     "cell_type": "code",
     "collapsed": false,
     "input": [
      "#working with mean for imputing NaN values\n",
      "X=data2_1.get(num_variables).values\n",
      "y=data.get(to_remove).values"
     ],
     "language": "python",
     "metadata": {},
     "outputs": [],
     "prompt_number": 468
    },
    {
     "cell_type": "markdown",
     "metadata": {},
     "source": [
      "## Question 2:\n",
      "Create and run a logistic regression on the Titanic data to predict the survival of passengers.\n",
      "\n",
      "a. Make sure your model results are reproducible by the instructor team, given any random aspects to your code / steps.\n",
      "\n",
      "*Seed (random state) set at 0 for reproducibility.*\n",
      "\n",
      "b. For your model output, include **coefficient values, residuals, and standard errors**.\n",
      "\n",
      "*see: code output below*\n",
      "*coefficient values:\n",
      "theta_0 = 1.07356850749\n",
      "theta_1 = 1.80096681877e-05\n",
      "theta_2 = -0.855837320141\n",
      "theta_3 = 2.56228787924\n",
      "theta_4 = -0.0216690046406\n",
      "theta_5 = -0.299745141977\n",
      "theta_6 = -0.0482272513735\n",
      "theta_7 = 0.00235728031341\n",
      "theta_8 = 0.339369532284\n",
      "theta_9 = 0.21432887498\n",
      "theta_10 = 0.48152028002\n",
      "theta_11 = 0.0383498202081*\n",
      "\n",
      "*At this stage we have ~20% residuals (see: below). Mean Squared Error on (y_test, y_predicted) equals 0.2.*\n",
      "\n",
      "c. Explain **which features are predictive** for this logistic regression and, intuitively, why you think this may be so. Describe your thinking / logic in words. It is not sufficient to cite output statistics.\n",
      "\n",
      "*Looks like most of the features contribute to the classifier with the greatest impact from PClass, Sex, Age, SibSp (number of siblings and spouses on board.). Gender and Class were discussed before (man protecting women and rich people paying off crewmen to get a place in a lifeboat). Having family members on board relates to being protective about the closest ones, even at the cot of one's own life.*\n",
      "['PassengerId', 'Pclass', 'Sex', 'Age', 'SibSp', 'Parch', 'Fare', 'Embarked_S', 'Embarked_Q', 'Embarked_C', 'Embarked_NA']\n",
      "[  2.71630662e-02   4.43221494e-06   1.51634551e-31   5.45232920e-06\n",
      "   4.94021275e-02   4.58353401e-03   0.00000000e+00   7.88344271e-04\n",
      "   7.29163982e-02   5.26993609e-01   4.43339904e-02]\n",
      "\n",
      "\n",
      "d. Make sure that you can **push new data points through your model** to get regression output. We will be providing a test set for this purpose.\n",
      "\n"
     ]
    },
    {
     "cell_type": "code",
     "collapsed": false,
     "input": [
      "X, y, X.shape, y.shape"
     ],
     "language": "python",
     "metadata": {},
     "outputs": [
      {
       "metadata": {},
       "output_type": "pyout",
       "prompt_number": 469,
       "text": [
        "(array([[   1.,    3.,    0., ...,    0.,    0.,    1.],\n",
        "        [   2.,    1.,    1., ...,    0.,    0.,    0.],\n",
        "        [   3.,    3.,    1., ...,    0.,    0.,    1.],\n",
        "        ..., \n",
        "        [ 889.,    3.,    1., ...,    0.,    0.,    1.],\n",
        "        [ 890.,    1.,    0., ...,    0.,    0.,    0.],\n",
        "        [ 891.,    3.,    0., ...,    0.,    1.,    0.]]),\n",
        " array([0, 1, 1, 1, 0, 0, 0, 0, 1, 1, 1, 1, 0, 0, 0, 1, 0, 1, 0, 1, 0, 1, 1,\n",
        "        1, 0, 1, 0, 0, 1, 0, 0, 1, 1, 0, 0, 0, 1, 0, 0, 1, 0, 0, 0, 1, 1, 0,\n",
        "        0, 1, 0, 0, 0, 0, 1, 1, 0, 1, 1, 0, 1, 0, 0, 1, 0, 0, 0, 1, 1, 0, 1,\n",
        "        0, 0, 0, 0, 0, 1, 0, 0, 0, 1, 1, 0, 1, 1, 0, 1, 1, 0, 0, 1, 0, 0, 0,\n",
        "        0, 0, 0, 0, 0, 1, 1, 0, 0, 0, 0, 0, 0, 0, 1, 1, 0, 1, 0, 0, 0, 0, 0,\n",
        "        0, 0, 0, 0, 0, 0, 0, 0, 1, 0, 1, 0, 1, 1, 0, 0, 0, 0, 1, 0, 0, 1, 0,\n",
        "        0, 0, 0, 1, 1, 0, 0, 0, 1, 0, 0, 0, 0, 1, 0, 0, 0, 0, 1, 0, 0, 0, 0,\n",
        "        1, 0, 0, 0, 1, 1, 0, 0, 0, 0, 0, 1, 0, 0, 0, 0, 0, 0, 0, 0, 0, 0, 1,\n",
        "        1, 0, 1, 1, 0, 0, 1, 0, 1, 1, 1, 1, 0, 0, 1, 0, 0, 0, 0, 0, 1, 0, 0,\n",
        "        1, 1, 1, 0, 1, 0, 0, 0, 1, 1, 0, 1, 0, 1, 0, 0, 0, 1, 0, 1, 0, 0, 0,\n",
        "        1, 0, 0, 1, 0, 0, 0, 1, 0, 0, 0, 1, 0, 0, 0, 0, 0, 1, 1, 0, 0, 0, 0,\n",
        "        0, 0, 1, 1, 1, 1, 1, 0, 1, 0, 0, 0, 0, 0, 1, 1, 1, 0, 1, 1, 0, 1, 1,\n",
        "        0, 0, 0, 1, 0, 0, 0, 1, 0, 0, 1, 0, 1, 1, 1, 1, 0, 0, 0, 0, 0, 0, 1,\n",
        "        1, 1, 1, 0, 1, 0, 1, 1, 1, 0, 1, 1, 1, 0, 0, 0, 1, 1, 0, 1, 1, 0, 0,\n",
        "        1, 1, 0, 1, 0, 1, 1, 1, 1, 0, 0, 0, 1, 0, 0, 1, 1, 0, 1, 1, 0, 0, 0,\n",
        "        1, 1, 1, 1, 0, 0, 0, 0, 0, 0, 0, 1, 0, 1, 1, 0, 0, 0, 0, 0, 0, 1, 1,\n",
        "        1, 1, 1, 0, 0, 0, 0, 1, 1, 0, 0, 0, 1, 1, 0, 1, 0, 0, 0, 1, 0, 1, 1,\n",
        "        1, 0, 1, 1, 0, 0, 0, 0, 1, 1, 0, 0, 0, 0, 0, 0, 1, 0, 0, 0, 0, 1, 0,\n",
        "        1, 0, 1, 1, 0, 0, 0, 0, 0, 0, 0, 0, 1, 1, 0, 1, 1, 1, 1, 0, 0, 1, 0,\n",
        "        1, 0, 0, 1, 0, 0, 1, 1, 1, 1, 1, 1, 1, 0, 0, 0, 1, 0, 1, 0, 1, 1, 0,\n",
        "        1, 0, 0, 0, 0, 0, 0, 0, 0, 1, 0, 0, 1, 1, 0, 0, 0, 0, 0, 1, 0, 0, 0,\n",
        "        1, 1, 0, 1, 0, 0, 1, 0, 0, 0, 0, 0, 0, 1, 0, 0, 0, 0, 0, 0, 0, 1, 0,\n",
        "        1, 1, 0, 1, 1, 0, 1, 1, 0, 0, 1, 0, 1, 0, 1, 0, 0, 1, 0, 0, 1, 0, 0,\n",
        "        0, 1, 0, 0, 1, 0, 1, 0, 1, 0, 1, 1, 0, 0, 1, 0, 0, 1, 1, 0, 1, 1, 0,\n",
        "        0, 1, 1, 0, 1, 0, 1, 1, 0, 0, 0, 0, 0, 0, 0, 0, 0, 1, 1, 1, 1, 1, 0,\n",
        "        0, 1, 1, 0, 1, 1, 1, 0, 0, 0, 1, 0, 1, 0, 0, 0, 1, 0, 0, 0, 0, 1, 0,\n",
        "        0, 1, 1, 0, 0, 0, 1, 0, 0, 1, 1, 1, 0, 0, 1, 0, 0, 1, 0, 0, 1, 0, 0,\n",
        "        1, 1, 0, 0, 0, 0, 1, 0, 0, 1, 0, 1, 0, 0, 1, 0, 0, 0, 0, 0, 1, 0, 1,\n",
        "        1, 1, 0, 1, 0, 1, 0, 1, 0, 1, 0, 0, 0, 0, 0, 0, 1, 0, 0, 0, 1, 0, 0,\n",
        "        0, 0, 1, 1, 0, 0, 1, 0, 0, 0, 1, 0, 1, 0, 1, 0, 0, 0, 0, 0, 0, 0, 1,\n",
        "        1, 1, 1, 0, 0, 0, 0, 1, 0, 0, 1, 1, 0, 0, 0, 0, 1, 1, 1, 1, 1, 0, 1,\n",
        "        0, 0, 0, 1, 1, 0, 0, 1, 0, 0, 0, 1, 0, 1, 1, 0, 0, 1, 0, 0, 0, 0, 0,\n",
        "        0, 1, 0, 0, 1, 0, 1, 0, 1, 0, 0, 1, 0, 0, 1, 1, 0, 0, 1, 1, 0, 0, 0,\n",
        "        1, 0, 0, 1, 1, 0, 1, 0, 0, 0, 0, 0, 0, 0, 0, 1, 0, 0, 1, 0, 1, 1, 1,\n",
        "        0, 0, 0, 0, 1, 0, 1, 0, 0, 0, 0, 0, 0, 0, 1, 1, 0, 0, 0, 1, 1, 1, 1,\n",
        "        0, 0, 0, 0, 1, 0, 0, 0, 0, 0, 0, 0, 0, 0, 0, 1, 1, 0, 1, 0, 0, 0, 1,\n",
        "        1, 1, 1, 1, 0, 0, 0, 1, 0, 0, 1, 1, 0, 0, 1, 0, 0, 0, 0, 0, 0, 1, 0,\n",
        "        0, 0, 1, 0, 1, 1, 1, 1, 0, 0, 0, 1, 0, 0, 1, 1, 0, 0, 1, 0, 1, 0, 0,\n",
        "        1, 1, 0, 0, 0, 1, 1, 0, 0, 0, 0, 0, 0, 1, 0, 1, 0]),\n",
        " (891, 11),\n",
        " (891,))"
       ]
      }
     ],
     "prompt_number": 469
    },
    {
     "cell_type": "code",
     "collapsed": false,
     "input": [
      "#Cross-validation 1: 5-fold (arbitrary fold)\n",
      "X_train, X_test, y_train, y_test=train_test_split(X, y, test_size=0.2,random_state=0)"
     ],
     "language": "python",
     "metadata": {},
     "outputs": [],
     "prompt_number": 506
    },
    {
     "cell_type": "code",
     "collapsed": false,
     "input": [
      "#Classifier 1:\n",
      "#hyperparameters (a): penalty and C (regularization)\n",
      "model1=LogisticRegression(penalty = 'l2', C=1)"
     ],
     "language": "python",
     "metadata": {},
     "outputs": [],
     "prompt_number": 507
    },
    {
     "cell_type": "code",
     "collapsed": false,
     "input": [
      "model1.fit(X_train,y_train)"
     ],
     "language": "python",
     "metadata": {},
     "outputs": [
      {
       "metadata": {},
       "output_type": "pyout",
       "prompt_number": 508,
       "text": [
        "LogisticRegression(C=1, class_weight=None, dual=False, fit_intercept=True,\n",
        "          intercept_scaling=1, penalty='l2', random_state=None, tol=0.0001)"
       ]
      }
     ],
     "prompt_number": 508
    },
    {
     "cell_type": "code",
     "collapsed": false,
     "input": [
      "y_predicted=model1.predict(X_test)"
     ],
     "language": "python",
     "metadata": {},
     "outputs": [],
     "prompt_number": 509
    },
    {
     "cell_type": "code",
     "collapsed": false,
     "input": [
      "#Model Coefficients\n",
      "print model1.coef_\n",
      "model1.coef_.shape\n",
      "len(model1.coef_[0])\n"
     ],
     "language": "python",
     "metadata": {},
     "outputs": [
      {
       "output_type": "stream",
       "stream": "stdout",
       "text": [
        "[[  1.80096682e-05  -8.55837320e-01   2.56228788e+00  -2.16690046e-02\n",
        "   -2.99745142e-01  -4.82272514e-02   2.35728031e-03   3.39369532e-01\n",
        "    2.14328875e-01   4.81520280e-01   3.83498202e-02]]\n"
       ]
      },
      {
       "metadata": {},
       "output_type": "pyout",
       "prompt_number": 510,
       "text": [
        "11"
       ]
      }
     ],
     "prompt_number": 510
    },
    {
     "cell_type": "code",
     "collapsed": false,
     "input": [
      "for i, coef in enumerate(model1.coef_[0]):\n",
      "    print \"theta_%s = %s\" %(i+1, coef)"
     ],
     "language": "python",
     "metadata": {},
     "outputs": [
      {
       "output_type": "stream",
       "stream": "stdout",
       "text": [
        "theta_1 = 1.80096681877e-05\n",
        "theta_2 = -0.855837320141\n",
        "theta_3 = 2.56228787924\n",
        "theta_4 = -0.0216690046406\n",
        "theta_5 = -0.299745141977\n",
        "theta_6 = -0.0482272513735\n",
        "theta_7 = 0.00235728031341\n",
        "theta_8 = 0.339369532284\n",
        "theta_9 = 0.21432887498\n",
        "theta_10 = 0.48152028002\n",
        "theta_11 = 0.0383498202081\n"
       ]
      }
     ],
     "prompt_number": 511
    },
    {
     "cell_type": "code",
     "collapsed": false,
     "input": [
      "print \"theta_0 = %s\" %(str(model1.intercept_[0]))"
     ],
     "language": "python",
     "metadata": {},
     "outputs": [
      {
       "output_type": "stream",
       "stream": "stdout",
       "text": [
        "theta_0 = 1.07356850749\n"
       ]
      }
     ],
     "prompt_number": 512
    },
    {
     "cell_type": "code",
     "collapsed": false,
     "input": [
      "#model1.class_weight_"
     ],
     "language": "python",
     "metadata": {},
     "outputs": [],
     "prompt_number": 513
    },
    {
     "cell_type": "code",
     "collapsed": false,
     "input": [
      "#NEEDED FOR ROC \n",
      "#print model1.predict_proba(X_test)\n",
      "probs_ROC = model1.predict_proba(X_test)\n",
      "print model1.predict_proba(X_test).shape\n",
      "print type(model1.predict_proba(X_test).shape)"
     ],
     "language": "python",
     "metadata": {},
     "outputs": [
      {
       "output_type": "stream",
       "stream": "stdout",
       "text": [
        "(179, 2)\n",
        "<type 'tuple'>\n"
       ]
      }
     ],
     "prompt_number": 514
    },
    {
     "cell_type": "code",
     "collapsed": false,
     "input": [],
     "language": "python",
     "metadata": {},
     "outputs": [],
     "prompt_number": 514
    },
    {
     "cell_type": "code",
     "collapsed": false,
     "input": [
      "#Residuals:\n",
      "print y_predicted!=y_test\n",
      "print (y_predicted!=y_test).sum()/float(len(y_test))"
     ],
     "language": "python",
     "metadata": {},
     "outputs": [
      {
       "output_type": "stream",
       "stream": "stdout",
       "text": [
        "[False False False False False  True False False  True False False False\n",
        " False False False  True False False False  True False False False False\n",
        "  True False False False False  True False False False  True False  True\n",
        " False False False False  True False False False False False False False\n",
        " False False  True False False False False False False False False  True\n",
        " False  True False  True False False False False False False False  True\n",
        " False False False False False False False False False  True  True False\n",
        " False False False  True False  True False False  True False False False\n",
        " False False False False False False False False  True False False  True\n",
        " False False False False  True  True  True False False False False False\n",
        "  True False False False False False False  True False False  True False\n",
        " False  True False False False False False False False False False  True\n",
        " False  True False False False False False False  True False False False\n",
        "  True  True  True False False  True False  True False False False False\n",
        " False False False False False False False False False False False]\n",
        "0.201117318436\n"
       ]
      }
     ],
     "prompt_number": 515
    },
    {
     "cell_type": "code",
     "collapsed": false,
     "input": [
      "sklearn.metrics.mean_squared_error(y_test, y_predicted)"
     ],
     "language": "python",
     "metadata": {},
     "outputs": [
      {
       "metadata": {},
       "output_type": "pyout",
       "prompt_number": 516,
       "text": [
        "0.2011173184357542"
       ]
      }
     ],
     "prompt_number": 516
    },
    {
     "cell_type": "code",
     "collapsed": false,
     "input": [
      "#classification_report(y_true, y_pred, labels=None, target_names=None)\n",
      "print 'Accuracy: ', accuracy_score(y_test, y_predicted)\n",
      "print \n",
      "print sklearn.metrics.jaccard_similarity_score(y_test, y_predicted)\n",
      "print classification_report(y_test,y_predicted,target_names=['^S','S'])"
     ],
     "language": "python",
     "metadata": {},
     "outputs": [
      {
       "output_type": "stream",
       "stream": "stdout",
       "text": [
        "Accuracy:  0.798882681564\n",
        "\n",
        "0.798882681564\n",
        "             precision    recall  f1-score   support\n",
        "\n",
        "         ^S       0.83      0.85      0.84       110\n",
        "          S       0.75      0.72      0.74        69\n",
        "\n",
        "avg / total       0.80      0.80      0.80       179\n",
        "\n"
       ]
      }
     ],
     "prompt_number": 517
    },
    {
     "cell_type": "code",
     "collapsed": false,
     "input": [
      "#http://scikit-learn.org/0.9/modules/feature_selection.html\n",
      "#?sklearn.feature_selection.univariate_selection.chi2()\n",
      "#Compute chi-squared statistic for each class/feature combination.\n",
      "\n",
      "#This score can be used to select the n_features features with the\n",
      "#highest values for the test chi-squared statistic from X, which must\n",
      "#contain booleans or frequencies (e.g., term counts in document\n",
      "#classification), relative to the classes.\n",
      "\n",
      "#\u03c7\u00b2 statistic measures dependence between stochastic\n",
      "#    variables, so using this function \"weeds out\" the features that are the\n",
      "#    most likely to be independent of class and therefore irrelevant for\n",
      "#    classification.\n",
      "\n",
      "#    Parameters\n",
      "#    ----------\n",
      "#    X : {array-like, sparse matrix}, shape = (n_samples, n_features_in)\n",
      "#       Sample vectors.\n",
      "\n",
      "#  y : array-like, shape = (n_samples,)\n",
      "#        Target vector (class labels).\n",
      "\n",
      "#    Returns\n",
      "#    -------\n",
      "#    chi2 : array, shape = (n_features,)\n",
      "#        chi2 statistics of each feature.\n",
      "#    pval : array, shape = (n_features,)\n",
      "#        p-values of each feature.\n",
      "#\n",
      "#    Notes\n",
      "#    -----\n",
      "#    Complexity of this algorithm is O(n_classes * n_features).\n",
      "\n",
      "#sklearn.feature_selection.univariate_selection.f_classif(X, y)\n",
      "#http://pydoc.net/Python/scikit-learn/0.13.1/sklearn.feature_selection.univariate_selection/"
     ],
     "language": "python",
     "metadata": {},
     "outputs": [],
     "prompt_number": 518
    },
    {
     "cell_type": "code",
     "collapsed": false,
     "input": [
      "##Feature selection (Chi-sq and coefficients):\n",
      "##SEE ALSO: COEFFICIENTS\n",
      "Chi_sq_test = sklearn.feature_selection.univariate_selection.chi2(X_train, y_train)\n",
      "print Chi_sq_test, len(Chi_sq_test) \n",
      "print num_variables\n",
      "print Chi_sq_test[0]\n",
      "print num_variables\n",
      "\n",
      "print Chi_sq_test[1]\n"
     ],
     "language": "python",
     "metadata": {},
     "outputs": [
      {
       "output_type": "stream",
       "stream": "stdout",
       "text": [
        "(array([  4.88041636e+00,   2.10682060e+01,   1.36545044e+02,\n",
        "         2.06714374e+01,   3.86163625e+00,   8.03684342e+00,\n",
        "         2.95842581e+03,   1.12684759e+01,   3.21611722e+00,\n",
        "         4.00185236e-01,   4.04379609e+00]), array([  2.71630662e-02,   4.43221494e-06,   1.51634551e-31,\n",
        "         5.45232920e-06,   4.94021275e-02,   4.58353401e-03,\n",
        "         0.00000000e+00,   7.88344271e-04,   7.29163982e-02,\n",
        "         5.26993609e-01,   4.43339904e-02])) 2\n",
        "['PassengerId', 'Pclass', 'Sex', 'Age', 'SibSp', 'Parch', 'Fare', 'Embarked_S', 'Embarked_Q', 'Embarked_C', 'Embarked_NA']\n",
        "[  4.88041636e+00   2.10682060e+01   1.36545044e+02   2.06714374e+01\n",
        "   3.86163625e+00   8.03684342e+00   2.95842581e+03   1.12684759e+01\n",
        "   3.21611722e+00   4.00185236e-01   4.04379609e+00]\n",
        "['PassengerId', 'Pclass', 'Sex', 'Age', 'SibSp', 'Parch', 'Fare', 'Embarked_S', 'Embarked_Q', 'Embarked_C', 'Embarked_NA']\n",
        "[  2.71630662e-02   4.43221494e-06   1.51634551e-31   5.45232920e-06\n",
        "   4.94021275e-02   4.58353401e-03   0.00000000e+00   7.88344271e-04\n",
        "   7.29163982e-02   5.26993609e-01   4.43339904e-02]\n"
       ]
      }
     ],
     "prompt_number": 519
    },
    {
     "cell_type": "code",
     "collapsed": false,
     "input": [
      "#print num_variables\n",
      "#print len(num_variables)\n",
      "print model1.coef_\n",
      "print model1.coef_.ravel()\n",
      "#?model1.coef_.ravel() #Return a flattened array.\n",
      "x = np.arange(X_test.shape[1])\n",
      "plt.bar(x, model1.coef_.ravel())\n",
      "_ = plt.xticks(x + 0.5, num_variables, rotation=30)\n",
      "plt.ylabel('thetas')\n",
      "plt.xlabel('variables/features')"
     ],
     "language": "python",
     "metadata": {},
     "outputs": [
      {
       "output_type": "stream",
       "stream": "stdout",
       "text": [
        "[[  1.80096682e-05  -8.55837320e-01   2.56228788e+00  -2.16690046e-02\n",
        "   -2.99745142e-01  -4.82272514e-02   2.35728031e-03   3.39369532e-01\n",
        "    2.14328875e-01   4.81520280e-01   3.83498202e-02]]\n",
        "[  1.80096682e-05  -8.55837320e-01   2.56228788e+00  -2.16690046e-02\n",
        "  -2.99745142e-01  -4.82272514e-02   2.35728031e-03   3.39369532e-01\n",
        "   2.14328875e-01   4.81520280e-01   3.83498202e-02]\n"
       ]
      },
      {
       "metadata": {},
       "output_type": "pyout",
       "prompt_number": 520,
       "text": [
        "<matplotlib.text.Text at 0x123f0b850>"
       ]
      },
      {
       "metadata": {},
       "output_type": "display_data",
       "png": "[encoded data removed]",
       "text": [
        "<matplotlib.figure.Figure at 0x1239dfdd0>"
       ]
      }
     ],
     "prompt_number": 520
    },
    {
     "cell_type": "code",
     "collapsed": false,
     "input": [],
     "language": "python",
     "metadata": {},
     "outputs": [],
     "prompt_number": 520
    },
    {
     "cell_type": "markdown",
     "metadata": {},
     "source": [
      "## Question 3:\n",
      "Implement cross-validation for your logistic regression. Pick the number of folds. Explain your choice.\n",
      "\n",
      "*6-fold, given the maximal accuracy*"
     ]
    },
    {
     "cell_type": "code",
     "collapsed": false,
     "input": [
      "#number of folds: hyperparameter 3\n",
      "from sklearn.cross_validation import KFold\n",
      "def cross_validate(X, y, classifier, k_fold) :\n",
      "\n",
      "    # derive a set of (pseudo-random) training and testing indices\n",
      "    k_fold_indices = KFold( len(X), n_folds=k_fold, indices=True, shuffle=True, random_state=0)\n",
      "\n",
      "    k_score_total = 0\n",
      "    # for each training and testing slices run the classifier, and score the results\n",
      "    for train_slice, test_slice in k_fold_indices :\n",
      "\n",
      "        model = classifier(X[[ train_slice  ]], y[[ train_slice  ]])\n",
      "                         \n",
      "        k_score = model.score(X[[ test_slice ]],y[[ test_slice ]])\n",
      "                              \n",
      "        k_score_total += k_score\n",
      "\n",
      "    # return the average accuracy\n",
      "    #return k_score_total, k_fold\n",
      "    \n",
      "    return k_score_total/k_fold"
     ],
     "language": "python",
     "metadata": {},
     "outputs": [],
     "prompt_number": 521
    },
    {
     "cell_type": "code",
     "collapsed": false,
     "input": [
      "cross_validate(X_test,y_test,LogisticRegression(penalty = 'l2', C=1).fit,5)"
     ],
     "language": "python",
     "metadata": {},
     "outputs": [
      {
       "metadata": {},
       "output_type": "pyout",
       "prompt_number": 522,
       "text": [
        "0.79317460317460309"
       ]
      }
     ],
     "prompt_number": 522
    },
    {
     "cell_type": "code",
     "collapsed": false,
     "input": [
      "potential_k_folds=range(2,15+1)\n",
      "print potential_k_folds"
     ],
     "language": "python",
     "metadata": {},
     "outputs": [
      {
       "output_type": "stream",
       "stream": "stdout",
       "text": [
        "[2, 3, 4, 5, 6, 7, 8, 9, 10, 11, 12, 13, 14, 15]\n"
       ]
      }
     ],
     "prompt_number": 523
    },
    {
     "cell_type": "code",
     "collapsed": false,
     "input": [
      "#potential_k_folds\n",
      "accuracy_estimate=[]\n",
      "for k_fold in potential_k_folds:\n",
      "    accuracy_estimate.append(cross_validate(X_train,y_train,LogisticRegression(penalty = 'l2', C=1).fit,k_fold))"
     ],
     "language": "python",
     "metadata": {},
     "outputs": [],
     "prompt_number": 524
    },
    {
     "cell_type": "code",
     "collapsed": false,
     "input": [
      "accuracy_estimate_df=pd.DataFrame(zip(potential_k_folds,accuracy_estimate))\n",
      "accuracy_estimate_df.values"
     ],
     "language": "python",
     "metadata": {},
     "outputs": [
      {
       "metadata": {},
       "output_type": "pyout",
       "prompt_number": 525,
       "text": [
        "array([[  2.        ,   0.78511236],\n",
        "       [  3.        ,   0.79359761],\n",
        "       [  4.        ,   0.79213483],\n",
        "       [  5.        ,   0.7922289 ],\n",
        "       [  6.        ,   0.79919765],\n",
        "       [  7.        ,   0.79640569],\n",
        "       [  8.        ,   0.79494382],\n",
        "       [  9.        ,   0.79783755],\n",
        "       [ 10.        ,   0.79510955],\n",
        "       [ 11.        ,   0.79359703],\n",
        "       [ 12.        ,   0.79519774],\n",
        "       [ 13.        ,   0.7950531 ],\n",
        "       [ 14.        ,   0.79369748],\n",
        "       [ 15.        ,   0.79515366]])"
       ]
      }
     ],
     "prompt_number": 525
    },
    {
     "cell_type": "code",
     "collapsed": false,
     "input": [
      "accuracy_estimate_df[1].max()"
     ],
     "language": "python",
     "metadata": {},
     "outputs": [
      {
       "metadata": {},
       "output_type": "pyout",
       "prompt_number": 526,
       "text": [
        "0.79919764515975888"
       ]
      }
     ],
     "prompt_number": 526
    },
    {
     "cell_type": "code",
     "collapsed": false,
     "input": [
      "accuracy_estimate_df[accuracy_estimate_df[1]==accuracy_estimate_df[1].max()]"
     ],
     "language": "python",
     "metadata": {},
     "outputs": [
      {
       "html": [
        "<div style=\"max-height:1000px;max-width:1500px;overflow:auto;\">\n",
        "<table border=\"1\" class=\"dataframe\">\n",
        "  <thead>\n",
        "    <tr style=\"text-align: right;\">\n",
        "      <th></th>\n",
        "      <th>0</th>\n",
        "      <th>1</th>\n",
        "    </tr>\n",
        "  </thead>\n",
        "  <tbody>\n",
        "    <tr>\n",
        "      <th>4</th>\n",
        "      <td> 6</td>\n",
        "      <td> 0.799198</td>\n",
        "    </tr>\n",
        "  </tbody>\n",
        "</table>\n",
        "</div>"
       ],
       "metadata": {},
       "output_type": "pyout",
       "prompt_number": 527,
       "text": [
        "   0         1\n",
        "4  6  0.799198"
       ]
      }
     ],
     "prompt_number": 527
    },
    {
     "cell_type": "code",
     "collapsed": false,
     "input": [
      "#6-fold"
     ],
     "language": "python",
     "metadata": {},
     "outputs": [],
     "prompt_number": 528
    },
    {
     "cell_type": "code",
     "collapsed": false,
     "input": [
      "colors = []\n",
      "for value in accuracy_estimate_df[1].values: # keys are the names of the boys\n",
      "    if value == accuracy_estimate_df[1].max():\n",
      "        colors.append('r')\n",
      "    else:\n",
      "        colors.append('g')\n",
      "colors\n"
     ],
     "language": "python",
     "metadata": {},
     "outputs": [
      {
       "metadata": {},
       "output_type": "pyout",
       "prompt_number": 529,
       "text": [
        "['g', 'g', 'g', 'g', 'r', 'g', 'g', 'g', 'g', 'g', 'g', 'g', 'g', 'g']"
       ]
      }
     ],
     "prompt_number": 529
    },
    {
     "cell_type": "code",
     "collapsed": false,
     "input": [
      "plt.scatter(accuracy_estimate_df[0],accuracy_estimate_df[1],color=colors)\n",
      "#plt.annotate('max accuracy', xy=(4,accuracy_estimate_df[1].max()),xytext=())"
     ],
     "language": "python",
     "metadata": {},
     "outputs": [
      {
       "metadata": {},
       "output_type": "pyout",
       "prompt_number": 530,
       "text": [
        "<matplotlib.collections.PathCollection at 0x12417f510>"
       ]
      },
      {
       "metadata": {},
       "output_type": "display_data",
       "png": "[encoded data removed]",
       "text": [
        "<matplotlib.figure.Figure at 0x123f1bb50>"
       ]
      }
     ],
     "prompt_number": 530
    },
    {
     "cell_type": "code",
     "collapsed": false,
     "input": [],
     "language": "python",
     "metadata": {},
     "outputs": [],
     "prompt_number": 75
    },
    {
     "cell_type": "code",
     "collapsed": false,
     "input": [],
     "language": "python",
     "metadata": {},
     "outputs": [],
     "prompt_number": 75
    },
    {
     "cell_type": "code",
     "collapsed": false,
     "input": [],
     "language": "python",
     "metadata": {},
     "outputs": [],
     "prompt_number": 75
    },
    {
     "cell_type": "code",
     "collapsed": false,
     "input": [],
     "language": "python",
     "metadata": {},
     "outputs": [],
     "prompt_number": 75
    },
    {
     "cell_type": "code",
     "collapsed": false,
     "input": [],
     "language": "python",
     "metadata": {},
     "outputs": [],
     "prompt_number": 75
    },
    {
     "cell_type": "code",
     "collapsed": false,
     "input": [],
     "language": "python",
     "metadata": {},
     "outputs": [],
     "prompt_number": 75
    },
    {
     "cell_type": "markdown",
     "metadata": {},
     "source": [
      "## Question 4:\n",
      "\n",
      "Create an ROC curve for your logistic regression by varying the threshold value for survival.\n",
      "\n",
      "a. Plot this ROC curve visually.\n",
      "\n",
      "*see: below*\n",
      "\n",
      "b. What is the AUC for your model?\n",
      "\n",
      "*see: below; marked on the plot*\n",
      "\n",
      "\n",
      "c. Explain why the model has achieved this level of accuracy/precision.\n",
      "\n",
      "*This is a saturated model using almost all features in the data set. At this stage artbitrary values for most of the hyperparameters were taken apart from the number of K-folds. The level of precision most likely stems from utilizing most of the features (apart from the ticket code).*\n",
      "\n",
      "d. Explain how you could improve these metrics, as potential next steps.\n",
      "\n",
      "*Due to time constraints, I have not tried to tune any of the hyperparamters (e.g. regularization term). Optimizing hyperparameters could, in theory change performance of the model. Another thing to consider is changing the way I filled in the missing values. Mode, reflecting the values occuring at the highest frequency or values from the random sampling of respective subgroups  *\n",
      "\n",
      "e. Armed with this knowledge, what threshold value would you use? Why? Describe your thinking.\n",
      "\n",
      "*The optimal value can be inferred from the Youden index (see: ref. above). It's performance in picking up the optimal sentitivity and specificity is illustrated on the plot: Receiver Operating Characteristic v.2 below. It corresponds to the threshold 0.3*"
     ]
    },
    {
     "cell_type": "code",
     "collapsed": false,
     "input": [
      "from sklearn.metrics import roc_curve\n",
      "from sklearn.metrics import auc\n",
      "from sklearn.metrics import confusion_matrix\n",
      "\n",
      "def plot_roc_curve(target_test, target_predicted_proba):\n",
      "    fpr, tpr, thresholds = roc_curve(target_test, target_predicted_proba[:, 1])\n",
      "    \n",
      "    roc_auc = auc(fpr, tpr)\n",
      "    # Plot ROC curve\n",
      "    plt.plot(fpr, tpr, label='ROC curve (area = %0.3f)' % roc_auc)\n",
      "    plt.plot([0, 1], [0, 1], 'k--')  # random predictions curve\n",
      "    plt.xlim([0.0, 1.0])\n",
      "    plt.ylim([0.0, 1.0])\n",
      "    plt.xlabel('False Positive Rate or (1 - Specifity)')\n",
      "    plt.ylabel('True Positive Rate or (Sensitivity)')\n",
      "   # plt.title('Receiver Operating Characteristic')\n",
      "    plt.legend(loc=\"lower right\")"
     ],
     "language": "python",
     "metadata": {},
     "outputs": [],
     "prompt_number": 158
    },
    {
     "cell_type": "code",
     "collapsed": false,
     "input": [
      "plot_roc_curve(y_test, probs_ROC)\n",
      "plt.title('Receiver Operating Characteristic v.1')"
     ],
     "language": "python",
     "metadata": {},
     "outputs": [
      {
       "metadata": {},
       "output_type": "pyout",
       "prompt_number": 159,
       "text": [
        "<matplotlib.text.Text at 0x1162d5fd0>"
       ]
      },
      {
       "metadata": {},
       "output_type": "display_data",
       "png": "[encoded data removed]",
       "text": [
        "<matplotlib.figure.Figure at 0x11586df10>"
       ]
      }
     ],
     "prompt_number": 159
    },
    {
     "cell_type": "code",
     "collapsed": false,
     "input": [
      "#YOUDEN INDEX:\n",
      "#Idea after R package\n",
      "#After: http://www.biomedcentral.com/1471-2288/10/89 &\n",
      "#http://stackoverflow.com/questions/21839639/replicate-r-and-matlab-results-in-finding-the-optimal-threshold-from-roc-curve\n",
      "#according to: http://scikit-learn.org/stable/modules/generated/sklearn.metrics.roc_curve.html: roc_curve function will return: \n",
      "#fpr = (1-specificity), tpr = sensitivity, thresholds\n",
      "#(fpr-1)=-specificity/(-1); -fpr+1 = specificity; 1-fpr = specificity \n",
      "#=J = sensitivity + specificity - 1: compute Youden index for each X and y; keep max"
     ],
     "language": "python",
     "metadata": {},
     "outputs": [],
     "prompt_number": 164
    },
    {
     "cell_type": "code",
     "collapsed": false,
     "input": [
      "#http://scikit-learn.org/stable/modules/generated/sklearn.metrics.roc_curve.html\n",
      "fpr, tpr, thresholds = roc_curve(y_test, probs_ROC[:,1])"
     ],
     "language": "python",
     "metadata": {},
     "outputs": [],
     "prompt_number": 90
    },
    {
     "cell_type": "code",
     "collapsed": false,
     "input": [
      "#using numpy broadcasting:\n",
      "sensitivity=tpr\n",
      "specificity=1-fpr\n",
      "J=sensitivity+specificity-1"
     ],
     "language": "python",
     "metadata": {},
     "outputs": [],
     "prompt_number": 93
    },
    {
     "cell_type": "code",
     "collapsed": false,
     "input": [
      "print max(J)\n",
      "print np.where(J==max(J))\n",
      "#print J[np.where(J==max(J))]\n",
      "#I'll use the index to find corresponding threshold:\n",
      "print 'prob threshold: ', thresholds[np.where(J==max(J))]\n",
      "print 'fpr: ',fpr[np.where(J==max(J))]\n",
      "print 'tpr: ',tpr[np.where(J==max(J))]"
     ],
     "language": "python",
     "metadata": {},
     "outputs": [
      {
       "output_type": "stream",
       "stream": "stdout",
       "text": [
        "0.629512516469\n",
        "(array([88]),)\n",
        "prob threshold:  [ 0.27921539]\n",
        "fpr:  [ 0.25454545]\n",
        "tpr:  [ 0.88405797]\n"
       ]
      }
     ],
     "prompt_number": 106
    },
    {
     "cell_type": "code",
     "collapsed": false,
     "input": [
      "#plot formatting:\n",
      "#http://matplotlib.org/users/text_intro.html\n",
      "plot_roc_curve(y_test, probs_ROC)\n",
      "plt.plot(fpr[np.where(J==max(J))],tpr[np.where(J==max(J))],'o',color='r')\n",
      "plt.annotate('inferred from Youden index', xy=(fpr[np.where(J==max(J))],tpr[np.where(J==max(J))]),xytext=(fpr[np.where(J==max(J))]-0.15,tpr[np.where(J==max(J))]+0.05),arrowprops=dict(facecolor='red', shrink=0.1, width=2, frac=0.3, headwidth=8),color='r')\n",
      "plt.title('Receiver Operating Characteristic v.2')"
     ],
     "language": "python",
     "metadata": {},
     "outputs": [
      {
       "metadata": {},
       "output_type": "pyout",
       "prompt_number": 160,
       "text": [
        "<matplotlib.text.Text at 0x11711f4d0>"
       ]
      },
      {
       "metadata": {},
       "output_type": "display_data",
       "png": "[encoded data removed]",
       "text": [
        "<matplotlib.figure.Figure at 0x11706e210>"
       ]
      }
     ],
     "prompt_number": 160
    },
    {
     "cell_type": "code",
     "collapsed": false,
     "input": [
      "#roc_curve(y_test, probs_ROC[:,1])\n",
      "#len(roc_curve(y_test, probs_ROC[:,1]))"
     ],
     "language": "python",
     "metadata": {},
     "outputs": [],
     "prompt_number": 161
    },
    {
     "cell_type": "code",
     "collapsed": false,
     "input": [
      "#roc_curve(y_test, probs_ROC[:,1])"
     ],
     "language": "python",
     "metadata": {},
     "outputs": [],
     "prompt_number": 162
    },
    {
     "cell_type": "code",
     "collapsed": false,
     "input": [
      "#print(confusion_matrix(y_test, y_predicted))"
     ],
     "language": "python",
     "metadata": {},
     "outputs": [],
     "prompt_number": 163
    }
   ],
   "metadata": {}
  }
 ]
}